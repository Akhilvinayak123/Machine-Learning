{
 "cells": [
  {
   "cell_type": "code",
   "execution_count": 1,
   "id": "eefc9588",
   "metadata": {},
   "outputs": [],
   "source": [
    "import pandas as pd\n",
    "import numpy as np\n",
    "import seaborn as sns\n",
    "import matplotlib.pyplot as plt\n"
   ]
  },
  {
   "cell_type": "code",
   "execution_count": 2,
   "id": "18264b16",
   "metadata": {},
   "outputs": [],
   "source": [
    "pd.options.mode.chained_assignment = None"
   ]
  },
  {
   "cell_type": "code",
   "execution_count": 3,
   "id": "a6bb23f4",
   "metadata": {},
   "outputs": [],
   "source": [
    "lf = pd.read_excel(\"LP4.xlsx\")"
   ]
  },
  {
   "cell_type": "code",
   "execution_count": 4,
   "id": "b7083eb5",
   "metadata": {},
   "outputs": [
    {
     "data": {
      "text/html": [
       "<div>\n",
       "<style scoped>\n",
       "    .dataframe tbody tr th:only-of-type {\n",
       "        vertical-align: middle;\n",
       "    }\n",
       "\n",
       "    .dataframe tbody tr th {\n",
       "        vertical-align: top;\n",
       "    }\n",
       "\n",
       "    .dataframe thead th {\n",
       "        text-align: right;\n",
       "    }\n",
       "</style>\n",
       "<table border=\"1\" class=\"dataframe\">\n",
       "  <thead>\n",
       "    <tr style=\"text-align: right;\">\n",
       "      <th></th>\n",
       "      <th>normal</th>\n",
       "      <th>Fx</th>\n",
       "      <th>Fy</th>\n",
       "      <th>Fz</th>\n",
       "      <th>Tx</th>\n",
       "      <th>Ty</th>\n",
       "      <th>Tz</th>\n",
       "      <th>F</th>\n",
       "    </tr>\n",
       "  </thead>\n",
       "  <tbody>\n",
       "    <tr>\n",
       "      <th>0</th>\n",
       "      <td>NaN</td>\n",
       "      <td>-2.0</td>\n",
       "      <td>2.0</td>\n",
       "      <td>20.0</td>\n",
       "      <td>5.0</td>\n",
       "      <td>-6.0</td>\n",
       "      <td>-1.0</td>\n",
       "      <td>20.199010</td>\n",
       "    </tr>\n",
       "    <tr>\n",
       "      <th>1</th>\n",
       "      <td>NaN</td>\n",
       "      <td>-2.0</td>\n",
       "      <td>1.0</td>\n",
       "      <td>20.0</td>\n",
       "      <td>5.0</td>\n",
       "      <td>-6.0</td>\n",
       "      <td>0.0</td>\n",
       "      <td>20.124612</td>\n",
       "    </tr>\n",
       "    <tr>\n",
       "      <th>2</th>\n",
       "      <td>NaN</td>\n",
       "      <td>-2.0</td>\n",
       "      <td>1.0</td>\n",
       "      <td>23.0</td>\n",
       "      <td>5.0</td>\n",
       "      <td>-6.0</td>\n",
       "      <td>0.0</td>\n",
       "      <td>23.108440</td>\n",
       "    </tr>\n",
       "    <tr>\n",
       "      <th>3</th>\n",
       "      <td>NaN</td>\n",
       "      <td>-2.0</td>\n",
       "      <td>2.0</td>\n",
       "      <td>20.0</td>\n",
       "      <td>5.0</td>\n",
       "      <td>-6.0</td>\n",
       "      <td>-1.0</td>\n",
       "      <td>20.199010</td>\n",
       "    </tr>\n",
       "    <tr>\n",
       "      <th>4</th>\n",
       "      <td>NaN</td>\n",
       "      <td>-3.0</td>\n",
       "      <td>1.0</td>\n",
       "      <td>22.0</td>\n",
       "      <td>5.0</td>\n",
       "      <td>-6.0</td>\n",
       "      <td>-1.0</td>\n",
       "      <td>22.226111</td>\n",
       "    </tr>\n",
       "    <tr>\n",
       "      <th>...</th>\n",
       "      <td>...</td>\n",
       "      <td>...</td>\n",
       "      <td>...</td>\n",
       "      <td>...</td>\n",
       "      <td>...</td>\n",
       "      <td>...</td>\n",
       "      <td>...</td>\n",
       "      <td>...</td>\n",
       "    </tr>\n",
       "    <tr>\n",
       "      <th>2098</th>\n",
       "      <td>NaN</td>\n",
       "      <td>1.0</td>\n",
       "      <td>1.0</td>\n",
       "      <td>8.0</td>\n",
       "      <td>0.0</td>\n",
       "      <td>3.0</td>\n",
       "      <td>-4.0</td>\n",
       "      <td>NaN</td>\n",
       "    </tr>\n",
       "    <tr>\n",
       "      <th>2099</th>\n",
       "      <td>NaN</td>\n",
       "      <td>0.0</td>\n",
       "      <td>0.0</td>\n",
       "      <td>5.0</td>\n",
       "      <td>0.0</td>\n",
       "      <td>3.0</td>\n",
       "      <td>-4.0</td>\n",
       "      <td>NaN</td>\n",
       "    </tr>\n",
       "    <tr>\n",
       "      <th>2100</th>\n",
       "      <td>NaN</td>\n",
       "      <td>-1.0</td>\n",
       "      <td>1.0</td>\n",
       "      <td>-3.0</td>\n",
       "      <td>-3.0</td>\n",
       "      <td>-2.0</td>\n",
       "      <td>-3.0</td>\n",
       "      <td>NaN</td>\n",
       "    </tr>\n",
       "    <tr>\n",
       "      <th>2101</th>\n",
       "      <td>NaN</td>\n",
       "      <td>0.0</td>\n",
       "      <td>-1.0</td>\n",
       "      <td>-5.0</td>\n",
       "      <td>-1.0</td>\n",
       "      <td>1.0</td>\n",
       "      <td>-3.0</td>\n",
       "      <td>NaN</td>\n",
       "    </tr>\n",
       "    <tr>\n",
       "      <th>2102</th>\n",
       "      <td>NaN</td>\n",
       "      <td>-1.0</td>\n",
       "      <td>1.0</td>\n",
       "      <td>4.0</td>\n",
       "      <td>0.0</td>\n",
       "      <td>-1.0</td>\n",
       "      <td>-3.0</td>\n",
       "      <td>NaN</td>\n",
       "    </tr>\n",
       "  </tbody>\n",
       "</table>\n",
       "<p>2103 rows × 8 columns</p>\n",
       "</div>"
      ],
      "text/plain": [
       "     normal   Fx   Fy    Fz   Tx   Ty   Tz          F\n",
       "0       NaN -2.0  2.0  20.0  5.0 -6.0 -1.0  20.199010\n",
       "1       NaN -2.0  1.0  20.0  5.0 -6.0  0.0  20.124612\n",
       "2       NaN -2.0  1.0  23.0  5.0 -6.0  0.0  23.108440\n",
       "3       NaN -2.0  2.0  20.0  5.0 -6.0 -1.0  20.199010\n",
       "4       NaN -3.0  1.0  22.0  5.0 -6.0 -1.0  22.226111\n",
       "...     ...  ...  ...   ...  ...  ...  ...        ...\n",
       "2098    NaN  1.0  1.0   8.0  0.0  3.0 -4.0        NaN\n",
       "2099    NaN  0.0  0.0   5.0  0.0  3.0 -4.0        NaN\n",
       "2100    NaN -1.0  1.0  -3.0 -3.0 -2.0 -3.0        NaN\n",
       "2101    NaN  0.0 -1.0  -5.0 -1.0  1.0 -3.0        NaN\n",
       "2102    NaN -1.0  1.0   4.0  0.0 -1.0 -3.0        NaN\n",
       "\n",
       "[2103 rows x 8 columns]"
      ]
     },
     "execution_count": 4,
     "metadata": {},
     "output_type": "execute_result"
    }
   ],
   "source": [
    "lf"
   ]
  },
  {
   "cell_type": "code",
   "execution_count": 5,
   "id": "e58f8669",
   "metadata": {},
   "outputs": [],
   "source": [
    "lfnew = lf[[\"Fx\", \"Fy\", \"Fz\", \"Tx\", \"Ty\", \"Tz\"]].copy()\n"
   ]
  },
  {
   "cell_type": "code",
   "execution_count": 6,
   "id": "84f7b004",
   "metadata": {},
   "outputs": [],
   "source": [
    "lf2=lfnew.dropna()\n"
   ]
  },
  {
   "cell_type": "code",
   "execution_count": 7,
   "id": "0c8f3df2",
   "metadata": {
    "scrolled": true
   },
   "outputs": [
    {
     "data": {
      "text/html": [
       "<div>\n",
       "<style scoped>\n",
       "    .dataframe tbody tr th:only-of-type {\n",
       "        vertical-align: middle;\n",
       "    }\n",
       "\n",
       "    .dataframe tbody tr th {\n",
       "        vertical-align: top;\n",
       "    }\n",
       "\n",
       "    .dataframe thead th {\n",
       "        text-align: right;\n",
       "    }\n",
       "</style>\n",
       "<table border=\"1\" class=\"dataframe\">\n",
       "  <thead>\n",
       "    <tr style=\"text-align: right;\">\n",
       "      <th></th>\n",
       "      <th>Fx</th>\n",
       "      <th>Fy</th>\n",
       "      <th>Fz</th>\n",
       "      <th>Tx</th>\n",
       "      <th>Ty</th>\n",
       "      <th>Tz</th>\n",
       "    </tr>\n",
       "  </thead>\n",
       "  <tbody>\n",
       "    <tr>\n",
       "      <th>0</th>\n",
       "      <td>-2.0</td>\n",
       "      <td>2.0</td>\n",
       "      <td>20.0</td>\n",
       "      <td>5.0</td>\n",
       "      <td>-6.0</td>\n",
       "      <td>-1.0</td>\n",
       "    </tr>\n",
       "    <tr>\n",
       "      <th>1</th>\n",
       "      <td>-2.0</td>\n",
       "      <td>1.0</td>\n",
       "      <td>20.0</td>\n",
       "      <td>5.0</td>\n",
       "      <td>-6.0</td>\n",
       "      <td>0.0</td>\n",
       "    </tr>\n",
       "    <tr>\n",
       "      <th>2</th>\n",
       "      <td>-2.0</td>\n",
       "      <td>1.0</td>\n",
       "      <td>23.0</td>\n",
       "      <td>5.0</td>\n",
       "      <td>-6.0</td>\n",
       "      <td>0.0</td>\n",
       "    </tr>\n",
       "    <tr>\n",
       "      <th>3</th>\n",
       "      <td>-2.0</td>\n",
       "      <td>2.0</td>\n",
       "      <td>20.0</td>\n",
       "      <td>5.0</td>\n",
       "      <td>-6.0</td>\n",
       "      <td>-1.0</td>\n",
       "    </tr>\n",
       "    <tr>\n",
       "      <th>4</th>\n",
       "      <td>-3.0</td>\n",
       "      <td>1.0</td>\n",
       "      <td>22.0</td>\n",
       "      <td>5.0</td>\n",
       "      <td>-6.0</td>\n",
       "      <td>-1.0</td>\n",
       "    </tr>\n",
       "    <tr>\n",
       "      <th>...</th>\n",
       "      <td>...</td>\n",
       "      <td>...</td>\n",
       "      <td>...</td>\n",
       "      <td>...</td>\n",
       "      <td>...</td>\n",
       "      <td>...</td>\n",
       "    </tr>\n",
       "    <tr>\n",
       "      <th>2098</th>\n",
       "      <td>1.0</td>\n",
       "      <td>1.0</td>\n",
       "      <td>8.0</td>\n",
       "      <td>0.0</td>\n",
       "      <td>3.0</td>\n",
       "      <td>-4.0</td>\n",
       "    </tr>\n",
       "    <tr>\n",
       "      <th>2099</th>\n",
       "      <td>0.0</td>\n",
       "      <td>0.0</td>\n",
       "      <td>5.0</td>\n",
       "      <td>0.0</td>\n",
       "      <td>3.0</td>\n",
       "      <td>-4.0</td>\n",
       "    </tr>\n",
       "    <tr>\n",
       "      <th>2100</th>\n",
       "      <td>-1.0</td>\n",
       "      <td>1.0</td>\n",
       "      <td>-3.0</td>\n",
       "      <td>-3.0</td>\n",
       "      <td>-2.0</td>\n",
       "      <td>-3.0</td>\n",
       "    </tr>\n",
       "    <tr>\n",
       "      <th>2101</th>\n",
       "      <td>0.0</td>\n",
       "      <td>-1.0</td>\n",
       "      <td>-5.0</td>\n",
       "      <td>-1.0</td>\n",
       "      <td>1.0</td>\n",
       "      <td>-3.0</td>\n",
       "    </tr>\n",
       "    <tr>\n",
       "      <th>2102</th>\n",
       "      <td>-1.0</td>\n",
       "      <td>1.0</td>\n",
       "      <td>4.0</td>\n",
       "      <td>0.0</td>\n",
       "      <td>-1.0</td>\n",
       "      <td>-3.0</td>\n",
       "    </tr>\n",
       "  </tbody>\n",
       "</table>\n",
       "<p>1755 rows × 6 columns</p>\n",
       "</div>"
      ],
      "text/plain": [
       "       Fx   Fy    Fz   Tx   Ty   Tz\n",
       "0    -2.0  2.0  20.0  5.0 -6.0 -1.0\n",
       "1    -2.0  1.0  20.0  5.0 -6.0  0.0\n",
       "2    -2.0  1.0  23.0  5.0 -6.0  0.0\n",
       "3    -2.0  2.0  20.0  5.0 -6.0 -1.0\n",
       "4    -3.0  1.0  22.0  5.0 -6.0 -1.0\n",
       "...   ...  ...   ...  ...  ...  ...\n",
       "2098  1.0  1.0   8.0  0.0  3.0 -4.0\n",
       "2099  0.0  0.0   5.0  0.0  3.0 -4.0\n",
       "2100 -1.0  1.0  -3.0 -3.0 -2.0 -3.0\n",
       "2101  0.0 -1.0  -5.0 -1.0  1.0 -3.0\n",
       "2102 -1.0  1.0   4.0  0.0 -1.0 -3.0\n",
       "\n",
       "[1755 rows x 6 columns]"
      ]
     },
     "execution_count": 7,
     "metadata": {},
     "output_type": "execute_result"
    }
   ],
   "source": [
    "lf2\n"
   ]
  },
  {
   "cell_type": "code",
   "execution_count": 8,
   "id": "90e715e6",
   "metadata": {},
   "outputs": [],
   "source": [
    "lf2 = lf2.reset_index(drop = True)\n"
   ]
  },
  {
   "cell_type": "code",
   "execution_count": 9,
   "id": "457de267",
   "metadata": {},
   "outputs": [],
   "source": [
    "lf3 = lf2.groupby(np.arange(len(lf2))//15).mean()\n"
   ]
  },
  {
   "cell_type": "code",
   "execution_count": 10,
   "id": "2612c363",
   "metadata": {},
   "outputs": [
    {
     "data": {
      "text/html": [
       "<div>\n",
       "<style scoped>\n",
       "    .dataframe tbody tr th:only-of-type {\n",
       "        vertical-align: middle;\n",
       "    }\n",
       "\n",
       "    .dataframe tbody tr th {\n",
       "        vertical-align: top;\n",
       "    }\n",
       "\n",
       "    .dataframe thead th {\n",
       "        text-align: right;\n",
       "    }\n",
       "</style>\n",
       "<table border=\"1\" class=\"dataframe\">\n",
       "  <thead>\n",
       "    <tr style=\"text-align: right;\">\n",
       "      <th></th>\n",
       "      <th>Fx</th>\n",
       "      <th>Fy</th>\n",
       "      <th>Fz</th>\n",
       "      <th>Tx</th>\n",
       "      <th>Ty</th>\n",
       "      <th>Tz</th>\n",
       "    </tr>\n",
       "  </thead>\n",
       "  <tbody>\n",
       "    <tr>\n",
       "      <th>0</th>\n",
       "      <td>-2.000000</td>\n",
       "      <td>1.466667</td>\n",
       "      <td>19.400000</td>\n",
       "      <td>5.000000</td>\n",
       "      <td>-5.600000</td>\n",
       "      <td>-0.666667</td>\n",
       "    </tr>\n",
       "    <tr>\n",
       "      <th>1</th>\n",
       "      <td>-1.733333</td>\n",
       "      <td>2.000000</td>\n",
       "      <td>20.800000</td>\n",
       "      <td>5.000000</td>\n",
       "      <td>-6.466667</td>\n",
       "      <td>-0.666667</td>\n",
       "    </tr>\n",
       "    <tr>\n",
       "      <th>2</th>\n",
       "      <td>-2.000000</td>\n",
       "      <td>1.666667</td>\n",
       "      <td>22.666667</td>\n",
       "      <td>4.400000</td>\n",
       "      <td>-5.933333</td>\n",
       "      <td>-1.000000</td>\n",
       "    </tr>\n",
       "    <tr>\n",
       "      <th>3</th>\n",
       "      <td>-2.933333</td>\n",
       "      <td>1.333333</td>\n",
       "      <td>19.866667</td>\n",
       "      <td>4.333333</td>\n",
       "      <td>-7.200000</td>\n",
       "      <td>-0.666667</td>\n",
       "    </tr>\n",
       "    <tr>\n",
       "      <th>4</th>\n",
       "      <td>-2.133333</td>\n",
       "      <td>1.533333</td>\n",
       "      <td>20.333333</td>\n",
       "      <td>3.866667</td>\n",
       "      <td>-6.800000</td>\n",
       "      <td>-0.466667</td>\n",
       "    </tr>\n",
       "    <tr>\n",
       "      <th>...</th>\n",
       "      <td>...</td>\n",
       "      <td>...</td>\n",
       "      <td>...</td>\n",
       "      <td>...</td>\n",
       "      <td>...</td>\n",
       "      <td>...</td>\n",
       "    </tr>\n",
       "    <tr>\n",
       "      <th>112</th>\n",
       "      <td>-2.666667</td>\n",
       "      <td>1.000000</td>\n",
       "      <td>2.800000</td>\n",
       "      <td>-8.466667</td>\n",
       "      <td>-3.266667</td>\n",
       "      <td>-2.000000</td>\n",
       "    </tr>\n",
       "    <tr>\n",
       "      <th>113</th>\n",
       "      <td>7.866667</td>\n",
       "      <td>-2.200000</td>\n",
       "      <td>8.466667</td>\n",
       "      <td>4.333333</td>\n",
       "      <td>14.066667</td>\n",
       "      <td>-3.000000</td>\n",
       "    </tr>\n",
       "    <tr>\n",
       "      <th>114</th>\n",
       "      <td>-3.266667</td>\n",
       "      <td>3.333333</td>\n",
       "      <td>6.266667</td>\n",
       "      <td>-0.666667</td>\n",
       "      <td>-3.133333</td>\n",
       "      <td>-3.666667</td>\n",
       "    </tr>\n",
       "    <tr>\n",
       "      <th>115</th>\n",
       "      <td>-6.266667</td>\n",
       "      <td>4.266667</td>\n",
       "      <td>3.733333</td>\n",
       "      <td>-1.066667</td>\n",
       "      <td>-7.600000</td>\n",
       "      <td>-3.400000</td>\n",
       "    </tr>\n",
       "    <tr>\n",
       "      <th>116</th>\n",
       "      <td>1.066667</td>\n",
       "      <td>-1.600000</td>\n",
       "      <td>2.466667</td>\n",
       "      <td>3.266667</td>\n",
       "      <td>1.333333</td>\n",
       "      <td>-3.533333</td>\n",
       "    </tr>\n",
       "  </tbody>\n",
       "</table>\n",
       "<p>117 rows × 6 columns</p>\n",
       "</div>"
      ],
      "text/plain": [
       "           Fx        Fy         Fz        Tx         Ty        Tz\n",
       "0   -2.000000  1.466667  19.400000  5.000000  -5.600000 -0.666667\n",
       "1   -1.733333  2.000000  20.800000  5.000000  -6.466667 -0.666667\n",
       "2   -2.000000  1.666667  22.666667  4.400000  -5.933333 -1.000000\n",
       "3   -2.933333  1.333333  19.866667  4.333333  -7.200000 -0.666667\n",
       "4   -2.133333  1.533333  20.333333  3.866667  -6.800000 -0.466667\n",
       "..        ...       ...        ...       ...        ...       ...\n",
       "112 -2.666667  1.000000   2.800000 -8.466667  -3.266667 -2.000000\n",
       "113  7.866667 -2.200000   8.466667  4.333333  14.066667 -3.000000\n",
       "114 -3.266667  3.333333   6.266667 -0.666667  -3.133333 -3.666667\n",
       "115 -6.266667  4.266667   3.733333 -1.066667  -7.600000 -3.400000\n",
       "116  1.066667 -1.600000   2.466667  3.266667   1.333333 -3.533333\n",
       "\n",
       "[117 rows x 6 columns]"
      ]
     },
     "execution_count": 10,
     "metadata": {},
     "output_type": "execute_result"
    }
   ],
   "source": [
    "lf3\n"
   ]
  },
  {
   "cell_type": "code",
   "execution_count": 11,
   "id": "9949328a",
   "metadata": {},
   "outputs": [],
   "source": [
    "lf5 = pd.read_excel(\"LP4types.xlsx\")\n"
   ]
  },
  {
   "cell_type": "code",
   "execution_count": 12,
   "id": "46fd2fe1",
   "metadata": {},
   "outputs": [
    {
     "data": {
      "text/html": [
       "<div>\n",
       "<style scoped>\n",
       "    .dataframe tbody tr th:only-of-type {\n",
       "        vertical-align: middle;\n",
       "    }\n",
       "\n",
       "    .dataframe tbody tr th {\n",
       "        vertical-align: top;\n",
       "    }\n",
       "\n",
       "    .dataframe thead th {\n",
       "        text-align: right;\n",
       "    }\n",
       "</style>\n",
       "<table border=\"1\" class=\"dataframe\">\n",
       "  <thead>\n",
       "    <tr style=\"text-align: right;\">\n",
       "      <th></th>\n",
       "      <th>Failure_type</th>\n",
       "    </tr>\n",
       "  </thead>\n",
       "  <tbody>\n",
       "    <tr>\n",
       "      <th>0</th>\n",
       "      <td>normal</td>\n",
       "    </tr>\n",
       "    <tr>\n",
       "      <th>1</th>\n",
       "      <td>NaN</td>\n",
       "    </tr>\n",
       "    <tr>\n",
       "      <th>2</th>\n",
       "      <td>NaN</td>\n",
       "    </tr>\n",
       "    <tr>\n",
       "      <th>3</th>\n",
       "      <td>NaN</td>\n",
       "    </tr>\n",
       "    <tr>\n",
       "      <th>4</th>\n",
       "      <td>NaN</td>\n",
       "    </tr>\n",
       "    <tr>\n",
       "      <th>...</th>\n",
       "      <td>...</td>\n",
       "    </tr>\n",
       "    <tr>\n",
       "      <th>2083</th>\n",
       "      <td>NaN</td>\n",
       "    </tr>\n",
       "    <tr>\n",
       "      <th>2084</th>\n",
       "      <td>NaN</td>\n",
       "    </tr>\n",
       "    <tr>\n",
       "      <th>2085</th>\n",
       "      <td>NaN</td>\n",
       "    </tr>\n",
       "    <tr>\n",
       "      <th>2086</th>\n",
       "      <td>NaN</td>\n",
       "    </tr>\n",
       "    <tr>\n",
       "      <th>2087</th>\n",
       "      <td>collision</td>\n",
       "    </tr>\n",
       "  </tbody>\n",
       "</table>\n",
       "<p>2088 rows × 1 columns</p>\n",
       "</div>"
      ],
      "text/plain": [
       "     Failure_type\n",
       "0          normal\n",
       "1             NaN\n",
       "2             NaN\n",
       "3             NaN\n",
       "4             NaN\n",
       "...           ...\n",
       "2083          NaN\n",
       "2084          NaN\n",
       "2085          NaN\n",
       "2086          NaN\n",
       "2087    collision\n",
       "\n",
       "[2088 rows x 1 columns]"
      ]
     },
     "execution_count": 12,
     "metadata": {},
     "output_type": "execute_result"
    }
   ],
   "source": [
    "lf5\n"
   ]
  },
  {
   "cell_type": "code",
   "execution_count": 13,
   "id": "e40a48a9",
   "metadata": {},
   "outputs": [],
   "source": [
    "lf5 = lf5.dropna(axis = 0)\n"
   ]
  },
  {
   "cell_type": "code",
   "execution_count": 14,
   "id": "a8020809",
   "metadata": {},
   "outputs": [],
   "source": [
    "lf5 = lf5.reset_index(drop = True)\n"
   ]
  },
  {
   "cell_type": "code",
   "execution_count": 15,
   "id": "37fb6578",
   "metadata": {
    "scrolled": true
   },
   "outputs": [
    {
     "data": {
      "text/html": [
       "<div>\n",
       "<style scoped>\n",
       "    .dataframe tbody tr th:only-of-type {\n",
       "        vertical-align: middle;\n",
       "    }\n",
       "\n",
       "    .dataframe tbody tr th {\n",
       "        vertical-align: top;\n",
       "    }\n",
       "\n",
       "    .dataframe thead th {\n",
       "        text-align: right;\n",
       "    }\n",
       "</style>\n",
       "<table border=\"1\" class=\"dataframe\">\n",
       "  <thead>\n",
       "    <tr style=\"text-align: right;\">\n",
       "      <th></th>\n",
       "      <th>Failure_type</th>\n",
       "    </tr>\n",
       "  </thead>\n",
       "  <tbody>\n",
       "    <tr>\n",
       "      <th>0</th>\n",
       "      <td>normal</td>\n",
       "    </tr>\n",
       "    <tr>\n",
       "      <th>1</th>\n",
       "      <td>normal</td>\n",
       "    </tr>\n",
       "    <tr>\n",
       "      <th>2</th>\n",
       "      <td>normal</td>\n",
       "    </tr>\n",
       "    <tr>\n",
       "      <th>3</th>\n",
       "      <td>normal</td>\n",
       "    </tr>\n",
       "    <tr>\n",
       "      <th>4</th>\n",
       "      <td>normal</td>\n",
       "    </tr>\n",
       "    <tr>\n",
       "      <th>5</th>\n",
       "      <td>normal</td>\n",
       "    </tr>\n",
       "    <tr>\n",
       "      <th>6</th>\n",
       "      <td>normal</td>\n",
       "    </tr>\n",
       "    <tr>\n",
       "      <th>7</th>\n",
       "      <td>normal</td>\n",
       "    </tr>\n",
       "    <tr>\n",
       "      <th>8</th>\n",
       "      <td>normal</td>\n",
       "    </tr>\n",
       "    <tr>\n",
       "      <th>9</th>\n",
       "      <td>normal</td>\n",
       "    </tr>\n",
       "  </tbody>\n",
       "</table>\n",
       "</div>"
      ],
      "text/plain": [
       "  Failure_type\n",
       "0       normal\n",
       "1       normal\n",
       "2       normal\n",
       "3       normal\n",
       "4       normal\n",
       "5       normal\n",
       "6       normal\n",
       "7       normal\n",
       "8       normal\n",
       "9       normal"
      ]
     },
     "execution_count": 15,
     "metadata": {},
     "output_type": "execute_result"
    }
   ],
   "source": [
    "lf5.head(10)\n"
   ]
  },
  {
   "cell_type": "code",
   "execution_count": 16,
   "id": "6f287f47",
   "metadata": {},
   "outputs": [],
   "source": [
    "lf3[\"Failure_type\"] = lf5\n"
   ]
  },
  {
   "cell_type": "code",
   "execution_count": 17,
   "id": "53c09254",
   "metadata": {
    "scrolled": false
   },
   "outputs": [
    {
     "data": {
      "text/html": [
       "<div>\n",
       "<style scoped>\n",
       "    .dataframe tbody tr th:only-of-type {\n",
       "        vertical-align: middle;\n",
       "    }\n",
       "\n",
       "    .dataframe tbody tr th {\n",
       "        vertical-align: top;\n",
       "    }\n",
       "\n",
       "    .dataframe thead th {\n",
       "        text-align: right;\n",
       "    }\n",
       "</style>\n",
       "<table border=\"1\" class=\"dataframe\">\n",
       "  <thead>\n",
       "    <tr style=\"text-align: right;\">\n",
       "      <th></th>\n",
       "      <th>Fx</th>\n",
       "      <th>Fy</th>\n",
       "      <th>Fz</th>\n",
       "      <th>Tx</th>\n",
       "      <th>Ty</th>\n",
       "      <th>Tz</th>\n",
       "      <th>Failure_type</th>\n",
       "    </tr>\n",
       "  </thead>\n",
       "  <tbody>\n",
       "    <tr>\n",
       "      <th>0</th>\n",
       "      <td>-2.000000</td>\n",
       "      <td>1.466667</td>\n",
       "      <td>19.400000</td>\n",
       "      <td>5.000000</td>\n",
       "      <td>-5.600000</td>\n",
       "      <td>-0.666667</td>\n",
       "      <td>normal</td>\n",
       "    </tr>\n",
       "    <tr>\n",
       "      <th>1</th>\n",
       "      <td>-1.733333</td>\n",
       "      <td>2.000000</td>\n",
       "      <td>20.800000</td>\n",
       "      <td>5.000000</td>\n",
       "      <td>-6.466667</td>\n",
       "      <td>-0.666667</td>\n",
       "      <td>normal</td>\n",
       "    </tr>\n",
       "    <tr>\n",
       "      <th>2</th>\n",
       "      <td>-2.000000</td>\n",
       "      <td>1.666667</td>\n",
       "      <td>22.666667</td>\n",
       "      <td>4.400000</td>\n",
       "      <td>-5.933333</td>\n",
       "      <td>-1.000000</td>\n",
       "      <td>normal</td>\n",
       "    </tr>\n",
       "    <tr>\n",
       "      <th>3</th>\n",
       "      <td>-2.933333</td>\n",
       "      <td>1.333333</td>\n",
       "      <td>19.866667</td>\n",
       "      <td>4.333333</td>\n",
       "      <td>-7.200000</td>\n",
       "      <td>-0.666667</td>\n",
       "      <td>normal</td>\n",
       "    </tr>\n",
       "    <tr>\n",
       "      <th>4</th>\n",
       "      <td>-2.133333</td>\n",
       "      <td>1.533333</td>\n",
       "      <td>20.333333</td>\n",
       "      <td>3.866667</td>\n",
       "      <td>-6.800000</td>\n",
       "      <td>-0.466667</td>\n",
       "      <td>normal</td>\n",
       "    </tr>\n",
       "    <tr>\n",
       "      <th>...</th>\n",
       "      <td>...</td>\n",
       "      <td>...</td>\n",
       "      <td>...</td>\n",
       "      <td>...</td>\n",
       "      <td>...</td>\n",
       "      <td>...</td>\n",
       "      <td>...</td>\n",
       "    </tr>\n",
       "    <tr>\n",
       "      <th>112</th>\n",
       "      <td>-2.666667</td>\n",
       "      <td>1.000000</td>\n",
       "      <td>2.800000</td>\n",
       "      <td>-8.466667</td>\n",
       "      <td>-3.266667</td>\n",
       "      <td>-2.000000</td>\n",
       "      <td>collision</td>\n",
       "    </tr>\n",
       "    <tr>\n",
       "      <th>113</th>\n",
       "      <td>7.866667</td>\n",
       "      <td>-2.200000</td>\n",
       "      <td>8.466667</td>\n",
       "      <td>4.333333</td>\n",
       "      <td>14.066667</td>\n",
       "      <td>-3.000000</td>\n",
       "      <td>collision</td>\n",
       "    </tr>\n",
       "    <tr>\n",
       "      <th>114</th>\n",
       "      <td>-3.266667</td>\n",
       "      <td>3.333333</td>\n",
       "      <td>6.266667</td>\n",
       "      <td>-0.666667</td>\n",
       "      <td>-3.133333</td>\n",
       "      <td>-3.666667</td>\n",
       "      <td>collision</td>\n",
       "    </tr>\n",
       "    <tr>\n",
       "      <th>115</th>\n",
       "      <td>-6.266667</td>\n",
       "      <td>4.266667</td>\n",
       "      <td>3.733333</td>\n",
       "      <td>-1.066667</td>\n",
       "      <td>-7.600000</td>\n",
       "      <td>-3.400000</td>\n",
       "      <td>collision</td>\n",
       "    </tr>\n",
       "    <tr>\n",
       "      <th>116</th>\n",
       "      <td>1.066667</td>\n",
       "      <td>-1.600000</td>\n",
       "      <td>2.466667</td>\n",
       "      <td>3.266667</td>\n",
       "      <td>1.333333</td>\n",
       "      <td>-3.533333</td>\n",
       "      <td>collision</td>\n",
       "    </tr>\n",
       "  </tbody>\n",
       "</table>\n",
       "<p>117 rows × 7 columns</p>\n",
       "</div>"
      ],
      "text/plain": [
       "           Fx        Fy         Fz        Tx         Ty        Tz Failure_type\n",
       "0   -2.000000  1.466667  19.400000  5.000000  -5.600000 -0.666667       normal\n",
       "1   -1.733333  2.000000  20.800000  5.000000  -6.466667 -0.666667       normal\n",
       "2   -2.000000  1.666667  22.666667  4.400000  -5.933333 -1.000000       normal\n",
       "3   -2.933333  1.333333  19.866667  4.333333  -7.200000 -0.666667       normal\n",
       "4   -2.133333  1.533333  20.333333  3.866667  -6.800000 -0.466667       normal\n",
       "..        ...       ...        ...       ...        ...       ...          ...\n",
       "112 -2.666667  1.000000   2.800000 -8.466667  -3.266667 -2.000000    collision\n",
       "113  7.866667 -2.200000   8.466667  4.333333  14.066667 -3.000000    collision\n",
       "114 -3.266667  3.333333   6.266667 -0.666667  -3.133333 -3.666667    collision\n",
       "115 -6.266667  4.266667   3.733333 -1.066667  -7.600000 -3.400000    collision\n",
       "116  1.066667 -1.600000   2.466667  3.266667   1.333333 -3.533333    collision\n",
       "\n",
       "[117 rows x 7 columns]"
      ]
     },
     "execution_count": 17,
     "metadata": {},
     "output_type": "execute_result"
    }
   ],
   "source": [
    "lf3\n"
   ]
  },
  {
   "cell_type": "code",
   "execution_count": 18,
   "id": "70b5bc3e",
   "metadata": {},
   "outputs": [],
   "source": [
    "lf3.to_csv('LP4S.csv')\n"
   ]
  },
  {
   "cell_type": "code",
   "execution_count": 19,
   "id": "793c6569",
   "metadata": {
    "scrolled": true
   },
   "outputs": [
    {
     "data": {
      "image/png": "[encoded data removed]",
      "text/plain": [
       "<Figure size 640x480 with 1 Axes>"
      ]
     },
     "metadata": {},
     "output_type": "display_data"
    }
   ],
   "source": [
    "\n",
    "sns.countplot(x = \"Failure_type\", data = lf3);\n"
   ]
  },
  {
   "cell_type": "code",
   "execution_count": 20,
   "id": "4e413806",
   "metadata": {},
   "outputs": [
    {
     "data": {
      "image/png": "[encoded data removed]",
      "text/plain": [
       "<Figure size 640x480 with 6 Axes>"
      ]
     },
     "metadata": {},
     "output_type": "display_data"
    }
   ],
   "source": [
    "fig, axes = plt.subplots(6)\n",
    "sns.boxplot(x = \"Fx\", data = lf3, ax =axes[0]);\n",
    "sns.boxplot(x = \"Fy\", data = lf3, ax =axes[1]);\n",
    "sns.boxplot(x = \"Fz\", data = lf3, ax =axes[2]);\n",
    "sns.boxplot(x = \"Tx\", data = lf3, ax =axes[3]);\n",
    "sns.boxplot(x = \"Ty\", data = lf3, ax =axes[4]);\n",
    "sns.boxplot(x = \"Tz\", data = lf3, ax =axes[5]);\n",
    "\n",
    "\n"
   ]
  },
  {
   "cell_type": "markdown",
   "id": "62a751e8",
   "metadata": {},
   "source": [
    "# Dataset"
   ]
  },
  {
   "cell_type": "code",
   "execution_count": 21,
   "id": "5316899c",
   "metadata": {},
   "outputs": [
    {
     "data": {
      "text/html": [
       "<div>\n",
       "<style scoped>\n",
       "    .dataframe tbody tr th:only-of-type {\n",
       "        vertical-align: middle;\n",
       "    }\n",
       "\n",
       "    .dataframe tbody tr th {\n",
       "        vertical-align: top;\n",
       "    }\n",
       "\n",
       "    .dataframe thead th {\n",
       "        text-align: right;\n",
       "    }\n",
       "</style>\n",
       "<table border=\"1\" class=\"dataframe\">\n",
       "  <thead>\n",
       "    <tr style=\"text-align: right;\">\n",
       "      <th></th>\n",
       "      <th>Fx</th>\n",
       "      <th>Fy</th>\n",
       "      <th>Fz</th>\n",
       "      <th>Tx</th>\n",
       "      <th>Ty</th>\n",
       "      <th>Tz</th>\n",
       "      <th>Failure_type</th>\n",
       "    </tr>\n",
       "  </thead>\n",
       "  <tbody>\n",
       "    <tr>\n",
       "      <th>0</th>\n",
       "      <td>-2.000000</td>\n",
       "      <td>1.466667</td>\n",
       "      <td>19.400000</td>\n",
       "      <td>5.000000</td>\n",
       "      <td>-5.600000</td>\n",
       "      <td>-0.666667</td>\n",
       "      <td>normal</td>\n",
       "    </tr>\n",
       "    <tr>\n",
       "      <th>1</th>\n",
       "      <td>-1.733333</td>\n",
       "      <td>2.000000</td>\n",
       "      <td>20.800000</td>\n",
       "      <td>5.000000</td>\n",
       "      <td>-6.466667</td>\n",
       "      <td>-0.666667</td>\n",
       "      <td>normal</td>\n",
       "    </tr>\n",
       "    <tr>\n",
       "      <th>2</th>\n",
       "      <td>-2.000000</td>\n",
       "      <td>1.666667</td>\n",
       "      <td>22.666667</td>\n",
       "      <td>4.400000</td>\n",
       "      <td>-5.933333</td>\n",
       "      <td>-1.000000</td>\n",
       "      <td>normal</td>\n",
       "    </tr>\n",
       "    <tr>\n",
       "      <th>3</th>\n",
       "      <td>-2.933333</td>\n",
       "      <td>1.333333</td>\n",
       "      <td>19.866667</td>\n",
       "      <td>4.333333</td>\n",
       "      <td>-7.200000</td>\n",
       "      <td>-0.666667</td>\n",
       "      <td>normal</td>\n",
       "    </tr>\n",
       "    <tr>\n",
       "      <th>4</th>\n",
       "      <td>-2.133333</td>\n",
       "      <td>1.533333</td>\n",
       "      <td>20.333333</td>\n",
       "      <td>3.866667</td>\n",
       "      <td>-6.800000</td>\n",
       "      <td>-0.466667</td>\n",
       "      <td>normal</td>\n",
       "    </tr>\n",
       "    <tr>\n",
       "      <th>...</th>\n",
       "      <td>...</td>\n",
       "      <td>...</td>\n",
       "      <td>...</td>\n",
       "      <td>...</td>\n",
       "      <td>...</td>\n",
       "      <td>...</td>\n",
       "      <td>...</td>\n",
       "    </tr>\n",
       "    <tr>\n",
       "      <th>112</th>\n",
       "      <td>-2.666667</td>\n",
       "      <td>1.000000</td>\n",
       "      <td>2.800000</td>\n",
       "      <td>-8.466667</td>\n",
       "      <td>-3.266667</td>\n",
       "      <td>-2.000000</td>\n",
       "      <td>collision</td>\n",
       "    </tr>\n",
       "    <tr>\n",
       "      <th>113</th>\n",
       "      <td>7.866667</td>\n",
       "      <td>-2.200000</td>\n",
       "      <td>8.466667</td>\n",
       "      <td>4.333333</td>\n",
       "      <td>14.066667</td>\n",
       "      <td>-3.000000</td>\n",
       "      <td>collision</td>\n",
       "    </tr>\n",
       "    <tr>\n",
       "      <th>114</th>\n",
       "      <td>-3.266667</td>\n",
       "      <td>3.333333</td>\n",
       "      <td>6.266667</td>\n",
       "      <td>-0.666667</td>\n",
       "      <td>-3.133333</td>\n",
       "      <td>-3.666667</td>\n",
       "      <td>collision</td>\n",
       "    </tr>\n",
       "    <tr>\n",
       "      <th>115</th>\n",
       "      <td>-6.266667</td>\n",
       "      <td>4.266667</td>\n",
       "      <td>3.733333</td>\n",
       "      <td>-1.066667</td>\n",
       "      <td>-7.600000</td>\n",
       "      <td>-3.400000</td>\n",
       "      <td>collision</td>\n",
       "    </tr>\n",
       "    <tr>\n",
       "      <th>116</th>\n",
       "      <td>1.066667</td>\n",
       "      <td>-1.600000</td>\n",
       "      <td>2.466667</td>\n",
       "      <td>3.266667</td>\n",
       "      <td>1.333333</td>\n",
       "      <td>-3.533333</td>\n",
       "      <td>collision</td>\n",
       "    </tr>\n",
       "  </tbody>\n",
       "</table>\n",
       "<p>117 rows × 7 columns</p>\n",
       "</div>"
      ],
      "text/plain": [
       "           Fx        Fy         Fz        Tx         Ty        Tz Failure_type\n",
       "0   -2.000000  1.466667  19.400000  5.000000  -5.600000 -0.666667       normal\n",
       "1   -1.733333  2.000000  20.800000  5.000000  -6.466667 -0.666667       normal\n",
       "2   -2.000000  1.666667  22.666667  4.400000  -5.933333 -1.000000       normal\n",
       "3   -2.933333  1.333333  19.866667  4.333333  -7.200000 -0.666667       normal\n",
       "4   -2.133333  1.533333  20.333333  3.866667  -6.800000 -0.466667       normal\n",
       "..        ...       ...        ...       ...        ...       ...          ...\n",
       "112 -2.666667  1.000000   2.800000 -8.466667  -3.266667 -2.000000    collision\n",
       "113  7.866667 -2.200000   8.466667  4.333333  14.066667 -3.000000    collision\n",
       "114 -3.266667  3.333333   6.266667 -0.666667  -3.133333 -3.666667    collision\n",
       "115 -6.266667  4.266667   3.733333 -1.066667  -7.600000 -3.400000    collision\n",
       "116  1.066667 -1.600000   2.466667  3.266667   1.333333 -3.533333    collision\n",
       "\n",
       "[117 rows x 7 columns]"
      ]
     },
     "execution_count": 21,
     "metadata": {},
     "output_type": "execute_result"
    }
   ],
   "source": [
    "lf3"
   ]
  },
  {
   "cell_type": "markdown",
   "id": "8d596576",
   "metadata": {},
   "source": [
    "# Label encoder"
   ]
  },
  {
   "cell_type": "code",
   "execution_count": 22,
   "id": "a047fd75",
   "metadata": {},
   "outputs": [
    {
     "data": {
      "text/html": [
       "<div>\n",
       "<style scoped>\n",
       "    .dataframe tbody tr th:only-of-type {\n",
       "        vertical-align: middle;\n",
       "    }\n",
       "\n",
       "    .dataframe tbody tr th {\n",
       "        vertical-align: top;\n",
       "    }\n",
       "\n",
       "    .dataframe thead th {\n",
       "        text-align: right;\n",
       "    }\n",
       "</style>\n",
       "<table border=\"1\" class=\"dataframe\">\n",
       "  <thead>\n",
       "    <tr style=\"text-align: right;\">\n",
       "      <th></th>\n",
       "      <th>Fx</th>\n",
       "      <th>Fy</th>\n",
       "      <th>Fz</th>\n",
       "      <th>Tx</th>\n",
       "      <th>Ty</th>\n",
       "      <th>Tz</th>\n",
       "      <th>Failure_type</th>\n",
       "    </tr>\n",
       "  </thead>\n",
       "  <tbody>\n",
       "    <tr>\n",
       "      <th>0</th>\n",
       "      <td>-2.000000</td>\n",
       "      <td>1.466667</td>\n",
       "      <td>19.400000</td>\n",
       "      <td>5.000000</td>\n",
       "      <td>-5.600000</td>\n",
       "      <td>-0.666667</td>\n",
       "      <td>1</td>\n",
       "    </tr>\n",
       "    <tr>\n",
       "      <th>1</th>\n",
       "      <td>-1.733333</td>\n",
       "      <td>2.000000</td>\n",
       "      <td>20.800000</td>\n",
       "      <td>5.000000</td>\n",
       "      <td>-6.466667</td>\n",
       "      <td>-0.666667</td>\n",
       "      <td>1</td>\n",
       "    </tr>\n",
       "    <tr>\n",
       "      <th>2</th>\n",
       "      <td>-2.000000</td>\n",
       "      <td>1.666667</td>\n",
       "      <td>22.666667</td>\n",
       "      <td>4.400000</td>\n",
       "      <td>-5.933333</td>\n",
       "      <td>-1.000000</td>\n",
       "      <td>1</td>\n",
       "    </tr>\n",
       "    <tr>\n",
       "      <th>3</th>\n",
       "      <td>-2.933333</td>\n",
       "      <td>1.333333</td>\n",
       "      <td>19.866667</td>\n",
       "      <td>4.333333</td>\n",
       "      <td>-7.200000</td>\n",
       "      <td>-0.666667</td>\n",
       "      <td>1</td>\n",
       "    </tr>\n",
       "    <tr>\n",
       "      <th>4</th>\n",
       "      <td>-2.133333</td>\n",
       "      <td>1.533333</td>\n",
       "      <td>20.333333</td>\n",
       "      <td>3.866667</td>\n",
       "      <td>-6.800000</td>\n",
       "      <td>-0.466667</td>\n",
       "      <td>1</td>\n",
       "    </tr>\n",
       "  </tbody>\n",
       "</table>\n",
       "</div>"
      ],
      "text/plain": [
       "         Fx        Fy         Fz        Tx        Ty        Tz  Failure_type\n",
       "0 -2.000000  1.466667  19.400000  5.000000 -5.600000 -0.666667             1\n",
       "1 -1.733333  2.000000  20.800000  5.000000 -6.466667 -0.666667             1\n",
       "2 -2.000000  1.666667  22.666667  4.400000 -5.933333 -1.000000             1\n",
       "3 -2.933333  1.333333  19.866667  4.333333 -7.200000 -0.666667             1\n",
       "4 -2.133333  1.533333  20.333333  3.866667 -6.800000 -0.466667             1"
      ]
     },
     "execution_count": 22,
     "metadata": {},
     "output_type": "execute_result"
    }
   ],
   "source": [
    "from sklearn import preprocessing\n",
    "le = preprocessing.LabelEncoder()\n",
    "lf3.Failure_type = le.fit_transform(lf3.Failure_type)\n",
    "lf3.head()"
   ]
  },
  {
   "cell_type": "markdown",
   "id": "07a6279f",
   "metadata": {},
   "source": [
    "# Data split"
   ]
  },
  {
   "cell_type": "code",
   "execution_count": 23,
   "id": "dc85d26f",
   "metadata": {},
   "outputs": [],
   "source": [
    "from sklearn.model_selection import train_test_split\n",
    "X = lf3.drop(['Failure_type'], axis = 1)\n",
    "Y = lf3['Failure_type']\n",
    "X_train,X_test,Y_train,Y_test = train_test_split(X,Y, test_size =0.33,  random_state = 2)"
   ]
  },
  {
   "cell_type": "code",
   "execution_count": 24,
   "id": "e312af94",
   "metadata": {},
   "outputs": [
    {
     "data": {
      "text/html": [
       "<div>\n",
       "<style scoped>\n",
       "    .dataframe tbody tr th:only-of-type {\n",
       "        vertical-align: middle;\n",
       "    }\n",
       "\n",
       "    .dataframe tbody tr th {\n",
       "        vertical-align: top;\n",
       "    }\n",
       "\n",
       "    .dataframe thead th {\n",
       "        text-align: right;\n",
       "    }\n",
       "</style>\n",
       "<table border=\"1\" class=\"dataframe\">\n",
       "  <thead>\n",
       "    <tr style=\"text-align: right;\">\n",
       "      <th></th>\n",
       "      <th>Fx</th>\n",
       "      <th>Fy</th>\n",
       "      <th>Fz</th>\n",
       "      <th>Tx</th>\n",
       "      <th>Ty</th>\n",
       "      <th>Tz</th>\n",
       "    </tr>\n",
       "  </thead>\n",
       "  <tbody>\n",
       "    <tr>\n",
       "      <th>89</th>\n",
       "      <td>-0.933333</td>\n",
       "      <td>-6.333333</td>\n",
       "      <td>-69.666667</td>\n",
       "      <td>4.533333</td>\n",
       "      <td>6.733333</td>\n",
       "      <td>-2.266667</td>\n",
       "    </tr>\n",
       "    <tr>\n",
       "      <th>91</th>\n",
       "      <td>1.133333</td>\n",
       "      <td>-5.066667</td>\n",
       "      <td>-52.533333</td>\n",
       "      <td>1.133333</td>\n",
       "      <td>5.133333</td>\n",
       "      <td>0.133333</td>\n",
       "    </tr>\n",
       "    <tr>\n",
       "      <th>48</th>\n",
       "      <td>13.133333</td>\n",
       "      <td>-9.400000</td>\n",
       "      <td>9.666667</td>\n",
       "      <td>12.866667</td>\n",
       "      <td>22.400000</td>\n",
       "      <td>-2.266667</td>\n",
       "    </tr>\n",
       "    <tr>\n",
       "      <th>87</th>\n",
       "      <td>3.333333</td>\n",
       "      <td>1.600000</td>\n",
       "      <td>-23.333333</td>\n",
       "      <td>11.200000</td>\n",
       "      <td>-8.866667</td>\n",
       "      <td>4.466667</td>\n",
       "    </tr>\n",
       "    <tr>\n",
       "      <th>54</th>\n",
       "      <td>-2.133333</td>\n",
       "      <td>-12.733333</td>\n",
       "      <td>-109.400000</td>\n",
       "      <td>-28.666667</td>\n",
       "      <td>25.000000</td>\n",
       "      <td>-0.333333</td>\n",
       "    </tr>\n",
       "  </tbody>\n",
       "</table>\n",
       "</div>"
      ],
      "text/plain": [
       "           Fx         Fy          Fz         Tx         Ty        Tz\n",
       "89  -0.933333  -6.333333  -69.666667   4.533333   6.733333 -2.266667\n",
       "91   1.133333  -5.066667  -52.533333   1.133333   5.133333  0.133333\n",
       "48  13.133333  -9.400000    9.666667  12.866667  22.400000 -2.266667\n",
       "87   3.333333   1.600000  -23.333333  11.200000  -8.866667  4.466667\n",
       "54  -2.133333 -12.733333 -109.400000 -28.666667  25.000000 -0.333333"
      ]
     },
     "execution_count": 24,
     "metadata": {},
     "output_type": "execute_result"
    }
   ],
   "source": [
    "X_train.head()"
   ]
  },
  {
   "cell_type": "code",
   "execution_count": 25,
   "id": "bdf744b8",
   "metadata": {},
   "outputs": [
    {
     "data": {
      "text/html": [
       "<div>\n",
       "<style scoped>\n",
       "    .dataframe tbody tr th:only-of-type {\n",
       "        vertical-align: middle;\n",
       "    }\n",
       "\n",
       "    .dataframe tbody tr th {\n",
       "        vertical-align: top;\n",
       "    }\n",
       "\n",
       "    .dataframe thead th {\n",
       "        text-align: right;\n",
       "    }\n",
       "</style>\n",
       "<table border=\"1\" class=\"dataframe\">\n",
       "  <thead>\n",
       "    <tr style=\"text-align: right;\">\n",
       "      <th></th>\n",
       "      <th>Fx</th>\n",
       "      <th>Fy</th>\n",
       "      <th>Fz</th>\n",
       "      <th>Tx</th>\n",
       "      <th>Ty</th>\n",
       "      <th>Tz</th>\n",
       "    </tr>\n",
       "  </thead>\n",
       "  <tbody>\n",
       "    <tr>\n",
       "      <th>24</th>\n",
       "      <td>0.133333</td>\n",
       "      <td>2.800000</td>\n",
       "      <td>23.933333</td>\n",
       "      <td>-4.200000</td>\n",
       "      <td>10.800000</td>\n",
       "      <td>-2.733333</td>\n",
       "    </tr>\n",
       "    <tr>\n",
       "      <th>98</th>\n",
       "      <td>-49.400000</td>\n",
       "      <td>-20.266667</td>\n",
       "      <td>-214.333333</td>\n",
       "      <td>29.866667</td>\n",
       "      <td>-32.933333</td>\n",
       "      <td>-3.733333</td>\n",
       "    </tr>\n",
       "    <tr>\n",
       "      <th>28</th>\n",
       "      <td>-2.333333</td>\n",
       "      <td>0.066667</td>\n",
       "      <td>-0.200000</td>\n",
       "      <td>-0.800000</td>\n",
       "      <td>-3.800000</td>\n",
       "      <td>-4.866667</td>\n",
       "    </tr>\n",
       "    <tr>\n",
       "      <th>56</th>\n",
       "      <td>-53.400000</td>\n",
       "      <td>-11.866667</td>\n",
       "      <td>-571.800000</td>\n",
       "      <td>-9.666667</td>\n",
       "      <td>97.733333</td>\n",
       "      <td>-70.533333</td>\n",
       "    </tr>\n",
       "    <tr>\n",
       "      <th>2</th>\n",
       "      <td>-2.000000</td>\n",
       "      <td>1.666667</td>\n",
       "      <td>22.666667</td>\n",
       "      <td>4.400000</td>\n",
       "      <td>-5.933333</td>\n",
       "      <td>-1.000000</td>\n",
       "    </tr>\n",
       "  </tbody>\n",
       "</table>\n",
       "</div>"
      ],
      "text/plain": [
       "           Fx         Fy          Fz         Tx         Ty         Tz\n",
       "24   0.133333   2.800000   23.933333  -4.200000  10.800000  -2.733333\n",
       "98 -49.400000 -20.266667 -214.333333  29.866667 -32.933333  -3.733333\n",
       "28  -2.333333   0.066667   -0.200000  -0.800000  -3.800000  -4.866667\n",
       "56 -53.400000 -11.866667 -571.800000  -9.666667  97.733333 -70.533333\n",
       "2   -2.000000   1.666667   22.666667   4.400000  -5.933333  -1.000000"
      ]
     },
     "execution_count": 25,
     "metadata": {},
     "output_type": "execute_result"
    }
   ],
   "source": [
    "X_test.head()"
   ]
  },
  {
   "cell_type": "code",
   "execution_count": 26,
   "id": "359fae0d",
   "metadata": {},
   "outputs": [
    {
     "data": {
      "text/plain": [
       "89    0\n",
       "91    0\n",
       "48    0\n",
       "87    0\n",
       "54    0\n",
       "Name: Failure_type, dtype: int32"
      ]
     },
     "execution_count": 26,
     "metadata": {},
     "output_type": "execute_result"
    }
   ],
   "source": [
    "Y_train.head()"
   ]
  },
  {
   "cell_type": "code",
   "execution_count": 27,
   "id": "b9ff7e06",
   "metadata": {},
   "outputs": [
    {
     "data": {
      "text/plain": [
       "24    0\n",
       "98    0\n",
       "28    0\n",
       "56    2\n",
       "2     1\n",
       "Name: Failure_type, dtype: int32"
      ]
     },
     "execution_count": 27,
     "metadata": {},
     "output_type": "execute_result"
    }
   ],
   "source": [
    "Y_test.head()"
   ]
  },
  {
   "cell_type": "markdown",
   "id": "8ae448df",
   "metadata": {},
   "source": [
    "# Decision Tree"
   ]
  },
  {
   "cell_type": "code",
   "execution_count": 28,
   "id": "fa1d8d3f",
   "metadata": {},
   "outputs": [
    {
     "name": "stdout",
     "output_type": "stream",
     "text": [
      "Wall time: 51.8 ms\n"
     ]
    }
   ],
   "source": [
    "%%time\n",
    "#Decision Tree\n",
    "\n",
    "from sklearn.tree import DecisionTreeClassifier\n",
    "from sklearn.metrics import confusion_matrix\n",
    "clf = DecisionTreeClassifier(criterion='gini', max_depth = 5, splitter='best')\n",
    "clf = clf.fit(X_train, Y_train)\n"
   ]
  },
  {
   "cell_type": "code",
   "execution_count": 29,
   "id": "1d160740",
   "metadata": {},
   "outputs": [
    {
     "data": {
      "text/plain": [
       "{'ccp_alpha': 0.0,\n",
       " 'class_weight': None,\n",
       " 'criterion': 'gini',\n",
       " 'max_depth': 5,\n",
       " 'max_features': None,\n",
       " 'max_leaf_nodes': None,\n",
       " 'min_impurity_decrease': 0.0,\n",
       " 'min_samples_leaf': 1,\n",
       " 'min_samples_split': 2,\n",
       " 'min_weight_fraction_leaf': 0.0,\n",
       " 'random_state': None,\n",
       " 'splitter': 'best'}"
      ]
     },
     "execution_count": 29,
     "metadata": {},
     "output_type": "execute_result"
    }
   ],
   "source": [
    "clf.get_params()"
   ]
  },
  {
   "cell_type": "code",
   "execution_count": 30,
   "id": "595d485c",
   "metadata": {
    "scrolled": true
   },
   "outputs": [],
   "source": [
    "X_test;"
   ]
  },
  {
   "cell_type": "code",
   "execution_count": 31,
   "id": "71b44c2d",
   "metadata": {},
   "outputs": [
    {
     "data": {
      "text/plain": [
       "array([0, 2, 0, 2, 1, 2, 0, 2, 0, 0, 0, 1, 0, 0, 1, 1, 2, 0, 1, 0, 0, 2,\n",
       "       0, 1, 0, 0, 0, 1, 1, 1, 1, 0, 2, 2, 0, 1, 2, 0, 0])"
      ]
     },
     "execution_count": 31,
     "metadata": {},
     "output_type": "execute_result"
    }
   ],
   "source": [
    "predictions = clf.predict(X_test)\n",
    "predictions"
   ]
  },
  {
   "cell_type": "code",
   "execution_count": 32,
   "id": "262ff3fc",
   "metadata": {
    "scrolled": true
   },
   "outputs": [],
   "source": [
    "clf.predict_proba(X_test);"
   ]
  },
  {
   "cell_type": "code",
   "execution_count": 33,
   "id": "aa5dd9ad",
   "metadata": {},
   "outputs": [
    {
     "data": {
      "text/plain": [
       "0.8205128205128205"
      ]
     },
     "execution_count": 33,
     "metadata": {},
     "output_type": "execute_result"
    }
   ],
   "source": [
    "from sklearn.metrics import accuracy_score\n",
    "accuracy_score(Y_test,predictions)"
   ]
  },
  {
   "cell_type": "code",
   "execution_count": 34,
   "id": "f22cfab6",
   "metadata": {},
   "outputs": [
    {
     "name": "stdout",
     "output_type": "stream",
     "text": [
      "[[17  2  3]\n",
      " [ 1  9  0]\n",
      " [ 1  0  6]]\n"
     ]
    },
    {
     "data": {
      "image/png": "[encoded data removed]",
      "text/plain": [
       "<Figure size 640x480 with 2 Axes>"
      ]
     },
     "metadata": {},
     "output_type": "display_data"
    }
   ],
   "source": [
    "c = confusion_matrix(Y_test, predictions)\n",
    "print(c)\n",
    "sns.heatmap(c, annot=True, fmt=\".1f\")\n",
    "plt.xlabel('Actual');\n",
    "plt.ylabel('Predicted');"
   ]
  },
  {
   "cell_type": "code",
   "execution_count": 35,
   "id": "d4fa468b",
   "metadata": {
    "scrolled": true
   },
   "outputs": [
    {
     "name": "stdout",
     "output_type": "stream",
     "text": [
      "              precision    recall  f1-score   support\n",
      "\n",
      "           0       0.89      0.77      0.83        22\n",
      "           1       0.82      0.90      0.86        10\n",
      "           2       0.67      0.86      0.75         7\n",
      "\n",
      "    accuracy                           0.82        39\n",
      "   macro avg       0.79      0.84      0.81        39\n",
      "weighted avg       0.83      0.82      0.82        39\n",
      "\n"
     ]
    }
   ],
   "source": [
    "from sklearn.metrics import classification_report\n",
    "print(classification_report(Y_test, predictions))\n"
   ]
  },
  {
   "cell_type": "code",
   "execution_count": 36,
   "id": "2ade3a6f",
   "metadata": {
    "scrolled": true
   },
   "outputs": [
    {
     "data": {
      "image/png": "[encoded data removed]",
      "text/plain": [
       "<Figure size 800x600 with 1 Axes>"
      ]
     },
     "metadata": {},
     "output_type": "display_data"
    }
   ],
   "source": [
    "from sklearn import tree\n",
    "plt.figure(figsize = (8,6))\n",
    "tree.plot_tree(clf,filled = True, class_names = True);"
   ]
  },
  {
   "cell_type": "markdown",
   "id": "c3ccab8f",
   "metadata": {},
   "source": [
    "# KNN\n"
   ]
  },
  {
   "cell_type": "code",
   "execution_count": 37,
   "id": "02ef37da",
   "metadata": {},
   "outputs": [
    {
     "name": "stdout",
     "output_type": "stream",
     "text": [
      "Wall time: 2 ms\n"
     ]
    },
    {
     "data": {
      "text/plain": [
       "KNeighborsClassifier(n_neighbors=3, weights='distance')"
      ]
     },
     "execution_count": 37,
     "metadata": {},
     "output_type": "execute_result"
    }
   ],
   "source": [
    "%%time\n",
    "from sklearn.neighbors import KNeighborsClassifier\n",
    "\n",
    "neigh = KNeighborsClassifier(n_neighbors=3,weights='distance',leaf_size=30)\n",
    "neigh.fit(X_train, Y_train)"
   ]
  },
  {
   "cell_type": "code",
   "execution_count": 38,
   "id": "edd70067",
   "metadata": {},
   "outputs": [
    {
     "name": "stdout",
     "output_type": "stream",
     "text": [
      "[0 0 0 2 1 2 0 2 0 0 0 0 0 0 1 1 2 0 1 0 1 0 0 1 0 0 1 1 1 0 1 1 2 2 0 1 0\n",
      " 0 0]\n"
     ]
    }
   ],
   "source": [
    "Y_pred = neigh.predict(X_test)\n",
    "print(Y_pred)"
   ]
  },
  {
   "cell_type": "code",
   "execution_count": 39,
   "id": "daa3c78a",
   "metadata": {
    "scrolled": true
   },
   "outputs": [
    {
     "data": {
      "text/plain": [
       "array([[0.66913806, 0.33086194, 0.        ],\n",
       "       [1.        , 0.        , 0.        ],\n",
       "       [1.        , 0.        , 0.        ],\n",
       "       [0.        , 0.        , 1.        ],\n",
       "       [0.        , 1.        , 0.        ],\n",
       "       [0.        , 0.        , 1.        ],\n",
       "       [1.        , 0.        , 0.        ],\n",
       "       [0.        , 0.        , 1.        ],\n",
       "       [0.52679007, 0.        , 0.47320993],\n",
       "       [1.        , 0.        , 0.        ],\n",
       "       [0.66913806, 0.33086194, 0.        ],\n",
       "       [1.        , 0.        , 0.        ],\n",
       "       [1.        , 0.        , 0.        ],\n",
       "       [1.        , 0.        , 0.        ],\n",
       "       [0.        , 1.        , 0.        ],\n",
       "       [0.        , 1.        , 0.        ],\n",
       "       [0.        , 0.        , 1.        ],\n",
       "       [1.        , 0.        , 0.        ],\n",
       "       [0.        , 1.        , 0.        ],\n",
       "       [1.        , 0.        , 0.        ],\n",
       "       [0.3998155 , 0.6001845 , 0.        ],\n",
       "       [0.63653981, 0.        , 0.36346019],\n",
       "       [1.        , 0.        , 0.        ],\n",
       "       [0.        , 1.        , 0.        ],\n",
       "       [1.        , 0.        , 0.        ],\n",
       "       [1.        , 0.        , 0.        ],\n",
       "       [0.        , 1.        , 0.        ],\n",
       "       [0.        , 1.        , 0.        ],\n",
       "       [0.        , 1.        , 0.        ],\n",
       "       [1.        , 0.        , 0.        ],\n",
       "       [0.        , 1.        , 0.        ],\n",
       "       [0.36071332, 0.63928668, 0.        ],\n",
       "       [0.        , 0.        , 1.        ],\n",
       "       [0.        , 0.        , 1.        ],\n",
       "       [1.        , 0.        , 0.        ],\n",
       "       [0.        , 1.        , 0.        ],\n",
       "       [0.68396285, 0.        , 0.31603715],\n",
       "       [1.        , 0.        , 0.        ],\n",
       "       [1.        , 0.        , 0.        ]])"
      ]
     },
     "execution_count": 39,
     "metadata": {},
     "output_type": "execute_result"
    }
   ],
   "source": [
    "neigh.predict_proba(X_test)"
   ]
  },
  {
   "cell_type": "code",
   "execution_count": 40,
   "id": "902f18af",
   "metadata": {},
   "outputs": [
    {
     "name": "stdout",
     "output_type": "stream",
     "text": [
      "[[20  2  0]\n",
      " [ 0 10  0]\n",
      " [ 1  0  6]]\n"
     ]
    },
    {
     "data": {
      "image/png": "[encoded data removed]",
      "text/plain": [
       "<Figure size 640x480 with 2 Axes>"
      ]
     },
     "metadata": {},
     "output_type": "display_data"
    }
   ],
   "source": [
    "c = confusion_matrix(Y_test, Y_pred)\n",
    "print(c)\n",
    "sns.heatmap(c, annot=True, fmt=\".1f\")\n",
    "plt.xlabel('Actual');\n",
    "plt.ylabel('Predicted');"
   ]
  },
  {
   "cell_type": "code",
   "execution_count": 41,
   "id": "6db5adff",
   "metadata": {},
   "outputs": [
    {
     "name": "stdout",
     "output_type": "stream",
     "text": [
      "              precision    recall  f1-score   support\n",
      "\n",
      "           0       0.95      0.91      0.93        22\n",
      "           1       0.83      1.00      0.91        10\n",
      "           2       1.00      0.86      0.92         7\n",
      "\n",
      "    accuracy                           0.92        39\n",
      "   macro avg       0.93      0.92      0.92        39\n",
      "weighted avg       0.93      0.92      0.92        39\n",
      "\n"
     ]
    }
   ],
   "source": [
    "from sklearn.metrics import classification_report\n",
    "print(classification_report(Y_test, Y_pred))"
   ]
  },
  {
   "cell_type": "code",
   "execution_count": 42,
   "id": "ba35455c",
   "metadata": {},
   "outputs": [
    {
     "data": {
      "text/plain": [
       "0.9230769230769231"
      ]
     },
     "execution_count": 42,
     "metadata": {},
     "output_type": "execute_result"
    }
   ],
   "source": [
    "from sklearn.metrics import accuracy_score\n",
    "accuracy_score(Y_test,Y_pred)"
   ]
  },
  {
   "cell_type": "markdown",
   "id": "dfaa42ca",
   "metadata": {},
   "source": [
    "# Randomforest\n"
   ]
  },
  {
   "cell_type": "code",
   "execution_count": 43,
   "id": "728bd71e",
   "metadata": {},
   "outputs": [],
   "source": [
    " from sklearn.ensemble import RandomForestClassifier\n",
    "   "
   ]
  },
  {
   "cell_type": "code",
   "execution_count": 44,
   "id": "47f7070d",
   "metadata": {},
   "outputs": [
    {
     "name": "stdout",
     "output_type": "stream",
     "text": [
      "Wall time: 297 ms\n"
     ]
    },
    {
     "data": {
      "text/plain": [
       "RandomForestClassifier(max_depth=4, n_estimators=500, random_state=2)"
      ]
     },
     "execution_count": 44,
     "metadata": {},
     "output_type": "execute_result"
    }
   ],
   "source": [
    "%%time\n",
    "rfc = RandomForestClassifier(n_estimators=500, max_depth=4, random_state = 2)\n",
    "rfc.fit(X_train, Y_train)"
   ]
  },
  {
   "cell_type": "code",
   "execution_count": 45,
   "id": "ee23165e",
   "metadata": {},
   "outputs": [
    {
     "name": "stdout",
     "output_type": "stream",
     "text": [
      "[0 0 0 2 1 2 0 2 2 0 0 0 0 0 1 1 2 0 1 0 0 0 0 1 0 0 1 1 1 0 1 0 2 2 0 1 0\n",
      " 0 0]\n"
     ]
    }
   ],
   "source": [
    "Y_predicts = rfc.predict(X_test)\n",
    "print(Y_predicts)"
   ]
  },
  {
   "cell_type": "code",
   "execution_count": 46,
   "id": "62848f1f",
   "metadata": {
    "scrolled": true
   },
   "outputs": [],
   "source": [
    "rfc.predict_proba(X_test);"
   ]
  },
  {
   "cell_type": "code",
   "execution_count": 47,
   "id": "6d41cd28",
   "metadata": {},
   "outputs": [
    {
     "name": "stdout",
     "output_type": "stream",
     "text": [
      "              precision    recall  f1-score   support\n",
      "\n",
      "           0       0.95      0.95      0.95        22\n",
      "           1       1.00      1.00      1.00        10\n",
      "           2       0.86      0.86      0.86         7\n",
      "\n",
      "    accuracy                           0.95        39\n",
      "   macro avg       0.94      0.94      0.94        39\n",
      "weighted avg       0.95      0.95      0.95        39\n",
      "\n"
     ]
    }
   ],
   "source": [
    "from sklearn.metrics import classification_report\n",
    "print(classification_report(Y_test, Y_predicts))"
   ]
  },
  {
   "cell_type": "code",
   "execution_count": 48,
   "id": "e1d78c1e",
   "metadata": {},
   "outputs": [
    {
     "data": {
      "text/plain": [
       "0.9487179487179487"
      ]
     },
     "execution_count": 48,
     "metadata": {},
     "output_type": "execute_result"
    }
   ],
   "source": [
    "from sklearn.metrics import accuracy_score\n",
    "accuracy_score(Y_test,Y_predicts)"
   ]
  },
  {
   "cell_type": "code",
   "execution_count": 49,
   "id": "b2ce6362",
   "metadata": {
    "scrolled": true
   },
   "outputs": [
    {
     "name": "stdout",
     "output_type": "stream",
     "text": [
      "[[21  0  1]\n",
      " [ 0 10  0]\n",
      " [ 1  0  6]]\n"
     ]
    },
    {
     "data": {
      "image/png": "[encoded data removed]",
      "text/plain": [
       "<Figure size 640x480 with 2 Axes>"
      ]
     },
     "metadata": {},
     "output_type": "display_data"
    }
   ],
   "source": [
    "c = confusion_matrix(Y_test, Y_predicts)\n",
    "print(c)\n",
    "sns.heatmap(c, annot=True, fmt=\".1f\")\n",
    "plt.xlabel('Actual');\n",
    "plt.ylabel('Predicted');"
   ]
  },
  {
   "cell_type": "code",
   "execution_count": null,
   "id": "05f0d2eb",
   "metadata": {},
   "outputs": [],
   "source": []
  },
  {
   "cell_type": "markdown",
   "id": "236638a1",
   "metadata": {},
   "source": [
    "# SVM"
   ]
  },
  {
   "cell_type": "code",
   "execution_count": 50,
   "id": "ca8ff420",
   "metadata": {},
   "outputs": [
    {
     "name": "stdout",
     "output_type": "stream",
     "text": [
      "Wall time: 3.98 ms\n"
     ]
    }
   ],
   "source": [
    "%%time\n",
    "from sklearn.svm import SVC\n",
    "\n",
    "model = SVC(kernel=\"poly\", degree=8, gamma = 'auto')\n",
    "\n",
    "model.fit(X_train,Y_train)\n",
    "Y_predict = model.predict(X_test)\n"
   ]
  },
  {
   "cell_type": "code",
   "execution_count": 51,
   "id": "a60179fc",
   "metadata": {},
   "outputs": [
    {
     "name": "stdout",
     "output_type": "stream",
     "text": [
      "              precision    recall  f1-score   support\n",
      "\n",
      "           0       0.94      0.77      0.85        22\n",
      "           1       0.91      1.00      0.95        10\n",
      "           2       0.60      0.86      0.71         7\n",
      "\n",
      "    accuracy                           0.85        39\n",
      "   macro avg       0.82      0.88      0.84        39\n",
      "weighted avg       0.87      0.85      0.85        39\n",
      "\n"
     ]
    }
   ],
   "source": [
    "print(classification_report(Y_test, Y_predict))"
   ]
  },
  {
   "cell_type": "code",
   "execution_count": 52,
   "id": "1d6cc398",
   "metadata": {},
   "outputs": [
    {
     "data": {
      "text/plain": [
       "0.8461538461538461"
      ]
     },
     "execution_count": 52,
     "metadata": {},
     "output_type": "execute_result"
    }
   ],
   "source": [
    "accuracy_score(Y_test,Y_predict)"
   ]
  },
  {
   "cell_type": "code",
   "execution_count": 53,
   "id": "96ecc0a0",
   "metadata": {},
   "outputs": [
    {
     "name": "stdout",
     "output_type": "stream",
     "text": [
      "[[17  1  4]\n",
      " [ 0 10  0]\n",
      " [ 1  0  6]]\n"
     ]
    },
    {
     "data": {
      "image/png": "[encoded data removed]",
      "text/plain": [
       "<Figure size 640x480 with 2 Axes>"
      ]
     },
     "metadata": {},
     "output_type": "display_data"
    }
   ],
   "source": [
    "c = confusion_matrix(Y_test, Y_predict)\n",
    "print(c)\n",
    "sns.heatmap(c, annot=True, fmt=\".1f\")\n",
    "plt.xlabel('Actual');\n",
    "plt.ylabel('Predicted');"
   ]
  },
  {
   "cell_type": "code",
   "execution_count": 54,
   "id": "6c745f92",
   "metadata": {},
   "outputs": [
    {
     "name": "stderr",
     "output_type": "stream",
     "text": [
      "C:\\Users\\Akhil\\anaconda3\\lib\\site-packages\\sklearn\\metrics\\_ranking.py:999: UndefinedMetricWarning: No positive samples in y_true, true positive value should be meaningless\n",
      "  warnings.warn(\n"
     ]
    },
    {
     "data": {
      "image/png": "[encoded data removed]",
      "text/plain": [
       "<Figure size 640x480 with 1 Axes>"
      ]
     },
     "metadata": {},
     "output_type": "display_data"
    }
   ],
   "source": [
    "from sklearn.metrics import RocCurveDisplay\n",
    "RocCurveDisplay.from_predictions(Y_test, Y_predict, pos_label = 3)\n",
    "plt.show()"
   ]
  },
  {
   "cell_type": "markdown",
   "id": "62f9c1e8",
   "metadata": {},
   "source": [
    "# SKlearn NN"
   ]
  },
  {
   "cell_type": "code",
   "execution_count": 55,
   "id": "7f176d66",
   "metadata": {},
   "outputs": [
    {
     "name": "stdout",
     "output_type": "stream",
     "text": [
      "Wall time: 85.4 ms\n"
     ]
    },
    {
     "name": "stderr",
     "output_type": "stream",
     "text": [
      "C:\\Users\\Akhil\\anaconda3\\lib\\site-packages\\sklearn\\neural_network\\_multilayer_perceptron.py:692: ConvergenceWarning: Stochastic Optimizer: Maximum iterations (200) reached and the optimization hasn't converged yet.\n",
      "  warnings.warn(\n"
     ]
    },
    {
     "data": {
      "text/plain": [
       "MLPClassifier(hidden_layer_sizes=(30, 60), random_state=1)"
      ]
     },
     "execution_count": 55,
     "metadata": {},
     "output_type": "execute_result"
    }
   ],
   "source": [
    "%%time\n",
    "from sklearn.neural_network import MLPClassifier\n",
    "\n",
    "model = MLPClassifier(solver='adam',random_state=1, hidden_layer_sizes=(30,60), activation='relu')\n",
    "model.fit(X_train,Y_train)"
   ]
  },
  {
   "cell_type": "code",
   "execution_count": 56,
   "id": "8b3d67d3",
   "metadata": {},
   "outputs": [],
   "source": [
    "Y_predicted = model.predict(X_test)"
   ]
  },
  {
   "cell_type": "code",
   "execution_count": 57,
   "id": "9073d3a0",
   "metadata": {},
   "outputs": [
    {
     "name": "stdout",
     "output_type": "stream",
     "text": [
      "              precision    recall  f1-score   support\n",
      "\n",
      "           0       0.80      0.91      0.85        22\n",
      "           1       1.00      1.00      1.00        10\n",
      "           2       0.50      0.29      0.36         7\n",
      "\n",
      "    accuracy                           0.82        39\n",
      "   macro avg       0.77      0.73      0.74        39\n",
      "weighted avg       0.80      0.82      0.80        39\n",
      "\n"
     ]
    }
   ],
   "source": [
    "print(classification_report(Y_test, Y_predicted))"
   ]
  },
  {
   "cell_type": "code",
   "execution_count": 58,
   "id": "3117d1d4",
   "metadata": {},
   "outputs": [
    {
     "data": {
      "text/plain": [
       "0.8205128205128205"
      ]
     },
     "execution_count": 58,
     "metadata": {},
     "output_type": "execute_result"
    }
   ],
   "source": [
    "accuracy_score(Y_test,Y_predicted)"
   ]
  },
  {
   "cell_type": "code",
   "execution_count": 59,
   "id": "bc8197e5",
   "metadata": {},
   "outputs": [
    {
     "name": "stderr",
     "output_type": "stream",
     "text": [
      "C:\\Users\\Akhil\\anaconda3\\lib\\site-packages\\sklearn\\metrics\\_ranking.py:999: UndefinedMetricWarning: No positive samples in y_true, true positive value should be meaningless\n",
      "  warnings.warn(\n"
     ]
    },
    {
     "data": {
      "image/png": "[encoded data removed]",
      "text/plain": [
       "<Figure size 640x480 with 1 Axes>"
      ]
     },
     "metadata": {},
     "output_type": "display_data"
    }
   ],
   "source": [
    "from sklearn.metrics import RocCurveDisplay\n",
    "RocCurveDisplay.from_predictions(Y_test, Y_predicted, pos_label = 3)\n",
    "plt.show()"
   ]
  },
  {
   "cell_type": "markdown",
   "id": "1c4514d3",
   "metadata": {},
   "source": [
    "# Neural network"
   ]
  },
  {
   "cell_type": "code",
   "execution_count": 60,
   "id": "cd4070ca",
   "metadata": {},
   "outputs": [],
   "source": [
    "# Data visualization\n",
    "import matplotlib.pyplot as plt\n",
    "import seaborn as sns\n",
    "import numpy as np\n",
    "import pandas as pd \n",
    "import seaborn as sns\n",
    "# Keras\n",
    "import tensorflow as tf\n",
    "from keras.models import Sequential\n",
    "from keras.layers import Dense\n",
    "from keras.optimizers import SGD, Adam, Adadelta, RMSprop\n",
    "import keras.backend as K\n",
    "from keras.metrics import RootMeanSquaredError \n",
    "# Train-Test\n",
    "from sklearn.model_selection import train_test_split\n",
    "# Scaling data\n",
    "from sklearn.preprocessing import StandardScaler\n",
    "# Classification Report\n",
    "from sklearn.metrics import classification_report\n",
    "from keras.utils.np_utils import to_categorical\n",
    "from tensorflow import keras\n",
    "from tensorflow.keras import layers\n"
   ]
  },
  {
   "cell_type": "code",
   "execution_count": 61,
   "id": "a669c9fe",
   "metadata": {},
   "outputs": [
    {
     "data": {
      "text/plain": [
       "(78, 6)"
      ]
     },
     "execution_count": 61,
     "metadata": {},
     "output_type": "execute_result"
    }
   ],
   "source": [
    "X_train.shape"
   ]
  },
  {
   "cell_type": "code",
   "execution_count": 62,
   "id": "679bfe03",
   "metadata": {},
   "outputs": [
    {
     "data": {
      "text/plain": [
       "(78,)"
      ]
     },
     "execution_count": 62,
     "metadata": {},
     "output_type": "execute_result"
    }
   ],
   "source": [
    "Y_train.shape"
   ]
  },
  {
   "cell_type": "code",
   "execution_count": 63,
   "id": "a7692e1b",
   "metadata": {},
   "outputs": [
    {
     "name": "stdout",
     "output_type": "stream",
     "text": [
      "Wall time: 72.7 ms\n"
     ]
    }
   ],
   "source": [
    "%%time\n",
    "input_shape = (6,)\n",
    "modeltf = keras.Sequential(\n",
    "    [\n",
    "        Dense(60,input_shape = input_shape, activation=\"relu\", name=\"layer1\"),\n",
    "        Dense(30, activation=\"relu\", name=\"layer2\"),\n",
    "        Dense(60, activation=\"sigmoid\", name=\"layer3\"),\n",
    "        Dense(60, activation=\"softmax\", name=\"layer4\")\n",
    "    ])\n",
    "    \n"
   ]
  },
  {
   "cell_type": "code",
   "execution_count": 64,
   "id": "23b91d95",
   "metadata": {},
   "outputs": [
    {
     "name": "stdout",
     "output_type": "stream",
     "text": [
      "Model: \"sequential\"\n",
      "_________________________________________________________________\n",
      " Layer (type)                Output Shape              Param #   \n",
      "=================================================================\n",
      " layer1 (Dense)              (None, 60)                420       \n",
      "                                                                 \n",
      " layer2 (Dense)              (None, 30)                1830      \n",
      "                                                                 \n",
      " layer3 (Dense)              (None, 60)                1860      \n",
      "                                                                 \n",
      " layer4 (Dense)              (None, 60)                3660      \n",
      "                                                                 \n",
      "=================================================================\n",
      "Total params: 7,770\n",
      "Trainable params: 7,770\n",
      "Non-trainable params: 0\n",
      "_________________________________________________________________\n"
     ]
    }
   ],
   "source": [
    "modeltf.summary()"
   ]
  },
  {
   "cell_type": "code",
   "execution_count": 65,
   "id": "583d62d4",
   "metadata": {},
   "outputs": [
    {
     "name": "stdout",
     "output_type": "stream",
     "text": [
      "Wall time: 7 ms\n"
     ]
    }
   ],
   "source": [
    "%%time\n",
    "modeltf.compile(Adam(learning_rate=0.01), \"sparse_categorical_crossentropy\", metrics = [\"accuracy\", \"RootMeanSquaredError\"])\n"
   ]
  },
  {
   "cell_type": "code",
   "execution_count": 66,
   "id": "d79b8da7",
   "metadata": {
    "scrolled": true
   },
   "outputs": [
    {
     "name": "stdout",
     "output_type": "stream",
     "text": [
      "Epoch 1/200\n",
      "3/3 - 1s - loss: 3.3821 - accuracy: 0.1282 - root_mean_squared_error: 0.9381 - val_loss: 1.6788 - val_accuracy: 0.5385 - val_root_mean_squared_error: 0.9778 - 608ms/epoch - 203ms/step\n",
      "Epoch 2/200\n",
      "3/3 - 0s - loss: 1.3718 - accuracy: 0.6154 - root_mean_squared_error: 0.9400 - val_loss: 1.0123 - val_accuracy: 0.5641 - val_root_mean_squared_error: 0.9812 - 33ms/epoch - 11ms/step\n",
      "Epoch 3/200\n",
      "3/3 - 0s - loss: 0.8678 - accuracy: 0.6410 - root_mean_squared_error: 0.9429 - val_loss: 0.7679 - val_accuracy: 0.5641 - val_root_mean_squared_error: 0.9818 - 26ms/epoch - 9ms/step\n",
      "Epoch 4/200\n",
      "3/3 - 0s - loss: 0.6459 - accuracy: 0.6538 - root_mean_squared_error: 0.9432 - val_loss: 0.5847 - val_accuracy: 0.7949 - val_root_mean_squared_error: 0.9813 - 37ms/epoch - 12ms/step\n",
      "Epoch 5/200\n",
      "3/3 - 0s - loss: 0.5366 - accuracy: 0.7821 - root_mean_squared_error: 0.9428 - val_loss: 0.4918 - val_accuracy: 0.7692 - val_root_mean_squared_error: 0.9814 - 33ms/epoch - 11ms/step\n",
      "Epoch 6/200\n",
      "3/3 - 0s - loss: 0.4603 - accuracy: 0.7821 - root_mean_squared_error: 0.9428 - val_loss: 0.4437 - val_accuracy: 0.8974 - val_root_mean_squared_error: 0.9816 - 31ms/epoch - 10ms/step\n",
      "Epoch 7/200\n",
      "3/3 - 0s - loss: 0.4051 - accuracy: 0.8846 - root_mean_squared_error: 0.9432 - val_loss: 0.3707 - val_accuracy: 0.8718 - val_root_mean_squared_error: 0.9820 - 31ms/epoch - 10ms/step\n",
      "Epoch 8/200\n",
      "3/3 - 0s - loss: 0.3802 - accuracy: 0.8462 - root_mean_squared_error: 0.9439 - val_loss: 0.4188 - val_accuracy: 0.8205 - val_root_mean_squared_error: 0.9828 - 31ms/epoch - 10ms/step\n",
      "Epoch 9/200\n",
      "3/3 - 0s - loss: 0.3765 - accuracy: 0.8205 - root_mean_squared_error: 0.9444 - val_loss: 0.3395 - val_accuracy: 0.8205 - val_root_mean_squared_error: 0.9827 - 29ms/epoch - 10ms/step\n",
      "Epoch 10/200\n",
      "3/3 - 0s - loss: 0.3204 - accuracy: 0.8205 - root_mean_squared_error: 0.9442 - val_loss: 0.3162 - val_accuracy: 0.8205 - val_root_mean_squared_error: 0.9828 - 30ms/epoch - 10ms/step\n",
      "Epoch 11/200\n",
      "3/3 - 0s - loss: 0.3162 - accuracy: 0.8333 - root_mean_squared_error: 0.9441 - val_loss: 0.3020 - val_accuracy: 0.7692 - val_root_mean_squared_error: 0.9828 - 28ms/epoch - 9ms/step\n",
      "Epoch 12/200\n",
      "3/3 - 0s - loss: 0.2790 - accuracy: 0.8846 - root_mean_squared_error: 0.9442 - val_loss: 0.2855 - val_accuracy: 0.8718 - val_root_mean_squared_error: 0.9830 - 29ms/epoch - 10ms/step\n",
      "Epoch 13/200\n",
      "3/3 - 0s - loss: 0.2479 - accuracy: 0.9231 - root_mean_squared_error: 0.9445 - val_loss: 0.3214 - val_accuracy: 0.8205 - val_root_mean_squared_error: 0.9834 - 24ms/epoch - 8ms/step\n",
      "Epoch 14/200\n",
      "3/3 - 0s - loss: 0.2825 - accuracy: 0.8205 - root_mean_squared_error: 0.9448 - val_loss: 0.3406 - val_accuracy: 0.8205 - val_root_mean_squared_error: 0.9835 - 32ms/epoch - 11ms/step\n",
      "Epoch 15/200\n",
      "3/3 - 0s - loss: 0.2641 - accuracy: 0.8205 - root_mean_squared_error: 0.9448 - val_loss: 0.3576 - val_accuracy: 0.7949 - val_root_mean_squared_error: 0.9835 - 26ms/epoch - 9ms/step\n",
      "Epoch 16/200\n",
      "3/3 - 0s - loss: 0.2557 - accuracy: 0.9231 - root_mean_squared_error: 0.9448 - val_loss: 0.3063 - val_accuracy: 0.8205 - val_root_mean_squared_error: 0.9834 - 30ms/epoch - 10ms/step\n",
      "Epoch 17/200\n",
      "3/3 - 0s - loss: 0.2356 - accuracy: 0.9231 - root_mean_squared_error: 0.9447 - val_loss: 0.3013 - val_accuracy: 0.8462 - val_root_mean_squared_error: 0.9835 - 29ms/epoch - 10ms/step\n",
      "Epoch 18/200\n",
      "3/3 - 0s - loss: 0.2369 - accuracy: 0.9103 - root_mean_squared_error: 0.9447 - val_loss: 0.3214 - val_accuracy: 0.7436 - val_root_mean_squared_error: 0.9834 - 27ms/epoch - 9ms/step\n",
      "Epoch 19/200\n",
      "3/3 - 0s - loss: 0.2320 - accuracy: 0.9359 - root_mean_squared_error: 0.9448 - val_loss: 0.3371 - val_accuracy: 0.7436 - val_root_mean_squared_error: 0.9835 - 27ms/epoch - 9ms/step\n",
      "Epoch 20/200\n",
      "3/3 - 0s - loss: 0.2268 - accuracy: 0.9231 - root_mean_squared_error: 0.9449 - val_loss: 0.3672 - val_accuracy: 0.7692 - val_root_mean_squared_error: 0.9836 - 27ms/epoch - 9ms/step\n",
      "Epoch 21/200\n",
      "3/3 - 0s - loss: 0.2074 - accuracy: 0.9487 - root_mean_squared_error: 0.9450 - val_loss: 0.4147 - val_accuracy: 0.7692 - val_root_mean_squared_error: 0.9837 - 27ms/epoch - 9ms/step\n",
      "Epoch 22/200\n",
      "3/3 - 0s - loss: 0.2029 - accuracy: 0.9487 - root_mean_squared_error: 0.9451 - val_loss: 0.4888 - val_accuracy: 0.7692 - val_root_mean_squared_error: 0.9840 - 27ms/epoch - 9ms/step\n",
      "Epoch 23/200\n",
      "3/3 - 0s - loss: 0.1907 - accuracy: 0.9359 - root_mean_squared_error: 0.9453 - val_loss: 0.4852 - val_accuracy: 0.7949 - val_root_mean_squared_error: 0.9840 - 27ms/epoch - 9ms/step\n",
      "Epoch 24/200\n",
      "3/3 - 0s - loss: 0.1696 - accuracy: 0.9487 - root_mean_squared_error: 0.9453 - val_loss: 0.3505 - val_accuracy: 0.7692 - val_root_mean_squared_error: 0.9838 - 28ms/epoch - 9ms/step\n",
      "Epoch 25/200\n",
      "3/3 - 0s - loss: 0.1625 - accuracy: 0.9487 - root_mean_squared_error: 0.9453 - val_loss: 0.3776 - val_accuracy: 0.7692 - val_root_mean_squared_error: 0.9839 - 28ms/epoch - 9ms/step\n",
      "Epoch 26/200\n",
      "3/3 - 0s - loss: 0.1501 - accuracy: 0.9615 - root_mean_squared_error: 0.9454 - val_loss: 0.4013 - val_accuracy: 0.7949 - val_root_mean_squared_error: 0.9841 - 27ms/epoch - 9ms/step\n",
      "Epoch 27/200\n",
      "3/3 - 0s - loss: 0.1584 - accuracy: 0.9487 - root_mean_squared_error: 0.9455 - val_loss: 0.4272 - val_accuracy: 0.7949 - val_root_mean_squared_error: 0.9843 - 27ms/epoch - 9ms/step\n",
      "Epoch 28/200\n",
      "3/3 - 0s - loss: 0.1902 - accuracy: 0.9103 - root_mean_squared_error: 0.9456 - val_loss: 0.4132 - val_accuracy: 0.7949 - val_root_mean_squared_error: 0.9843 - 27ms/epoch - 9ms/step\n",
      "Epoch 29/200\n",
      "3/3 - 0s - loss: 0.1699 - accuracy: 0.9359 - root_mean_squared_error: 0.9455 - val_loss: 0.3250 - val_accuracy: 0.8205 - val_root_mean_squared_error: 0.9839 - 27ms/epoch - 9ms/step\n",
      "Epoch 30/200\n",
      "3/3 - 0s - loss: 0.1443 - accuracy: 0.9615 - root_mean_squared_error: 0.9455 - val_loss: 0.2939 - val_accuracy: 0.8718 - val_root_mean_squared_error: 0.9839 - 27ms/epoch - 9ms/step\n",
      "Epoch 31/200\n",
      "3/3 - 0s - loss: 0.1479 - accuracy: 0.9487 - root_mean_squared_error: 0.9455 - val_loss: 0.3018 - val_accuracy: 0.8718 - val_root_mean_squared_error: 0.9839 - 27ms/epoch - 9ms/step\n",
      "Epoch 32/200\n",
      "3/3 - 0s - loss: 0.1358 - accuracy: 0.9487 - root_mean_squared_error: 0.9456 - val_loss: 0.3344 - val_accuracy: 0.8462 - val_root_mean_squared_error: 0.9841 - 31ms/epoch - 10ms/step\n",
      "Epoch 33/200\n",
      "3/3 - 0s - loss: 0.1245 - accuracy: 0.9615 - root_mean_squared_error: 0.9457 - val_loss: 0.4249 - val_accuracy: 0.7949 - val_root_mean_squared_error: 0.9843 - 33ms/epoch - 11ms/step\n",
      "Epoch 34/200\n",
      "3/3 - 0s - loss: 0.1303 - accuracy: 0.9615 - root_mean_squared_error: 0.9459 - val_loss: 0.5515 - val_accuracy: 0.7949 - val_root_mean_squared_error: 0.9845 - 32ms/epoch - 11ms/step\n",
      "Epoch 35/200\n",
      "3/3 - 0s - loss: 0.1389 - accuracy: 0.9487 - root_mean_squared_error: 0.9459 - val_loss: 0.5138 - val_accuracy: 0.7949 - val_root_mean_squared_error: 0.9843 - 32ms/epoch - 11ms/step\n",
      "Epoch 36/200\n",
      "3/3 - 0s - loss: 0.1299 - accuracy: 0.9487 - root_mean_squared_error: 0.9458 - val_loss: 0.4314 - val_accuracy: 0.7949 - val_root_mean_squared_error: 0.9841 - 31ms/epoch - 10ms/step\n",
      "Epoch 37/200\n",
      "3/3 - 0s - loss: 0.1063 - accuracy: 0.9615 - root_mean_squared_error: 0.9458 - val_loss: 0.4786 - val_accuracy: 0.7949 - val_root_mean_squared_error: 0.9842 - 31ms/epoch - 10ms/step\n",
      "Epoch 38/200\n",
      "3/3 - 0s - loss: 0.1038 - accuracy: 0.9615 - root_mean_squared_error: 0.9458 - val_loss: 0.5076 - val_accuracy: 0.7949 - val_root_mean_squared_error: 0.9843 - 30ms/epoch - 10ms/step\n",
      "Epoch 39/200\n",
      "3/3 - 0s - loss: 0.1167 - accuracy: 0.9615 - root_mean_squared_error: 0.9459 - val_loss: 0.5345 - val_accuracy: 0.7949 - val_root_mean_squared_error: 0.9844 - 28ms/epoch - 9ms/step\n",
      "Epoch 40/200\n",
      "3/3 - 0s - loss: 0.1168 - accuracy: 0.9615 - root_mean_squared_error: 0.9460 - val_loss: 0.5353 - val_accuracy: 0.7949 - val_root_mean_squared_error: 0.9844 - 28ms/epoch - 9ms/step\n",
      "Epoch 41/200\n",
      "3/3 - 0s - loss: 0.1134 - accuracy: 0.9615 - root_mean_squared_error: 0.9460 - val_loss: 0.5449 - val_accuracy: 0.7949 - val_root_mean_squared_error: 0.9844 - 27ms/epoch - 9ms/step\n",
      "Epoch 42/200\n",
      "3/3 - 0s - loss: 0.1158 - accuracy: 0.9487 - root_mean_squared_error: 0.9459 - val_loss: 0.4879 - val_accuracy: 0.7949 - val_root_mean_squared_error: 0.9843 - 28ms/epoch - 9ms/step\n",
      "Epoch 43/200\n",
      "3/3 - 0s - loss: 0.1200 - accuracy: 0.9615 - root_mean_squared_error: 0.9459 - val_loss: 0.4834 - val_accuracy: 0.7949 - val_root_mean_squared_error: 0.9840 - 27ms/epoch - 9ms/step\n"
     ]
    },
    {
     "name": "stdout",
     "output_type": "stream",
     "text": [
      "Epoch 44/200\n",
      "3/3 - 0s - loss: 0.1044 - accuracy: 0.9615 - root_mean_squared_error: 0.9458 - val_loss: 0.4324 - val_accuracy: 0.7949 - val_root_mean_squared_error: 0.9840 - 26ms/epoch - 9ms/step\n",
      "Epoch 45/200\n",
      "3/3 - 0s - loss: 0.1131 - accuracy: 0.9615 - root_mean_squared_error: 0.9457 - val_loss: 0.4178 - val_accuracy: 0.7949 - val_root_mean_squared_error: 0.9840 - 36ms/epoch - 12ms/step\n",
      "Epoch 46/200\n",
      "3/3 - 0s - loss: 0.1146 - accuracy: 0.9615 - root_mean_squared_error: 0.9457 - val_loss: 0.4571 - val_accuracy: 0.7949 - val_root_mean_squared_error: 0.9841 - 33ms/epoch - 11ms/step\n",
      "Epoch 47/200\n",
      "3/3 - 0s - loss: 0.0989 - accuracy: 0.9615 - root_mean_squared_error: 0.9458 - val_loss: 0.4763 - val_accuracy: 0.7949 - val_root_mean_squared_error: 0.9841 - 32ms/epoch - 11ms/step\n",
      "Epoch 48/200\n",
      "3/3 - 0s - loss: 0.0949 - accuracy: 0.9615 - root_mean_squared_error: 0.9460 - val_loss: 0.5152 - val_accuracy: 0.7949 - val_root_mean_squared_error: 0.9843 - 32ms/epoch - 11ms/step\n",
      "Epoch 49/200\n",
      "3/3 - 0s - loss: 0.1043 - accuracy: 0.9615 - root_mean_squared_error: 0.9461 - val_loss: 0.5410 - val_accuracy: 0.7949 - val_root_mean_squared_error: 0.9845 - 30ms/epoch - 10ms/step\n",
      "Epoch 50/200\n",
      "3/3 - 0s - loss: 0.1278 - accuracy: 0.9359 - root_mean_squared_error: 0.9460 - val_loss: 0.5270 - val_accuracy: 0.7692 - val_root_mean_squared_error: 0.9845 - 32ms/epoch - 11ms/step\n",
      "Epoch 51/200\n",
      "3/3 - 0s - loss: 0.1215 - accuracy: 0.9487 - root_mean_squared_error: 0.9460 - val_loss: 0.4866 - val_accuracy: 0.7949 - val_root_mean_squared_error: 0.9844 - 29ms/epoch - 10ms/step\n",
      "Epoch 52/200\n",
      "3/3 - 0s - loss: 0.1092 - accuracy: 0.9487 - root_mean_squared_error: 0.9460 - val_loss: 0.4654 - val_accuracy: 0.7692 - val_root_mean_squared_error: 0.9842 - 34ms/epoch - 11ms/step\n",
      "Epoch 53/200\n",
      "3/3 - 0s - loss: 0.1104 - accuracy: 0.9487 - root_mean_squared_error: 0.9459 - val_loss: 0.5595 - val_accuracy: 0.7692 - val_root_mean_squared_error: 0.9843 - 27ms/epoch - 9ms/step\n",
      "Epoch 54/200\n",
      "3/3 - 0s - loss: 0.0921 - accuracy: 0.9487 - root_mean_squared_error: 0.9460 - val_loss: 0.7161 - val_accuracy: 0.7692 - val_root_mean_squared_error: 0.9845 - 26ms/epoch - 9ms/step\n",
      "Epoch 55/200\n",
      "3/3 - 0s - loss: 0.1531 - accuracy: 0.9487 - root_mean_squared_error: 0.9461 - val_loss: 0.6832 - val_accuracy: 0.7692 - val_root_mean_squared_error: 0.9846 - 27ms/epoch - 9ms/step\n",
      "Epoch 56/200\n",
      "3/3 - 0s - loss: 0.1629 - accuracy: 0.9487 - root_mean_squared_error: 0.9460 - val_loss: 0.5734 - val_accuracy: 0.7692 - val_root_mean_squared_error: 0.9843 - 27ms/epoch - 9ms/step\n",
      "Epoch 57/200\n",
      "3/3 - 0s - loss: 0.1340 - accuracy: 0.9615 - root_mean_squared_error: 0.9457 - val_loss: 0.4878 - val_accuracy: 0.7949 - val_root_mean_squared_error: 0.9840 - 28ms/epoch - 9ms/step\n",
      "Epoch 58/200\n",
      "3/3 - 0s - loss: 0.1420 - accuracy: 0.9615 - root_mean_squared_error: 0.9454 - val_loss: 0.4760 - val_accuracy: 0.7949 - val_root_mean_squared_error: 0.9838 - 29ms/epoch - 10ms/step\n",
      "Epoch 59/200\n",
      "3/3 - 0s - loss: 0.1407 - accuracy: 0.9487 - root_mean_squared_error: 0.9455 - val_loss: 0.5325 - val_accuracy: 0.7692 - val_root_mean_squared_error: 0.9841 - 31ms/epoch - 10ms/step\n",
      "Epoch 60/200\n",
      "3/3 - 0s - loss: 0.1333 - accuracy: 0.9487 - root_mean_squared_error: 0.9457 - val_loss: 0.5670 - val_accuracy: 0.7692 - val_root_mean_squared_error: 0.9843 - 32ms/epoch - 11ms/step\n",
      "Epoch 61/200\n",
      "3/3 - 0s - loss: 0.1469 - accuracy: 0.9487 - root_mean_squared_error: 0.9458 - val_loss: 0.6081 - val_accuracy: 0.7692 - val_root_mean_squared_error: 0.9844 - 32ms/epoch - 11ms/step\n",
      "Epoch 62/200\n",
      "3/3 - 0s - loss: 0.1353 - accuracy: 0.9487 - root_mean_squared_error: 0.9459 - val_loss: 0.6249 - val_accuracy: 0.8205 - val_root_mean_squared_error: 0.9843 - 31ms/epoch - 10ms/step\n",
      "Epoch 63/200\n",
      "3/3 - 0s - loss: 0.1279 - accuracy: 0.9615 - root_mean_squared_error: 0.9459 - val_loss: 0.6290 - val_accuracy: 0.8205 - val_root_mean_squared_error: 0.9842 - 30ms/epoch - 10ms/step\n",
      "Epoch 64/200\n",
      "3/3 - 0s - loss: 0.1231 - accuracy: 0.9615 - root_mean_squared_error: 0.9459 - val_loss: 0.6252 - val_accuracy: 0.8205 - val_root_mean_squared_error: 0.9843 - 31ms/epoch - 10ms/step\n",
      "Epoch 65/200\n",
      "3/3 - 0s - loss: 0.1166 - accuracy: 0.9615 - root_mean_squared_error: 0.9460 - val_loss: 0.6267 - val_accuracy: 0.7949 - val_root_mean_squared_error: 0.9844 - 29ms/epoch - 10ms/step\n",
      "Epoch 66/200\n",
      "3/3 - 0s - loss: 0.1147 - accuracy: 0.9615 - root_mean_squared_error: 0.9460 - val_loss: 0.6145 - val_accuracy: 0.7949 - val_root_mean_squared_error: 0.9844 - 29ms/epoch - 10ms/step\n",
      "Epoch 67/200\n",
      "3/3 - 0s - loss: 0.1184 - accuracy: 0.9487 - root_mean_squared_error: 0.9460 - val_loss: 0.4513 - val_accuracy: 0.8974 - val_root_mean_squared_error: 0.9841 - 29ms/epoch - 10ms/step\n",
      "Epoch 68/200\n",
      "3/3 - 0s - loss: 0.1565 - accuracy: 0.9231 - root_mean_squared_error: 0.9458 - val_loss: 0.5496 - val_accuracy: 0.8718 - val_root_mean_squared_error: 0.9845 - 28ms/epoch - 9ms/step\n",
      "Epoch 69/200\n",
      "3/3 - 0s - loss: 0.2660 - accuracy: 0.8846 - root_mean_squared_error: 0.9460 - val_loss: 0.4806 - val_accuracy: 0.8974 - val_root_mean_squared_error: 0.9844 - 27ms/epoch - 9ms/step\n",
      "Epoch 70/200\n",
      "3/3 - 0s - loss: 0.2087 - accuracy: 0.8974 - root_mean_squared_error: 0.9460 - val_loss: 0.4321 - val_accuracy: 0.8205 - val_root_mean_squared_error: 0.9843 - 29ms/epoch - 10ms/step\n",
      "Epoch 71/200\n",
      "3/3 - 0s - loss: 0.1173 - accuracy: 0.9615 - root_mean_squared_error: 0.9462 - val_loss: 0.5118 - val_accuracy: 0.8205 - val_root_mean_squared_error: 0.9846 - 31ms/epoch - 10ms/step\n",
      "Epoch 72/200\n",
      "3/3 - 0s - loss: 0.1230 - accuracy: 0.9615 - root_mean_squared_error: 0.9462 - val_loss: 0.4638 - val_accuracy: 0.8718 - val_root_mean_squared_error: 0.9846 - 30ms/epoch - 10ms/step\n",
      "Epoch 73/200\n",
      "3/3 - 0s - loss: 0.1404 - accuracy: 0.9615 - root_mean_squared_error: 0.9463 - val_loss: 0.2857 - val_accuracy: 0.8462 - val_root_mean_squared_error: 0.9842 - 32ms/epoch - 11ms/step\n",
      "Epoch 74/200\n",
      "3/3 - 0s - loss: 0.1120 - accuracy: 0.9615 - root_mean_squared_error: 0.9459 - val_loss: 0.2799 - val_accuracy: 0.8462 - val_root_mean_squared_error: 0.9842 - 28ms/epoch - 9ms/step\n",
      "Epoch 75/200\n",
      "3/3 - 0s - loss: 0.1083 - accuracy: 0.9615 - root_mean_squared_error: 0.9459 - val_loss: 0.3076 - val_accuracy: 0.8205 - val_root_mean_squared_error: 0.9843 - 32ms/epoch - 11ms/step\n",
      "Epoch 76/200\n",
      "3/3 - 0s - loss: 0.1207 - accuracy: 0.9615 - root_mean_squared_error: 0.9460 - val_loss: 0.4024 - val_accuracy: 0.7949 - val_root_mean_squared_error: 0.9845 - 32ms/epoch - 11ms/step\n",
      "Epoch 77/200\n",
      "3/3 - 0s - loss: 0.1222 - accuracy: 0.9487 - root_mean_squared_error: 0.9461 - val_loss: 0.4637 - val_accuracy: 0.7692 - val_root_mean_squared_error: 0.9845 - 33ms/epoch - 11ms/step\n",
      "Epoch 78/200\n",
      "3/3 - 0s - loss: 0.1677 - accuracy: 0.9359 - root_mean_squared_error: 0.9459 - val_loss: 0.3652 - val_accuracy: 0.7949 - val_root_mean_squared_error: 0.9843 - 28ms/epoch - 9ms/step\n",
      "Epoch 79/200\n",
      "3/3 - 0s - loss: 0.2611 - accuracy: 0.8718 - root_mean_squared_error: 0.9457 - val_loss: 0.2792 - val_accuracy: 0.7949 - val_root_mean_squared_error: 0.9840 - 27ms/epoch - 9ms/step\n",
      "Epoch 80/200\n",
      "3/3 - 0s - loss: 0.1996 - accuracy: 0.8718 - root_mean_squared_error: 0.9453 - val_loss: 0.2140 - val_accuracy: 0.8718 - val_root_mean_squared_error: 0.9839 - 25ms/epoch - 8ms/step\n",
      "Epoch 81/200\n",
      "3/3 - 0s - loss: 0.1887 - accuracy: 0.8974 - root_mean_squared_error: 0.9455 - val_loss: 0.2479 - val_accuracy: 0.8718 - val_root_mean_squared_error: 0.9843 - 31ms/epoch - 10ms/step\n",
      "Epoch 82/200\n",
      "3/3 - 0s - loss: 0.2276 - accuracy: 0.8846 - root_mean_squared_error: 0.9458 - val_loss: 0.2131 - val_accuracy: 0.8974 - val_root_mean_squared_error: 0.9843 - 28ms/epoch - 9ms/step\n",
      "Epoch 83/200\n",
      "3/3 - 0s - loss: 0.1862 - accuracy: 0.8974 - root_mean_squared_error: 0.9457 - val_loss: 0.2140 - val_accuracy: 0.9231 - val_root_mean_squared_error: 0.9840 - 30ms/epoch - 10ms/step\n",
      "Epoch 84/200\n",
      "3/3 - 0s - loss: 0.1848 - accuracy: 0.9103 - root_mean_squared_error: 0.9455 - val_loss: 0.2187 - val_accuracy: 0.7949 - val_root_mean_squared_error: 0.9840 - 28ms/epoch - 9ms/step\n",
      "Epoch 85/200\n",
      "3/3 - 0s - loss: 0.1951 - accuracy: 0.8846 - root_mean_squared_error: 0.9456 - val_loss: 0.2399 - val_accuracy: 0.8205 - val_root_mean_squared_error: 0.9841 - 30ms/epoch - 10ms/step\n",
      "Epoch 86/200\n",
      "3/3 - 0s - loss: 0.1638 - accuracy: 0.9103 - root_mean_squared_error: 0.9456 - val_loss: 0.3345 - val_accuracy: 0.8462 - val_root_mean_squared_error: 0.9843 - 31ms/epoch - 10ms/step\n"
     ]
    },
    {
     "name": "stdout",
     "output_type": "stream",
     "text": [
      "Epoch 87/200\n",
      "3/3 - 0s - loss: 0.1766 - accuracy: 0.9103 - root_mean_squared_error: 0.9459 - val_loss: 0.2456 - val_accuracy: 0.9231 - val_root_mean_squared_error: 0.9845 - 30ms/epoch - 10ms/step\n",
      "Epoch 88/200\n",
      "3/3 - 0s - loss: 0.2364 - accuracy: 0.8974 - root_mean_squared_error: 0.9459 - val_loss: 0.2863 - val_accuracy: 0.8718 - val_root_mean_squared_error: 0.9844 - 31ms/epoch - 10ms/step\n",
      "Epoch 89/200\n",
      "3/3 - 0s - loss: 0.2349 - accuracy: 0.8846 - root_mean_squared_error: 0.9458 - val_loss: 0.2304 - val_accuracy: 0.8974 - val_root_mean_squared_error: 0.9840 - 31ms/epoch - 10ms/step\n",
      "Epoch 90/200\n",
      "3/3 - 0s - loss: 0.1667 - accuracy: 0.9103 - root_mean_squared_error: 0.9455 - val_loss: 0.2868 - val_accuracy: 0.8205 - val_root_mean_squared_error: 0.9841 - 26ms/epoch - 9ms/step\n",
      "Epoch 91/200\n",
      "3/3 - 0s - loss: 0.1948 - accuracy: 0.8974 - root_mean_squared_error: 0.9456 - val_loss: 0.3096 - val_accuracy: 0.7949 - val_root_mean_squared_error: 0.9841 - 31ms/epoch - 10ms/step\n",
      "Epoch 92/200\n",
      "3/3 - 0s - loss: 0.1915 - accuracy: 0.8846 - root_mean_squared_error: 0.9456 - val_loss: 0.2416 - val_accuracy: 0.8462 - val_root_mean_squared_error: 0.9839 - 28ms/epoch - 9ms/step\n",
      "Epoch 93/200\n",
      "3/3 - 0s - loss: 0.1548 - accuracy: 0.9103 - root_mean_squared_error: 0.9455 - val_loss: 0.2587 - val_accuracy: 0.9231 - val_root_mean_squared_error: 0.9840 - 27ms/epoch - 9ms/step\n",
      "Epoch 94/200\n",
      "3/3 - 0s - loss: 0.1532 - accuracy: 0.8974 - root_mean_squared_error: 0.9456 - val_loss: 0.2545 - val_accuracy: 0.9231 - val_root_mean_squared_error: 0.9840 - 29ms/epoch - 10ms/step\n",
      "Epoch 95/200\n",
      "3/3 - 0s - loss: 0.1476 - accuracy: 0.8974 - root_mean_squared_error: 0.9456 - val_loss: 0.2547 - val_accuracy: 0.8718 - val_root_mean_squared_error: 0.9840 - 28ms/epoch - 9ms/step\n",
      "Epoch 96/200\n",
      "3/3 - 0s - loss: 0.1509 - accuracy: 0.9487 - root_mean_squared_error: 0.9455 - val_loss: 0.2755 - val_accuracy: 0.8462 - val_root_mean_squared_error: 0.9840 - 28ms/epoch - 9ms/step\n",
      "Epoch 97/200\n",
      "3/3 - 0s - loss: 0.1498 - accuracy: 0.9359 - root_mean_squared_error: 0.9456 - val_loss: 0.2844 - val_accuracy: 0.8462 - val_root_mean_squared_error: 0.9840 - 26ms/epoch - 9ms/step\n",
      "Epoch 98/200\n",
      "3/3 - 0s - loss: 0.1444 - accuracy: 0.9359 - root_mean_squared_error: 0.9456 - val_loss: 0.2853 - val_accuracy: 0.8974 - val_root_mean_squared_error: 0.9840 - 30ms/epoch - 10ms/step\n",
      "Epoch 99/200\n",
      "3/3 - 0s - loss: 0.1397 - accuracy: 0.9487 - root_mean_squared_error: 0.9456 - val_loss: 0.2798 - val_accuracy: 0.8462 - val_root_mean_squared_error: 0.9841 - 25ms/epoch - 8ms/step\n",
      "Epoch 100/200\n",
      "3/3 - 0s - loss: 0.1420 - accuracy: 0.9615 - root_mean_squared_error: 0.9456 - val_loss: 0.2730 - val_accuracy: 0.8205 - val_root_mean_squared_error: 0.9841 - 31ms/epoch - 10ms/step\n",
      "Epoch 101/200\n",
      "3/3 - 0s - loss: 0.1322 - accuracy: 0.9487 - root_mean_squared_error: 0.9457 - val_loss: 0.3092 - val_accuracy: 0.8974 - val_root_mean_squared_error: 0.9841 - 30ms/epoch - 10ms/step\n",
      "Epoch 102/200\n",
      "3/3 - 0s - loss: 0.1239 - accuracy: 0.9359 - root_mean_squared_error: 0.9458 - val_loss: 0.3487 - val_accuracy: 0.8462 - val_root_mean_squared_error: 0.9842 - 30ms/epoch - 10ms/step\n",
      "Epoch 103/200\n",
      "3/3 - 0s - loss: 0.1135 - accuracy: 0.9615 - root_mean_squared_error: 0.9459 - val_loss: 0.3801 - val_accuracy: 0.8205 - val_root_mean_squared_error: 0.9843 - 30ms/epoch - 10ms/step\n",
      "Epoch 104/200\n",
      "3/3 - 0s - loss: 0.0973 - accuracy: 0.9615 - root_mean_squared_error: 0.9460 - val_loss: 0.4249 - val_accuracy: 0.7949 - val_root_mean_squared_error: 0.9844 - 28ms/epoch - 9ms/step\n",
      "Epoch 105/200\n",
      "3/3 - 0s - loss: 0.0972 - accuracy: 0.9615 - root_mean_squared_error: 0.9460 - val_loss: 0.4599 - val_accuracy: 0.7949 - val_root_mean_squared_error: 0.9846 - 33ms/epoch - 11ms/step\n",
      "Epoch 106/200\n",
      "3/3 - 0s - loss: 0.1306 - accuracy: 0.9359 - root_mean_squared_error: 0.9461 - val_loss: 0.4713 - val_accuracy: 0.7949 - val_root_mean_squared_error: 0.9846 - 29ms/epoch - 10ms/step\n",
      "Epoch 107/200\n",
      "3/3 - 0s - loss: 0.1011 - accuracy: 0.9615 - root_mean_squared_error: 0.9460 - val_loss: 0.4403 - val_accuracy: 0.7949 - val_root_mean_squared_error: 0.9845 - 28ms/epoch - 9ms/step\n",
      "Epoch 108/200\n",
      "3/3 - 0s - loss: 0.0967 - accuracy: 0.9615 - root_mean_squared_error: 0.9460 - val_loss: 0.3901 - val_accuracy: 0.8462 - val_root_mean_squared_error: 0.9844 - 29ms/epoch - 10ms/step\n",
      "Epoch 109/200\n",
      "3/3 - 0s - loss: 0.0951 - accuracy: 0.9615 - root_mean_squared_error: 0.9460 - val_loss: 0.3916 - val_accuracy: 0.8462 - val_root_mean_squared_error: 0.9844 - 28ms/epoch - 9ms/step\n",
      "Epoch 110/200\n",
      "3/3 - 0s - loss: 0.1001 - accuracy: 0.9615 - root_mean_squared_error: 0.9460 - val_loss: 0.4056 - val_accuracy: 0.8462 - val_root_mean_squared_error: 0.9844 - 28ms/epoch - 9ms/step\n",
      "Epoch 111/200\n",
      "3/3 - 0s - loss: 0.0950 - accuracy: 0.9615 - root_mean_squared_error: 0.9460 - val_loss: 0.4137 - val_accuracy: 0.8462 - val_root_mean_squared_error: 0.9844 - 28ms/epoch - 9ms/step\n",
      "Epoch 112/200\n",
      "3/3 - 0s - loss: 0.0898 - accuracy: 0.9744 - root_mean_squared_error: 0.9460 - val_loss: 0.4219 - val_accuracy: 0.8462 - val_root_mean_squared_error: 0.9844 - 31ms/epoch - 10ms/step\n",
      "Epoch 113/200\n",
      "3/3 - 0s - loss: 0.0830 - accuracy: 0.9744 - root_mean_squared_error: 0.9460 - val_loss: 0.4401 - val_accuracy: 0.8462 - val_root_mean_squared_error: 0.9845 - 31ms/epoch - 10ms/step\n",
      "Epoch 114/200\n",
      "3/3 - 0s - loss: 0.0805 - accuracy: 0.9744 - root_mean_squared_error: 0.9461 - val_loss: 0.4666 - val_accuracy: 0.8205 - val_root_mean_squared_error: 0.9846 - 31ms/epoch - 10ms/step\n",
      "Epoch 115/200\n",
      "3/3 - 0s - loss: 0.0802 - accuracy: 0.9744 - root_mean_squared_error: 0.9461 - val_loss: 0.4731 - val_accuracy: 0.8205 - val_root_mean_squared_error: 0.9846 - 31ms/epoch - 10ms/step\n",
      "Epoch 116/200\n",
      "3/3 - 0s - loss: 0.0799 - accuracy: 0.9744 - root_mean_squared_error: 0.9461 - val_loss: 0.5066 - val_accuracy: 0.8205 - val_root_mean_squared_error: 0.9846 - 31ms/epoch - 10ms/step\n",
      "Epoch 117/200\n",
      "3/3 - 0s - loss: 0.0820 - accuracy: 0.9744 - root_mean_squared_error: 0.9461 - val_loss: 0.4346 - val_accuracy: 0.8718 - val_root_mean_squared_error: 0.9844 - 31ms/epoch - 10ms/step\n",
      "Epoch 118/200\n",
      "3/3 - 0s - loss: 0.0993 - accuracy: 0.9615 - root_mean_squared_error: 0.9461 - val_loss: 0.4490 - val_accuracy: 0.8718 - val_root_mean_squared_error: 0.9844 - 32ms/epoch - 11ms/step\n",
      "Epoch 119/200\n",
      "3/3 - 0s - loss: 0.1010 - accuracy: 0.9487 - root_mean_squared_error: 0.9462 - val_loss: 0.4545 - val_accuracy: 0.8718 - val_root_mean_squared_error: 0.9844 - 31ms/epoch - 10ms/step\n",
      "Epoch 120/200\n",
      "3/3 - 0s - loss: 0.0972 - accuracy: 0.9615 - root_mean_squared_error: 0.9462 - val_loss: 0.4635 - val_accuracy: 0.8205 - val_root_mean_squared_error: 0.9845 - 28ms/epoch - 9ms/step\n",
      "Epoch 121/200\n",
      "3/3 - 0s - loss: 0.1037 - accuracy: 0.9615 - root_mean_squared_error: 0.9461 - val_loss: 0.4548 - val_accuracy: 0.8462 - val_root_mean_squared_error: 0.9844 - 27ms/epoch - 9ms/step\n",
      "Epoch 122/200\n",
      "3/3 - 0s - loss: 0.1005 - accuracy: 0.9615 - root_mean_squared_error: 0.9461 - val_loss: 0.4554 - val_accuracy: 0.8462 - val_root_mean_squared_error: 0.9845 - 27ms/epoch - 9ms/step\n",
      "Epoch 123/200\n",
      "3/3 - 0s - loss: 0.0924 - accuracy: 0.9615 - root_mean_squared_error: 0.9461 - val_loss: 0.4504 - val_accuracy: 0.8462 - val_root_mean_squared_error: 0.9845 - 27ms/epoch - 9ms/step\n",
      "Epoch 124/200\n",
      "3/3 - 0s - loss: 0.0966 - accuracy: 0.9615 - root_mean_squared_error: 0.9462 - val_loss: 0.5809 - val_accuracy: 0.8205 - val_root_mean_squared_error: 0.9847 - 27ms/epoch - 9ms/step\n",
      "Epoch 125/200\n",
      "3/3 - 0s - loss: 0.0965 - accuracy: 0.9615 - root_mean_squared_error: 0.9462 - val_loss: 0.6306 - val_accuracy: 0.8462 - val_root_mean_squared_error: 0.9847 - 25ms/epoch - 8ms/step\n",
      "Epoch 126/200\n",
      "3/3 - 0s - loss: 0.0882 - accuracy: 0.9615 - root_mean_squared_error: 0.9463 - val_loss: 0.6186 - val_accuracy: 0.8462 - val_root_mean_squared_error: 0.9848 - 27ms/epoch - 9ms/step\n",
      "Epoch 127/200\n",
      "3/3 - 0s - loss: 0.0823 - accuracy: 0.9615 - root_mean_squared_error: 0.9463 - val_loss: 0.5887 - val_accuracy: 0.8462 - val_root_mean_squared_error: 0.9848 - 29ms/epoch - 10ms/step\n",
      "Epoch 128/200\n",
      "3/3 - 0s - loss: 0.0725 - accuracy: 0.9744 - root_mean_squared_error: 0.9463 - val_loss: 0.5671 - val_accuracy: 0.8462 - val_root_mean_squared_error: 0.9847 - 32ms/epoch - 11ms/step\n"
     ]
    },
    {
     "name": "stdout",
     "output_type": "stream",
     "text": [
      "Epoch 129/200\n",
      "3/3 - 0s - loss: 0.0747 - accuracy: 0.9744 - root_mean_squared_error: 0.9463 - val_loss: 0.5452 - val_accuracy: 0.8462 - val_root_mean_squared_error: 0.9847 - 31ms/epoch - 10ms/step\n",
      "Epoch 130/200\n",
      "3/3 - 0s - loss: 0.0812 - accuracy: 0.9615 - root_mean_squared_error: 0.9463 - val_loss: 0.5644 - val_accuracy: 0.8462 - val_root_mean_squared_error: 0.9846 - 34ms/epoch - 11ms/step\n",
      "Epoch 131/200\n",
      "3/3 - 0s - loss: 0.0802 - accuracy: 0.9615 - root_mean_squared_error: 0.9463 - val_loss: 0.5869 - val_accuracy: 0.7949 - val_root_mean_squared_error: 0.9846 - 31ms/epoch - 10ms/step\n",
      "Epoch 132/200\n",
      "3/3 - 0s - loss: 0.0901 - accuracy: 0.9615 - root_mean_squared_error: 0.9463 - val_loss: 0.5712 - val_accuracy: 0.7949 - val_root_mean_squared_error: 0.9847 - 32ms/epoch - 11ms/step\n",
      "Epoch 133/200\n",
      "3/3 - 0s - loss: 0.1000 - accuracy: 0.9615 - root_mean_squared_error: 0.9463 - val_loss: 0.5898 - val_accuracy: 0.8462 - val_root_mean_squared_error: 0.9847 - 31ms/epoch - 10ms/step\n",
      "Epoch 134/200\n",
      "3/3 - 0s - loss: 0.0819 - accuracy: 0.9744 - root_mean_squared_error: 0.9463 - val_loss: 0.6079 - val_accuracy: 0.8462 - val_root_mean_squared_error: 0.9846 - 32ms/epoch - 11ms/step\n",
      "Epoch 135/200\n",
      "3/3 - 0s - loss: 0.0845 - accuracy: 0.9744 - root_mean_squared_error: 0.9463 - val_loss: 0.6256 - val_accuracy: 0.8205 - val_root_mean_squared_error: 0.9846 - 29ms/epoch - 10ms/step\n",
      "Epoch 136/200\n",
      "3/3 - 0s - loss: 0.0943 - accuracy: 0.9615 - root_mean_squared_error: 0.9463 - val_loss: 0.5646 - val_accuracy: 0.7949 - val_root_mean_squared_error: 0.9845 - 28ms/epoch - 9ms/step\n",
      "Epoch 137/200\n",
      "3/3 - 0s - loss: 0.1036 - accuracy: 0.9744 - root_mean_squared_error: 0.9462 - val_loss: 0.5166 - val_accuracy: 0.8205 - val_root_mean_squared_error: 0.9844 - 29ms/epoch - 10ms/step\n",
      "Epoch 138/200\n",
      "3/3 - 0s - loss: 0.0978 - accuracy: 0.9744 - root_mean_squared_error: 0.9462 - val_loss: 0.5260 - val_accuracy: 0.8205 - val_root_mean_squared_error: 0.9845 - 29ms/epoch - 10ms/step\n",
      "Epoch 139/200\n",
      "3/3 - 0s - loss: 0.0882 - accuracy: 0.9615 - root_mean_squared_error: 0.9463 - val_loss: 0.5677 - val_accuracy: 0.8205 - val_root_mean_squared_error: 0.9846 - 27ms/epoch - 9ms/step\n",
      "Epoch 140/200\n",
      "3/3 - 0s - loss: 0.0996 - accuracy: 0.9615 - root_mean_squared_error: 0.9462 - val_loss: 0.5993 - val_accuracy: 0.7949 - val_root_mean_squared_error: 0.9848 - 27ms/epoch - 9ms/step\n",
      "Epoch 141/200\n",
      "3/3 - 0s - loss: 0.1038 - accuracy: 0.9487 - root_mean_squared_error: 0.9462 - val_loss: 0.7192 - val_accuracy: 0.7949 - val_root_mean_squared_error: 0.9849 - 28ms/epoch - 9ms/step\n",
      "Epoch 142/200\n",
      "3/3 - 0s - loss: 0.1269 - accuracy: 0.9487 - root_mean_squared_error: 0.9462 - val_loss: 0.6838 - val_accuracy: 0.7949 - val_root_mean_squared_error: 0.9848 - 28ms/epoch - 9ms/step\n",
      "Epoch 143/200\n",
      "3/3 - 0s - loss: 0.1173 - accuracy: 0.9359 - root_mean_squared_error: 0.9462 - val_loss: 0.6043 - val_accuracy: 0.7949 - val_root_mean_squared_error: 0.9848 - 27ms/epoch - 9ms/step\n",
      "Epoch 144/200\n",
      "3/3 - 0s - loss: 0.0996 - accuracy: 0.9744 - root_mean_squared_error: 0.9462 - val_loss: 0.5338 - val_accuracy: 0.8205 - val_root_mean_squared_error: 0.9845 - 27ms/epoch - 9ms/step\n",
      "Epoch 145/200\n",
      "3/3 - 0s - loss: 0.0970 - accuracy: 0.9744 - root_mean_squared_error: 0.9461 - val_loss: 0.5193 - val_accuracy: 0.8205 - val_root_mean_squared_error: 0.9844 - 27ms/epoch - 9ms/step\n",
      "Epoch 146/200\n",
      "3/3 - 0s - loss: 0.0887 - accuracy: 0.9744 - root_mean_squared_error: 0.9460 - val_loss: 0.5132 - val_accuracy: 0.7949 - val_root_mean_squared_error: 0.9844 - 30ms/epoch - 10ms/step\n",
      "Epoch 147/200\n",
      "3/3 - 0s - loss: 0.0817 - accuracy: 0.9744 - root_mean_squared_error: 0.9460 - val_loss: 0.4860 - val_accuracy: 0.7949 - val_root_mean_squared_error: 0.9845 - 33ms/epoch - 11ms/step\n",
      "Epoch 148/200\n",
      "3/3 - 0s - loss: 0.1005 - accuracy: 0.9359 - root_mean_squared_error: 0.9459 - val_loss: 0.5287 - val_accuracy: 0.7949 - val_root_mean_squared_error: 0.9845 - 31ms/epoch - 10ms/step\n",
      "Epoch 149/200\n",
      "3/3 - 0s - loss: 0.0952 - accuracy: 0.9487 - root_mean_squared_error: 0.9460 - val_loss: 0.5268 - val_accuracy: 0.7949 - val_root_mean_squared_error: 0.9845 - 32ms/epoch - 11ms/step\n",
      "Epoch 150/200\n",
      "3/3 - 0s - loss: 0.0991 - accuracy: 0.9487 - root_mean_squared_error: 0.9460 - val_loss: 0.5466 - val_accuracy: 0.7949 - val_root_mean_squared_error: 0.9845 - 30ms/epoch - 10ms/step\n",
      "Epoch 151/200\n",
      "3/3 - 0s - loss: 0.1161 - accuracy: 0.9487 - root_mean_squared_error: 0.9458 - val_loss: 0.4694 - val_accuracy: 0.7949 - val_root_mean_squared_error: 0.9843 - 34ms/epoch - 11ms/step\n",
      "Epoch 152/200\n",
      "3/3 - 0s - loss: 0.1482 - accuracy: 0.9359 - root_mean_squared_error: 0.9456 - val_loss: 0.3934 - val_accuracy: 0.7949 - val_root_mean_squared_error: 0.9840 - 32ms/epoch - 11ms/step\n",
      "Epoch 153/200\n",
      "3/3 - 0s - loss: 0.1646 - accuracy: 0.9231 - root_mean_squared_error: 0.9453 - val_loss: 0.3155 - val_accuracy: 0.8205 - val_root_mean_squared_error: 0.9837 - 32ms/epoch - 11ms/step\n",
      "Epoch 154/200\n",
      "3/3 - 0s - loss: 0.1677 - accuracy: 0.9615 - root_mean_squared_error: 0.9451 - val_loss: 0.3608 - val_accuracy: 0.8205 - val_root_mean_squared_error: 0.9837 - 30ms/epoch - 10ms/step\n",
      "Epoch 155/200\n",
      "3/3 - 0s - loss: 0.1533 - accuracy: 0.9487 - root_mean_squared_error: 0.9453 - val_loss: 0.3951 - val_accuracy: 0.8205 - val_root_mean_squared_error: 0.9841 - 26ms/epoch - 9ms/step\n",
      "Epoch 156/200\n",
      "3/3 - 0s - loss: 0.1827 - accuracy: 0.9103 - root_mean_squared_error: 0.9455 - val_loss: 0.4127 - val_accuracy: 0.7949 - val_root_mean_squared_error: 0.9840 - 26ms/epoch - 9ms/step\n",
      "Epoch 157/200\n",
      "3/3 - 0s - loss: 0.1275 - accuracy: 0.9359 - root_mean_squared_error: 0.9455 - val_loss: 0.5089 - val_accuracy: 0.7692 - val_root_mean_squared_error: 0.9842 - 26ms/epoch - 9ms/step\n",
      "Epoch 158/200\n",
      "3/3 - 0s - loss: 0.1249 - accuracy: 0.9359 - root_mean_squared_error: 0.9457 - val_loss: 0.5905 - val_accuracy: 0.7692 - val_root_mean_squared_error: 0.9844 - 26ms/epoch - 9ms/step\n",
      "Epoch 159/200\n",
      "3/3 - 0s - loss: 0.1182 - accuracy: 0.9359 - root_mean_squared_error: 0.9459 - val_loss: 0.6876 - val_accuracy: 0.7692 - val_root_mean_squared_error: 0.9845 - 26ms/epoch - 9ms/step\n",
      "Epoch 160/200\n",
      "3/3 - 0s - loss: 0.1130 - accuracy: 0.9359 - root_mean_squared_error: 0.9459 - val_loss: 0.6509 - val_accuracy: 0.8205 - val_root_mean_squared_error: 0.9845 - 28ms/epoch - 9ms/step\n",
      "Epoch 161/200\n",
      "3/3 - 0s - loss: 0.1233 - accuracy: 0.9615 - root_mean_squared_error: 0.9459 - val_loss: 0.6326 - val_accuracy: 0.8205 - val_root_mean_squared_error: 0.9845 - 27ms/epoch - 9ms/step\n",
      "Epoch 162/200\n",
      "3/3 - 0s - loss: 0.1196 - accuracy: 0.9615 - root_mean_squared_error: 0.9460 - val_loss: 0.6984 - val_accuracy: 0.8205 - val_root_mean_squared_error: 0.9846 - 27ms/epoch - 9ms/step\n",
      "Epoch 163/200\n",
      "3/3 - 0s - loss: 0.1197 - accuracy: 0.9615 - root_mean_squared_error: 0.9460 - val_loss: 0.6097 - val_accuracy: 0.8205 - val_root_mean_squared_error: 0.9845 - 30ms/epoch - 10ms/step\n",
      "Epoch 164/200\n",
      "3/3 - 0s - loss: 0.1165 - accuracy: 0.9615 - root_mean_squared_error: 0.9459 - val_loss: 0.5869 - val_accuracy: 0.8205 - val_root_mean_squared_error: 0.9844 - 29ms/epoch - 10ms/step\n",
      "Epoch 165/200\n",
      "3/3 - 0s - loss: 0.1159 - accuracy: 0.9615 - root_mean_squared_error: 0.9459 - val_loss: 0.6126 - val_accuracy: 0.8205 - val_root_mean_squared_error: 0.9844 - 32ms/epoch - 11ms/step\n",
      "Epoch 166/200\n",
      "3/3 - 0s - loss: 0.0937 - accuracy: 0.9744 - root_mean_squared_error: 0.9459 - val_loss: 0.6286 - val_accuracy: 0.8205 - val_root_mean_squared_error: 0.9844 - 32ms/epoch - 11ms/step\n",
      "Epoch 167/200\n",
      "3/3 - 0s - loss: 0.0901 - accuracy: 0.9744 - root_mean_squared_error: 0.9459 - val_loss: 0.5209 - val_accuracy: 0.8974 - val_root_mean_squared_error: 0.9842 - 32ms/epoch - 11ms/step\n",
      "Epoch 168/200\n",
      "3/3 - 0s - loss: 0.1277 - accuracy: 0.9359 - root_mean_squared_error: 0.9459 - val_loss: 0.6129 - val_accuracy: 0.8718 - val_root_mean_squared_error: 0.9843 - 32ms/epoch - 11ms/step\n",
      "Epoch 169/200\n",
      "3/3 - 0s - loss: 0.0872 - accuracy: 0.9615 - root_mean_squared_error: 0.9461 - val_loss: 0.6374 - val_accuracy: 0.8718 - val_root_mean_squared_error: 0.9844 - 31ms/epoch - 10ms/step\n",
      "Epoch 170/200\n",
      "3/3 - 0s - loss: 0.1171 - accuracy: 0.9615 - root_mean_squared_error: 0.9462 - val_loss: 0.6783 - val_accuracy: 0.8718 - val_root_mean_squared_error: 0.9845 - 33ms/epoch - 11ms/step\n"
     ]
    },
    {
     "name": "stdout",
     "output_type": "stream",
     "text": [
      "Epoch 171/200\n",
      "3/3 - 0s - loss: 0.1315 - accuracy: 0.9615 - root_mean_squared_error: 0.9463 - val_loss: 0.7473 - val_accuracy: 0.8462 - val_root_mean_squared_error: 0.9846 - 31ms/epoch - 10ms/step\n",
      "Epoch 172/200\n",
      "3/3 - 0s - loss: 0.1197 - accuracy: 0.9615 - root_mean_squared_error: 0.9464 - val_loss: 0.7518 - val_accuracy: 0.8205 - val_root_mean_squared_error: 0.9847 - 27ms/epoch - 9ms/step\n",
      "Epoch 173/200\n",
      "3/3 - 0s - loss: 0.1152 - accuracy: 0.9615 - root_mean_squared_error: 0.9464 - val_loss: 0.8341 - val_accuracy: 0.8205 - val_root_mean_squared_error: 0.9849 - 27ms/epoch - 9ms/step\n",
      "Epoch 174/200\n",
      "3/3 - 0s - loss: 0.1148 - accuracy: 0.9615 - root_mean_squared_error: 0.9464 - val_loss: 0.8655 - val_accuracy: 0.8205 - val_root_mean_squared_error: 0.9849 - 28ms/epoch - 9ms/step\n",
      "Epoch 175/200\n",
      "3/3 - 0s - loss: 0.1087 - accuracy: 0.9615 - root_mean_squared_error: 0.9464 - val_loss: 0.8703 - val_accuracy: 0.8205 - val_root_mean_squared_error: 0.9849 - 26ms/epoch - 9ms/step\n",
      "Epoch 176/200\n",
      "3/3 - 0s - loss: 0.1104 - accuracy: 0.9615 - root_mean_squared_error: 0.9464 - val_loss: 0.8697 - val_accuracy: 0.8205 - val_root_mean_squared_error: 0.9849 - 27ms/epoch - 9ms/step\n",
      "Epoch 177/200\n",
      "3/3 - 0s - loss: 0.1106 - accuracy: 0.9615 - root_mean_squared_error: 0.9464 - val_loss: 0.8839 - val_accuracy: 0.8205 - val_root_mean_squared_error: 0.9849 - 26ms/epoch - 9ms/step\n",
      "Epoch 178/200\n",
      "3/3 - 0s - loss: 0.1082 - accuracy: 0.9615 - root_mean_squared_error: 0.9464 - val_loss: 0.8838 - val_accuracy: 0.8205 - val_root_mean_squared_error: 0.9849 - 27ms/epoch - 9ms/step\n",
      "Epoch 179/200\n",
      "3/3 - 0s - loss: 0.1044 - accuracy: 0.9615 - root_mean_squared_error: 0.9464 - val_loss: 0.8675 - val_accuracy: 0.8205 - val_root_mean_squared_error: 0.9848 - 26ms/epoch - 9ms/step\n",
      "Epoch 180/200\n",
      "3/3 - 0s - loss: 0.1036 - accuracy: 0.9615 - root_mean_squared_error: 0.9464 - val_loss: 0.8305 - val_accuracy: 0.8205 - val_root_mean_squared_error: 0.9848 - 31ms/epoch - 10ms/step\n",
      "Epoch 181/200\n",
      "3/3 - 0s - loss: 0.1007 - accuracy: 0.9615 - root_mean_squared_error: 0.9464 - val_loss: 0.7970 - val_accuracy: 0.8205 - val_root_mean_squared_error: 0.9848 - 35ms/epoch - 12ms/step\n",
      "Epoch 182/200\n",
      "3/3 - 0s - loss: 0.0989 - accuracy: 0.9615 - root_mean_squared_error: 0.9463 - val_loss: 0.7709 - val_accuracy: 0.8462 - val_root_mean_squared_error: 0.9848 - 31ms/epoch - 10ms/step\n",
      "Epoch 183/200\n",
      "3/3 - 0s - loss: 0.1000 - accuracy: 0.9615 - root_mean_squared_error: 0.9463 - val_loss: 0.7437 - val_accuracy: 0.8462 - val_root_mean_squared_error: 0.9847 - 32ms/epoch - 11ms/step\n",
      "Epoch 184/200\n",
      "3/3 - 0s - loss: 0.1025 - accuracy: 0.9615 - root_mean_squared_error: 0.9463 - val_loss: 0.7193 - val_accuracy: 0.8462 - val_root_mean_squared_error: 0.9847 - 33ms/epoch - 11ms/step\n",
      "Epoch 185/200\n",
      "3/3 - 0s - loss: 0.1046 - accuracy: 0.9615 - root_mean_squared_error: 0.9462 - val_loss: 0.7080 - val_accuracy: 0.8462 - val_root_mean_squared_error: 0.9846 - 33ms/epoch - 11ms/step\n",
      "Epoch 186/200\n",
      "3/3 - 0s - loss: 0.1069 - accuracy: 0.9615 - root_mean_squared_error: 0.9462 - val_loss: 0.7004 - val_accuracy: 0.8462 - val_root_mean_squared_error: 0.9846 - 32ms/epoch - 11ms/step\n",
      "Epoch 187/200\n",
      "3/3 - 0s - loss: 0.1061 - accuracy: 0.9615 - root_mean_squared_error: 0.9462 - val_loss: 0.7065 - val_accuracy: 0.8462 - val_root_mean_squared_error: 0.9847 - 29ms/epoch - 10ms/step\n",
      "Epoch 188/200\n",
      "3/3 - 0s - loss: 0.1019 - accuracy: 0.9615 - root_mean_squared_error: 0.9462 - val_loss: 0.7183 - val_accuracy: 0.8462 - val_root_mean_squared_error: 0.9847 - 28ms/epoch - 9ms/step\n",
      "Epoch 189/200\n",
      "3/3 - 0s - loss: 0.1004 - accuracy: 0.9615 - root_mean_squared_error: 0.9463 - val_loss: 0.7360 - val_accuracy: 0.8462 - val_root_mean_squared_error: 0.9847 - 27ms/epoch - 9ms/step\n",
      "Epoch 190/200\n",
      "3/3 - 0s - loss: 0.0962 - accuracy: 0.9615 - root_mean_squared_error: 0.9463 - val_loss: 0.7405 - val_accuracy: 0.8205 - val_root_mean_squared_error: 0.9847 - 27ms/epoch - 9ms/step\n",
      "Epoch 191/200\n",
      "3/3 - 0s - loss: 0.0942 - accuracy: 0.9615 - root_mean_squared_error: 0.9463 - val_loss: 0.7467 - val_accuracy: 0.8205 - val_root_mean_squared_error: 0.9848 - 27ms/epoch - 9ms/step\n",
      "Epoch 192/200\n",
      "3/3 - 0s - loss: 0.0972 - accuracy: 0.9615 - root_mean_squared_error: 0.9463 - val_loss: 0.7550 - val_accuracy: 0.8205 - val_root_mean_squared_error: 0.9848 - 27ms/epoch - 9ms/step\n",
      "Epoch 193/200\n",
      "3/3 - 0s - loss: 0.0960 - accuracy: 0.9615 - root_mean_squared_error: 0.9463 - val_loss: 0.7421 - val_accuracy: 0.8205 - val_root_mean_squared_error: 0.9848 - 27ms/epoch - 9ms/step\n",
      "Epoch 194/200\n",
      "3/3 - 0s - loss: 0.0898 - accuracy: 0.9615 - root_mean_squared_error: 0.9464 - val_loss: 0.7326 - val_accuracy: 0.8205 - val_root_mean_squared_error: 0.9847 - 29ms/epoch - 10ms/step\n",
      "Epoch 195/200\n",
      "3/3 - 0s - loss: 0.1141 - accuracy: 0.9615 - root_mean_squared_error: 0.9464 - val_loss: 0.8099 - val_accuracy: 0.8205 - val_root_mean_squared_error: 0.9849 - 27ms/epoch - 9ms/step\n",
      "Epoch 196/200\n",
      "3/3 - 0s - loss: 0.1121 - accuracy: 0.9615 - root_mean_squared_error: 0.9464 - val_loss: 0.7452 - val_accuracy: 0.8205 - val_root_mean_squared_error: 0.9848 - 27ms/epoch - 9ms/step\n",
      "Epoch 197/200\n",
      "3/3 - 0s - loss: 0.1107 - accuracy: 0.9615 - root_mean_squared_error: 0.9463 - val_loss: 0.7273 - val_accuracy: 0.8205 - val_root_mean_squared_error: 0.9847 - 28ms/epoch - 9ms/step\n",
      "Epoch 198/200\n",
      "3/3 - 0s - loss: 0.1092 - accuracy: 0.9615 - root_mean_squared_error: 0.9463 - val_loss: 0.7143 - val_accuracy: 0.8205 - val_root_mean_squared_error: 0.9846 - 34ms/epoch - 11ms/step\n",
      "Epoch 199/200\n",
      "3/3 - 0s - loss: 0.1087 - accuracy: 0.9615 - root_mean_squared_error: 0.9463 - val_loss: 0.6959 - val_accuracy: 0.8205 - val_root_mean_squared_error: 0.9846 - 31ms/epoch - 10ms/step\n",
      "Epoch 200/200\n",
      "3/3 - 0s - loss: 0.1083 - accuracy: 0.9615 - root_mean_squared_error: 0.9462 - val_loss: 0.6858 - val_accuracy: 0.8205 - val_root_mean_squared_error: 0.9845 - 32ms/epoch - 11ms/step\n",
      "Wall time: 6.88 s\n"
     ]
    }
   ],
   "source": [
    "%%time\n",
    "history = modeltf.fit(X_train, Y_train, verbose=2, epochs=200, batch_size = 32, validation_data = (X_test,Y_test))"
   ]
  },
  {
   "cell_type": "code",
   "execution_count": 67,
   "id": "74aa0739",
   "metadata": {},
   "outputs": [
    {
     "data": {
      "image/png": "[encoded data removed]",
      "text/plain": [
       "<Figure size 640x480 with 1 Axes>"
      ]
     },
     "metadata": {},
     "output_type": "display_data"
    },
    {
     "data": {
      "image/png": "[encoded data removed]",
      "text/plain": [
       "<Figure size 640x480 with 1 Axes>"
      ]
     },
     "metadata": {},
     "output_type": "display_data"
    }
   ],
   "source": [
    "# Plotting Results\n",
    "import matplotlib.pyplot as plt\n",
    "\n",
    "acc = history.history['accuracy']\n",
    "val_acc = history.history['val_accuracy']\n",
    "loss = history.history['loss']\n",
    "val_loss = history.history['val_loss']\n",
    "epochs = range(1, len(acc) + 1)\n",
    "\n",
    "plt.plot(epochs, acc, 'r', label='Training acc')\n",
    "plt.plot(epochs, val_acc, 'g', label='Validation acc')\n",
    "plt.xlabel('Epochs')\n",
    "plt.ylabel('Accuracy')\n",
    "\n",
    "plt.title('Training and validation accuracy')\n",
    "plt.legend()\n",
    "fig = plt.figure()\n",
    "fig.savefig('acc.png')\n",
    "\n",
    "\n",
    "plt.plot(epochs, loss, 'b', label='Training loss')\n",
    "plt.plot(epochs, val_loss, 'g', label='Validation loss')\n",
    "plt.xlabel('Epochs')\n",
    "plt.ylabel('Loss')\n",
    "plt.title('Training and validation loss')\n",
    "\n",
    "plt.legend()\n",
    "plt.show()"
   ]
  },
  {
   "cell_type": "code",
   "execution_count": null,
   "id": "d1286777",
   "metadata": {},
   "outputs": [],
   "source": [
    "\n"
   ]
  },
  {
   "cell_type": "code",
   "execution_count": null,
   "id": "1326a214",
   "metadata": {},
   "outputs": [],
   "source": []
  },
  {
   "cell_type": "markdown",
   "id": "8d8594c9",
   "metadata": {},
   "source": [
    "# Gaussian Naive Bayes"
   ]
  },
  {
   "cell_type": "code",
   "execution_count": 68,
   "id": "b53b27d0",
   "metadata": {},
   "outputs": [],
   "source": [
    "from sklearn.naive_bayes import GaussianNB"
   ]
  },
  {
   "cell_type": "code",
   "execution_count": 69,
   "id": "45830ad8",
   "metadata": {},
   "outputs": [],
   "source": [
    "\n",
    "gnb = GaussianNB()"
   ]
  },
  {
   "cell_type": "code",
   "execution_count": 70,
   "id": "2868885c",
   "metadata": {},
   "outputs": [
    {
     "name": "stdout",
     "output_type": "stream",
     "text": [
      "Wall time: 5.18 ms\n"
     ]
    }
   ],
   "source": [
    "%%time\n",
    "Y_pred = gnb.fit(X_train, Y_train).predict(X_test)"
   ]
  },
  {
   "cell_type": "code",
   "execution_count": 71,
   "id": "a2a8cc7a",
   "metadata": {},
   "outputs": [
    {
     "data": {
      "text/plain": [
       "0.8461538461538461"
      ]
     },
     "execution_count": 71,
     "metadata": {},
     "output_type": "execute_result"
    }
   ],
   "source": [
    "accuracy_score(Y_test,Y_pred)"
   ]
  },
  {
   "cell_type": "code",
   "execution_count": 72,
   "id": "bdd15572",
   "metadata": {},
   "outputs": [
    {
     "name": "stdout",
     "output_type": "stream",
     "text": [
      "              precision    recall  f1-score   support\n",
      "\n",
      "           0       0.94      0.77      0.85        22\n",
      "           1       0.91      1.00      0.95        10\n",
      "           2       0.60      0.86      0.71         7\n",
      "\n",
      "    accuracy                           0.85        39\n",
      "   macro avg       0.82      0.88      0.84        39\n",
      "weighted avg       0.87      0.85      0.85        39\n",
      "\n"
     ]
    }
   ],
   "source": [
    "print(classification_report(Y_test, Y_pred))"
   ]
  },
  {
   "cell_type": "code",
   "execution_count": 73,
   "id": "fc691516",
   "metadata": {},
   "outputs": [
    {
     "name": "stderr",
     "output_type": "stream",
     "text": [
      "C:\\Users\\Akhil\\anaconda3\\lib\\site-packages\\sklearn\\metrics\\_ranking.py:999: UndefinedMetricWarning: No positive samples in y_true, true positive value should be meaningless\n",
      "  warnings.warn(\n"
     ]
    },
    {
     "data": {
      "image/png": "[encoded data removed]",
      "text/plain": [
       "<Figure size 640x480 with 1 Axes>"
      ]
     },
     "metadata": {},
     "output_type": "display_data"
    }
   ],
   "source": [
    "from sklearn.metrics import RocCurveDisplay\n",
    "RocCurveDisplay.from_predictions(Y_test, Y_predict, pos_label = 3)\n",
    "plt.show()"
   ]
  },
  {
   "cell_type": "code",
   "execution_count": 74,
   "id": "fc62e123",
   "metadata": {},
   "outputs": [
    {
     "name": "stdout",
     "output_type": "stream",
     "text": [
      "[[17  1  4]\n",
      " [ 0 10  0]\n",
      " [ 1  0  6]]\n"
     ]
    },
    {
     "data": {
      "image/png": "[encoded data removed]",
      "text/plain": [
       "<Figure size 640x480 with 2 Axes>"
      ]
     },
     "metadata": {},
     "output_type": "display_data"
    }
   ],
   "source": [
    "c = confusion_matrix(Y_test, Y_pred)\n",
    "print(c)\n",
    "sns.heatmap(c, annot=True, fmt=\".1f\")\n",
    "plt.xlabel('Actual');\n",
    "plt.ylabel('Predicted');"
   ]
  },
  {
   "cell_type": "markdown",
   "id": "802b12cf",
   "metadata": {},
   "source": [
    "# PCA"
   ]
  },
  {
   "cell_type": "code",
   "execution_count": 75,
   "id": "41eff27a",
   "metadata": {
    "scrolled": true
   },
   "outputs": [
    {
     "data": {
      "text/html": [
       "<div>\n",
       "<style scoped>\n",
       "    .dataframe tbody tr th:only-of-type {\n",
       "        vertical-align: middle;\n",
       "    }\n",
       "\n",
       "    .dataframe tbody tr th {\n",
       "        vertical-align: top;\n",
       "    }\n",
       "\n",
       "    .dataframe thead th {\n",
       "        text-align: right;\n",
       "    }\n",
       "</style>\n",
       "<table border=\"1\" class=\"dataframe\">\n",
       "  <thead>\n",
       "    <tr style=\"text-align: right;\">\n",
       "      <th></th>\n",
       "      <th>Fx</th>\n",
       "      <th>Fy</th>\n",
       "      <th>Fz</th>\n",
       "      <th>Tx</th>\n",
       "      <th>Ty</th>\n",
       "      <th>Tz</th>\n",
       "    </tr>\n",
       "  </thead>\n",
       "  <tbody>\n",
       "    <tr>\n",
       "      <th>0</th>\n",
       "      <td>-2.000000</td>\n",
       "      <td>1.466667</td>\n",
       "      <td>19.400000</td>\n",
       "      <td>5.000000</td>\n",
       "      <td>-5.600000</td>\n",
       "      <td>-0.666667</td>\n",
       "    </tr>\n",
       "    <tr>\n",
       "      <th>1</th>\n",
       "      <td>-1.733333</td>\n",
       "      <td>2.000000</td>\n",
       "      <td>20.800000</td>\n",
       "      <td>5.000000</td>\n",
       "      <td>-6.466667</td>\n",
       "      <td>-0.666667</td>\n",
       "    </tr>\n",
       "    <tr>\n",
       "      <th>2</th>\n",
       "      <td>-2.000000</td>\n",
       "      <td>1.666667</td>\n",
       "      <td>22.666667</td>\n",
       "      <td>4.400000</td>\n",
       "      <td>-5.933333</td>\n",
       "      <td>-1.000000</td>\n",
       "    </tr>\n",
       "    <tr>\n",
       "      <th>3</th>\n",
       "      <td>-2.933333</td>\n",
       "      <td>1.333333</td>\n",
       "      <td>19.866667</td>\n",
       "      <td>4.333333</td>\n",
       "      <td>-7.200000</td>\n",
       "      <td>-0.666667</td>\n",
       "    </tr>\n",
       "    <tr>\n",
       "      <th>4</th>\n",
       "      <td>-2.133333</td>\n",
       "      <td>1.533333</td>\n",
       "      <td>20.333333</td>\n",
       "      <td>3.866667</td>\n",
       "      <td>-6.800000</td>\n",
       "      <td>-0.466667</td>\n",
       "    </tr>\n",
       "    <tr>\n",
       "      <th>...</th>\n",
       "      <td>...</td>\n",
       "      <td>...</td>\n",
       "      <td>...</td>\n",
       "      <td>...</td>\n",
       "      <td>...</td>\n",
       "      <td>...</td>\n",
       "    </tr>\n",
       "    <tr>\n",
       "      <th>112</th>\n",
       "      <td>-2.666667</td>\n",
       "      <td>1.000000</td>\n",
       "      <td>2.800000</td>\n",
       "      <td>-8.466667</td>\n",
       "      <td>-3.266667</td>\n",
       "      <td>-2.000000</td>\n",
       "    </tr>\n",
       "    <tr>\n",
       "      <th>113</th>\n",
       "      <td>7.866667</td>\n",
       "      <td>-2.200000</td>\n",
       "      <td>8.466667</td>\n",
       "      <td>4.333333</td>\n",
       "      <td>14.066667</td>\n",
       "      <td>-3.000000</td>\n",
       "    </tr>\n",
       "    <tr>\n",
       "      <th>114</th>\n",
       "      <td>-3.266667</td>\n",
       "      <td>3.333333</td>\n",
       "      <td>6.266667</td>\n",
       "      <td>-0.666667</td>\n",
       "      <td>-3.133333</td>\n",
       "      <td>-3.666667</td>\n",
       "    </tr>\n",
       "    <tr>\n",
       "      <th>115</th>\n",
       "      <td>-6.266667</td>\n",
       "      <td>4.266667</td>\n",
       "      <td>3.733333</td>\n",
       "      <td>-1.066667</td>\n",
       "      <td>-7.600000</td>\n",
       "      <td>-3.400000</td>\n",
       "    </tr>\n",
       "    <tr>\n",
       "      <th>116</th>\n",
       "      <td>1.066667</td>\n",
       "      <td>-1.600000</td>\n",
       "      <td>2.466667</td>\n",
       "      <td>3.266667</td>\n",
       "      <td>1.333333</td>\n",
       "      <td>-3.533333</td>\n",
       "    </tr>\n",
       "  </tbody>\n",
       "</table>\n",
       "<p>117 rows × 6 columns</p>\n",
       "</div>"
      ],
      "text/plain": [
       "           Fx        Fy         Fz        Tx         Ty        Tz\n",
       "0   -2.000000  1.466667  19.400000  5.000000  -5.600000 -0.666667\n",
       "1   -1.733333  2.000000  20.800000  5.000000  -6.466667 -0.666667\n",
       "2   -2.000000  1.666667  22.666667  4.400000  -5.933333 -1.000000\n",
       "3   -2.933333  1.333333  19.866667  4.333333  -7.200000 -0.666667\n",
       "4   -2.133333  1.533333  20.333333  3.866667  -6.800000 -0.466667\n",
       "..        ...       ...        ...       ...        ...       ...\n",
       "112 -2.666667  1.000000   2.800000 -8.466667  -3.266667 -2.000000\n",
       "113  7.866667 -2.200000   8.466667  4.333333  14.066667 -3.000000\n",
       "114 -3.266667  3.333333   6.266667 -0.666667  -3.133333 -3.666667\n",
       "115 -6.266667  4.266667   3.733333 -1.066667  -7.600000 -3.400000\n",
       "116  1.066667 -1.600000   2.466667  3.266667   1.333333 -3.533333\n",
       "\n",
       "[117 rows x 6 columns]"
      ]
     },
     "execution_count": 75,
     "metadata": {},
     "output_type": "execute_result"
    }
   ],
   "source": [
    "lf3.drop(['Failure_type'], axis = 1)"
   ]
  },
  {
   "cell_type": "code",
   "execution_count": 76,
   "id": "633e8968",
   "metadata": {},
   "outputs": [],
   "source": [
    "from sklearn.decomposition import PCA\n"
   ]
  },
  {
   "cell_type": "code",
   "execution_count": 77,
   "id": "c7d61189",
   "metadata": {
    "scrolled": true
   },
   "outputs": [],
   "source": [
    "x = np.array([lf3.drop(['Failure_type'], axis = 1)])"
   ]
  },
  {
   "cell_type": "code",
   "execution_count": 78,
   "id": "1faaedfe",
   "metadata": {},
   "outputs": [],
   "source": [
    "pca = PCA(n_components=3)\n"
   ]
  },
  {
   "cell_type": "code",
   "execution_count": 79,
   "id": "bd426b99",
   "metadata": {},
   "outputs": [],
   "source": [
    "d=pca.fit_transform(X)"
   ]
  },
  {
   "cell_type": "code",
   "execution_count": 80,
   "id": "9f273482",
   "metadata": {},
   "outputs": [
    {
     "name": "stdout",
     "output_type": "stream",
     "text": [
      "[0.96274784 0.01702801 0.01088138]\n"
     ]
    }
   ],
   "source": [
    "print(pca.explained_variance_ratio_)\n",
    "\n",
    "pca_df = pd.DataFrame(data=d,columns = ['PC1', 'PC2', 'PC3'])"
   ]
  },
  {
   "cell_type": "code",
   "execution_count": 81,
   "id": "19fc2618",
   "metadata": {
    "scrolled": false
   },
   "outputs": [
    {
     "data": {
      "image/png": "[encoded data removed]",
      "text/plain": [
       "<Figure size 640x480 with 1 Axes>"
      ]
     },
     "metadata": {},
     "output_type": "display_data"
    }
   ],
   "source": [
    "PCAplot = np.arange(pca.n_components) + 1\n",
    "plt.plot(PCAplot, pca.explained_variance_ratio_, 'ro-', linewidth = 2)\n",
    "plt.title('Scree Plot')\n",
    "plt.xlabel('Principal Component')\n",
    "plt.ylabel('Variance_ratio')\n",
    "plt.show()"
   ]
  },
  {
   "cell_type": "code",
   "execution_count": 82,
   "id": "76e9ecfc",
   "metadata": {},
   "outputs": [
    {
     "data": {
      "text/html": [
       "<div>\n",
       "<style scoped>\n",
       "    .dataframe tbody tr th:only-of-type {\n",
       "        vertical-align: middle;\n",
       "    }\n",
       "\n",
       "    .dataframe tbody tr th {\n",
       "        vertical-align: top;\n",
       "    }\n",
       "\n",
       "    .dataframe thead th {\n",
       "        text-align: right;\n",
       "    }\n",
       "</style>\n",
       "<table border=\"1\" class=\"dataframe\">\n",
       "  <thead>\n",
       "    <tr style=\"text-align: right;\">\n",
       "      <th></th>\n",
       "      <th>PC1</th>\n",
       "      <th>PC2</th>\n",
       "      <th>PC3</th>\n",
       "    </tr>\n",
       "  </thead>\n",
       "  <tbody>\n",
       "    <tr>\n",
       "      <th>0</th>\n",
       "      <td>-181.414448</td>\n",
       "      <td>-2.653003</td>\n",
       "      <td>-0.418180</td>\n",
       "    </tr>\n",
       "    <tr>\n",
       "      <th>1</th>\n",
       "      <td>-182.843117</td>\n",
       "      <td>-3.524578</td>\n",
       "      <td>-0.068204</td>\n",
       "    </tr>\n",
       "    <tr>\n",
       "      <th>2</th>\n",
       "      <td>-184.696026</td>\n",
       "      <td>-2.717799</td>\n",
       "      <td>0.209024</td>\n",
       "    </tr>\n",
       "    <tr>\n",
       "      <th>3</th>\n",
       "      <td>-181.895701</td>\n",
       "      <td>-3.013433</td>\n",
       "      <td>1.226778</td>\n",
       "    </tr>\n",
       "    <tr>\n",
       "      <th>4</th>\n",
       "      <td>-182.372466</td>\n",
       "      <td>-3.126400</td>\n",
       "      <td>1.143243</td>\n",
       "    </tr>\n",
       "    <tr>\n",
       "      <th>...</th>\n",
       "      <td>...</td>\n",
       "      <td>...</td>\n",
       "      <td>...</td>\n",
       "    </tr>\n",
       "    <tr>\n",
       "      <th>112</th>\n",
       "      <td>-165.057131</td>\n",
       "      <td>3.621588</td>\n",
       "      <td>9.318519</td>\n",
       "    </tr>\n",
       "    <tr>\n",
       "      <th>113</th>\n",
       "      <td>-170.134271</td>\n",
       "      <td>6.498438</td>\n",
       "      <td>-12.515035</td>\n",
       "    </tr>\n",
       "    <tr>\n",
       "      <th>114</th>\n",
       "      <td>-168.536520</td>\n",
       "      <td>1.537990</td>\n",
       "      <td>3.083716</td>\n",
       "    </tr>\n",
       "    <tr>\n",
       "      <th>115</th>\n",
       "      <td>-166.118627</td>\n",
       "      <td>0.093784</td>\n",
       "      <td>6.497355</td>\n",
       "    </tr>\n",
       "    <tr>\n",
       "      <th>116</th>\n",
       "      <td>-164.299207</td>\n",
       "      <td>1.777502</td>\n",
       "      <td>-2.951584</td>\n",
       "    </tr>\n",
       "  </tbody>\n",
       "</table>\n",
       "<p>117 rows × 3 columns</p>\n",
       "</div>"
      ],
      "text/plain": [
       "            PC1       PC2        PC3\n",
       "0   -181.414448 -2.653003  -0.418180\n",
       "1   -182.843117 -3.524578  -0.068204\n",
       "2   -184.696026 -2.717799   0.209024\n",
       "3   -181.895701 -3.013433   1.226778\n",
       "4   -182.372466 -3.126400   1.143243\n",
       "..          ...       ...        ...\n",
       "112 -165.057131  3.621588   9.318519\n",
       "113 -170.134271  6.498438 -12.515035\n",
       "114 -168.536520  1.537990   3.083716\n",
       "115 -166.118627  0.093784   6.497355\n",
       "116 -164.299207  1.777502  -2.951584\n",
       "\n",
       "[117 rows x 3 columns]"
      ]
     },
     "execution_count": 82,
     "metadata": {},
     "output_type": "execute_result"
    }
   ],
   "source": [
    "pca_df"
   ]
  },
  {
   "cell_type": "code",
   "execution_count": 83,
   "id": "35f6b0e1",
   "metadata": {},
   "outputs": [],
   "source": [
    "pca_df[\"Failure_type\"] = lf5"
   ]
  },
  {
   "cell_type": "code",
   "execution_count": 84,
   "id": "fb3fdfc8",
   "metadata": {},
   "outputs": [
    {
     "data": {
      "text/html": [
       "<div>\n",
       "<style scoped>\n",
       "    .dataframe tbody tr th:only-of-type {\n",
       "        vertical-align: middle;\n",
       "    }\n",
       "\n",
       "    .dataframe tbody tr th {\n",
       "        vertical-align: top;\n",
       "    }\n",
       "\n",
       "    .dataframe thead th {\n",
       "        text-align: right;\n",
       "    }\n",
       "</style>\n",
       "<table border=\"1\" class=\"dataframe\">\n",
       "  <thead>\n",
       "    <tr style=\"text-align: right;\">\n",
       "      <th></th>\n",
       "      <th>PC1</th>\n",
       "      <th>PC2</th>\n",
       "      <th>PC3</th>\n",
       "      <th>Failure_type</th>\n",
       "    </tr>\n",
       "  </thead>\n",
       "  <tbody>\n",
       "    <tr>\n",
       "      <th>0</th>\n",
       "      <td>-181.414448</td>\n",
       "      <td>-2.653003</td>\n",
       "      <td>-0.418180</td>\n",
       "      <td>normal</td>\n",
       "    </tr>\n",
       "    <tr>\n",
       "      <th>1</th>\n",
       "      <td>-182.843117</td>\n",
       "      <td>-3.524578</td>\n",
       "      <td>-0.068204</td>\n",
       "      <td>normal</td>\n",
       "    </tr>\n",
       "    <tr>\n",
       "      <th>2</th>\n",
       "      <td>-184.696026</td>\n",
       "      <td>-2.717799</td>\n",
       "      <td>0.209024</td>\n",
       "      <td>normal</td>\n",
       "    </tr>\n",
       "    <tr>\n",
       "      <th>3</th>\n",
       "      <td>-181.895701</td>\n",
       "      <td>-3.013433</td>\n",
       "      <td>1.226778</td>\n",
       "      <td>normal</td>\n",
       "    </tr>\n",
       "    <tr>\n",
       "      <th>4</th>\n",
       "      <td>-182.372466</td>\n",
       "      <td>-3.126400</td>\n",
       "      <td>1.143243</td>\n",
       "      <td>normal</td>\n",
       "    </tr>\n",
       "    <tr>\n",
       "      <th>...</th>\n",
       "      <td>...</td>\n",
       "      <td>...</td>\n",
       "      <td>...</td>\n",
       "      <td>...</td>\n",
       "    </tr>\n",
       "    <tr>\n",
       "      <th>112</th>\n",
       "      <td>-165.057131</td>\n",
       "      <td>3.621588</td>\n",
       "      <td>9.318519</td>\n",
       "      <td>collision</td>\n",
       "    </tr>\n",
       "    <tr>\n",
       "      <th>113</th>\n",
       "      <td>-170.134271</td>\n",
       "      <td>6.498438</td>\n",
       "      <td>-12.515035</td>\n",
       "      <td>collision</td>\n",
       "    </tr>\n",
       "    <tr>\n",
       "      <th>114</th>\n",
       "      <td>-168.536520</td>\n",
       "      <td>1.537990</td>\n",
       "      <td>3.083716</td>\n",
       "      <td>collision</td>\n",
       "    </tr>\n",
       "    <tr>\n",
       "      <th>115</th>\n",
       "      <td>-166.118627</td>\n",
       "      <td>0.093784</td>\n",
       "      <td>6.497355</td>\n",
       "      <td>collision</td>\n",
       "    </tr>\n",
       "    <tr>\n",
       "      <th>116</th>\n",
       "      <td>-164.299207</td>\n",
       "      <td>1.777502</td>\n",
       "      <td>-2.951584</td>\n",
       "      <td>collision</td>\n",
       "    </tr>\n",
       "  </tbody>\n",
       "</table>\n",
       "<p>117 rows × 4 columns</p>\n",
       "</div>"
      ],
      "text/plain": [
       "            PC1       PC2        PC3 Failure_type\n",
       "0   -181.414448 -2.653003  -0.418180       normal\n",
       "1   -182.843117 -3.524578  -0.068204       normal\n",
       "2   -184.696026 -2.717799   0.209024       normal\n",
       "3   -181.895701 -3.013433   1.226778       normal\n",
       "4   -182.372466 -3.126400   1.143243       normal\n",
       "..          ...       ...        ...          ...\n",
       "112 -165.057131  3.621588   9.318519    collision\n",
       "113 -170.134271  6.498438 -12.515035    collision\n",
       "114 -168.536520  1.537990   3.083716    collision\n",
       "115 -166.118627  0.093784   6.497355    collision\n",
       "116 -164.299207  1.777502  -2.951584    collision\n",
       "\n",
       "[117 rows x 4 columns]"
      ]
     },
     "execution_count": 84,
     "metadata": {},
     "output_type": "execute_result"
    }
   ],
   "source": [
    "pca_df"
   ]
  },
  {
   "cell_type": "code",
   "execution_count": 85,
   "id": "1fd665c4",
   "metadata": {},
   "outputs": [
    {
     "data": {
      "text/html": [
       "<div>\n",
       "<style scoped>\n",
       "    .dataframe tbody tr th:only-of-type {\n",
       "        vertical-align: middle;\n",
       "    }\n",
       "\n",
       "    .dataframe tbody tr th {\n",
       "        vertical-align: top;\n",
       "    }\n",
       "\n",
       "    .dataframe thead th {\n",
       "        text-align: right;\n",
       "    }\n",
       "</style>\n",
       "<table border=\"1\" class=\"dataframe\">\n",
       "  <thead>\n",
       "    <tr style=\"text-align: right;\">\n",
       "      <th></th>\n",
       "      <th>PC1</th>\n",
       "      <th>PC2</th>\n",
       "      <th>PC3</th>\n",
       "      <th>Failure_type</th>\n",
       "    </tr>\n",
       "  </thead>\n",
       "  <tbody>\n",
       "    <tr>\n",
       "      <th>0</th>\n",
       "      <td>-181.414448</td>\n",
       "      <td>-2.653003</td>\n",
       "      <td>-0.418180</td>\n",
       "      <td>1</td>\n",
       "    </tr>\n",
       "    <tr>\n",
       "      <th>1</th>\n",
       "      <td>-182.843117</td>\n",
       "      <td>-3.524578</td>\n",
       "      <td>-0.068204</td>\n",
       "      <td>1</td>\n",
       "    </tr>\n",
       "    <tr>\n",
       "      <th>2</th>\n",
       "      <td>-184.696026</td>\n",
       "      <td>-2.717799</td>\n",
       "      <td>0.209024</td>\n",
       "      <td>1</td>\n",
       "    </tr>\n",
       "    <tr>\n",
       "      <th>3</th>\n",
       "      <td>-181.895701</td>\n",
       "      <td>-3.013433</td>\n",
       "      <td>1.226778</td>\n",
       "      <td>1</td>\n",
       "    </tr>\n",
       "    <tr>\n",
       "      <th>4</th>\n",
       "      <td>-182.372466</td>\n",
       "      <td>-3.126400</td>\n",
       "      <td>1.143243</td>\n",
       "      <td>1</td>\n",
       "    </tr>\n",
       "  </tbody>\n",
       "</table>\n",
       "</div>"
      ],
      "text/plain": [
       "          PC1       PC2       PC3  Failure_type\n",
       "0 -181.414448 -2.653003 -0.418180             1\n",
       "1 -182.843117 -3.524578 -0.068204             1\n",
       "2 -184.696026 -2.717799  0.209024             1\n",
       "3 -181.895701 -3.013433  1.226778             1\n",
       "4 -182.372466 -3.126400  1.143243             1"
      ]
     },
     "execution_count": 85,
     "metadata": {},
     "output_type": "execute_result"
    }
   ],
   "source": [
    "from sklearn import preprocessing\n",
    "le = preprocessing.LabelEncoder()\n",
    "pca_df.Failure_type = le.fit_transform(pca_df.Failure_type)\n",
    "pca_df.head()"
   ]
  },
  {
   "cell_type": "code",
   "execution_count": 86,
   "id": "6e8b8c9d",
   "metadata": {},
   "outputs": [],
   "source": [
    "X = pca_df.drop(['Failure_type'], axis = 1)\n",
    "Y = pca_df['Failure_type']\n",
    "X_train,X_test,Y_train,Y_test = train_test_split(X,Y, test_size =0.33,  random_state = 2)"
   ]
  },
  {
   "cell_type": "markdown",
   "id": "9717fb4a",
   "metadata": {},
   "source": [
    "# Decision Tree"
   ]
  },
  {
   "cell_type": "code",
   "execution_count": 87,
   "id": "9058b40f",
   "metadata": {},
   "outputs": [
    {
     "name": "stdout",
     "output_type": "stream",
     "text": [
      "Wall time: 2 ms\n"
     ]
    }
   ],
   "source": [
    "%%time\n",
    "dtc = DecisionTreeClassifier(criterion='gini', max_depth = 5, splitter='best')\n",
    "dtc = dtc.fit(X_train, Y_train)"
   ]
  },
  {
   "cell_type": "code",
   "execution_count": 88,
   "id": "fe9eed86",
   "metadata": {},
   "outputs": [],
   "source": [
    "predictions = dtc.predict(X_test)"
   ]
  },
  {
   "cell_type": "code",
   "execution_count": 89,
   "id": "a17953c2",
   "metadata": {},
   "outputs": [
    {
     "data": {
      "text/plain": [
       "0.7948717948717948"
      ]
     },
     "execution_count": 89,
     "metadata": {},
     "output_type": "execute_result"
    }
   ],
   "source": [
    "accuracy_score(Y_test,predictions)"
   ]
  },
  {
   "cell_type": "code",
   "execution_count": 90,
   "id": "21f1cef9",
   "metadata": {},
   "outputs": [],
   "source": [
    "c = confusion_matrix(Y_test, predictions)"
   ]
  },
  {
   "cell_type": "code",
   "execution_count": 91,
   "id": "84967659",
   "metadata": {},
   "outputs": [
    {
     "name": "stdout",
     "output_type": "stream",
     "text": [
      "[[18  0  4]\n",
      " [ 3  7  0]\n",
      " [ 1  0  6]]\n"
     ]
    },
    {
     "data": {
      "image/png": "[encoded data removed]",
      "text/plain": [
       "<Figure size 640x480 with 2 Axes>"
      ]
     },
     "metadata": {},
     "output_type": "display_data"
    }
   ],
   "source": [
    "c = confusion_matrix(Y_test, predictions)\n",
    "print(c)\n",
    "sns.heatmap(c, annot=True, fmt=\".1f\")\n",
    "plt.xlabel('Actual');\n",
    "plt.ylabel('Predicted');"
   ]
  },
  {
   "cell_type": "code",
   "execution_count": 92,
   "id": "ee7e4bad",
   "metadata": {},
   "outputs": [
    {
     "name": "stdout",
     "output_type": "stream",
     "text": [
      "              precision    recall  f1-score   support\n",
      "\n",
      "           0       0.82      0.82      0.82        22\n",
      "           1       1.00      0.70      0.82        10\n",
      "           2       0.60      0.86      0.71         7\n",
      "\n",
      "    accuracy                           0.79        39\n",
      "   macro avg       0.81      0.79      0.78        39\n",
      "weighted avg       0.83      0.79      0.80        39\n",
      "\n"
     ]
    }
   ],
   "source": [
    "print(classification_report(Y_test, predictions))"
   ]
  },
  {
   "cell_type": "code",
   "execution_count": 93,
   "id": "860cbd29",
   "metadata": {},
   "outputs": [
    {
     "data": {
      "image/png": "[encoded data removed]",
      "text/plain": [
       "<Figure size 800x600 with 1 Axes>"
      ]
     },
     "metadata": {},
     "output_type": "display_data"
    }
   ],
   "source": [
    "from sklearn import tree\n",
    "plt.figure(figsize = (8,6))\n",
    "tree.plot_tree(dtc,filled = True, class_names = True);"
   ]
  },
  {
   "cell_type": "code",
   "execution_count": null,
   "id": "1760dea1",
   "metadata": {},
   "outputs": [],
   "source": []
  },
  {
   "cell_type": "markdown",
   "id": "535381c8",
   "metadata": {},
   "source": [
    "# SVM"
   ]
  },
  {
   "cell_type": "code",
   "execution_count": 94,
   "id": "7b9e07ea",
   "metadata": {},
   "outputs": [],
   "source": [
    "#%%time\n",
    "#from sklearn.svm import SVC\n",
    "\n",
    "#model = SVC(kernel=\"poly\", degree=8, gamma = 'auto')\n",
    "\n",
    "#model.fit(X_train,Y_train)\n",
    "#Y_predict = model.predict(X_test)\n"
   ]
  },
  {
   "cell_type": "code",
   "execution_count": 95,
   "id": "ae5d3818",
   "metadata": {},
   "outputs": [],
   "source": [
    "#accuracy_score(Y_test,Y_predict)"
   ]
  },
  {
   "cell_type": "code",
   "execution_count": 96,
   "id": "a62b94fe",
   "metadata": {},
   "outputs": [],
   "source": [
    "#print(classification_report(Y_test, Y_predict))"
   ]
  },
  {
   "cell_type": "code",
   "execution_count": null,
   "id": "21055c36",
   "metadata": {},
   "outputs": [],
   "source": []
  },
  {
   "cell_type": "markdown",
   "id": "1c6c216d",
   "metadata": {},
   "source": [
    "# Random forest"
   ]
  },
  {
   "cell_type": "code",
   "execution_count": 97,
   "id": "15882f39",
   "metadata": {},
   "outputs": [
    {
     "name": "stdout",
     "output_type": "stream",
     "text": [
      "Wall time: 284 ms\n"
     ]
    },
    {
     "data": {
      "text/plain": [
       "RandomForestClassifier(max_depth=4, n_estimators=500, random_state=2)"
      ]
     },
     "execution_count": 97,
     "metadata": {},
     "output_type": "execute_result"
    }
   ],
   "source": [
    "%%time\n",
    "rfc = RandomForestClassifier(n_estimators=500, max_depth=4, random_state = 2)\n",
    "rfc.fit(X_train, Y_train)"
   ]
  },
  {
   "cell_type": "code",
   "execution_count": 98,
   "id": "530572c1",
   "metadata": {},
   "outputs": [],
   "source": [
    "Y_predicts = rfc.predict(X_test)"
   ]
  },
  {
   "cell_type": "code",
   "execution_count": 99,
   "id": "dff3806c",
   "metadata": {},
   "outputs": [
    {
     "data": {
      "text/plain": [
       "0.8717948717948718"
      ]
     },
     "execution_count": 99,
     "metadata": {},
     "output_type": "execute_result"
    }
   ],
   "source": [
    "accuracy_score(Y_test,Y_predicts)"
   ]
  },
  {
   "cell_type": "code",
   "execution_count": 100,
   "id": "c66f274f",
   "metadata": {},
   "outputs": [
    {
     "name": "stdout",
     "output_type": "stream",
     "text": [
      "              precision    recall  f1-score   support\n",
      "\n",
      "           0       0.87      0.91      0.89        22\n",
      "           1       1.00      0.80      0.89        10\n",
      "           2       0.75      0.86      0.80         7\n",
      "\n",
      "    accuracy                           0.87        39\n",
      "   macro avg       0.87      0.86      0.86        39\n",
      "weighted avg       0.88      0.87      0.87        39\n",
      "\n"
     ]
    }
   ],
   "source": [
    "print(classification_report(Y_test, Y_predicts))"
   ]
  },
  {
   "cell_type": "markdown",
   "id": "7ae73df6",
   "metadata": {},
   "source": [
    "# Neural network"
   ]
  },
  {
   "cell_type": "code",
   "execution_count": 101,
   "id": "0c112349",
   "metadata": {},
   "outputs": [
    {
     "data": {
      "text/plain": [
       "(78, 3)"
      ]
     },
     "execution_count": 101,
     "metadata": {},
     "output_type": "execute_result"
    }
   ],
   "source": [
    "X_train.shape"
   ]
  },
  {
   "cell_type": "code",
   "execution_count": 102,
   "id": "a01d7aa1",
   "metadata": {},
   "outputs": [
    {
     "data": {
      "text/plain": [
       "(78,)"
      ]
     },
     "execution_count": 102,
     "metadata": {},
     "output_type": "execute_result"
    }
   ],
   "source": [
    "Y_train.shape"
   ]
  },
  {
   "cell_type": "code",
   "execution_count": 103,
   "id": "7bac56f5",
   "metadata": {},
   "outputs": [
    {
     "name": "stdout",
     "output_type": "stream",
     "text": [
      "Wall time: 30.4 ms\n"
     ]
    }
   ],
   "source": [
    "%%time\n",
    "input_shape = (3,)\n",
    "model = keras.Sequential(\n",
    "    [\n",
    "        Dense(60,input_shape = input_shape, activation=\"relu\", name=\"layer1\"),\n",
    "        Dense(30, activation=\"relu\", name=\"layer2\"),\n",
    "        Dense(60, activation=\"sigmoid\", name=\"layer3\"),\n",
    "        Dense(60, activation=\"softmax\", name=\"layer4\")\n",
    "    ])\n",
    "    \n"
   ]
  },
  {
   "cell_type": "code",
   "execution_count": 104,
   "id": "d259728e",
   "metadata": {},
   "outputs": [
    {
     "name": "stdout",
     "output_type": "stream",
     "text": [
      "Model: \"sequential_1\"\n",
      "_________________________________________________________________\n",
      " Layer (type)                Output Shape              Param #   \n",
      "=================================================================\n",
      " layer1 (Dense)              (None, 60)                240       \n",
      "                                                                 \n",
      " layer2 (Dense)              (None, 30)                1830      \n",
      "                                                                 \n",
      " layer3 (Dense)              (None, 60)                1860      \n",
      "                                                                 \n",
      " layer4 (Dense)              (None, 60)                3660      \n",
      "                                                                 \n",
      "=================================================================\n",
      "Total params: 7,590\n",
      "Trainable params: 7,590\n",
      "Non-trainable params: 0\n",
      "_________________________________________________________________\n"
     ]
    }
   ],
   "source": [
    "model.summary()"
   ]
  },
  {
   "cell_type": "code",
   "execution_count": 105,
   "id": "7654a362",
   "metadata": {},
   "outputs": [],
   "source": [
    "model.compile(Adam(learning_rate=0.01), \"sparse_categorical_crossentropy\", metrics = [\"accuracy\"])\n"
   ]
  },
  {
   "cell_type": "code",
   "execution_count": 106,
   "id": "4bf4d97b",
   "metadata": {
    "scrolled": true
   },
   "outputs": [
    {
     "name": "stdout",
     "output_type": "stream",
     "text": [
      "Epoch 1/200\n",
      "3/3 - 0s - loss: 3.3437 - accuracy: 0.4231 - val_loss: 2.0064 - val_accuracy: 0.6154 - 480ms/epoch - 160ms/step\n",
      "Epoch 2/200\n",
      "3/3 - 0s - loss: 1.5007 - accuracy: 0.8077 - val_loss: 1.1157 - val_accuracy: 0.6154 - 32ms/epoch - 11ms/step\n",
      "Epoch 3/200\n",
      "3/3 - 0s - loss: 0.7246 - accuracy: 0.8077 - val_loss: 0.9931 - val_accuracy: 0.6154 - 29ms/epoch - 10ms/step\n",
      "Epoch 4/200\n",
      "3/3 - 0s - loss: 0.5524 - accuracy: 0.8077 - val_loss: 1.0344 - val_accuracy: 0.6154 - 28ms/epoch - 9ms/step\n",
      "Epoch 5/200\n",
      "3/3 - 0s - loss: 0.5291 - accuracy: 0.8077 - val_loss: 1.0469 - val_accuracy: 0.6154 - 29ms/epoch - 10ms/step\n",
      "Epoch 6/200\n",
      "3/3 - 0s - loss: 0.5041 - accuracy: 0.8077 - val_loss: 1.0733 - val_accuracy: 0.6154 - 24ms/epoch - 8ms/step\n",
      "Epoch 7/200\n",
      "3/3 - 0s - loss: 0.4962 - accuracy: 0.8077 - val_loss: 1.1197 - val_accuracy: 0.6154 - 25ms/epoch - 8ms/step\n",
      "Epoch 8/200\n",
      "3/3 - 0s - loss: 0.4974 - accuracy: 0.8077 - val_loss: 1.1287 - val_accuracy: 0.6154 - 40ms/epoch - 13ms/step\n",
      "Epoch 9/200\n",
      "3/3 - 0s - loss: 0.4966 - accuracy: 0.8077 - val_loss: 1.1662 - val_accuracy: 0.6154 - 30ms/epoch - 10ms/step\n",
      "Epoch 10/200\n",
      "3/3 - 0s - loss: 0.4946 - accuracy: 0.8077 - val_loss: 1.1938 - val_accuracy: 0.6154 - 18ms/epoch - 6ms/step\n",
      "Epoch 11/200\n",
      "3/3 - 0s - loss: 0.4953 - accuracy: 0.8077 - val_loss: 1.2150 - val_accuracy: 0.6154 - 37ms/epoch - 12ms/step\n",
      "Epoch 12/200\n",
      "3/3 - 0s - loss: 0.4917 - accuracy: 0.8077 - val_loss: 1.2301 - val_accuracy: 0.6154 - 29ms/epoch - 10ms/step\n",
      "Epoch 13/200\n",
      "3/3 - 0s - loss: 0.4933 - accuracy: 0.8077 - val_loss: 1.2459 - val_accuracy: 0.6154 - 26ms/epoch - 9ms/step\n",
      "Epoch 14/200\n",
      "3/3 - 0s - loss: 0.4885 - accuracy: 0.8077 - val_loss: 1.3177 - val_accuracy: 0.6154 - 33ms/epoch - 11ms/step\n",
      "Epoch 15/200\n",
      "3/3 - 0s - loss: 0.5088 - accuracy: 0.8077 - val_loss: 1.3442 - val_accuracy: 0.6154 - 33ms/epoch - 11ms/step\n",
      "Epoch 16/200\n",
      "3/3 - 0s - loss: 0.5151 - accuracy: 0.8077 - val_loss: 1.2613 - val_accuracy: 0.6154 - 31ms/epoch - 10ms/step\n",
      "Epoch 17/200\n",
      "3/3 - 0s - loss: 0.4877 - accuracy: 0.8077 - val_loss: 1.2557 - val_accuracy: 0.6154 - 32ms/epoch - 11ms/step\n",
      "Epoch 18/200\n",
      "3/3 - 0s - loss: 0.4963 - accuracy: 0.8077 - val_loss: 1.2619 - val_accuracy: 0.6154 - 31ms/epoch - 10ms/step\n",
      "Epoch 19/200\n",
      "3/3 - 0s - loss: 0.4861 - accuracy: 0.8077 - val_loss: 1.2715 - val_accuracy: 0.6154 - 36ms/epoch - 12ms/step\n",
      "Epoch 20/200\n",
      "3/3 - 0s - loss: 0.4799 - accuracy: 0.8077 - val_loss: 1.2793 - val_accuracy: 0.6154 - 33ms/epoch - 11ms/step\n",
      "Epoch 21/200\n",
      "3/3 - 0s - loss: 0.4754 - accuracy: 0.8077 - val_loss: 1.2989 - val_accuracy: 0.6154 - 28ms/epoch - 9ms/step\n",
      "Epoch 22/200\n",
      "3/3 - 0s - loss: 0.4781 - accuracy: 0.8077 - val_loss: 1.2937 - val_accuracy: 0.6154 - 30ms/epoch - 10ms/step\n",
      "Epoch 23/200\n",
      "3/3 - 0s - loss: 0.4695 - accuracy: 0.8077 - val_loss: 1.2776 - val_accuracy: 0.6154 - 33ms/epoch - 11ms/step\n",
      "Epoch 24/200\n",
      "3/3 - 0s - loss: 0.4694 - accuracy: 0.8077 - val_loss: 1.2563 - val_accuracy: 0.6154 - 33ms/epoch - 11ms/step\n",
      "Epoch 25/200\n",
      "3/3 - 0s - loss: 0.4611 - accuracy: 0.8077 - val_loss: 1.2553 - val_accuracy: 0.6154 - 34ms/epoch - 11ms/step\n",
      "Epoch 26/200\n",
      "3/3 - 0s - loss: 0.4441 - accuracy: 0.8077 - val_loss: 1.3168 - val_accuracy: 0.6154 - 31ms/epoch - 10ms/step\n",
      "Epoch 27/200\n",
      "3/3 - 0s - loss: 0.4716 - accuracy: 0.8077 - val_loss: 1.3299 - val_accuracy: 0.6154 - 32ms/epoch - 11ms/step\n",
      "Epoch 28/200\n",
      "3/3 - 0s - loss: 0.4683 - accuracy: 0.8077 - val_loss: 1.2768 - val_accuracy: 0.6154 - 32ms/epoch - 11ms/step\n",
      "Epoch 29/200\n",
      "3/3 - 0s - loss: 0.4489 - accuracy: 0.8077 - val_loss: 1.2524 - val_accuracy: 0.6154 - 30ms/epoch - 10ms/step\n",
      "Epoch 30/200\n",
      "3/3 - 0s - loss: 0.4353 - accuracy: 0.8077 - val_loss: 1.4191 - val_accuracy: 0.6154 - 25ms/epoch - 8ms/step\n",
      "Epoch 31/200\n",
      "3/3 - 0s - loss: 0.4924 - accuracy: 0.8077 - val_loss: 1.3614 - val_accuracy: 0.6154 - 25ms/epoch - 8ms/step\n",
      "Epoch 32/200\n",
      "3/3 - 0s - loss: 0.4596 - accuracy: 0.8077 - val_loss: 1.3101 - val_accuracy: 0.6154 - 27ms/epoch - 9ms/step\n",
      "Epoch 33/200\n",
      "3/3 - 0s - loss: 0.4792 - accuracy: 0.8077 - val_loss: 1.2876 - val_accuracy: 0.6154 - 25ms/epoch - 8ms/step\n",
      "Epoch 34/200\n",
      "3/3 - 0s - loss: 0.4387 - accuracy: 0.8077 - val_loss: 1.3713 - val_accuracy: 0.6154 - 25ms/epoch - 8ms/step\n",
      "Epoch 35/200\n",
      "3/3 - 0s - loss: 0.4452 - accuracy: 0.8077 - val_loss: 1.4142 - val_accuracy: 0.6154 - 25ms/epoch - 8ms/step\n",
      "Epoch 36/200\n",
      "3/3 - 0s - loss: 0.4389 - accuracy: 0.8077 - val_loss: 1.3439 - val_accuracy: 0.6154 - 26ms/epoch - 9ms/step\n",
      "Epoch 37/200\n",
      "3/3 - 0s - loss: 0.4427 - accuracy: 0.8077 - val_loss: 1.3006 - val_accuracy: 0.6923 - 25ms/epoch - 8ms/step\n",
      "Epoch 38/200\n",
      "3/3 - 0s - loss: 0.4556 - accuracy: 0.7821 - val_loss: 1.3393 - val_accuracy: 0.6154 - 26ms/epoch - 9ms/step\n",
      "Epoch 39/200\n",
      "3/3 - 0s - loss: 0.4604 - accuracy: 0.8077 - val_loss: 1.3675 - val_accuracy: 0.6154 - 26ms/epoch - 9ms/step\n",
      "Epoch 40/200\n",
      "3/3 - 0s - loss: 0.4735 - accuracy: 0.8077 - val_loss: 1.4026 - val_accuracy: 0.6154 - 26ms/epoch - 9ms/step\n",
      "Epoch 41/200\n",
      "3/3 - 0s - loss: 0.4691 - accuracy: 0.8077 - val_loss: 1.3930 - val_accuracy: 0.6154 - 25ms/epoch - 8ms/step\n",
      "Epoch 42/200\n",
      "3/3 - 0s - loss: 0.4584 - accuracy: 0.8077 - val_loss: 1.3828 - val_accuracy: 0.6154 - 25ms/epoch - 8ms/step\n",
      "Epoch 43/200\n",
      "3/3 - 0s - loss: 0.4533 - accuracy: 0.8077 - val_loss: 1.3349 - val_accuracy: 0.6154 - 26ms/epoch - 9ms/step\n",
      "Epoch 44/200\n",
      "3/3 - 0s - loss: 0.4381 - accuracy: 0.8077 - val_loss: 1.3332 - val_accuracy: 0.6154 - 25ms/epoch - 8ms/step\n",
      "Epoch 45/200\n",
      "3/3 - 0s - loss: 0.4600 - accuracy: 0.8077 - val_loss: 1.4007 - val_accuracy: 0.6154 - 26ms/epoch - 9ms/step\n",
      "Epoch 46/200\n",
      "3/3 - 0s - loss: 0.4602 - accuracy: 0.8077 - val_loss: 1.3743 - val_accuracy: 0.6154 - 27ms/epoch - 9ms/step\n",
      "Epoch 47/200\n",
      "3/3 - 0s - loss: 0.4424 - accuracy: 0.8077 - val_loss: 1.3581 - val_accuracy: 0.6154 - 26ms/epoch - 9ms/step\n",
      "Epoch 48/200\n",
      "3/3 - 0s - loss: 0.4308 - accuracy: 0.8077 - val_loss: 1.3417 - val_accuracy: 0.6154 - 25ms/epoch - 8ms/step\n",
      "Epoch 49/200\n",
      "3/3 - 0s - loss: 0.4278 - accuracy: 0.8077 - val_loss: 1.3189 - val_accuracy: 0.6154 - 25ms/epoch - 8ms/step\n",
      "Epoch 50/200\n",
      "3/3 - 0s - loss: 0.3974 - accuracy: 0.8077 - val_loss: 1.3204 - val_accuracy: 0.6154 - 26ms/epoch - 9ms/step\n",
      "Epoch 51/200\n",
      "3/3 - 0s - loss: 0.3951 - accuracy: 0.8077 - val_loss: 1.3262 - val_accuracy: 0.6154 - 25ms/epoch - 8ms/step\n",
      "Epoch 52/200\n",
      "3/3 - 0s - loss: 0.3987 - accuracy: 0.8077 - val_loss: 1.2834 - val_accuracy: 0.6154 - 27ms/epoch - 9ms/step\n",
      "Epoch 53/200\n",
      "3/3 - 0s - loss: 0.3938 - accuracy: 0.7949 - val_loss: 1.2981 - val_accuracy: 0.6154 - 25ms/epoch - 8ms/step\n",
      "Epoch 54/200\n",
      "3/3 - 0s - loss: 0.3987 - accuracy: 0.7949 - val_loss: 1.2234 - val_accuracy: 0.6154 - 26ms/epoch - 9ms/step\n",
      "Epoch 55/200\n",
      "3/3 - 0s - loss: 0.3800 - accuracy: 0.8077 - val_loss: 1.2215 - val_accuracy: 0.6154 - 27ms/epoch - 9ms/step\n",
      "Epoch 56/200\n",
      "3/3 - 0s - loss: 0.4237 - accuracy: 0.8077 - val_loss: 1.2255 - val_accuracy: 0.6154 - 25ms/epoch - 8ms/step\n",
      "Epoch 57/200\n",
      "3/3 - 0s - loss: 0.4042 - accuracy: 0.8077 - val_loss: 1.1641 - val_accuracy: 0.6154 - 27ms/epoch - 9ms/step\n",
      "Epoch 58/200\n",
      "3/3 - 0s - loss: 0.3603 - accuracy: 0.8077 - val_loss: 1.2652 - val_accuracy: 0.6154 - 26ms/epoch - 9ms/step\n",
      "Epoch 59/200\n",
      "3/3 - 0s - loss: 0.4296 - accuracy: 0.8077 - val_loss: 1.1409 - val_accuracy: 0.6154 - 27ms/epoch - 9ms/step\n",
      "Epoch 60/200\n",
      "3/3 - 0s - loss: 0.3847 - accuracy: 0.8077 - val_loss: 1.1412 - val_accuracy: 0.6154 - 26ms/epoch - 9ms/step\n",
      "Epoch 61/200\n",
      "3/3 - 0s - loss: 0.3618 - accuracy: 0.8077 - val_loss: 1.1346 - val_accuracy: 0.6154 - 25ms/epoch - 8ms/step\n",
      "Epoch 62/200\n",
      "3/3 - 0s - loss: 0.3474 - accuracy: 0.8077 - val_loss: 1.1250 - val_accuracy: 0.6154 - 26ms/epoch - 9ms/step\n",
      "Epoch 63/200\n",
      "3/3 - 0s - loss: 0.3414 - accuracy: 0.8077 - val_loss: 1.1658 - val_accuracy: 0.6154 - 26ms/epoch - 9ms/step\n",
      "Epoch 64/200\n",
      "3/3 - 0s - loss: 0.3406 - accuracy: 0.8077 - val_loss: 1.1124 - val_accuracy: 0.6154 - 29ms/epoch - 10ms/step\n",
      "Epoch 65/200\n",
      "3/3 - 0s - loss: 0.3441 - accuracy: 0.7821 - val_loss: 1.1053 - val_accuracy: 0.7179 - 30ms/epoch - 10ms/step\n",
      "Epoch 66/200\n",
      "3/3 - 0s - loss: 0.3223 - accuracy: 0.8718 - val_loss: 1.3581 - val_accuracy: 0.6154 - 31ms/epoch - 10ms/step\n",
      "Epoch 67/200\n",
      "3/3 - 0s - loss: 0.4642 - accuracy: 0.7949 - val_loss: 1.2596 - val_accuracy: 0.6154 - 31ms/epoch - 10ms/step\n"
     ]
    },
    {
     "name": "stdout",
     "output_type": "stream",
     "text": [
      "Epoch 68/200\n",
      "3/3 - 0s - loss: 0.3853 - accuracy: 0.7821 - val_loss: 1.1586 - val_accuracy: 0.6154 - 31ms/epoch - 10ms/step\n",
      "Epoch 69/200\n",
      "3/3 - 0s - loss: 0.3383 - accuracy: 0.8462 - val_loss: 1.1318 - val_accuracy: 0.7436 - 30ms/epoch - 10ms/step\n",
      "Epoch 70/200\n",
      "3/3 - 0s - loss: 0.3883 - accuracy: 0.8077 - val_loss: 1.1450 - val_accuracy: 0.6923 - 30ms/epoch - 10ms/step\n",
      "Epoch 71/200\n",
      "3/3 - 0s - loss: 0.3538 - accuracy: 0.8077 - val_loss: 1.1509 - val_accuracy: 0.6154 - 26ms/epoch - 9ms/step\n",
      "Epoch 72/200\n",
      "3/3 - 0s - loss: 0.3255 - accuracy: 0.8077 - val_loss: 1.1325 - val_accuracy: 0.6154 - 26ms/epoch - 9ms/step\n",
      "Epoch 73/200\n",
      "3/3 - 0s - loss: 0.3418 - accuracy: 0.8077 - val_loss: 1.1305 - val_accuracy: 0.6154 - 22ms/epoch - 7ms/step\n",
      "Epoch 74/200\n",
      "3/3 - 0s - loss: 0.3385 - accuracy: 0.8077 - val_loss: 1.1581 - val_accuracy: 0.6154 - 31ms/epoch - 10ms/step\n",
      "Epoch 75/200\n",
      "3/3 - 0s - loss: 0.3468 - accuracy: 0.7692 - val_loss: 1.1164 - val_accuracy: 0.7949 - 23ms/epoch - 8ms/step\n",
      "Epoch 76/200\n",
      "3/3 - 0s - loss: 0.3418 - accuracy: 0.8205 - val_loss: 1.1008 - val_accuracy: 0.7949 - 31ms/epoch - 10ms/step\n",
      "Epoch 77/200\n",
      "3/3 - 0s - loss: 0.3238 - accuracy: 0.8205 - val_loss: 1.0969 - val_accuracy: 0.6154 - 32ms/epoch - 11ms/step\n",
      "Epoch 78/200\n",
      "3/3 - 0s - loss: 0.3107 - accuracy: 0.8077 - val_loss: 1.6991 - val_accuracy: 0.6154 - 30ms/epoch - 10ms/step\n",
      "Epoch 79/200\n",
      "3/3 - 0s - loss: 0.5706 - accuracy: 0.8077 - val_loss: 1.3925 - val_accuracy: 0.6154 - 30ms/epoch - 10ms/step\n",
      "Epoch 80/200\n",
      "3/3 - 0s - loss: 0.4512 - accuracy: 0.7821 - val_loss: 1.2765 - val_accuracy: 0.6154 - 30ms/epoch - 10ms/step\n",
      "Epoch 81/200\n",
      "3/3 - 0s - loss: 0.4219 - accuracy: 0.7949 - val_loss: 1.3356 - val_accuracy: 0.5897 - 30ms/epoch - 10ms/step\n",
      "Epoch 82/200\n",
      "3/3 - 0s - loss: 0.4769 - accuracy: 0.7051 - val_loss: 1.2764 - val_accuracy: 0.6923 - 30ms/epoch - 10ms/step\n",
      "Epoch 83/200\n",
      "3/3 - 0s - loss: 0.3825 - accuracy: 0.8462 - val_loss: 1.2372 - val_accuracy: 0.6154 - 26ms/epoch - 9ms/step\n",
      "Epoch 84/200\n",
      "3/3 - 0s - loss: 0.3570 - accuracy: 0.8077 - val_loss: 1.2797 - val_accuracy: 0.6154 - 25ms/epoch - 8ms/step\n",
      "Epoch 85/200\n",
      "3/3 - 0s - loss: 0.4017 - accuracy: 0.8077 - val_loss: 1.2138 - val_accuracy: 0.6154 - 26ms/epoch - 9ms/step\n",
      "Epoch 86/200\n",
      "3/3 - 0s - loss: 0.3449 - accuracy: 0.8077 - val_loss: 1.1867 - val_accuracy: 0.7692 - 31ms/epoch - 10ms/step\n",
      "Epoch 87/200\n",
      "3/3 - 0s - loss: 0.3306 - accuracy: 0.8846 - val_loss: 1.4465 - val_accuracy: 0.6154 - 27ms/epoch - 9ms/step\n",
      "Epoch 88/200\n",
      "3/3 - 0s - loss: 0.4645 - accuracy: 0.8077 - val_loss: 1.3576 - val_accuracy: 0.6154 - 25ms/epoch - 8ms/step\n",
      "Epoch 89/200\n",
      "3/3 - 0s - loss: 0.4158 - accuracy: 0.8077 - val_loss: 1.2646 - val_accuracy: 0.6154 - 33ms/epoch - 11ms/step\n",
      "Epoch 90/200\n",
      "3/3 - 0s - loss: 0.3843 - accuracy: 0.8077 - val_loss: 1.2301 - val_accuracy: 0.6154 - 31ms/epoch - 10ms/step\n",
      "Epoch 91/200\n",
      "3/3 - 0s - loss: 0.3962 - accuracy: 0.8846 - val_loss: 1.3260 - val_accuracy: 0.6154 - 33ms/epoch - 11ms/step\n",
      "Epoch 92/200\n",
      "3/3 - 0s - loss: 0.4251 - accuracy: 0.8077 - val_loss: 1.2251 - val_accuracy: 0.6154 - 30ms/epoch - 10ms/step\n",
      "Epoch 93/200\n",
      "3/3 - 0s - loss: 0.3957 - accuracy: 0.8077 - val_loss: 1.2154 - val_accuracy: 0.6154 - 30ms/epoch - 10ms/step\n",
      "Epoch 94/200\n",
      "3/3 - 0s - loss: 0.3807 - accuracy: 0.8077 - val_loss: 1.2389 - val_accuracy: 0.6154 - 33ms/epoch - 11ms/step\n",
      "Epoch 95/200\n",
      "3/3 - 0s - loss: 0.3887 - accuracy: 0.8077 - val_loss: 1.1579 - val_accuracy: 0.6154 - 32ms/epoch - 11ms/step\n",
      "Epoch 96/200\n",
      "3/3 - 0s - loss: 0.3539 - accuracy: 0.8077 - val_loss: 1.1467 - val_accuracy: 0.6154 - 28ms/epoch - 9ms/step\n",
      "Epoch 97/200\n",
      "3/3 - 0s - loss: 0.3468 - accuracy: 0.8077 - val_loss: 1.1214 - val_accuracy: 0.6154 - 26ms/epoch - 9ms/step\n",
      "Epoch 98/200\n",
      "3/3 - 0s - loss: 0.3563 - accuracy: 0.8077 - val_loss: 1.1182 - val_accuracy: 0.6154 - 25ms/epoch - 8ms/step\n",
      "Epoch 99/200\n",
      "3/3 - 0s - loss: 0.3424 - accuracy: 0.8077 - val_loss: 1.0941 - val_accuracy: 0.6154 - 25ms/epoch - 8ms/step\n",
      "Epoch 100/200\n",
      "3/3 - 0s - loss: 0.3325 - accuracy: 0.8077 - val_loss: 1.1096 - val_accuracy: 0.6154 - 25ms/epoch - 8ms/step\n",
      "Epoch 101/200\n",
      "3/3 - 0s - loss: 0.3234 - accuracy: 0.8205 - val_loss: 1.0829 - val_accuracy: 0.6923 - 26ms/epoch - 9ms/step\n",
      "Epoch 102/200\n",
      "3/3 - 0s - loss: 0.3142 - accuracy: 0.8718 - val_loss: 1.1840 - val_accuracy: 0.6410 - 25ms/epoch - 8ms/step\n",
      "Epoch 103/200\n",
      "3/3 - 0s - loss: 0.3415 - accuracy: 0.7949 - val_loss: 1.0653 - val_accuracy: 0.7692 - 26ms/epoch - 9ms/step\n",
      "Epoch 104/200\n",
      "3/3 - 0s - loss: 0.3216 - accuracy: 0.8718 - val_loss: 1.0771 - val_accuracy: 0.7692 - 25ms/epoch - 8ms/step\n",
      "Epoch 105/200\n",
      "3/3 - 0s - loss: 0.3239 - accuracy: 0.8462 - val_loss: 1.0876 - val_accuracy: 0.6154 - 25ms/epoch - 8ms/step\n",
      "Epoch 106/200\n",
      "3/3 - 0s - loss: 0.3163 - accuracy: 0.8077 - val_loss: 1.1004 - val_accuracy: 0.6154 - 26ms/epoch - 9ms/step\n",
      "Epoch 107/200\n",
      "3/3 - 0s - loss: 0.3047 - accuracy: 0.8077 - val_loss: 1.1082 - val_accuracy: 0.6154 - 25ms/epoch - 8ms/step\n",
      "Epoch 108/200\n",
      "3/3 - 0s - loss: 0.3434 - accuracy: 0.8077 - val_loss: 1.1489 - val_accuracy: 0.6154 - 25ms/epoch - 8ms/step\n",
      "Epoch 109/200\n",
      "3/3 - 0s - loss: 0.2930 - accuracy: 0.8462 - val_loss: 1.0709 - val_accuracy: 0.7692 - 24ms/epoch - 8ms/step\n",
      "Epoch 110/200\n",
      "3/3 - 0s - loss: 0.2946 - accuracy: 0.8590 - val_loss: 1.0983 - val_accuracy: 0.7692 - 25ms/epoch - 8ms/step\n",
      "Epoch 111/200\n",
      "3/3 - 0s - loss: 0.3235 - accuracy: 0.8590 - val_loss: 1.0970 - val_accuracy: 0.7692 - 25ms/epoch - 8ms/step\n",
      "Epoch 112/200\n",
      "3/3 - 0s - loss: 0.3189 - accuracy: 0.8590 - val_loss: 1.0812 - val_accuracy: 0.7949 - 26ms/epoch - 9ms/step\n",
      "Epoch 113/200\n",
      "3/3 - 0s - loss: 0.3014 - accuracy: 0.8974 - val_loss: 1.2391 - val_accuracy: 0.5897 - 25ms/epoch - 8ms/step\n",
      "Epoch 114/200\n",
      "3/3 - 0s - loss: 0.3671 - accuracy: 0.8077 - val_loss: 1.1823 - val_accuracy: 0.6154 - 26ms/epoch - 9ms/step\n",
      "Epoch 115/200\n",
      "3/3 - 0s - loss: 0.3593 - accuracy: 0.8077 - val_loss: 1.1555 - val_accuracy: 0.6154 - 25ms/epoch - 8ms/step\n",
      "Epoch 116/200\n",
      "3/3 - 0s - loss: 0.3551 - accuracy: 0.8077 - val_loss: 1.1618 - val_accuracy: 0.6154 - 26ms/epoch - 9ms/step\n",
      "Epoch 117/200\n",
      "3/3 - 0s - loss: 0.3649 - accuracy: 0.8077 - val_loss: 1.1823 - val_accuracy: 0.6154 - 26ms/epoch - 9ms/step\n",
      "Epoch 118/200\n",
      "3/3 - 0s - loss: 0.3630 - accuracy: 0.8077 - val_loss: 1.1462 - val_accuracy: 0.6154 - 24ms/epoch - 8ms/step\n",
      "Epoch 119/200\n",
      "3/3 - 0s - loss: 0.3524 - accuracy: 0.8077 - val_loss: 1.1178 - val_accuracy: 0.6154 - 26ms/epoch - 9ms/step\n",
      "Epoch 120/200\n",
      "3/3 - 0s - loss: 0.3393 - accuracy: 0.8077 - val_loss: 1.1055 - val_accuracy: 0.6154 - 26ms/epoch - 9ms/step\n",
      "Epoch 121/200\n",
      "3/3 - 0s - loss: 0.3282 - accuracy: 0.8077 - val_loss: 1.1106 - val_accuracy: 0.6154 - 26ms/epoch - 9ms/step\n",
      "Epoch 122/200\n",
      "3/3 - 0s - loss: 0.3155 - accuracy: 0.8077 - val_loss: 1.1076 - val_accuracy: 0.7949 - 26ms/epoch - 9ms/step\n",
      "Epoch 123/200\n",
      "3/3 - 0s - loss: 0.3177 - accuracy: 0.8846 - val_loss: 1.1110 - val_accuracy: 0.7949 - 25ms/epoch - 8ms/step\n",
      "Epoch 124/200\n",
      "3/3 - 0s - loss: 0.3039 - accuracy: 0.8718 - val_loss: 1.1276 - val_accuracy: 0.7949 - 25ms/epoch - 8ms/step\n",
      "Epoch 125/200\n",
      "3/3 - 0s - loss: 0.3110 - accuracy: 0.8590 - val_loss: 1.1453 - val_accuracy: 0.7949 - 26ms/epoch - 9ms/step\n",
      "Epoch 126/200\n",
      "3/3 - 0s - loss: 0.2967 - accuracy: 0.8718 - val_loss: 1.1451 - val_accuracy: 0.7179 - 26ms/epoch - 9ms/step\n",
      "Epoch 127/200\n",
      "3/3 - 0s - loss: 0.2984 - accuracy: 0.8846 - val_loss: 1.1297 - val_accuracy: 0.7179 - 25ms/epoch - 8ms/step\n",
      "Epoch 128/200\n",
      "3/3 - 0s - loss: 0.3005 - accuracy: 0.8205 - val_loss: 1.1263 - val_accuracy: 0.7692 - 26ms/epoch - 9ms/step\n",
      "Epoch 129/200\n",
      "3/3 - 0s - loss: 0.3000 - accuracy: 0.8462 - val_loss: 1.1200 - val_accuracy: 0.7436 - 26ms/epoch - 9ms/step\n",
      "Epoch 130/200\n",
      "3/3 - 0s - loss: 0.2996 - accuracy: 0.8205 - val_loss: 1.1242 - val_accuracy: 0.7436 - 25ms/epoch - 8ms/step\n",
      "Epoch 131/200\n",
      "3/3 - 0s - loss: 0.2968 - accuracy: 0.8462 - val_loss: 1.1187 - val_accuracy: 0.7436 - 25ms/epoch - 8ms/step\n",
      "Epoch 132/200\n",
      "3/3 - 0s - loss: 0.3017 - accuracy: 0.8462 - val_loss: 1.1222 - val_accuracy: 0.7692 - 25ms/epoch - 8ms/step\n",
      "Epoch 133/200\n",
      "3/3 - 0s - loss: 0.2989 - accuracy: 0.8462 - val_loss: 1.1250 - val_accuracy: 0.7949 - 25ms/epoch - 8ms/step\n",
      "Epoch 134/200\n",
      "3/3 - 0s - loss: 0.2944 - accuracy: 0.8077 - val_loss: 1.1321 - val_accuracy: 0.6154 - 22ms/epoch - 7ms/step\n"
     ]
    },
    {
     "name": "stdout",
     "output_type": "stream",
     "text": [
      "Epoch 135/200\n",
      "3/3 - 0s - loss: 0.2910 - accuracy: 0.8205 - val_loss: 1.1223 - val_accuracy: 0.7949 - 25ms/epoch - 8ms/step\n",
      "Epoch 136/200\n",
      "3/3 - 0s - loss: 0.2797 - accuracy: 0.8718 - val_loss: 1.1283 - val_accuracy: 0.7949 - 21ms/epoch - 7ms/step\n",
      "Epoch 137/200\n",
      "3/3 - 0s - loss: 0.2821 - accuracy: 0.8590 - val_loss: 1.1520 - val_accuracy: 0.7692 - 26ms/epoch - 9ms/step\n",
      "Epoch 138/200\n",
      "3/3 - 0s - loss: 0.2885 - accuracy: 0.8590 - val_loss: 1.1617 - val_accuracy: 0.7436 - 25ms/epoch - 8ms/step\n",
      "Epoch 139/200\n",
      "3/3 - 0s - loss: 0.2899 - accuracy: 0.8590 - val_loss: 1.1550 - val_accuracy: 0.7692 - 26ms/epoch - 9ms/step\n",
      "Epoch 140/200\n",
      "3/3 - 0s - loss: 0.2846 - accuracy: 0.8590 - val_loss: 1.1489 - val_accuracy: 0.7436 - 26ms/epoch - 9ms/step\n",
      "Epoch 141/200\n",
      "3/3 - 0s - loss: 0.2934 - accuracy: 0.8462 - val_loss: 1.1567 - val_accuracy: 0.7436 - 26ms/epoch - 9ms/step\n",
      "Epoch 142/200\n",
      "3/3 - 0s - loss: 0.3069 - accuracy: 0.8333 - val_loss: 1.1591 - val_accuracy: 0.7179 - 25ms/epoch - 8ms/step\n",
      "Epoch 143/200\n",
      "3/3 - 0s - loss: 0.3155 - accuracy: 0.8077 - val_loss: 1.1361 - val_accuracy: 0.7692 - 26ms/epoch - 9ms/step\n",
      "Epoch 144/200\n",
      "3/3 - 0s - loss: 0.2971 - accuracy: 0.8974 - val_loss: 1.0881 - val_accuracy: 0.7949 - 27ms/epoch - 9ms/step\n",
      "Epoch 145/200\n",
      "3/3 - 0s - loss: 0.2828 - accuracy: 0.8974 - val_loss: 1.0802 - val_accuracy: 0.8205 - 25ms/epoch - 8ms/step\n",
      "Epoch 146/200\n",
      "3/3 - 0s - loss: 0.3035 - accuracy: 0.8590 - val_loss: 1.0475 - val_accuracy: 0.7949 - 25ms/epoch - 8ms/step\n",
      "Epoch 147/200\n",
      "3/3 - 0s - loss: 0.2872 - accuracy: 0.8846 - val_loss: 1.1260 - val_accuracy: 0.7179 - 23ms/epoch - 8ms/step\n",
      "Epoch 148/200\n",
      "3/3 - 0s - loss: 0.2383 - accuracy: 0.8974 - val_loss: 1.1150 - val_accuracy: 0.7436 - 30ms/epoch - 10ms/step\n",
      "Epoch 149/200\n",
      "3/3 - 0s - loss: 0.2355 - accuracy: 0.8974 - val_loss: 1.0567 - val_accuracy: 0.7692 - 25ms/epoch - 8ms/step\n",
      "Epoch 150/200\n",
      "3/3 - 0s - loss: 0.2324 - accuracy: 0.8974 - val_loss: 0.9856 - val_accuracy: 0.7692 - 25ms/epoch - 8ms/step\n",
      "Epoch 151/200\n",
      "3/3 - 0s - loss: 0.2484 - accuracy: 0.9231 - val_loss: 0.9627 - val_accuracy: 0.7949 - 25ms/epoch - 8ms/step\n",
      "Epoch 152/200\n",
      "3/3 - 0s - loss: 0.2468 - accuracy: 0.8846 - val_loss: 1.0096 - val_accuracy: 0.8205 - 25ms/epoch - 8ms/step\n",
      "Epoch 153/200\n",
      "3/3 - 0s - loss: 0.2181 - accuracy: 0.8974 - val_loss: 0.9620 - val_accuracy: 0.8205 - 24ms/epoch - 8ms/step\n",
      "Epoch 154/200\n",
      "3/3 - 0s - loss: 0.2083 - accuracy: 0.9231 - val_loss: 0.9860 - val_accuracy: 0.8205 - 24ms/epoch - 8ms/step\n",
      "Epoch 155/200\n",
      "3/3 - 0s - loss: 0.2067 - accuracy: 0.9231 - val_loss: 1.0123 - val_accuracy: 0.7692 - 31ms/epoch - 10ms/step\n",
      "Epoch 156/200\n",
      "3/3 - 0s - loss: 0.2184 - accuracy: 0.9103 - val_loss: 1.0572 - val_accuracy: 0.7436 - 22ms/epoch - 7ms/step\n",
      "Epoch 157/200\n",
      "3/3 - 0s - loss: 0.2244 - accuracy: 0.9231 - val_loss: 1.0653 - val_accuracy: 0.7692 - 30ms/epoch - 10ms/step\n",
      "Epoch 158/200\n",
      "3/3 - 0s - loss: 0.2189 - accuracy: 0.8846 - val_loss: 1.0793 - val_accuracy: 0.7436 - 26ms/epoch - 9ms/step\n",
      "Epoch 159/200\n",
      "3/3 - 0s - loss: 0.2226 - accuracy: 0.9359 - val_loss: 1.0509 - val_accuracy: 0.7949 - 25ms/epoch - 8ms/step\n",
      "Epoch 160/200\n",
      "3/3 - 0s - loss: 0.2008 - accuracy: 0.9231 - val_loss: 1.0289 - val_accuracy: 0.7436 - 26ms/epoch - 9ms/step\n",
      "Epoch 161/200\n",
      "3/3 - 0s - loss: 0.2086 - accuracy: 0.8974 - val_loss: 1.0092 - val_accuracy: 0.7179 - 28ms/epoch - 9ms/step\n",
      "Epoch 162/200\n",
      "3/3 - 0s - loss: 0.2258 - accuracy: 0.9103 - val_loss: 1.0531 - val_accuracy: 0.7692 - 26ms/epoch - 9ms/step\n",
      "Epoch 163/200\n",
      "3/3 - 0s - loss: 0.1961 - accuracy: 0.9359 - val_loss: 1.0306 - val_accuracy: 0.8205 - 31ms/epoch - 10ms/step\n",
      "Epoch 164/200\n",
      "3/3 - 0s - loss: 0.2017 - accuracy: 0.9231 - val_loss: 0.9909 - val_accuracy: 0.8205 - 22ms/epoch - 7ms/step\n",
      "Epoch 165/200\n",
      "3/3 - 0s - loss: 0.1994 - accuracy: 0.9359 - val_loss: 1.0377 - val_accuracy: 0.7949 - 45ms/epoch - 15ms/step\n",
      "Epoch 166/200\n",
      "3/3 - 0s - loss: 0.1944 - accuracy: 0.9359 - val_loss: 1.0154 - val_accuracy: 0.7436 - 27ms/epoch - 9ms/step\n",
      "Epoch 167/200\n",
      "3/3 - 0s - loss: 0.1938 - accuracy: 0.9359 - val_loss: 0.9339 - val_accuracy: 0.8205 - 25ms/epoch - 8ms/step\n",
      "Epoch 168/200\n",
      "3/3 - 0s - loss: 0.1893 - accuracy: 0.9231 - val_loss: 0.9072 - val_accuracy: 0.8205 - 26ms/epoch - 9ms/step\n",
      "Epoch 169/200\n",
      "3/3 - 0s - loss: 0.1799 - accuracy: 0.9359 - val_loss: 0.9843 - val_accuracy: 0.8205 - 26ms/epoch - 9ms/step\n",
      "Epoch 170/200\n",
      "3/3 - 0s - loss: 0.2072 - accuracy: 0.9103 - val_loss: 0.9340 - val_accuracy: 0.8205 - 26ms/epoch - 9ms/step\n",
      "Epoch 171/200\n",
      "3/3 - 0s - loss: 0.2524 - accuracy: 0.9359 - val_loss: 1.0400 - val_accuracy: 0.8205 - 26ms/epoch - 9ms/step\n",
      "Epoch 172/200\n",
      "3/3 - 0s - loss: 0.2297 - accuracy: 0.9359 - val_loss: 0.9937 - val_accuracy: 0.7949 - 25ms/epoch - 8ms/step\n",
      "Epoch 173/200\n",
      "3/3 - 0s - loss: 0.2560 - accuracy: 0.8846 - val_loss: 1.0319 - val_accuracy: 0.7692 - 25ms/epoch - 8ms/step\n",
      "Epoch 174/200\n",
      "3/3 - 0s - loss: 0.2598 - accuracy: 0.8718 - val_loss: 0.9629 - val_accuracy: 0.8462 - 25ms/epoch - 8ms/step\n",
      "Epoch 175/200\n",
      "3/3 - 0s - loss: 0.3846 - accuracy: 0.8333 - val_loss: 1.2145 - val_accuracy: 0.6410 - 25ms/epoch - 8ms/step\n",
      "Epoch 176/200\n",
      "3/3 - 0s - loss: 0.3551 - accuracy: 0.8077 - val_loss: 0.9675 - val_accuracy: 0.8205 - 25ms/epoch - 8ms/step\n",
      "Epoch 177/200\n",
      "3/3 - 0s - loss: 0.2652 - accuracy: 0.9103 - val_loss: 0.9689 - val_accuracy: 0.7949 - 25ms/epoch - 8ms/step\n",
      "Epoch 178/200\n",
      "3/3 - 0s - loss: 0.2676 - accuracy: 0.8718 - val_loss: 1.0719 - val_accuracy: 0.7436 - 25ms/epoch - 8ms/step\n",
      "Epoch 179/200\n",
      "3/3 - 0s - loss: 0.2558 - accuracy: 0.9103 - val_loss: 1.0314 - val_accuracy: 0.7949 - 25ms/epoch - 8ms/step\n",
      "Epoch 180/200\n",
      "3/3 - 0s - loss: 0.2873 - accuracy: 0.8718 - val_loss: 1.0287 - val_accuracy: 0.7949 - 25ms/epoch - 8ms/step\n",
      "Epoch 181/200\n",
      "3/3 - 0s - loss: 0.2666 - accuracy: 0.8974 - val_loss: 0.9962 - val_accuracy: 0.7692 - 25ms/epoch - 8ms/step\n",
      "Epoch 182/200\n",
      "3/3 - 0s - loss: 0.2436 - accuracy: 0.8974 - val_loss: 1.2581 - val_accuracy: 0.6154 - 25ms/epoch - 8ms/step\n",
      "Epoch 183/200\n",
      "3/3 - 0s - loss: 0.3312 - accuracy: 0.8077 - val_loss: 1.1229 - val_accuracy: 0.6154 - 25ms/epoch - 8ms/step\n",
      "Epoch 184/200\n",
      "3/3 - 0s - loss: 0.2687 - accuracy: 0.8974 - val_loss: 1.0874 - val_accuracy: 0.7692 - 26ms/epoch - 9ms/step\n",
      "Epoch 185/200\n",
      "3/3 - 0s - loss: 0.2404 - accuracy: 0.8974 - val_loss: 1.0808 - val_accuracy: 0.7949 - 27ms/epoch - 9ms/step\n",
      "Epoch 186/200\n",
      "3/3 - 0s - loss: 0.2498 - accuracy: 0.8846 - val_loss: 1.1251 - val_accuracy: 0.7949 - 26ms/epoch - 9ms/step\n",
      "Epoch 187/200\n",
      "3/3 - 0s - loss: 0.2771 - accuracy: 0.8590 - val_loss: 1.2034 - val_accuracy: 0.7436 - 26ms/epoch - 9ms/step\n",
      "Epoch 188/200\n",
      "3/3 - 0s - loss: 0.3136 - accuracy: 0.8462 - val_loss: 1.0853 - val_accuracy: 0.7949 - 26ms/epoch - 9ms/step\n",
      "Epoch 189/200\n",
      "3/3 - 0s - loss: 0.2445 - accuracy: 0.8974 - val_loss: 1.2279 - val_accuracy: 0.6154 - 26ms/epoch - 9ms/step\n",
      "Epoch 190/200\n",
      "3/3 - 0s - loss: 0.2803 - accuracy: 0.8077 - val_loss: 1.2733 - val_accuracy: 0.6667 - 25ms/epoch - 8ms/step\n",
      "Epoch 191/200\n",
      "3/3 - 0s - loss: 0.2568 - accuracy: 0.8846 - val_loss: 1.1441 - val_accuracy: 0.8205 - 25ms/epoch - 8ms/step\n",
      "Epoch 192/200\n",
      "3/3 - 0s - loss: 0.2115 - accuracy: 0.9359 - val_loss: 1.1478 - val_accuracy: 0.7692 - 26ms/epoch - 9ms/step\n",
      "Epoch 193/200\n",
      "3/3 - 0s - loss: 0.2208 - accuracy: 0.8718 - val_loss: 1.1725 - val_accuracy: 0.7949 - 26ms/epoch - 9ms/step\n",
      "Epoch 194/200\n",
      "3/3 - 0s - loss: 0.2222 - accuracy: 0.8974 - val_loss: 1.1593 - val_accuracy: 0.7949 - 26ms/epoch - 9ms/step\n",
      "Epoch 195/200\n",
      "3/3 - 0s - loss: 0.2015 - accuracy: 0.9231 - val_loss: 1.0986 - val_accuracy: 0.7949 - 25ms/epoch - 8ms/step\n",
      "Epoch 196/200\n",
      "3/3 - 0s - loss: 0.1907 - accuracy: 0.9231 - val_loss: 1.0978 - val_accuracy: 0.8205 - 25ms/epoch - 8ms/step\n",
      "Epoch 197/200\n",
      "3/3 - 0s - loss: 0.2021 - accuracy: 0.9103 - val_loss: 1.0818 - val_accuracy: 0.8205 - 25ms/epoch - 8ms/step\n",
      "Epoch 198/200\n",
      "3/3 - 0s - loss: 0.2083 - accuracy: 0.9359 - val_loss: 1.0837 - val_accuracy: 0.8205 - 25ms/epoch - 8ms/step\n",
      "Epoch 199/200\n",
      "3/3 - 0s - loss: 0.2134 - accuracy: 0.9103 - val_loss: 1.0584 - val_accuracy: 0.8205 - 21ms/epoch - 7ms/step\n",
      "Epoch 200/200\n",
      "3/3 - 0s - loss: 0.2178 - accuracy: 0.8974 - val_loss: 1.0462 - val_accuracy: 0.8462 - 26ms/epoch - 9ms/step\n"
     ]
    }
   ],
   "source": [
    "history = model.fit(X_train, Y_train, verbose=2, epochs=200, batch_size = 32, validation_data = (X_test,Y_test))"
   ]
  },
  {
   "cell_type": "code",
   "execution_count": 107,
   "id": "c2cf695e",
   "metadata": {},
   "outputs": [
    {
     "data": {
      "image/png": "[encoded data removed]",
      "text/plain": [
       "<Figure size 640x480 with 1 Axes>"
      ]
     },
     "metadata": {},
     "output_type": "display_data"
    },
    {
     "data": {
      "image/png": "[encoded data removed]",
      "text/plain": [
       "<Figure size 640x480 with 1 Axes>"
      ]
     },
     "metadata": {},
     "output_type": "display_data"
    }
   ],
   "source": [
    "# Plotting Results\n",
    "import matplotlib.pyplot as plt\n",
    "\n",
    "acc = history.history['accuracy']\n",
    "val_acc = history.history['val_accuracy']\n",
    "loss = history.history['loss']\n",
    "val_loss = history.history['val_loss']\n",
    "epochs = range(1, len(acc) + 1)\n",
    "\n",
    "plt.plot(epochs, acc, 'r', label='Training acc')\n",
    "plt.plot(epochs, val_acc, 'g', label='Validation acc')\n",
    "plt.xlabel('Epochs')\n",
    "plt.ylabel('Accuracy')\n",
    "\n",
    "plt.title('Training and validation accuracy')\n",
    "plt.legend()\n",
    "fig = plt.figure()\n",
    "fig.savefig('accPCA.png')\n",
    "\n",
    "\n",
    "plt.plot(epochs, loss, 'b', label='Training loss')\n",
    "plt.plot(epochs, val_loss, 'g', label='Validation loss')\n",
    "plt.xlabel('Epochs')\n",
    "plt.ylabel('Loss')\n",
    "plt.title('Training and validation loss')\n",
    "\n",
    "plt.legend()\n",
    "plt.show()"
   ]
  },
  {
   "cell_type": "markdown",
   "id": "463be16f",
   "metadata": {},
   "source": [
    "# Gausian Bayes"
   ]
  },
  {
   "cell_type": "code",
   "execution_count": 108,
   "id": "01bb8ccb",
   "metadata": {},
   "outputs": [],
   "source": [
    "gnb = GaussianNB()"
   ]
  },
  {
   "cell_type": "code",
   "execution_count": 109,
   "id": "5e375bfb",
   "metadata": {},
   "outputs": [
    {
     "name": "stdout",
     "output_type": "stream",
     "text": [
      "Wall time: 1.99 ms\n"
     ]
    }
   ],
   "source": [
    "%%time\n",
    "Y_pred = gnb.fit(X_train, Y_train).predict(X_test)"
   ]
  },
  {
   "cell_type": "code",
   "execution_count": 110,
   "id": "5796d3c0",
   "metadata": {},
   "outputs": [
    {
     "data": {
      "text/plain": [
       "0.8205128205128205"
      ]
     },
     "execution_count": 110,
     "metadata": {},
     "output_type": "execute_result"
    }
   ],
   "source": [
    "accuracy_score(Y_test,Y_pred)"
   ]
  },
  {
   "cell_type": "markdown",
   "id": "079ddf5c",
   "metadata": {},
   "source": [
    "# KNN"
   ]
  },
  {
   "cell_type": "code",
   "execution_count": 111,
   "id": "1dea3c8e",
   "metadata": {},
   "outputs": [
    {
     "data": {
      "text/plain": [
       "KNeighborsClassifier(n_neighbors=3, weights='distance')"
      ]
     },
     "execution_count": 111,
     "metadata": {},
     "output_type": "execute_result"
    }
   ],
   "source": [
    "neigh = KNeighborsClassifier(n_neighbors=3,weights='distance',leaf_size=30)\n",
    "neigh.fit(X_train, Y_train)"
   ]
  },
  {
   "cell_type": "code",
   "execution_count": 112,
   "id": "2c18ee8b",
   "metadata": {},
   "outputs": [
    {
     "name": "stdout",
     "output_type": "stream",
     "text": [
      "              precision    recall  f1-score   support\n",
      "\n",
      "           0       0.94      0.73      0.82        22\n",
      "           1       0.83      1.00      0.91        10\n",
      "           2       0.60      0.86      0.71         7\n",
      "\n",
      "    accuracy                           0.82        39\n",
      "   macro avg       0.79      0.86      0.81        39\n",
      "weighted avg       0.85      0.82      0.82        39\n",
      "\n"
     ]
    }
   ],
   "source": [
    "print(classification_report(Y_test, Y_pred))"
   ]
  },
  {
   "cell_type": "code",
   "execution_count": 113,
   "id": "61519b45",
   "metadata": {},
   "outputs": [
    {
     "data": {
      "text/plain": [
       "0.8205128205128205"
      ]
     },
     "execution_count": 113,
     "metadata": {},
     "output_type": "execute_result"
    }
   ],
   "source": [
    "accuracy_score(Y_test,Y_pred)"
   ]
  },
  {
   "cell_type": "code",
   "execution_count": null,
   "id": "70856048",
   "metadata": {},
   "outputs": [],
   "source": []
  }
 ],
 "metadata": {
  "kernelspec": {
   "display_name": "Python 3 (ipykernel)",
   "language": "python",
   "name": "python3"
  },
  "language_info": {
   "codemirror_mode": {
    "name": "ipython",
    "version": 3
   },
   "file_extension": ".py",
   "mimetype": "text/x-python",
   "name": "python",
   "nbconvert_exporter": "python",
   "pygments_lexer": "ipython3",
   "version": "3.9.13"
  }
 },
 "nbformat": 4,
 "nbformat_minor": 5
}
