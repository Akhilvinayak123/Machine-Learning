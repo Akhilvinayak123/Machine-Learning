{
 "cells": [
  {
   "cell_type": "code",
   "execution_count": 1,
   "id": "eefc9588",
   "metadata": {},
   "outputs": [],
   "source": [
    "import pandas as pd\n",
    "import numpy as np\n",
    "import seaborn as sns\n",
    "import matplotlib.pyplot as plt\n"
   ]
  },
  {
   "cell_type": "code",
   "execution_count": 2,
   "id": "18264b16",
   "metadata": {},
   "outputs": [],
   "source": [
    "pd.options.mode.chained_assignment = None"
   ]
  },
  {
   "cell_type": "code",
   "execution_count": 3,
   "id": "a6bb23f4",
   "metadata": {},
   "outputs": [],
   "source": [
    "lf = pd.read_excel(\"LP1.xlsx\")"
   ]
  },
  {
   "cell_type": "code",
   "execution_count": 4,
   "id": "b7083eb5",
   "metadata": {},
   "outputs": [
    {
     "data": {
      "text/html": [
       "<div>\n",
       "<style scoped>\n",
       "    .dataframe tbody tr th:only-of-type {\n",
       "        vertical-align: middle;\n",
       "    }\n",
       "\n",
       "    .dataframe tbody tr th {\n",
       "        vertical-align: top;\n",
       "    }\n",
       "\n",
       "    .dataframe thead th {\n",
       "        text-align: right;\n",
       "    }\n",
       "</style>\n",
       "<table border=\"1\" class=\"dataframe\">\n",
       "  <thead>\n",
       "    <tr style=\"text-align: right;\">\n",
       "      <th></th>\n",
       "      <th>normal</th>\n",
       "      <th>Fx</th>\n",
       "      <th>Fy</th>\n",
       "      <th>Fz</th>\n",
       "      <th>Tx</th>\n",
       "      <th>Ty</th>\n",
       "      <th>Tz</th>\n",
       "    </tr>\n",
       "  </thead>\n",
       "  <tbody>\n",
       "    <tr>\n",
       "      <th>0</th>\n",
       "      <td>NaN</td>\n",
       "      <td>-1.0</td>\n",
       "      <td>-1.0</td>\n",
       "      <td>63.0</td>\n",
       "      <td>-3.0</td>\n",
       "      <td>-1.0</td>\n",
       "      <td>0.0</td>\n",
       "    </tr>\n",
       "    <tr>\n",
       "      <th>1</th>\n",
       "      <td>NaN</td>\n",
       "      <td>0.0</td>\n",
       "      <td>0.0</td>\n",
       "      <td>62.0</td>\n",
       "      <td>-3.0</td>\n",
       "      <td>-1.0</td>\n",
       "      <td>0.0</td>\n",
       "    </tr>\n",
       "    <tr>\n",
       "      <th>2</th>\n",
       "      <td>NaN</td>\n",
       "      <td>-1.0</td>\n",
       "      <td>-1.0</td>\n",
       "      <td>61.0</td>\n",
       "      <td>-3.0</td>\n",
       "      <td>0.0</td>\n",
       "      <td>0.0</td>\n",
       "    </tr>\n",
       "    <tr>\n",
       "      <th>3</th>\n",
       "      <td>NaN</td>\n",
       "      <td>-1.0</td>\n",
       "      <td>-1.0</td>\n",
       "      <td>63.0</td>\n",
       "      <td>-2.0</td>\n",
       "      <td>-1.0</td>\n",
       "      <td>0.0</td>\n",
       "    </tr>\n",
       "    <tr>\n",
       "      <th>4</th>\n",
       "      <td>NaN</td>\n",
       "      <td>-1.0</td>\n",
       "      <td>-1.0</td>\n",
       "      <td>63.0</td>\n",
       "      <td>-3.0</td>\n",
       "      <td>-1.0</td>\n",
       "      <td>0.0</td>\n",
       "    </tr>\n",
       "    <tr>\n",
       "      <th>...</th>\n",
       "      <td>...</td>\n",
       "      <td>...</td>\n",
       "      <td>...</td>\n",
       "      <td>...</td>\n",
       "      <td>...</td>\n",
       "      <td>...</td>\n",
       "      <td>...</td>\n",
       "    </tr>\n",
       "    <tr>\n",
       "      <th>1576</th>\n",
       "      <td>NaN</td>\n",
       "      <td>-10.0</td>\n",
       "      <td>2.0</td>\n",
       "      <td>39.0</td>\n",
       "      <td>-21.0</td>\n",
       "      <td>-24.0</td>\n",
       "      <td>5.0</td>\n",
       "    </tr>\n",
       "    <tr>\n",
       "      <th>1577</th>\n",
       "      <td>NaN</td>\n",
       "      <td>-11.0</td>\n",
       "      <td>2.0</td>\n",
       "      <td>38.0</td>\n",
       "      <td>-24.0</td>\n",
       "      <td>-22.0</td>\n",
       "      <td>6.0</td>\n",
       "    </tr>\n",
       "    <tr>\n",
       "      <th>1578</th>\n",
       "      <td>NaN</td>\n",
       "      <td>-12.0</td>\n",
       "      <td>3.0</td>\n",
       "      <td>23.0</td>\n",
       "      <td>-24.0</td>\n",
       "      <td>-24.0</td>\n",
       "      <td>5.0</td>\n",
       "    </tr>\n",
       "    <tr>\n",
       "      <th>1579</th>\n",
       "      <td>NaN</td>\n",
       "      <td>-13.0</td>\n",
       "      <td>4.0</td>\n",
       "      <td>26.0</td>\n",
       "      <td>-29.0</td>\n",
       "      <td>-27.0</td>\n",
       "      <td>5.0</td>\n",
       "    </tr>\n",
       "    <tr>\n",
       "      <th>1580</th>\n",
       "      <td>NaN</td>\n",
       "      <td>-13.0</td>\n",
       "      <td>2.0</td>\n",
       "      <td>15.0</td>\n",
       "      <td>-25.0</td>\n",
       "      <td>-25.0</td>\n",
       "      <td>6.0</td>\n",
       "    </tr>\n",
       "  </tbody>\n",
       "</table>\n",
       "<p>1581 rows × 7 columns</p>\n",
       "</div>"
      ],
      "text/plain": [
       "     normal    Fx   Fy    Fz    Tx    Ty   Tz\n",
       "0       NaN  -1.0 -1.0  63.0  -3.0  -1.0  0.0\n",
       "1       NaN   0.0  0.0  62.0  -3.0  -1.0  0.0\n",
       "2       NaN  -1.0 -1.0  61.0  -3.0   0.0  0.0\n",
       "3       NaN  -1.0 -1.0  63.0  -2.0  -1.0  0.0\n",
       "4       NaN  -1.0 -1.0  63.0  -3.0  -1.0  0.0\n",
       "...     ...   ...  ...   ...   ...   ...  ...\n",
       "1576    NaN -10.0  2.0  39.0 -21.0 -24.0  5.0\n",
       "1577    NaN -11.0  2.0  38.0 -24.0 -22.0  6.0\n",
       "1578    NaN -12.0  3.0  23.0 -24.0 -24.0  5.0\n",
       "1579    NaN -13.0  4.0  26.0 -29.0 -27.0  5.0\n",
       "1580    NaN -13.0  2.0  15.0 -25.0 -25.0  6.0\n",
       "\n",
       "[1581 rows x 7 columns]"
      ]
     },
     "execution_count": 4,
     "metadata": {},
     "output_type": "execute_result"
    }
   ],
   "source": [
    "lf"
   ]
  },
  {
   "cell_type": "code",
   "execution_count": 5,
   "id": "e58f8669",
   "metadata": {},
   "outputs": [],
   "source": [
    "lfnew = lf[[\"Fx\", \"Fy\", \"Fz\", \"Tx\", \"Ty\", \"Tz\"]].copy()\n"
   ]
  },
  {
   "cell_type": "code",
   "execution_count": 6,
   "id": "84f7b004",
   "metadata": {},
   "outputs": [],
   "source": [
    "lf2=lfnew.dropna()\n"
   ]
  },
  {
   "cell_type": "code",
   "execution_count": 7,
   "id": "0c8f3df2",
   "metadata": {
    "scrolled": true
   },
   "outputs": [
    {
     "data": {
      "text/html": [
       "<div>\n",
       "<style scoped>\n",
       "    .dataframe tbody tr th:only-of-type {\n",
       "        vertical-align: middle;\n",
       "    }\n",
       "\n",
       "    .dataframe tbody tr th {\n",
       "        vertical-align: top;\n",
       "    }\n",
       "\n",
       "    .dataframe thead th {\n",
       "        text-align: right;\n",
       "    }\n",
       "</style>\n",
       "<table border=\"1\" class=\"dataframe\">\n",
       "  <thead>\n",
       "    <tr style=\"text-align: right;\">\n",
       "      <th></th>\n",
       "      <th>Fx</th>\n",
       "      <th>Fy</th>\n",
       "      <th>Fz</th>\n",
       "      <th>Tx</th>\n",
       "      <th>Ty</th>\n",
       "      <th>Tz</th>\n",
       "    </tr>\n",
       "  </thead>\n",
       "  <tbody>\n",
       "    <tr>\n",
       "      <th>0</th>\n",
       "      <td>-1.0</td>\n",
       "      <td>-1.0</td>\n",
       "      <td>63.0</td>\n",
       "      <td>-3.0</td>\n",
       "      <td>-1.0</td>\n",
       "      <td>0.0</td>\n",
       "    </tr>\n",
       "    <tr>\n",
       "      <th>1</th>\n",
       "      <td>0.0</td>\n",
       "      <td>0.0</td>\n",
       "      <td>62.0</td>\n",
       "      <td>-3.0</td>\n",
       "      <td>-1.0</td>\n",
       "      <td>0.0</td>\n",
       "    </tr>\n",
       "    <tr>\n",
       "      <th>2</th>\n",
       "      <td>-1.0</td>\n",
       "      <td>-1.0</td>\n",
       "      <td>61.0</td>\n",
       "      <td>-3.0</td>\n",
       "      <td>0.0</td>\n",
       "      <td>0.0</td>\n",
       "    </tr>\n",
       "    <tr>\n",
       "      <th>3</th>\n",
       "      <td>-1.0</td>\n",
       "      <td>-1.0</td>\n",
       "      <td>63.0</td>\n",
       "      <td>-2.0</td>\n",
       "      <td>-1.0</td>\n",
       "      <td>0.0</td>\n",
       "    </tr>\n",
       "    <tr>\n",
       "      <th>4</th>\n",
       "      <td>-1.0</td>\n",
       "      <td>-1.0</td>\n",
       "      <td>63.0</td>\n",
       "      <td>-3.0</td>\n",
       "      <td>-1.0</td>\n",
       "      <td>0.0</td>\n",
       "    </tr>\n",
       "    <tr>\n",
       "      <th>...</th>\n",
       "      <td>...</td>\n",
       "      <td>...</td>\n",
       "      <td>...</td>\n",
       "      <td>...</td>\n",
       "      <td>...</td>\n",
       "      <td>...</td>\n",
       "    </tr>\n",
       "    <tr>\n",
       "      <th>1576</th>\n",
       "      <td>-10.0</td>\n",
       "      <td>2.0</td>\n",
       "      <td>39.0</td>\n",
       "      <td>-21.0</td>\n",
       "      <td>-24.0</td>\n",
       "      <td>5.0</td>\n",
       "    </tr>\n",
       "    <tr>\n",
       "      <th>1577</th>\n",
       "      <td>-11.0</td>\n",
       "      <td>2.0</td>\n",
       "      <td>38.0</td>\n",
       "      <td>-24.0</td>\n",
       "      <td>-22.0</td>\n",
       "      <td>6.0</td>\n",
       "    </tr>\n",
       "    <tr>\n",
       "      <th>1578</th>\n",
       "      <td>-12.0</td>\n",
       "      <td>3.0</td>\n",
       "      <td>23.0</td>\n",
       "      <td>-24.0</td>\n",
       "      <td>-24.0</td>\n",
       "      <td>5.0</td>\n",
       "    </tr>\n",
       "    <tr>\n",
       "      <th>1579</th>\n",
       "      <td>-13.0</td>\n",
       "      <td>4.0</td>\n",
       "      <td>26.0</td>\n",
       "      <td>-29.0</td>\n",
       "      <td>-27.0</td>\n",
       "      <td>5.0</td>\n",
       "    </tr>\n",
       "    <tr>\n",
       "      <th>1580</th>\n",
       "      <td>-13.0</td>\n",
       "      <td>2.0</td>\n",
       "      <td>15.0</td>\n",
       "      <td>-25.0</td>\n",
       "      <td>-25.0</td>\n",
       "      <td>6.0</td>\n",
       "    </tr>\n",
       "  </tbody>\n",
       "</table>\n",
       "<p>1320 rows × 6 columns</p>\n",
       "</div>"
      ],
      "text/plain": [
       "        Fx   Fy    Fz    Tx    Ty   Tz\n",
       "0     -1.0 -1.0  63.0  -3.0  -1.0  0.0\n",
       "1      0.0  0.0  62.0  -3.0  -1.0  0.0\n",
       "2     -1.0 -1.0  61.0  -3.0   0.0  0.0\n",
       "3     -1.0 -1.0  63.0  -2.0  -1.0  0.0\n",
       "4     -1.0 -1.0  63.0  -3.0  -1.0  0.0\n",
       "...    ...  ...   ...   ...   ...  ...\n",
       "1576 -10.0  2.0  39.0 -21.0 -24.0  5.0\n",
       "1577 -11.0  2.0  38.0 -24.0 -22.0  6.0\n",
       "1578 -12.0  3.0  23.0 -24.0 -24.0  5.0\n",
       "1579 -13.0  4.0  26.0 -29.0 -27.0  5.0\n",
       "1580 -13.0  2.0  15.0 -25.0 -25.0  6.0\n",
       "\n",
       "[1320 rows x 6 columns]"
      ]
     },
     "execution_count": 7,
     "metadata": {},
     "output_type": "execute_result"
    }
   ],
   "source": [
    "lf2\n"
   ]
  },
  {
   "cell_type": "code",
   "execution_count": 8,
   "id": "90e715e6",
   "metadata": {},
   "outputs": [],
   "source": [
    "lf2 = lf2.reset_index(drop = True)\n"
   ]
  },
  {
   "cell_type": "code",
   "execution_count": 9,
   "id": "457de267",
   "metadata": {},
   "outputs": [],
   "source": [
    "lf3 = lf2.groupby(np.arange(len(lf2))//15).mean()\n"
   ]
  },
  {
   "cell_type": "code",
   "execution_count": 10,
   "id": "2612c363",
   "metadata": {},
   "outputs": [
    {
     "data": {
      "text/html": [
       "<div>\n",
       "<style scoped>\n",
       "    .dataframe tbody tr th:only-of-type {\n",
       "        vertical-align: middle;\n",
       "    }\n",
       "\n",
       "    .dataframe tbody tr th {\n",
       "        vertical-align: top;\n",
       "    }\n",
       "\n",
       "    .dataframe thead th {\n",
       "        text-align: right;\n",
       "    }\n",
       "</style>\n",
       "<table border=\"1\" class=\"dataframe\">\n",
       "  <thead>\n",
       "    <tr style=\"text-align: right;\">\n",
       "      <th></th>\n",
       "      <th>Fx</th>\n",
       "      <th>Fy</th>\n",
       "      <th>Fz</th>\n",
       "      <th>Tx</th>\n",
       "      <th>Ty</th>\n",
       "      <th>Tz</th>\n",
       "    </tr>\n",
       "  </thead>\n",
       "  <tbody>\n",
       "    <tr>\n",
       "      <th>0</th>\n",
       "      <td>-0.933333</td>\n",
       "      <td>-0.866667</td>\n",
       "      <td>62.533333</td>\n",
       "      <td>-2.866667</td>\n",
       "      <td>-0.666667</td>\n",
       "      <td>0.000000</td>\n",
       "    </tr>\n",
       "    <tr>\n",
       "      <th>1</th>\n",
       "      <td>-0.866667</td>\n",
       "      <td>-0.666667</td>\n",
       "      <td>62.133333</td>\n",
       "      <td>-3.533333</td>\n",
       "      <td>-1.333333</td>\n",
       "      <td>-0.266667</td>\n",
       "    </tr>\n",
       "    <tr>\n",
       "      <th>2</th>\n",
       "      <td>-0.666667</td>\n",
       "      <td>-0.533333</td>\n",
       "      <td>61.133333</td>\n",
       "      <td>-4.000000</td>\n",
       "      <td>-1.933333</td>\n",
       "      <td>-0.266667</td>\n",
       "    </tr>\n",
       "    <tr>\n",
       "      <th>3</th>\n",
       "      <td>-0.400000</td>\n",
       "      <td>0.133333</td>\n",
       "      <td>62.200000</td>\n",
       "      <td>-6.200000</td>\n",
       "      <td>-1.066667</td>\n",
       "      <td>-0.333333</td>\n",
       "    </tr>\n",
       "    <tr>\n",
       "      <th>4</th>\n",
       "      <td>-0.600000</td>\n",
       "      <td>-0.266667</td>\n",
       "      <td>60.600000</td>\n",
       "      <td>-7.000000</td>\n",
       "      <td>-2.800000</td>\n",
       "      <td>-0.133333</td>\n",
       "    </tr>\n",
       "    <tr>\n",
       "      <th>...</th>\n",
       "      <td>...</td>\n",
       "      <td>...</td>\n",
       "      <td>...</td>\n",
       "      <td>...</td>\n",
       "      <td>...</td>\n",
       "      <td>...</td>\n",
       "    </tr>\n",
       "    <tr>\n",
       "      <th>83</th>\n",
       "      <td>-71.533333</td>\n",
       "      <td>41.333333</td>\n",
       "      <td>-711.400000</td>\n",
       "      <td>338.866667</td>\n",
       "      <td>99.266667</td>\n",
       "      <td>-15.466667</td>\n",
       "    </tr>\n",
       "    <tr>\n",
       "      <th>84</th>\n",
       "      <td>9.533333</td>\n",
       "      <td>9.666667</td>\n",
       "      <td>28.200000</td>\n",
       "      <td>-34.066667</td>\n",
       "      <td>4.333333</td>\n",
       "      <td>-3.466667</td>\n",
       "    </tr>\n",
       "    <tr>\n",
       "      <th>85</th>\n",
       "      <td>64.066667</td>\n",
       "      <td>33.866667</td>\n",
       "      <td>-147.733333</td>\n",
       "      <td>-65.800000</td>\n",
       "      <td>71.266667</td>\n",
       "      <td>-5.400000</td>\n",
       "    </tr>\n",
       "    <tr>\n",
       "      <th>86</th>\n",
       "      <td>300.600000</td>\n",
       "      <td>141.466667</td>\n",
       "      <td>-942.466667</td>\n",
       "      <td>-128.066667</td>\n",
       "      <td>394.466667</td>\n",
       "      <td>31.666667</td>\n",
       "    </tr>\n",
       "    <tr>\n",
       "      <th>87</th>\n",
       "      <td>-9.533333</td>\n",
       "      <td>2.466667</td>\n",
       "      <td>40.000000</td>\n",
       "      <td>-20.266667</td>\n",
       "      <td>-22.400000</td>\n",
       "      <td>4.866667</td>\n",
       "    </tr>\n",
       "  </tbody>\n",
       "</table>\n",
       "<p>88 rows × 6 columns</p>\n",
       "</div>"
      ],
      "text/plain": [
       "            Fx          Fy          Fz          Tx          Ty         Tz\n",
       "0    -0.933333   -0.866667   62.533333   -2.866667   -0.666667   0.000000\n",
       "1    -0.866667   -0.666667   62.133333   -3.533333   -1.333333  -0.266667\n",
       "2    -0.666667   -0.533333   61.133333   -4.000000   -1.933333  -0.266667\n",
       "3    -0.400000    0.133333   62.200000   -6.200000   -1.066667  -0.333333\n",
       "4    -0.600000   -0.266667   60.600000   -7.000000   -2.800000  -0.133333\n",
       "..         ...         ...         ...         ...         ...        ...\n",
       "83  -71.533333   41.333333 -711.400000  338.866667   99.266667 -15.466667\n",
       "84    9.533333    9.666667   28.200000  -34.066667    4.333333  -3.466667\n",
       "85   64.066667   33.866667 -147.733333  -65.800000   71.266667  -5.400000\n",
       "86  300.600000  141.466667 -942.466667 -128.066667  394.466667  31.666667\n",
       "87   -9.533333    2.466667   40.000000  -20.266667  -22.400000   4.866667\n",
       "\n",
       "[88 rows x 6 columns]"
      ]
     },
     "execution_count": 10,
     "metadata": {},
     "output_type": "execute_result"
    }
   ],
   "source": [
    "lf3\n"
   ]
  },
  {
   "cell_type": "code",
   "execution_count": 11,
   "id": "9949328a",
   "metadata": {},
   "outputs": [],
   "source": [
    "lf5 = pd.read_excel(\"LP1types.xlsx\")\n"
   ]
  },
  {
   "cell_type": "code",
   "execution_count": 12,
   "id": "46fd2fe1",
   "metadata": {},
   "outputs": [
    {
     "data": {
      "text/html": [
       "<div>\n",
       "<style scoped>\n",
       "    .dataframe tbody tr th:only-of-type {\n",
       "        vertical-align: middle;\n",
       "    }\n",
       "\n",
       "    .dataframe tbody tr th {\n",
       "        vertical-align: top;\n",
       "    }\n",
       "\n",
       "    .dataframe thead th {\n",
       "        text-align: right;\n",
       "    }\n",
       "</style>\n",
       "<table border=\"1\" class=\"dataframe\">\n",
       "  <thead>\n",
       "    <tr style=\"text-align: right;\">\n",
       "      <th></th>\n",
       "      <th>Failure_type</th>\n",
       "    </tr>\n",
       "  </thead>\n",
       "  <tbody>\n",
       "    <tr>\n",
       "      <th>0</th>\n",
       "      <td>normal</td>\n",
       "    </tr>\n",
       "    <tr>\n",
       "      <th>1</th>\n",
       "      <td>NaN</td>\n",
       "    </tr>\n",
       "    <tr>\n",
       "      <th>2</th>\n",
       "      <td>NaN</td>\n",
       "    </tr>\n",
       "    <tr>\n",
       "      <th>3</th>\n",
       "      <td>NaN</td>\n",
       "    </tr>\n",
       "    <tr>\n",
       "      <th>4</th>\n",
       "      <td>NaN</td>\n",
       "    </tr>\n",
       "    <tr>\n",
       "      <th>...</th>\n",
       "      <td>...</td>\n",
       "    </tr>\n",
       "    <tr>\n",
       "      <th>1561</th>\n",
       "      <td>NaN</td>\n",
       "    </tr>\n",
       "    <tr>\n",
       "      <th>1562</th>\n",
       "      <td>NaN</td>\n",
       "    </tr>\n",
       "    <tr>\n",
       "      <th>1563</th>\n",
       "      <td>NaN</td>\n",
       "    </tr>\n",
       "    <tr>\n",
       "      <th>1564</th>\n",
       "      <td>NaN</td>\n",
       "    </tr>\n",
       "    <tr>\n",
       "      <th>1565</th>\n",
       "      <td>fr_collision</td>\n",
       "    </tr>\n",
       "  </tbody>\n",
       "</table>\n",
       "<p>1566 rows × 1 columns</p>\n",
       "</div>"
      ],
      "text/plain": [
       "      Failure_type\n",
       "0           normal\n",
       "1              NaN\n",
       "2              NaN\n",
       "3              NaN\n",
       "4              NaN\n",
       "...            ...\n",
       "1561           NaN\n",
       "1562           NaN\n",
       "1563           NaN\n",
       "1564           NaN\n",
       "1565  fr_collision\n",
       "\n",
       "[1566 rows x 1 columns]"
      ]
     },
     "execution_count": 12,
     "metadata": {},
     "output_type": "execute_result"
    }
   ],
   "source": [
    "lf5\n"
   ]
  },
  {
   "cell_type": "code",
   "execution_count": 13,
   "id": "e40a48a9",
   "metadata": {},
   "outputs": [],
   "source": [
    "lf5 = lf5.dropna(axis = 0)\n"
   ]
  },
  {
   "cell_type": "code",
   "execution_count": 14,
   "id": "a8020809",
   "metadata": {},
   "outputs": [],
   "source": [
    "lf5 = lf5.reset_index(drop = True)\n"
   ]
  },
  {
   "cell_type": "code",
   "execution_count": 15,
   "id": "37fb6578",
   "metadata": {
    "scrolled": true
   },
   "outputs": [
    {
     "data": {
      "text/html": [
       "<div>\n",
       "<style scoped>\n",
       "    .dataframe tbody tr th:only-of-type {\n",
       "        vertical-align: middle;\n",
       "    }\n",
       "\n",
       "    .dataframe tbody tr th {\n",
       "        vertical-align: top;\n",
       "    }\n",
       "\n",
       "    .dataframe thead th {\n",
       "        text-align: right;\n",
       "    }\n",
       "</style>\n",
       "<table border=\"1\" class=\"dataframe\">\n",
       "  <thead>\n",
       "    <tr style=\"text-align: right;\">\n",
       "      <th></th>\n",
       "      <th>Failure_type</th>\n",
       "    </tr>\n",
       "  </thead>\n",
       "  <tbody>\n",
       "    <tr>\n",
       "      <th>0</th>\n",
       "      <td>normal</td>\n",
       "    </tr>\n",
       "    <tr>\n",
       "      <th>1</th>\n",
       "      <td>normal</td>\n",
       "    </tr>\n",
       "    <tr>\n",
       "      <th>2</th>\n",
       "      <td>normal</td>\n",
       "    </tr>\n",
       "    <tr>\n",
       "      <th>3</th>\n",
       "      <td>normal</td>\n",
       "    </tr>\n",
       "    <tr>\n",
       "      <th>4</th>\n",
       "      <td>normal</td>\n",
       "    </tr>\n",
       "    <tr>\n",
       "      <th>5</th>\n",
       "      <td>normal</td>\n",
       "    </tr>\n",
       "    <tr>\n",
       "      <th>6</th>\n",
       "      <td>normal</td>\n",
       "    </tr>\n",
       "    <tr>\n",
       "      <th>7</th>\n",
       "      <td>normal</td>\n",
       "    </tr>\n",
       "    <tr>\n",
       "      <th>8</th>\n",
       "      <td>normal</td>\n",
       "    </tr>\n",
       "    <tr>\n",
       "      <th>9</th>\n",
       "      <td>normal</td>\n",
       "    </tr>\n",
       "  </tbody>\n",
       "</table>\n",
       "</div>"
      ],
      "text/plain": [
       "  Failure_type\n",
       "0       normal\n",
       "1       normal\n",
       "2       normal\n",
       "3       normal\n",
       "4       normal\n",
       "5       normal\n",
       "6       normal\n",
       "7       normal\n",
       "8       normal\n",
       "9       normal"
      ]
     },
     "execution_count": 15,
     "metadata": {},
     "output_type": "execute_result"
    }
   ],
   "source": [
    "lf5.head(10)\n"
   ]
  },
  {
   "cell_type": "code",
   "execution_count": 16,
   "id": "6f287f47",
   "metadata": {},
   "outputs": [],
   "source": [
    "lf3[\"Failure_type\"] = lf5\n"
   ]
  },
  {
   "cell_type": "code",
   "execution_count": 17,
   "id": "53c09254",
   "metadata": {
    "scrolled": false
   },
   "outputs": [
    {
     "data": {
      "text/html": [
       "<div>\n",
       "<style scoped>\n",
       "    .dataframe tbody tr th:only-of-type {\n",
       "        vertical-align: middle;\n",
       "    }\n",
       "\n",
       "    .dataframe tbody tr th {\n",
       "        vertical-align: top;\n",
       "    }\n",
       "\n",
       "    .dataframe thead th {\n",
       "        text-align: right;\n",
       "    }\n",
       "</style>\n",
       "<table border=\"1\" class=\"dataframe\">\n",
       "  <thead>\n",
       "    <tr style=\"text-align: right;\">\n",
       "      <th></th>\n",
       "      <th>Fx</th>\n",
       "      <th>Fy</th>\n",
       "      <th>Fz</th>\n",
       "      <th>Tx</th>\n",
       "      <th>Ty</th>\n",
       "      <th>Tz</th>\n",
       "      <th>Failure_type</th>\n",
       "    </tr>\n",
       "  </thead>\n",
       "  <tbody>\n",
       "    <tr>\n",
       "      <th>0</th>\n",
       "      <td>-0.933333</td>\n",
       "      <td>-0.866667</td>\n",
       "      <td>62.533333</td>\n",
       "      <td>-2.866667</td>\n",
       "      <td>-0.666667</td>\n",
       "      <td>0.000000</td>\n",
       "      <td>normal</td>\n",
       "    </tr>\n",
       "    <tr>\n",
       "      <th>1</th>\n",
       "      <td>-0.866667</td>\n",
       "      <td>-0.666667</td>\n",
       "      <td>62.133333</td>\n",
       "      <td>-3.533333</td>\n",
       "      <td>-1.333333</td>\n",
       "      <td>-0.266667</td>\n",
       "      <td>normal</td>\n",
       "    </tr>\n",
       "    <tr>\n",
       "      <th>2</th>\n",
       "      <td>-0.666667</td>\n",
       "      <td>-0.533333</td>\n",
       "      <td>61.133333</td>\n",
       "      <td>-4.000000</td>\n",
       "      <td>-1.933333</td>\n",
       "      <td>-0.266667</td>\n",
       "      <td>normal</td>\n",
       "    </tr>\n",
       "    <tr>\n",
       "      <th>3</th>\n",
       "      <td>-0.400000</td>\n",
       "      <td>0.133333</td>\n",
       "      <td>62.200000</td>\n",
       "      <td>-6.200000</td>\n",
       "      <td>-1.066667</td>\n",
       "      <td>-0.333333</td>\n",
       "      <td>normal</td>\n",
       "    </tr>\n",
       "    <tr>\n",
       "      <th>4</th>\n",
       "      <td>-0.600000</td>\n",
       "      <td>-0.266667</td>\n",
       "      <td>60.600000</td>\n",
       "      <td>-7.000000</td>\n",
       "      <td>-2.800000</td>\n",
       "      <td>-0.133333</td>\n",
       "      <td>normal</td>\n",
       "    </tr>\n",
       "    <tr>\n",
       "      <th>...</th>\n",
       "      <td>...</td>\n",
       "      <td>...</td>\n",
       "      <td>...</td>\n",
       "      <td>...</td>\n",
       "      <td>...</td>\n",
       "      <td>...</td>\n",
       "      <td>...</td>\n",
       "    </tr>\n",
       "    <tr>\n",
       "      <th>83</th>\n",
       "      <td>-71.533333</td>\n",
       "      <td>41.333333</td>\n",
       "      <td>-711.400000</td>\n",
       "      <td>338.866667</td>\n",
       "      <td>99.266667</td>\n",
       "      <td>-15.466667</td>\n",
       "      <td>obstruction</td>\n",
       "    </tr>\n",
       "    <tr>\n",
       "      <th>84</th>\n",
       "      <td>9.533333</td>\n",
       "      <td>9.666667</td>\n",
       "      <td>28.200000</td>\n",
       "      <td>-34.066667</td>\n",
       "      <td>4.333333</td>\n",
       "      <td>-3.466667</td>\n",
       "      <td>fr_collision</td>\n",
       "    </tr>\n",
       "    <tr>\n",
       "      <th>85</th>\n",
       "      <td>64.066667</td>\n",
       "      <td>33.866667</td>\n",
       "      <td>-147.733333</td>\n",
       "      <td>-65.800000</td>\n",
       "      <td>71.266667</td>\n",
       "      <td>-5.400000</td>\n",
       "      <td>obstruction</td>\n",
       "    </tr>\n",
       "    <tr>\n",
       "      <th>86</th>\n",
       "      <td>300.600000</td>\n",
       "      <td>141.466667</td>\n",
       "      <td>-942.466667</td>\n",
       "      <td>-128.066667</td>\n",
       "      <td>394.466667</td>\n",
       "      <td>31.666667</td>\n",
       "      <td>obstruction</td>\n",
       "    </tr>\n",
       "    <tr>\n",
       "      <th>87</th>\n",
       "      <td>-9.533333</td>\n",
       "      <td>2.466667</td>\n",
       "      <td>40.000000</td>\n",
       "      <td>-20.266667</td>\n",
       "      <td>-22.400000</td>\n",
       "      <td>4.866667</td>\n",
       "      <td>fr_collision</td>\n",
       "    </tr>\n",
       "  </tbody>\n",
       "</table>\n",
       "<p>88 rows × 7 columns</p>\n",
       "</div>"
      ],
      "text/plain": [
       "            Fx          Fy          Fz          Tx          Ty         Tz  \\\n",
       "0    -0.933333   -0.866667   62.533333   -2.866667   -0.666667   0.000000   \n",
       "1    -0.866667   -0.666667   62.133333   -3.533333   -1.333333  -0.266667   \n",
       "2    -0.666667   -0.533333   61.133333   -4.000000   -1.933333  -0.266667   \n",
       "3    -0.400000    0.133333   62.200000   -6.200000   -1.066667  -0.333333   \n",
       "4    -0.600000   -0.266667   60.600000   -7.000000   -2.800000  -0.133333   \n",
       "..         ...         ...         ...         ...         ...        ...   \n",
       "83  -71.533333   41.333333 -711.400000  338.866667   99.266667 -15.466667   \n",
       "84    9.533333    9.666667   28.200000  -34.066667    4.333333  -3.466667   \n",
       "85   64.066667   33.866667 -147.733333  -65.800000   71.266667  -5.400000   \n",
       "86  300.600000  141.466667 -942.466667 -128.066667  394.466667  31.666667   \n",
       "87   -9.533333    2.466667   40.000000  -20.266667  -22.400000   4.866667   \n",
       "\n",
       "    Failure_type  \n",
       "0         normal  \n",
       "1         normal  \n",
       "2         normal  \n",
       "3         normal  \n",
       "4         normal  \n",
       "..           ...  \n",
       "83   obstruction  \n",
       "84  fr_collision  \n",
       "85   obstruction  \n",
       "86   obstruction  \n",
       "87  fr_collision  \n",
       "\n",
       "[88 rows x 7 columns]"
      ]
     },
     "execution_count": 17,
     "metadata": {},
     "output_type": "execute_result"
    }
   ],
   "source": [
    "lf3\n"
   ]
  },
  {
   "cell_type": "code",
   "execution_count": 18,
   "id": "70b5bc3e",
   "metadata": {},
   "outputs": [],
   "source": [
    "lf3.to_csv('LP1S.csv')\n"
   ]
  },
  {
   "cell_type": "code",
   "execution_count": 19,
   "id": "793c6569",
   "metadata": {
    "scrolled": true
   },
   "outputs": [
    {
     "data": {
      "image/png": "[encoded data removed]",
      "text/plain": [
       "<Figure size 640x480 with 1 Axes>"
      ]
     },
     "metadata": {},
     "output_type": "display_data"
    }
   ],
   "source": [
    "\n",
    "sns.countplot(x = \"Failure_type\", data = lf3);\n"
   ]
  },
  {
   "cell_type": "code",
   "execution_count": 20,
   "id": "4e413806",
   "metadata": {},
   "outputs": [
    {
     "data": {
      "image/png": "[encoded data removed]",
      "text/plain": [
       "<Figure size 640x480 with 6 Axes>"
      ]
     },
     "metadata": {},
     "output_type": "display_data"
    }
   ],
   "source": [
    "fig, axes = plt.subplots(6)\n",
    "sns.boxplot(x = \"Fx\", data = lf3, ax =axes[0]);\n",
    "sns.boxplot(x = \"Fy\", data = lf3, ax =axes[1]);\n",
    "sns.boxplot(x = \"Fz\", data = lf3, ax =axes[2]);\n",
    "sns.boxplot(x = \"Tx\", data = lf3, ax =axes[3]);\n",
    "sns.boxplot(x = \"Ty\", data = lf3, ax =axes[4]);\n",
    "sns.boxplot(x = \"Tz\", data = lf3, ax =axes[5]);\n",
    "\n",
    "\n"
   ]
  },
  {
   "cell_type": "markdown",
   "id": "62a751e8",
   "metadata": {},
   "source": [
    "# Dataset"
   ]
  },
  {
   "cell_type": "code",
   "execution_count": 21,
   "id": "5316899c",
   "metadata": {},
   "outputs": [
    {
     "data": {
      "text/html": [
       "<div>\n",
       "<style scoped>\n",
       "    .dataframe tbody tr th:only-of-type {\n",
       "        vertical-align: middle;\n",
       "    }\n",
       "\n",
       "    .dataframe tbody tr th {\n",
       "        vertical-align: top;\n",
       "    }\n",
       "\n",
       "    .dataframe thead th {\n",
       "        text-align: right;\n",
       "    }\n",
       "</style>\n",
       "<table border=\"1\" class=\"dataframe\">\n",
       "  <thead>\n",
       "    <tr style=\"text-align: right;\">\n",
       "      <th></th>\n",
       "      <th>Fx</th>\n",
       "      <th>Fy</th>\n",
       "      <th>Fz</th>\n",
       "      <th>Tx</th>\n",
       "      <th>Ty</th>\n",
       "      <th>Tz</th>\n",
       "      <th>Failure_type</th>\n",
       "    </tr>\n",
       "  </thead>\n",
       "  <tbody>\n",
       "    <tr>\n",
       "      <th>0</th>\n",
       "      <td>-0.933333</td>\n",
       "      <td>-0.866667</td>\n",
       "      <td>62.533333</td>\n",
       "      <td>-2.866667</td>\n",
       "      <td>-0.666667</td>\n",
       "      <td>0.000000</td>\n",
       "      <td>normal</td>\n",
       "    </tr>\n",
       "    <tr>\n",
       "      <th>1</th>\n",
       "      <td>-0.866667</td>\n",
       "      <td>-0.666667</td>\n",
       "      <td>62.133333</td>\n",
       "      <td>-3.533333</td>\n",
       "      <td>-1.333333</td>\n",
       "      <td>-0.266667</td>\n",
       "      <td>normal</td>\n",
       "    </tr>\n",
       "    <tr>\n",
       "      <th>2</th>\n",
       "      <td>-0.666667</td>\n",
       "      <td>-0.533333</td>\n",
       "      <td>61.133333</td>\n",
       "      <td>-4.000000</td>\n",
       "      <td>-1.933333</td>\n",
       "      <td>-0.266667</td>\n",
       "      <td>normal</td>\n",
       "    </tr>\n",
       "    <tr>\n",
       "      <th>3</th>\n",
       "      <td>-0.400000</td>\n",
       "      <td>0.133333</td>\n",
       "      <td>62.200000</td>\n",
       "      <td>-6.200000</td>\n",
       "      <td>-1.066667</td>\n",
       "      <td>-0.333333</td>\n",
       "      <td>normal</td>\n",
       "    </tr>\n",
       "    <tr>\n",
       "      <th>4</th>\n",
       "      <td>-0.600000</td>\n",
       "      <td>-0.266667</td>\n",
       "      <td>60.600000</td>\n",
       "      <td>-7.000000</td>\n",
       "      <td>-2.800000</td>\n",
       "      <td>-0.133333</td>\n",
       "      <td>normal</td>\n",
       "    </tr>\n",
       "    <tr>\n",
       "      <th>...</th>\n",
       "      <td>...</td>\n",
       "      <td>...</td>\n",
       "      <td>...</td>\n",
       "      <td>...</td>\n",
       "      <td>...</td>\n",
       "      <td>...</td>\n",
       "      <td>...</td>\n",
       "    </tr>\n",
       "    <tr>\n",
       "      <th>83</th>\n",
       "      <td>-71.533333</td>\n",
       "      <td>41.333333</td>\n",
       "      <td>-711.400000</td>\n",
       "      <td>338.866667</td>\n",
       "      <td>99.266667</td>\n",
       "      <td>-15.466667</td>\n",
       "      <td>obstruction</td>\n",
       "    </tr>\n",
       "    <tr>\n",
       "      <th>84</th>\n",
       "      <td>9.533333</td>\n",
       "      <td>9.666667</td>\n",
       "      <td>28.200000</td>\n",
       "      <td>-34.066667</td>\n",
       "      <td>4.333333</td>\n",
       "      <td>-3.466667</td>\n",
       "      <td>fr_collision</td>\n",
       "    </tr>\n",
       "    <tr>\n",
       "      <th>85</th>\n",
       "      <td>64.066667</td>\n",
       "      <td>33.866667</td>\n",
       "      <td>-147.733333</td>\n",
       "      <td>-65.800000</td>\n",
       "      <td>71.266667</td>\n",
       "      <td>-5.400000</td>\n",
       "      <td>obstruction</td>\n",
       "    </tr>\n",
       "    <tr>\n",
       "      <th>86</th>\n",
       "      <td>300.600000</td>\n",
       "      <td>141.466667</td>\n",
       "      <td>-942.466667</td>\n",
       "      <td>-128.066667</td>\n",
       "      <td>394.466667</td>\n",
       "      <td>31.666667</td>\n",
       "      <td>obstruction</td>\n",
       "    </tr>\n",
       "    <tr>\n",
       "      <th>87</th>\n",
       "      <td>-9.533333</td>\n",
       "      <td>2.466667</td>\n",
       "      <td>40.000000</td>\n",
       "      <td>-20.266667</td>\n",
       "      <td>-22.400000</td>\n",
       "      <td>4.866667</td>\n",
       "      <td>fr_collision</td>\n",
       "    </tr>\n",
       "  </tbody>\n",
       "</table>\n",
       "<p>88 rows × 7 columns</p>\n",
       "</div>"
      ],
      "text/plain": [
       "            Fx          Fy          Fz          Tx          Ty         Tz  \\\n",
       "0    -0.933333   -0.866667   62.533333   -2.866667   -0.666667   0.000000   \n",
       "1    -0.866667   -0.666667   62.133333   -3.533333   -1.333333  -0.266667   \n",
       "2    -0.666667   -0.533333   61.133333   -4.000000   -1.933333  -0.266667   \n",
       "3    -0.400000    0.133333   62.200000   -6.200000   -1.066667  -0.333333   \n",
       "4    -0.600000   -0.266667   60.600000   -7.000000   -2.800000  -0.133333   \n",
       "..         ...         ...         ...         ...         ...        ...   \n",
       "83  -71.533333   41.333333 -711.400000  338.866667   99.266667 -15.466667   \n",
       "84    9.533333    9.666667   28.200000  -34.066667    4.333333  -3.466667   \n",
       "85   64.066667   33.866667 -147.733333  -65.800000   71.266667  -5.400000   \n",
       "86  300.600000  141.466667 -942.466667 -128.066667  394.466667  31.666667   \n",
       "87   -9.533333    2.466667   40.000000  -20.266667  -22.400000   4.866667   \n",
       "\n",
       "    Failure_type  \n",
       "0         normal  \n",
       "1         normal  \n",
       "2         normal  \n",
       "3         normal  \n",
       "4         normal  \n",
       "..           ...  \n",
       "83   obstruction  \n",
       "84  fr_collision  \n",
       "85   obstruction  \n",
       "86   obstruction  \n",
       "87  fr_collision  \n",
       "\n",
       "[88 rows x 7 columns]"
      ]
     },
     "execution_count": 21,
     "metadata": {},
     "output_type": "execute_result"
    }
   ],
   "source": [
    "lf3"
   ]
  },
  {
   "cell_type": "markdown",
   "id": "8d596576",
   "metadata": {},
   "source": [
    "# Label encoder"
   ]
  },
  {
   "cell_type": "code",
   "execution_count": 22,
   "id": "a047fd75",
   "metadata": {
    "scrolled": true
   },
   "outputs": [
    {
     "data": {
      "text/html": [
       "<div>\n",
       "<style scoped>\n",
       "    .dataframe tbody tr th:only-of-type {\n",
       "        vertical-align: middle;\n",
       "    }\n",
       "\n",
       "    .dataframe tbody tr th {\n",
       "        vertical-align: top;\n",
       "    }\n",
       "\n",
       "    .dataframe thead th {\n",
       "        text-align: right;\n",
       "    }\n",
       "</style>\n",
       "<table border=\"1\" class=\"dataframe\">\n",
       "  <thead>\n",
       "    <tr style=\"text-align: right;\">\n",
       "      <th></th>\n",
       "      <th>Fx</th>\n",
       "      <th>Fy</th>\n",
       "      <th>Fz</th>\n",
       "      <th>Tx</th>\n",
       "      <th>Ty</th>\n",
       "      <th>Tz</th>\n",
       "      <th>Failure_type</th>\n",
       "    </tr>\n",
       "  </thead>\n",
       "  <tbody>\n",
       "    <tr>\n",
       "      <th>0</th>\n",
       "      <td>-0.933333</td>\n",
       "      <td>-0.866667</td>\n",
       "      <td>62.533333</td>\n",
       "      <td>-2.866667</td>\n",
       "      <td>-0.666667</td>\n",
       "      <td>0.000000</td>\n",
       "      <td>2</td>\n",
       "    </tr>\n",
       "    <tr>\n",
       "      <th>1</th>\n",
       "      <td>-0.866667</td>\n",
       "      <td>-0.666667</td>\n",
       "      <td>62.133333</td>\n",
       "      <td>-3.533333</td>\n",
       "      <td>-1.333333</td>\n",
       "      <td>-0.266667</td>\n",
       "      <td>2</td>\n",
       "    </tr>\n",
       "    <tr>\n",
       "      <th>2</th>\n",
       "      <td>-0.666667</td>\n",
       "      <td>-0.533333</td>\n",
       "      <td>61.133333</td>\n",
       "      <td>-4.000000</td>\n",
       "      <td>-1.933333</td>\n",
       "      <td>-0.266667</td>\n",
       "      <td>2</td>\n",
       "    </tr>\n",
       "    <tr>\n",
       "      <th>3</th>\n",
       "      <td>-0.400000</td>\n",
       "      <td>0.133333</td>\n",
       "      <td>62.200000</td>\n",
       "      <td>-6.200000</td>\n",
       "      <td>-1.066667</td>\n",
       "      <td>-0.333333</td>\n",
       "      <td>2</td>\n",
       "    </tr>\n",
       "    <tr>\n",
       "      <th>4</th>\n",
       "      <td>-0.600000</td>\n",
       "      <td>-0.266667</td>\n",
       "      <td>60.600000</td>\n",
       "      <td>-7.000000</td>\n",
       "      <td>-2.800000</td>\n",
       "      <td>-0.133333</td>\n",
       "      <td>2</td>\n",
       "    </tr>\n",
       "    <tr>\n",
       "      <th>...</th>\n",
       "      <td>...</td>\n",
       "      <td>...</td>\n",
       "      <td>...</td>\n",
       "      <td>...</td>\n",
       "      <td>...</td>\n",
       "      <td>...</td>\n",
       "      <td>...</td>\n",
       "    </tr>\n",
       "    <tr>\n",
       "      <th>83</th>\n",
       "      <td>-71.533333</td>\n",
       "      <td>41.333333</td>\n",
       "      <td>-711.400000</td>\n",
       "      <td>338.866667</td>\n",
       "      <td>99.266667</td>\n",
       "      <td>-15.466667</td>\n",
       "      <td>3</td>\n",
       "    </tr>\n",
       "    <tr>\n",
       "      <th>84</th>\n",
       "      <td>9.533333</td>\n",
       "      <td>9.666667</td>\n",
       "      <td>28.200000</td>\n",
       "      <td>-34.066667</td>\n",
       "      <td>4.333333</td>\n",
       "      <td>-3.466667</td>\n",
       "      <td>1</td>\n",
       "    </tr>\n",
       "    <tr>\n",
       "      <th>85</th>\n",
       "      <td>64.066667</td>\n",
       "      <td>33.866667</td>\n",
       "      <td>-147.733333</td>\n",
       "      <td>-65.800000</td>\n",
       "      <td>71.266667</td>\n",
       "      <td>-5.400000</td>\n",
       "      <td>3</td>\n",
       "    </tr>\n",
       "    <tr>\n",
       "      <th>86</th>\n",
       "      <td>300.600000</td>\n",
       "      <td>141.466667</td>\n",
       "      <td>-942.466667</td>\n",
       "      <td>-128.066667</td>\n",
       "      <td>394.466667</td>\n",
       "      <td>31.666667</td>\n",
       "      <td>3</td>\n",
       "    </tr>\n",
       "    <tr>\n",
       "      <th>87</th>\n",
       "      <td>-9.533333</td>\n",
       "      <td>2.466667</td>\n",
       "      <td>40.000000</td>\n",
       "      <td>-20.266667</td>\n",
       "      <td>-22.400000</td>\n",
       "      <td>4.866667</td>\n",
       "      <td>1</td>\n",
       "    </tr>\n",
       "  </tbody>\n",
       "</table>\n",
       "<p>88 rows × 7 columns</p>\n",
       "</div>"
      ],
      "text/plain": [
       "            Fx          Fy          Fz          Tx          Ty         Tz  \\\n",
       "0    -0.933333   -0.866667   62.533333   -2.866667   -0.666667   0.000000   \n",
       "1    -0.866667   -0.666667   62.133333   -3.533333   -1.333333  -0.266667   \n",
       "2    -0.666667   -0.533333   61.133333   -4.000000   -1.933333  -0.266667   \n",
       "3    -0.400000    0.133333   62.200000   -6.200000   -1.066667  -0.333333   \n",
       "4    -0.600000   -0.266667   60.600000   -7.000000   -2.800000  -0.133333   \n",
       "..         ...         ...         ...         ...         ...        ...   \n",
       "83  -71.533333   41.333333 -711.400000  338.866667   99.266667 -15.466667   \n",
       "84    9.533333    9.666667   28.200000  -34.066667    4.333333  -3.466667   \n",
       "85   64.066667   33.866667 -147.733333  -65.800000   71.266667  -5.400000   \n",
       "86  300.600000  141.466667 -942.466667 -128.066667  394.466667  31.666667   \n",
       "87   -9.533333    2.466667   40.000000  -20.266667  -22.400000   4.866667   \n",
       "\n",
       "    Failure_type  \n",
       "0              2  \n",
       "1              2  \n",
       "2              2  \n",
       "3              2  \n",
       "4              2  \n",
       "..           ...  \n",
       "83             3  \n",
       "84             1  \n",
       "85             3  \n",
       "86             3  \n",
       "87             1  \n",
       "\n",
       "[88 rows x 7 columns]"
      ]
     },
     "execution_count": 22,
     "metadata": {},
     "output_type": "execute_result"
    }
   ],
   "source": [
    "from sklearn import preprocessing\n",
    "le = preprocessing.LabelEncoder()\n",
    "lf3.Failure_type = le.fit_transform(lf3.Failure_type)\n",
    "lf3\n"
   ]
  },
  {
   "cell_type": "markdown",
   "id": "07a6279f",
   "metadata": {},
   "source": [
    "# Data split"
   ]
  },
  {
   "cell_type": "code",
   "execution_count": 23,
   "id": "dc85d26f",
   "metadata": {},
   "outputs": [],
   "source": [
    "from sklearn.model_selection import train_test_split\n",
    "X = lf3.drop(['Failure_type'], axis = 1)\n",
    "Y = lf3['Failure_type']\n",
    "X_train,X_test,Y_train,Y_test = train_test_split(X,Y, test_size =0.33,  random_state = 2)"
   ]
  },
  {
   "cell_type": "code",
   "execution_count": 24,
   "id": "e312af94",
   "metadata": {},
   "outputs": [
    {
     "data": {
      "text/html": [
       "<div>\n",
       "<style scoped>\n",
       "    .dataframe tbody tr th:only-of-type {\n",
       "        vertical-align: middle;\n",
       "    }\n",
       "\n",
       "    .dataframe tbody tr th {\n",
       "        vertical-align: top;\n",
       "    }\n",
       "\n",
       "    .dataframe thead th {\n",
       "        text-align: right;\n",
       "    }\n",
       "</style>\n",
       "<table border=\"1\" class=\"dataframe\">\n",
       "  <thead>\n",
       "    <tr style=\"text-align: right;\">\n",
       "      <th></th>\n",
       "      <th>Fx</th>\n",
       "      <th>Fy</th>\n",
       "      <th>Fz</th>\n",
       "      <th>Tx</th>\n",
       "      <th>Ty</th>\n",
       "      <th>Tz</th>\n",
       "    </tr>\n",
       "  </thead>\n",
       "  <tbody>\n",
       "    <tr>\n",
       "      <th>10</th>\n",
       "      <td>-0.866667</td>\n",
       "      <td>-0.733333</td>\n",
       "      <td>62.533333</td>\n",
       "      <td>-3.266667</td>\n",
       "      <td>-0.933333</td>\n",
       "      <td>-0.200000</td>\n",
       "    </tr>\n",
       "    <tr>\n",
       "      <th>30</th>\n",
       "      <td>2.866667</td>\n",
       "      <td>-10.600000</td>\n",
       "      <td>52.600000</td>\n",
       "      <td>4.000000</td>\n",
       "      <td>0.533333</td>\n",
       "      <td>-0.333333</td>\n",
       "    </tr>\n",
       "    <tr>\n",
       "      <th>50</th>\n",
       "      <td>5.000000</td>\n",
       "      <td>3.866667</td>\n",
       "      <td>-135.933333</td>\n",
       "      <td>-26.133333</td>\n",
       "      <td>-117.466667</td>\n",
       "      <td>-4.733333</td>\n",
       "    </tr>\n",
       "    <tr>\n",
       "      <th>68</th>\n",
       "      <td>-8.333333</td>\n",
       "      <td>11.266667</td>\n",
       "      <td>28.733333</td>\n",
       "      <td>-62.333333</td>\n",
       "      <td>-31.866667</td>\n",
       "      <td>0.800000</td>\n",
       "    </tr>\n",
       "    <tr>\n",
       "      <th>66</th>\n",
       "      <td>-2.000000</td>\n",
       "      <td>0.533333</td>\n",
       "      <td>-370.533333</td>\n",
       "      <td>-67.866667</td>\n",
       "      <td>-33.533333</td>\n",
       "      <td>-7.733333</td>\n",
       "    </tr>\n",
       "  </tbody>\n",
       "</table>\n",
       "</div>"
      ],
      "text/plain": [
       "          Fx         Fy          Fz         Tx          Ty        Tz\n",
       "10 -0.866667  -0.733333   62.533333  -3.266667   -0.933333 -0.200000\n",
       "30  2.866667 -10.600000   52.600000   4.000000    0.533333 -0.333333\n",
       "50  5.000000   3.866667 -135.933333 -26.133333 -117.466667 -4.733333\n",
       "68 -8.333333  11.266667   28.733333 -62.333333  -31.866667  0.800000\n",
       "66 -2.000000   0.533333 -370.533333 -67.866667  -33.533333 -7.733333"
      ]
     },
     "execution_count": 24,
     "metadata": {},
     "output_type": "execute_result"
    }
   ],
   "source": [
    "X_train.head()"
   ]
  },
  {
   "cell_type": "code",
   "execution_count": 25,
   "id": "bdf744b8",
   "metadata": {},
   "outputs": [
    {
     "data": {
      "text/html": [
       "<div>\n",
       "<style scoped>\n",
       "    .dataframe tbody tr th:only-of-type {\n",
       "        vertical-align: middle;\n",
       "    }\n",
       "\n",
       "    .dataframe tbody tr th {\n",
       "        vertical-align: top;\n",
       "    }\n",
       "\n",
       "    .dataframe thead th {\n",
       "        text-align: right;\n",
       "    }\n",
       "</style>\n",
       "<table border=\"1\" class=\"dataframe\">\n",
       "  <thead>\n",
       "    <tr style=\"text-align: right;\">\n",
       "      <th></th>\n",
       "      <th>Fx</th>\n",
       "      <th>Fy</th>\n",
       "      <th>Fz</th>\n",
       "      <th>Tx</th>\n",
       "      <th>Ty</th>\n",
       "      <th>Tz</th>\n",
       "    </tr>\n",
       "  </thead>\n",
       "  <tbody>\n",
       "    <tr>\n",
       "      <th>44</th>\n",
       "      <td>-12.866667</td>\n",
       "      <td>29.533333</td>\n",
       "      <td>-192.733333</td>\n",
       "      <td>113.266667</td>\n",
       "      <td>23.733333</td>\n",
       "      <td>4.733333</td>\n",
       "    </tr>\n",
       "    <tr>\n",
       "      <th>35</th>\n",
       "      <td>-11.400000</td>\n",
       "      <td>29.933333</td>\n",
       "      <td>-138.200000</td>\n",
       "      <td>46.266667</td>\n",
       "      <td>63.200000</td>\n",
       "      <td>3.866667</td>\n",
       "    </tr>\n",
       "    <tr>\n",
       "      <th>83</th>\n",
       "      <td>-71.533333</td>\n",
       "      <td>41.333333</td>\n",
       "      <td>-711.400000</td>\n",
       "      <td>338.866667</td>\n",
       "      <td>99.266667</td>\n",
       "      <td>-15.466667</td>\n",
       "    </tr>\n",
       "    <tr>\n",
       "      <th>0</th>\n",
       "      <td>-0.933333</td>\n",
       "      <td>-0.866667</td>\n",
       "      <td>62.533333</td>\n",
       "      <td>-2.866667</td>\n",
       "      <td>-0.666667</td>\n",
       "      <td>0.000000</td>\n",
       "    </tr>\n",
       "    <tr>\n",
       "      <th>11</th>\n",
       "      <td>-0.400000</td>\n",
       "      <td>-0.800000</td>\n",
       "      <td>61.533333</td>\n",
       "      <td>-3.933333</td>\n",
       "      <td>-1.933333</td>\n",
       "      <td>-0.266667</td>\n",
       "    </tr>\n",
       "  </tbody>\n",
       "</table>\n",
       "</div>"
      ],
      "text/plain": [
       "           Fx         Fy          Fz          Tx         Ty         Tz\n",
       "44 -12.866667  29.533333 -192.733333  113.266667  23.733333   4.733333\n",
       "35 -11.400000  29.933333 -138.200000   46.266667  63.200000   3.866667\n",
       "83 -71.533333  41.333333 -711.400000  338.866667  99.266667 -15.466667\n",
       "0   -0.933333  -0.866667   62.533333   -2.866667  -0.666667   0.000000\n",
       "11  -0.400000  -0.800000   61.533333   -3.933333  -1.933333  -0.266667"
      ]
     },
     "execution_count": 25,
     "metadata": {},
     "output_type": "execute_result"
    }
   ],
   "source": [
    "X_test.head()"
   ]
  },
  {
   "cell_type": "code",
   "execution_count": 26,
   "id": "359fae0d",
   "metadata": {},
   "outputs": [
    {
     "data": {
      "text/plain": [
       "10    2\n",
       "30    0\n",
       "50    3\n",
       "68    1\n",
       "66    3\n",
       "Name: Failure_type, dtype: int32"
      ]
     },
     "execution_count": 26,
     "metadata": {},
     "output_type": "execute_result"
    }
   ],
   "source": [
    "Y_train.head()"
   ]
  },
  {
   "cell_type": "code",
   "execution_count": 27,
   "id": "b9ff7e06",
   "metadata": {},
   "outputs": [
    {
     "data": {
      "text/plain": [
       "44    3\n",
       "35    3\n",
       "83    3\n",
       "0     2\n",
       "11    2\n",
       "Name: Failure_type, dtype: int32"
      ]
     },
     "execution_count": 27,
     "metadata": {},
     "output_type": "execute_result"
    }
   ],
   "source": [
    "Y_test.head()"
   ]
  },
  {
   "cell_type": "markdown",
   "id": "8ae448df",
   "metadata": {},
   "source": [
    "# Decision Tree"
   ]
  },
  {
   "cell_type": "code",
   "execution_count": 28,
   "id": "fa1d8d3f",
   "metadata": {},
   "outputs": [
    {
     "name": "stdout",
     "output_type": "stream",
     "text": [
      "Wall time: 59.4 ms\n"
     ]
    }
   ],
   "source": [
    "%%time\n",
    "#Decision Tree\n",
    "\n",
    "from sklearn.tree import DecisionTreeClassifier\n",
    "from sklearn.metrics import confusion_matrix\n",
    "clf = DecisionTreeClassifier(criterion='gini', max_depth = 5, splitter='best')\n",
    "clf = clf.fit(X_train, Y_train)\n"
   ]
  },
  {
   "cell_type": "code",
   "execution_count": 29,
   "id": "1d160740",
   "metadata": {},
   "outputs": [
    {
     "data": {
      "text/plain": [
       "{'ccp_alpha': 0.0,\n",
       " 'class_weight': None,\n",
       " 'criterion': 'gini',\n",
       " 'max_depth': 5,\n",
       " 'max_features': None,\n",
       " 'max_leaf_nodes': None,\n",
       " 'min_impurity_decrease': 0.0,\n",
       " 'min_samples_leaf': 1,\n",
       " 'min_samples_split': 2,\n",
       " 'min_weight_fraction_leaf': 0.0,\n",
       " 'random_state': None,\n",
       " 'splitter': 'best'}"
      ]
     },
     "execution_count": 29,
     "metadata": {},
     "output_type": "execute_result"
    }
   ],
   "source": [
    "clf.get_params()"
   ]
  },
  {
   "cell_type": "code",
   "execution_count": 30,
   "id": "595d485c",
   "metadata": {
    "scrolled": true
   },
   "outputs": [],
   "source": [
    "X_test;"
   ]
  },
  {
   "cell_type": "code",
   "execution_count": 31,
   "id": "71b44c2d",
   "metadata": {},
   "outputs": [
    {
     "data": {
      "text/plain": [
       "array([3, 3, 3, 2, 2, 2, 1, 1, 3, 3, 3, 2, 0, 0, 2, 2, 0, 0, 3, 2, 0, 3,\n",
       "       3, 1, 3, 3, 1, 3, 3, 3])"
      ]
     },
     "execution_count": 31,
     "metadata": {},
     "output_type": "execute_result"
    }
   ],
   "source": [
    "predictions = clf.predict(X_test)\n",
    "predictions"
   ]
  },
  {
   "cell_type": "code",
   "execution_count": 32,
   "id": "262ff3fc",
   "metadata": {
    "scrolled": true
   },
   "outputs": [],
   "source": [
    "clf.predict_proba(X_test);"
   ]
  },
  {
   "cell_type": "code",
   "execution_count": 33,
   "id": "aa5dd9ad",
   "metadata": {},
   "outputs": [
    {
     "data": {
      "text/plain": [
       "0.9"
      ]
     },
     "execution_count": 33,
     "metadata": {},
     "output_type": "execute_result"
    }
   ],
   "source": [
    "from sklearn.metrics import accuracy_score\n",
    "accuracy_score(Y_test,predictions)"
   ]
  },
  {
   "cell_type": "code",
   "execution_count": 34,
   "id": "f22cfab6",
   "metadata": {},
   "outputs": [
    {
     "name": "stdout",
     "output_type": "stream",
     "text": [
      "[[ 5  0  2  0]\n",
      " [ 0  4  0  1]\n",
      " [ 0  0  5  0]\n",
      " [ 0  0  0 13]]\n"
     ]
    },
    {
     "data": {
      "image/png": "[encoded data removed]",
      "text/plain": [
       "<Figure size 640x480 with 2 Axes>"
      ]
     },
     "metadata": {},
     "output_type": "display_data"
    }
   ],
   "source": [
    "c = confusion_matrix(Y_test, predictions)\n",
    "print(c)\n",
    "sns.heatmap(c, annot=True, fmt=\".1f\")\n",
    "plt.xlabel('Actual');\n",
    "plt.ylabel('Predicted');"
   ]
  },
  {
   "cell_type": "code",
   "execution_count": 35,
   "id": "d4fa468b",
   "metadata": {
    "scrolled": true
   },
   "outputs": [
    {
     "name": "stdout",
     "output_type": "stream",
     "text": [
      "              precision    recall  f1-score   support\n",
      "\n",
      "           0       1.00      0.71      0.83         7\n",
      "           1       1.00      0.80      0.89         5\n",
      "           2       0.71      1.00      0.83         5\n",
      "           3       0.93      1.00      0.96        13\n",
      "\n",
      "    accuracy                           0.90        30\n",
      "   macro avg       0.91      0.88      0.88        30\n",
      "weighted avg       0.92      0.90      0.90        30\n",
      "\n"
     ]
    }
   ],
   "source": [
    "from sklearn.metrics import classification_report\n",
    "print(classification_report(Y_test, predictions))\n"
   ]
  },
  {
   "cell_type": "code",
   "execution_count": 36,
   "id": "2ade3a6f",
   "metadata": {
    "scrolled": true
   },
   "outputs": [
    {
     "data": {
      "image/png": "[encoded data removed]",
      "text/plain": [
       "<Figure size 800x600 with 1 Axes>"
      ]
     },
     "metadata": {},
     "output_type": "display_data"
    }
   ],
   "source": [
    "from sklearn import tree\n",
    "plt.figure(figsize = (8,6))\n",
    "tree.plot_tree(clf,filled = True, class_names = True);"
   ]
  },
  {
   "cell_type": "markdown",
   "id": "c3ccab8f",
   "metadata": {},
   "source": [
    "# KNN\n"
   ]
  },
  {
   "cell_type": "code",
   "execution_count": 37,
   "id": "02ef37da",
   "metadata": {},
   "outputs": [
    {
     "name": "stdout",
     "output_type": "stream",
     "text": [
      "Wall time: 1 ms\n"
     ]
    },
    {
     "data": {
      "text/plain": [
       "KNeighborsClassifier(n_neighbors=3, weights='distance')"
      ]
     },
     "execution_count": 37,
     "metadata": {},
     "output_type": "execute_result"
    }
   ],
   "source": [
    "%%time\n",
    "from sklearn.neighbors import KNeighborsClassifier\n",
    "\n",
    "neigh = KNeighborsClassifier(n_neighbors=3,weights='distance',leaf_size=30)\n",
    "neigh.fit(X_train, Y_train)"
   ]
  },
  {
   "cell_type": "code",
   "execution_count": 38,
   "id": "edd70067",
   "metadata": {},
   "outputs": [
    {
     "name": "stdout",
     "output_type": "stream",
     "text": [
      "[3 3 3 2 2 2 1 1 3 3 3 2 0 0 2 2 2 0 3 2 0 3 3 1 3 3 2 3 3 3]\n"
     ]
    }
   ],
   "source": [
    "Y_pred = neigh.predict(X_test)\n",
    "print(Y_pred)"
   ]
  },
  {
   "cell_type": "code",
   "execution_count": 39,
   "id": "daa3c78a",
   "metadata": {
    "scrolled": true
   },
   "outputs": [
    {
     "data": {
      "text/plain": [
       "array([[0.        , 0.27513981, 0.        , 0.72486019],\n",
       "       [0.        , 0.33645529, 0.        , 0.66354471],\n",
       "       [0.        , 0.        , 0.        , 1.        ],\n",
       "       [0.        , 0.        , 1.        , 0.        ],\n",
       "       [0.        , 0.        , 1.        , 0.        ],\n",
       "       [0.        , 0.        , 1.        , 0.        ],\n",
       "       [0.        , 1.        , 0.        , 0.        ],\n",
       "       [0.        , 1.        , 0.        , 0.        ],\n",
       "       [0.        , 0.        , 0.        , 1.        ],\n",
       "       [0.        , 0.34748782, 0.        , 0.65251218],\n",
       "       [0.        , 0.        , 0.        , 1.        ],\n",
       "       [0.        , 0.        , 1.        , 0.        ],\n",
       "       [1.        , 0.        , 0.        , 0.        ],\n",
       "       [0.67974355, 0.        , 0.32025645, 0.        ],\n",
       "       [0.37752656, 0.        , 0.62247344, 0.        ],\n",
       "       [0.36774408, 0.        , 0.63225592, 0.        ],\n",
       "       [0.44189842, 0.        , 0.55810158, 0.        ],\n",
       "       [0.75714116, 0.        , 0.24285884, 0.        ],\n",
       "       [0.        , 0.        , 0.        , 1.        ],\n",
       "       [0.        , 0.        , 1.        , 0.        ],\n",
       "       [0.7305297 , 0.        , 0.2694703 , 0.        ],\n",
       "       [0.        , 0.37524103, 0.        , 0.62475897],\n",
       "       [0.        , 0.        , 0.        , 1.        ],\n",
       "       [0.        , 1.        , 0.        , 0.        ],\n",
       "       [0.        , 0.        , 0.        , 1.        ],\n",
       "       [0.        , 0.        , 0.        , 1.        ],\n",
       "       [0.        , 0.39052875, 0.60947125, 0.        ],\n",
       "       [0.        , 0.        , 0.        , 1.        ],\n",
       "       [0.        , 0.        , 0.        , 1.        ],\n",
       "       [0.        , 0.        , 0.        , 1.        ]])"
      ]
     },
     "execution_count": 39,
     "metadata": {},
     "output_type": "execute_result"
    }
   ],
   "source": [
    "neigh.predict_proba(X_test)"
   ]
  },
  {
   "cell_type": "code",
   "execution_count": 40,
   "id": "902f18af",
   "metadata": {},
   "outputs": [
    {
     "name": "stdout",
     "output_type": "stream",
     "text": [
      "[[ 4  0  3  0]\n",
      " [ 0  3  1  1]\n",
      " [ 0  0  5  0]\n",
      " [ 0  0  0 13]]\n"
     ]
    },
    {
     "data": {
      "image/png": "[encoded data removed]",
      "text/plain": [
       "<Figure size 640x480 with 2 Axes>"
      ]
     },
     "metadata": {},
     "output_type": "display_data"
    }
   ],
   "source": [
    "c = confusion_matrix(Y_test, Y_pred)\n",
    "print(c)\n",
    "sns.heatmap(c, annot=True, fmt=\".1f\")\n",
    "plt.xlabel('Actual');\n",
    "plt.ylabel('Predicted');"
   ]
  },
  {
   "cell_type": "code",
   "execution_count": 41,
   "id": "6db5adff",
   "metadata": {},
   "outputs": [
    {
     "name": "stdout",
     "output_type": "stream",
     "text": [
      "              precision    recall  f1-score   support\n",
      "\n",
      "           0       1.00      0.57      0.73         7\n",
      "           1       1.00      0.60      0.75         5\n",
      "           2       0.56      1.00      0.71         5\n",
      "           3       0.93      1.00      0.96        13\n",
      "\n",
      "    accuracy                           0.83        30\n",
      "   macro avg       0.87      0.79      0.79        30\n",
      "weighted avg       0.89      0.83      0.83        30\n",
      "\n"
     ]
    }
   ],
   "source": [
    "from sklearn.metrics import classification_report\n",
    "print(classification_report(Y_test, Y_pred))"
   ]
  },
  {
   "cell_type": "code",
   "execution_count": 42,
   "id": "ba35455c",
   "metadata": {},
   "outputs": [
    {
     "data": {
      "text/plain": [
       "0.8333333333333334"
      ]
     },
     "execution_count": 42,
     "metadata": {},
     "output_type": "execute_result"
    }
   ],
   "source": [
    "from sklearn.metrics import accuracy_score\n",
    "accuracy_score(Y_test,Y_pred)"
   ]
  },
  {
   "cell_type": "markdown",
   "id": "dfaa42ca",
   "metadata": {},
   "source": [
    "# Randomforest\n"
   ]
  },
  {
   "cell_type": "code",
   "execution_count": 43,
   "id": "728bd71e",
   "metadata": {},
   "outputs": [],
   "source": [
    " from sklearn.ensemble import RandomForestClassifier\n",
    "   "
   ]
  },
  {
   "cell_type": "code",
   "execution_count": 44,
   "id": "47f7070d",
   "metadata": {},
   "outputs": [
    {
     "name": "stdout",
     "output_type": "stream",
     "text": [
      "Wall time: 288 ms\n"
     ]
    },
    {
     "data": {
      "text/plain": [
       "RandomForestClassifier(max_depth=4, n_estimators=500, random_state=2)"
      ]
     },
     "execution_count": 44,
     "metadata": {},
     "output_type": "execute_result"
    }
   ],
   "source": [
    "%%time\n",
    "rfc = RandomForestClassifier(n_estimators=500, max_depth=4, random_state = 2)\n",
    "rfc.fit(X_train, Y_train)"
   ]
  },
  {
   "cell_type": "code",
   "execution_count": 45,
   "id": "ee23165e",
   "metadata": {},
   "outputs": [
    {
     "name": "stdout",
     "output_type": "stream",
     "text": [
      "[3 3 3 2 2 2 1 1 3 3 3 2 0 0 2 2 0 0 3 2 0 3 3 1 3 3 1 3 3 3]\n"
     ]
    }
   ],
   "source": [
    "Y_predicts = rfc.predict(X_test)\n",
    "print(Y_predicts)"
   ]
  },
  {
   "cell_type": "code",
   "execution_count": 46,
   "id": "62848f1f",
   "metadata": {
    "scrolled": true
   },
   "outputs": [],
   "source": [
    "rfc.predict_proba(X_test);"
   ]
  },
  {
   "cell_type": "code",
   "execution_count": 47,
   "id": "6d41cd28",
   "metadata": {},
   "outputs": [
    {
     "name": "stdout",
     "output_type": "stream",
     "text": [
      "              precision    recall  f1-score   support\n",
      "\n",
      "           0       1.00      0.71      0.83         7\n",
      "           1       1.00      0.80      0.89         5\n",
      "           2       0.71      1.00      0.83         5\n",
      "           3       0.93      1.00      0.96        13\n",
      "\n",
      "    accuracy                           0.90        30\n",
      "   macro avg       0.91      0.88      0.88        30\n",
      "weighted avg       0.92      0.90      0.90        30\n",
      "\n"
     ]
    }
   ],
   "source": [
    "from sklearn.metrics import classification_report\n",
    "print(classification_report(Y_test, Y_predicts))"
   ]
  },
  {
   "cell_type": "code",
   "execution_count": 48,
   "id": "e1d78c1e",
   "metadata": {},
   "outputs": [
    {
     "data": {
      "text/plain": [
       "0.9"
      ]
     },
     "execution_count": 48,
     "metadata": {},
     "output_type": "execute_result"
    }
   ],
   "source": [
    "from sklearn.metrics import accuracy_score\n",
    "accuracy_score(Y_test,Y_predicts)"
   ]
  },
  {
   "cell_type": "code",
   "execution_count": 49,
   "id": "b2ce6362",
   "metadata": {
    "scrolled": true
   },
   "outputs": [
    {
     "name": "stdout",
     "output_type": "stream",
     "text": [
      "[[ 5  0  2  0]\n",
      " [ 0  4  0  1]\n",
      " [ 0  0  5  0]\n",
      " [ 0  0  0 13]]\n"
     ]
    },
    {
     "data": {
      "image/png": "[encoded data removed]",
      "text/plain": [
       "<Figure size 640x480 with 2 Axes>"
      ]
     },
     "metadata": {},
     "output_type": "display_data"
    }
   ],
   "source": [
    "c = confusion_matrix(Y_test, Y_predicts)\n",
    "print(c)\n",
    "sns.heatmap(c, annot=True, fmt=\".1f\")\n",
    "plt.xlabel('Actual');\n",
    "plt.ylabel('Predicted');"
   ]
  },
  {
   "cell_type": "code",
   "execution_count": null,
   "id": "05f0d2eb",
   "metadata": {},
   "outputs": [],
   "source": []
  },
  {
   "cell_type": "markdown",
   "id": "236638a1",
   "metadata": {},
   "source": [
    "# SVM"
   ]
  },
  {
   "cell_type": "code",
   "execution_count": 50,
   "id": "ca8ff420",
   "metadata": {},
   "outputs": [
    {
     "name": "stdout",
     "output_type": "stream",
     "text": [
      "Wall time: 5.23 ms\n"
     ]
    }
   ],
   "source": [
    "%%time\n",
    "from sklearn.svm import SVC\n",
    "\n",
    "model = SVC(kernel=\"poly\", degree=8, gamma = 'auto')\n",
    "\n",
    "model.fit(X_train,Y_train)\n",
    "Y_predict = model.predict(X_test)\n"
   ]
  },
  {
   "cell_type": "code",
   "execution_count": 51,
   "id": "a60179fc",
   "metadata": {},
   "outputs": [
    {
     "name": "stdout",
     "output_type": "stream",
     "text": [
      "              precision    recall  f1-score   support\n",
      "\n",
      "           0       1.00      0.86      0.92         7\n",
      "           1       0.80      0.80      0.80         5\n",
      "           2       0.83      1.00      0.91         5\n",
      "           3       0.92      0.92      0.92        13\n",
      "\n",
      "    accuracy                           0.90        30\n",
      "   macro avg       0.89      0.90      0.89        30\n",
      "weighted avg       0.91      0.90      0.90        30\n",
      "\n"
     ]
    }
   ],
   "source": [
    "print(classification_report(Y_test, Y_predict))"
   ]
  },
  {
   "cell_type": "code",
   "execution_count": 52,
   "id": "1d6cc398",
   "metadata": {},
   "outputs": [
    {
     "data": {
      "text/plain": [
       "0.9"
      ]
     },
     "execution_count": 52,
     "metadata": {},
     "output_type": "execute_result"
    }
   ],
   "source": [
    "accuracy_score(Y_test,Y_predict)"
   ]
  },
  {
   "cell_type": "code",
   "execution_count": 53,
   "id": "96ecc0a0",
   "metadata": {},
   "outputs": [
    {
     "name": "stdout",
     "output_type": "stream",
     "text": [
      "[[ 6  0  1  0]\n",
      " [ 0  4  0  1]\n",
      " [ 0  0  5  0]\n",
      " [ 0  1  0 12]]\n"
     ]
    },
    {
     "data": {
      "image/png": "[encoded data removed]",
      "text/plain": [
       "<Figure size 640x480 with 2 Axes>"
      ]
     },
     "metadata": {},
     "output_type": "display_data"
    }
   ],
   "source": [
    "c = confusion_matrix(Y_test, Y_predict)\n",
    "print(c)\n",
    "sns.heatmap(c, annot=True, fmt=\".1f\")\n",
    "plt.xlabel('Actual');\n",
    "plt.ylabel('Predicted');"
   ]
  },
  {
   "cell_type": "code",
   "execution_count": 54,
   "id": "6c745f92",
   "metadata": {},
   "outputs": [
    {
     "data": {
      "image/png": "[encoded data removed]",
      "text/plain": [
       "<Figure size 640x480 with 1 Axes>"
      ]
     },
     "metadata": {},
     "output_type": "display_data"
    }
   ],
   "source": [
    "from sklearn.metrics import RocCurveDisplay\n",
    "RocCurveDisplay.from_predictions(Y_test, Y_predict, pos_label = 3)\n",
    "plt.show()"
   ]
  },
  {
   "cell_type": "markdown",
   "id": "62f9c1e8",
   "metadata": {},
   "source": [
    "# SKlearn NN"
   ]
  },
  {
   "cell_type": "code",
   "execution_count": 55,
   "id": "7f176d66",
   "metadata": {},
   "outputs": [
    {
     "name": "stdout",
     "output_type": "stream",
     "text": [
      "Wall time: 55.4 ms\n"
     ]
    },
    {
     "name": "stderr",
     "output_type": "stream",
     "text": [
      "C:\\Users\\Akhil\\anaconda3\\lib\\site-packages\\sklearn\\neural_network\\_multilayer_perceptron.py:692: ConvergenceWarning: Stochastic Optimizer: Maximum iterations (200) reached and the optimization hasn't converged yet.\n",
      "  warnings.warn(\n"
     ]
    },
    {
     "data": {
      "text/plain": [
       "MLPClassifier(hidden_layer_sizes=(30, 60), random_state=1)"
      ]
     },
     "execution_count": 55,
     "metadata": {},
     "output_type": "execute_result"
    }
   ],
   "source": [
    "%%time\n",
    "from sklearn.neural_network import MLPClassifier\n",
    "\n",
    "model = MLPClassifier(solver='adam',random_state=1, hidden_layer_sizes=(30,60), activation='relu')\n",
    "model.fit(X_train,Y_train)"
   ]
  },
  {
   "cell_type": "code",
   "execution_count": 56,
   "id": "8b3d67d3",
   "metadata": {},
   "outputs": [],
   "source": [
    "Y_predicted = model.predict(X_test)"
   ]
  },
  {
   "cell_type": "code",
   "execution_count": 57,
   "id": "9073d3a0",
   "metadata": {},
   "outputs": [
    {
     "name": "stdout",
     "output_type": "stream",
     "text": [
      "              precision    recall  f1-score   support\n",
      "\n",
      "           0       0.86      0.86      0.86         7\n",
      "           1       0.67      0.40      0.50         5\n",
      "           2       0.71      1.00      0.83         5\n",
      "           3       0.92      0.92      0.92        13\n",
      "\n",
      "    accuracy                           0.83        30\n",
      "   macro avg       0.79      0.80      0.78        30\n",
      "weighted avg       0.83      0.83      0.82        30\n",
      "\n"
     ]
    }
   ],
   "source": [
    "print(classification_report(Y_test, Y_predicted))"
   ]
  },
  {
   "cell_type": "code",
   "execution_count": 58,
   "id": "3117d1d4",
   "metadata": {},
   "outputs": [
    {
     "data": {
      "text/plain": [
       "0.8333333333333334"
      ]
     },
     "execution_count": 58,
     "metadata": {},
     "output_type": "execute_result"
    }
   ],
   "source": [
    "accuracy_score(Y_test,Y_predicted)"
   ]
  },
  {
   "cell_type": "code",
   "execution_count": 59,
   "id": "bc8197e5",
   "metadata": {},
   "outputs": [
    {
     "data": {
      "image/png": "[encoded data removed]",
      "text/plain": [
       "<Figure size 640x480 with 1 Axes>"
      ]
     },
     "metadata": {},
     "output_type": "display_data"
    }
   ],
   "source": [
    "from sklearn.metrics import RocCurveDisplay\n",
    "RocCurveDisplay.from_predictions(Y_test, Y_predicted, pos_label = 3)\n",
    "plt.show()"
   ]
  },
  {
   "cell_type": "markdown",
   "id": "1c4514d3",
   "metadata": {},
   "source": [
    "# Neural network"
   ]
  },
  {
   "cell_type": "code",
   "execution_count": 60,
   "id": "cd4070ca",
   "metadata": {},
   "outputs": [],
   "source": [
    "# Data visualization\n",
    "import matplotlib.pyplot as plt\n",
    "import seaborn as sns\n",
    "import numpy as np\n",
    "import pandas as pd \n",
    "import seaborn as sns\n",
    "# Keras\n",
    "import tensorflow as tf\n",
    "from keras.models import Sequential\n",
    "from keras.layers import Dense\n",
    "from keras.optimizers import SGD, Adam, Adadelta, RMSprop\n",
    "import keras.backend as K\n",
    "from keras.metrics import RootMeanSquaredError \n",
    "# Train-Test\n",
    "from sklearn.model_selection import train_test_split\n",
    "# Scaling data\n",
    "from sklearn.preprocessing import StandardScaler\n",
    "# Classification Report\n",
    "from sklearn.metrics import classification_report\n",
    "from keras.utils.np_utils import to_categorical\n",
    "from tensorflow import keras\n",
    "from tensorflow.keras import layers\n"
   ]
  },
  {
   "cell_type": "code",
   "execution_count": 61,
   "id": "a669c9fe",
   "metadata": {},
   "outputs": [
    {
     "data": {
      "text/plain": [
       "(58, 6)"
      ]
     },
     "execution_count": 61,
     "metadata": {},
     "output_type": "execute_result"
    }
   ],
   "source": [
    "X_train.shape"
   ]
  },
  {
   "cell_type": "code",
   "execution_count": 62,
   "id": "679bfe03",
   "metadata": {},
   "outputs": [
    {
     "data": {
      "text/plain": [
       "(58,)"
      ]
     },
     "execution_count": 62,
     "metadata": {},
     "output_type": "execute_result"
    }
   ],
   "source": [
    "Y_train.shape"
   ]
  },
  {
   "cell_type": "code",
   "execution_count": 63,
   "id": "a7692e1b",
   "metadata": {},
   "outputs": [
    {
     "name": "stdout",
     "output_type": "stream",
     "text": [
      "Wall time: 57.2 ms\n"
     ]
    }
   ],
   "source": [
    "%%time\n",
    "input_shape = (6,)\n",
    "modeltf = keras.Sequential(\n",
    "    [\n",
    "        Dense(60,input_shape = input_shape, activation=\"relu\", name=\"layer1\"),\n",
    "        Dense(30, activation=\"relu\", name=\"layer2\"),\n",
    "        Dense(60, activation=\"sigmoid\", name=\"layer3\"),\n",
    "        Dense(60, activation=\"softmax\", name=\"layer4\")\n",
    "    ])\n",
    "    \n"
   ]
  },
  {
   "cell_type": "code",
   "execution_count": 64,
   "id": "23b91d95",
   "metadata": {},
   "outputs": [
    {
     "name": "stdout",
     "output_type": "stream",
     "text": [
      "Model: \"sequential\"\n",
      "_________________________________________________________________\n",
      " Layer (type)                Output Shape              Param #   \n",
      "=================================================================\n",
      " layer1 (Dense)              (None, 60)                420       \n",
      "                                                                 \n",
      " layer2 (Dense)              (None, 30)                1830      \n",
      "                                                                 \n",
      " layer3 (Dense)              (None, 60)                1860      \n",
      "                                                                 \n",
      " layer4 (Dense)              (None, 60)                3660      \n",
      "                                                                 \n",
      "=================================================================\n",
      "Total params: 7,770\n",
      "Trainable params: 7,770\n",
      "Non-trainable params: 0\n",
      "_________________________________________________________________\n"
     ]
    }
   ],
   "source": [
    "modeltf.summary()"
   ]
  },
  {
   "cell_type": "code",
   "execution_count": 65,
   "id": "583d62d4",
   "metadata": {},
   "outputs": [
    {
     "name": "stdout",
     "output_type": "stream",
     "text": [
      "Wall time: 7 ms\n"
     ]
    }
   ],
   "source": [
    "%%time\n",
    "modeltf.compile(Adam(learning_rate=0.01), \"sparse_categorical_crossentropy\", metrics = [\"accuracy\", \"RootMeanSquaredError\"])\n"
   ]
  },
  {
   "cell_type": "code",
   "execution_count": 66,
   "id": "d79b8da7",
   "metadata": {
    "scrolled": true
   },
   "outputs": [
    {
     "name": "stdout",
     "output_type": "stream",
     "text": [
      "Epoch 1/200\n",
      "2/2 - 1s - loss: 3.9517 - accuracy: 0.0000e+00 - root_mean_squared_error: 2.1193 - val_loss: 2.5578 - val_accuracy: 0.3333 - val_root_mean_squared_error: 2.1620 - 588ms/epoch - 294ms/step\n",
      "Epoch 2/200\n",
      "2/2 - 0s - loss: 2.1693 - accuracy: 0.4655 - root_mean_squared_error: 2.1194 - val_loss: 1.5599 - val_accuracy: 0.3333 - val_root_mean_squared_error: 2.1625 - 29ms/epoch - 15ms/step\n",
      "Epoch 3/200\n",
      "2/2 - 0s - loss: 1.3606 - accuracy: 0.4828 - root_mean_squared_error: 2.1200 - val_loss: 1.1352 - val_accuracy: 0.6667 - val_root_mean_squared_error: 2.1628 - 34ms/epoch - 17ms/step\n",
      "Epoch 4/200\n",
      "2/2 - 0s - loss: 1.0119 - accuracy: 0.7241 - root_mean_squared_error: 2.1203 - val_loss: 0.9461 - val_accuracy: 0.6333 - val_root_mean_squared_error: 2.1632 - 30ms/epoch - 15ms/step\n",
      "Epoch 5/200\n",
      "2/2 - 0s - loss: 0.8779 - accuracy: 0.7069 - root_mean_squared_error: 2.1206 - val_loss: 0.8469 - val_accuracy: 0.6667 - val_root_mean_squared_error: 2.1635 - 30ms/epoch - 15ms/step\n",
      "Epoch 6/200\n",
      "2/2 - 0s - loss: 0.7874 - accuracy: 0.7414 - root_mean_squared_error: 2.1208 - val_loss: 0.7693 - val_accuracy: 0.7000 - val_root_mean_squared_error: 2.1636 - 25ms/epoch - 12ms/step\n",
      "Epoch 7/200\n",
      "2/2 - 0s - loss: 0.7178 - accuracy: 0.7759 - root_mean_squared_error: 2.1210 - val_loss: 0.7092 - val_accuracy: 0.7333 - val_root_mean_squared_error: 2.1637 - 30ms/epoch - 15ms/step\n",
      "Epoch 8/200\n",
      "2/2 - 0s - loss: 0.6487 - accuracy: 0.7759 - root_mean_squared_error: 2.1211 - val_loss: 0.6766 - val_accuracy: 0.7000 - val_root_mean_squared_error: 2.1638 - 32ms/epoch - 16ms/step\n",
      "Epoch 9/200\n",
      "2/2 - 0s - loss: 0.5909 - accuracy: 0.8103 - root_mean_squared_error: 2.1212 - val_loss: 0.6335 - val_accuracy: 0.7000 - val_root_mean_squared_error: 2.1638 - 26ms/epoch - 13ms/step\n",
      "Epoch 10/200\n",
      "2/2 - 0s - loss: 0.5451 - accuracy: 0.7931 - root_mean_squared_error: 2.1213 - val_loss: 0.6355 - val_accuracy: 0.7000 - val_root_mean_squared_error: 2.1638 - 32ms/epoch - 16ms/step\n",
      "Epoch 11/200\n",
      "2/2 - 0s - loss: 0.5194 - accuracy: 0.8103 - root_mean_squared_error: 2.1213 - val_loss: 0.6066 - val_accuracy: 0.7333 - val_root_mean_squared_error: 2.1639 - 27ms/epoch - 13ms/step\n",
      "Epoch 12/200\n",
      "2/2 - 0s - loss: 0.4863 - accuracy: 0.8103 - root_mean_squared_error: 2.1214 - val_loss: 0.5432 - val_accuracy: 0.7667 - val_root_mean_squared_error: 2.1640 - 31ms/epoch - 15ms/step\n",
      "Epoch 13/200\n",
      "2/2 - 0s - loss: 0.4347 - accuracy: 0.8793 - root_mean_squared_error: 2.1215 - val_loss: 0.5220 - val_accuracy: 0.8000 - val_root_mean_squared_error: 2.1641 - 29ms/epoch - 15ms/step\n",
      "Epoch 14/200\n",
      "2/2 - 0s - loss: 0.4074 - accuracy: 0.8793 - root_mean_squared_error: 2.1216 - val_loss: 0.4951 - val_accuracy: 0.8000 - val_root_mean_squared_error: 2.1642 - 31ms/epoch - 15ms/step\n",
      "Epoch 15/200\n",
      "2/2 - 0s - loss: 0.3883 - accuracy: 0.8966 - root_mean_squared_error: 2.1217 - val_loss: 0.4713 - val_accuracy: 0.8333 - val_root_mean_squared_error: 2.1642 - 30ms/epoch - 15ms/step\n",
      "Epoch 16/200\n",
      "2/2 - 0s - loss: 0.3777 - accuracy: 0.9310 - root_mean_squared_error: 2.1217 - val_loss: 0.4586 - val_accuracy: 0.8667 - val_root_mean_squared_error: 2.1643 - 30ms/epoch - 15ms/step\n",
      "Epoch 17/200\n",
      "2/2 - 0s - loss: 0.3443 - accuracy: 0.9310 - root_mean_squared_error: 2.1218 - val_loss: 0.4433 - val_accuracy: 0.8667 - val_root_mean_squared_error: 2.1644 - 32ms/epoch - 16ms/step\n",
      "Epoch 18/200\n",
      "2/2 - 0s - loss: 0.3257 - accuracy: 0.9310 - root_mean_squared_error: 2.1219 - val_loss: 0.4511 - val_accuracy: 0.8000 - val_root_mean_squared_error: 2.1645 - 26ms/epoch - 13ms/step\n",
      "Epoch 19/200\n",
      "2/2 - 0s - loss: 0.3091 - accuracy: 0.9310 - root_mean_squared_error: 2.1220 - val_loss: 0.3971 - val_accuracy: 0.8667 - val_root_mean_squared_error: 2.1645 - 25ms/epoch - 13ms/step\n",
      "Epoch 20/200\n",
      "2/2 - 0s - loss: 0.2738 - accuracy: 0.9310 - root_mean_squared_error: 2.1220 - val_loss: 0.3737 - val_accuracy: 0.9333 - val_root_mean_squared_error: 2.1646 - 25ms/epoch - 13ms/step\n",
      "Epoch 21/200\n",
      "2/2 - 0s - loss: 0.2749 - accuracy: 0.9483 - root_mean_squared_error: 2.1220 - val_loss: 0.3570 - val_accuracy: 0.9333 - val_root_mean_squared_error: 2.1646 - 25ms/epoch - 12ms/step\n",
      "Epoch 22/200\n",
      "2/2 - 0s - loss: 0.2613 - accuracy: 0.9310 - root_mean_squared_error: 2.1221 - val_loss: 0.3790 - val_accuracy: 0.9000 - val_root_mean_squared_error: 2.1647 - 26ms/epoch - 13ms/step\n",
      "Epoch 23/200\n",
      "2/2 - 0s - loss: 0.2534 - accuracy: 0.9138 - root_mean_squared_error: 2.1222 - val_loss: 0.3542 - val_accuracy: 0.9000 - val_root_mean_squared_error: 2.1647 - 26ms/epoch - 13ms/step\n",
      "Epoch 24/200\n",
      "2/2 - 0s - loss: 0.2366 - accuracy: 0.9310 - root_mean_squared_error: 2.1222 - val_loss: 0.3481 - val_accuracy: 0.9333 - val_root_mean_squared_error: 2.1647 - 30ms/epoch - 15ms/step\n",
      "Epoch 25/200\n",
      "2/2 - 0s - loss: 0.2302 - accuracy: 0.9483 - root_mean_squared_error: 2.1222 - val_loss: 0.3263 - val_accuracy: 0.9333 - val_root_mean_squared_error: 2.1648 - 31ms/epoch - 16ms/step\n",
      "Epoch 26/200\n",
      "2/2 - 0s - loss: 0.2040 - accuracy: 0.9483 - root_mean_squared_error: 2.1222 - val_loss: 0.3309 - val_accuracy: 0.9000 - val_root_mean_squared_error: 2.1648 - 28ms/epoch - 14ms/step\n",
      "Epoch 27/200\n",
      "2/2 - 0s - loss: 0.2067 - accuracy: 0.9310 - root_mean_squared_error: 2.1224 - val_loss: 0.3495 - val_accuracy: 0.9000 - val_root_mean_squared_error: 2.1649 - 30ms/epoch - 15ms/step\n",
      "Epoch 28/200\n",
      "2/2 - 0s - loss: 0.1961 - accuracy: 0.9310 - root_mean_squared_error: 2.1224 - val_loss: 0.3095 - val_accuracy: 0.9333 - val_root_mean_squared_error: 2.1649 - 29ms/epoch - 15ms/step\n",
      "Epoch 29/200\n",
      "2/2 - 0s - loss: 0.1819 - accuracy: 0.9483 - root_mean_squared_error: 2.1224 - val_loss: 0.3229 - val_accuracy: 0.9333 - val_root_mean_squared_error: 2.1649 - 31ms/epoch - 15ms/step\n",
      "Epoch 30/200\n",
      "2/2 - 0s - loss: 0.2077 - accuracy: 0.9138 - root_mean_squared_error: 2.1223 - val_loss: 0.2968 - val_accuracy: 0.9333 - val_root_mean_squared_error: 2.1650 - 28ms/epoch - 14ms/step\n",
      "Epoch 31/200\n",
      "2/2 - 0s - loss: 0.1792 - accuracy: 0.9483 - root_mean_squared_error: 2.1224 - val_loss: 0.3979 - val_accuracy: 0.8333 - val_root_mean_squared_error: 2.1649 - 25ms/epoch - 12ms/step\n",
      "Epoch 32/200\n",
      "2/2 - 0s - loss: 0.1959 - accuracy: 0.9310 - root_mean_squared_error: 2.1225 - val_loss: 0.3950 - val_accuracy: 0.8333 - val_root_mean_squared_error: 2.1650 - 25ms/epoch - 13ms/step\n",
      "Epoch 33/200\n",
      "2/2 - 0s - loss: 0.1823 - accuracy: 0.9310 - root_mean_squared_error: 2.1225 - val_loss: 0.3322 - val_accuracy: 0.9000 - val_root_mean_squared_error: 2.1650 - 26ms/epoch - 13ms/step\n",
      "Epoch 34/200\n",
      "2/2 - 0s - loss: 0.1704 - accuracy: 0.9655 - root_mean_squared_error: 2.1224 - val_loss: 0.3023 - val_accuracy: 0.9000 - val_root_mean_squared_error: 2.1650 - 34ms/epoch - 17ms/step\n",
      "Epoch 35/200\n",
      "2/2 - 0s - loss: 0.1869 - accuracy: 0.9483 - root_mean_squared_error: 2.1224 - val_loss: 0.3250 - val_accuracy: 0.9000 - val_root_mean_squared_error: 2.1651 - 30ms/epoch - 15ms/step\n",
      "Epoch 36/200\n",
      "2/2 - 0s - loss: 0.1719 - accuracy: 0.9483 - root_mean_squared_error: 2.1225 - val_loss: 0.3340 - val_accuracy: 0.9000 - val_root_mean_squared_error: 2.1651 - 29ms/epoch - 15ms/step\n",
      "Epoch 37/200\n",
      "2/2 - 0s - loss: 0.1580 - accuracy: 0.9655 - root_mean_squared_error: 2.1225 - val_loss: 0.3426 - val_accuracy: 0.9000 - val_root_mean_squared_error: 2.1651 - 29ms/epoch - 14ms/step\n",
      "Epoch 38/200\n",
      "2/2 - 0s - loss: 0.1625 - accuracy: 0.9655 - root_mean_squared_error: 2.1226 - val_loss: 0.3668 - val_accuracy: 0.8667 - val_root_mean_squared_error: 2.1651 - 31ms/epoch - 15ms/step\n",
      "Epoch 39/200\n",
      "2/2 - 0s - loss: 0.1587 - accuracy: 0.9483 - root_mean_squared_error: 2.1226 - val_loss: 0.3995 - val_accuracy: 0.8333 - val_root_mean_squared_error: 2.1651 - 29ms/epoch - 15ms/step\n",
      "Epoch 40/200\n",
      "2/2 - 0s - loss: 0.1527 - accuracy: 0.9655 - root_mean_squared_error: 2.1226 - val_loss: 0.3571 - val_accuracy: 0.8667 - val_root_mean_squared_error: 2.1651 - 31ms/epoch - 15ms/step\n",
      "Epoch 41/200\n",
      "2/2 - 0s - loss: 0.1561 - accuracy: 0.9483 - root_mean_squared_error: 2.1226 - val_loss: 0.3488 - val_accuracy: 0.8667 - val_root_mean_squared_error: 2.1651 - 27ms/epoch - 14ms/step\n",
      "Epoch 42/200\n",
      "2/2 - 0s - loss: 0.1710 - accuracy: 0.9483 - root_mean_squared_error: 2.1226 - val_loss: 0.3004 - val_accuracy: 0.8667 - val_root_mean_squared_error: 2.1651 - 28ms/epoch - 14ms/step\n",
      "Epoch 43/200\n"
     ]
    },
    {
     "name": "stdout",
     "output_type": "stream",
     "text": [
      "2/2 - 0s - loss: 0.1680 - accuracy: 0.9310 - root_mean_squared_error: 2.1226 - val_loss: 0.2955 - val_accuracy: 0.9000 - val_root_mean_squared_error: 2.1651 - 32ms/epoch - 16ms/step\n",
      "Epoch 44/200\n",
      "2/2 - 0s - loss: 0.1495 - accuracy: 0.9483 - root_mean_squared_error: 2.1226 - val_loss: 0.3180 - val_accuracy: 0.9000 - val_root_mean_squared_error: 2.1651 - 32ms/epoch - 16ms/step\n",
      "Epoch 45/200\n",
      "2/2 - 0s - loss: 0.1528 - accuracy: 0.9483 - root_mean_squared_error: 2.1226 - val_loss: 0.3052 - val_accuracy: 0.9000 - val_root_mean_squared_error: 2.1651 - 31ms/epoch - 16ms/step\n",
      "Epoch 46/200\n",
      "2/2 - 0s - loss: 0.1493 - accuracy: 0.9483 - root_mean_squared_error: 2.1226 - val_loss: 0.3117 - val_accuracy: 0.9000 - val_root_mean_squared_error: 2.1651 - 30ms/epoch - 15ms/step\n",
      "Epoch 47/200\n",
      "2/2 - 0s - loss: 0.1455 - accuracy: 0.9483 - root_mean_squared_error: 2.1226 - val_loss: 0.2953 - val_accuracy: 0.9000 - val_root_mean_squared_error: 2.1651 - 32ms/epoch - 16ms/step\n",
      "Epoch 48/200\n",
      "2/2 - 0s - loss: 0.1452 - accuracy: 0.9483 - root_mean_squared_error: 2.1226 - val_loss: 0.2936 - val_accuracy: 0.9000 - val_root_mean_squared_error: 2.1651 - 30ms/epoch - 15ms/step\n",
      "Epoch 49/200\n",
      "2/2 - 0s - loss: 0.1455 - accuracy: 0.9483 - root_mean_squared_error: 2.1226 - val_loss: 0.3244 - val_accuracy: 0.9000 - val_root_mean_squared_error: 2.1651 - 30ms/epoch - 15ms/step\n",
      "Epoch 50/200\n",
      "2/2 - 0s - loss: 0.1402 - accuracy: 0.9483 - root_mean_squared_error: 2.1226 - val_loss: 0.3504 - val_accuracy: 0.9000 - val_root_mean_squared_error: 2.1651 - 26ms/epoch - 13ms/step\n",
      "Epoch 51/200\n",
      "2/2 - 0s - loss: 0.1379 - accuracy: 0.9655 - root_mean_squared_error: 2.1226 - val_loss: 0.3523 - val_accuracy: 0.8667 - val_root_mean_squared_error: 2.1651 - 26ms/epoch - 13ms/step\n",
      "Epoch 52/200\n",
      "2/2 - 0s - loss: 0.1417 - accuracy: 0.9483 - root_mean_squared_error: 2.1227 - val_loss: 0.3462 - val_accuracy: 0.8667 - val_root_mean_squared_error: 2.1651 - 25ms/epoch - 13ms/step\n",
      "Epoch 53/200\n",
      "2/2 - 0s - loss: 0.1426 - accuracy: 0.9655 - root_mean_squared_error: 2.1226 - val_loss: 0.3185 - val_accuracy: 0.9000 - val_root_mean_squared_error: 2.1651 - 29ms/epoch - 14ms/step\n",
      "Epoch 54/200\n",
      "2/2 - 0s - loss: 0.1691 - accuracy: 0.9483 - root_mean_squared_error: 2.1227 - val_loss: 0.3163 - val_accuracy: 0.9000 - val_root_mean_squared_error: 2.1652 - 30ms/epoch - 15ms/step\n",
      "Epoch 55/200\n",
      "2/2 - 0s - loss: 0.1612 - accuracy: 0.9483 - root_mean_squared_error: 2.1227 - val_loss: 0.3195 - val_accuracy: 0.9000 - val_root_mean_squared_error: 2.1651 - 30ms/epoch - 15ms/step\n",
      "Epoch 56/200\n",
      "2/2 - 0s - loss: 0.1597 - accuracy: 0.9483 - root_mean_squared_error: 2.1227 - val_loss: 0.3118 - val_accuracy: 0.9000 - val_root_mean_squared_error: 2.1651 - 30ms/epoch - 15ms/step\n",
      "Epoch 57/200\n",
      "2/2 - 0s - loss: 0.1474 - accuracy: 0.9483 - root_mean_squared_error: 2.1226 - val_loss: 0.2841 - val_accuracy: 0.9000 - val_root_mean_squared_error: 2.1650 - 31ms/epoch - 15ms/step\n",
      "Epoch 58/200\n",
      "2/2 - 0s - loss: 0.1537 - accuracy: 0.9483 - root_mean_squared_error: 2.1226 - val_loss: 0.2758 - val_accuracy: 0.9000 - val_root_mean_squared_error: 2.1651 - 30ms/epoch - 15ms/step\n",
      "Epoch 59/200\n",
      "2/2 - 0s - loss: 0.1521 - accuracy: 0.9483 - root_mean_squared_error: 2.1226 - val_loss: 0.3050 - val_accuracy: 0.9000 - val_root_mean_squared_error: 2.1651 - 29ms/epoch - 15ms/step\n",
      "Epoch 60/200\n",
      "2/2 - 0s - loss: 0.1509 - accuracy: 0.9483 - root_mean_squared_error: 2.1227 - val_loss: 0.3340 - val_accuracy: 0.9000 - val_root_mean_squared_error: 2.1651 - 30ms/epoch - 15ms/step\n",
      "Epoch 61/200\n",
      "2/2 - 0s - loss: 0.1468 - accuracy: 0.9483 - root_mean_squared_error: 2.1226 - val_loss: 0.3161 - val_accuracy: 0.9000 - val_root_mean_squared_error: 2.1651 - 29ms/epoch - 14ms/step\n",
      "Epoch 62/200\n",
      "2/2 - 0s - loss: 0.1404 - accuracy: 0.9483 - root_mean_squared_error: 2.1226 - val_loss: 0.3092 - val_accuracy: 0.9000 - val_root_mean_squared_error: 2.1651 - 28ms/epoch - 14ms/step\n",
      "Epoch 63/200\n",
      "2/2 - 0s - loss: 0.1448 - accuracy: 0.9483 - root_mean_squared_error: 2.1226 - val_loss: 0.3263 - val_accuracy: 0.9000 - val_root_mean_squared_error: 2.1651 - 32ms/epoch - 16ms/step\n",
      "Epoch 64/200\n",
      "2/2 - 0s - loss: 0.1257 - accuracy: 0.9483 - root_mean_squared_error: 2.1227 - val_loss: 0.3640 - val_accuracy: 0.8667 - val_root_mean_squared_error: 2.1652 - 29ms/epoch - 15ms/step\n",
      "Epoch 65/200\n",
      "2/2 - 0s - loss: 0.1356 - accuracy: 0.9483 - root_mean_squared_error: 2.1227 - val_loss: 0.3918 - val_accuracy: 0.8667 - val_root_mean_squared_error: 2.1652 - 30ms/epoch - 15ms/step\n",
      "Epoch 66/200\n",
      "2/2 - 0s - loss: 0.1291 - accuracy: 0.9483 - root_mean_squared_error: 2.1227 - val_loss: 0.3403 - val_accuracy: 0.8667 - val_root_mean_squared_error: 2.1651 - 29ms/epoch - 14ms/step\n",
      "Epoch 67/200\n",
      "2/2 - 0s - loss: 0.1250 - accuracy: 0.9483 - root_mean_squared_error: 2.1226 - val_loss: 0.3279 - val_accuracy: 0.8667 - val_root_mean_squared_error: 2.1651 - 33ms/epoch - 16ms/step\n",
      "Epoch 68/200\n",
      "2/2 - 0s - loss: 0.1111 - accuracy: 0.9655 - root_mean_squared_error: 2.1227 - val_loss: 0.3735 - val_accuracy: 0.8667 - val_root_mean_squared_error: 2.1652 - 32ms/epoch - 16ms/step\n",
      "Epoch 69/200\n",
      "2/2 - 0s - loss: 0.0994 - accuracy: 0.9655 - root_mean_squared_error: 2.1227 - val_loss: 0.3607 - val_accuracy: 0.8667 - val_root_mean_squared_error: 2.1652 - 30ms/epoch - 15ms/step\n",
      "Epoch 70/200\n",
      "2/2 - 0s - loss: 0.1091 - accuracy: 0.9655 - root_mean_squared_error: 2.1227 - val_loss: 0.4055 - val_accuracy: 0.8667 - val_root_mean_squared_error: 2.1653 - 25ms/epoch - 13ms/step\n",
      "Epoch 71/200\n",
      "2/2 - 0s - loss: 0.1059 - accuracy: 0.9655 - root_mean_squared_error: 2.1228 - val_loss: 0.4256 - val_accuracy: 0.8667 - val_root_mean_squared_error: 2.1653 - 25ms/epoch - 13ms/step\n",
      "Epoch 72/200\n",
      "2/2 - 0s - loss: 0.0953 - accuracy: 0.9655 - root_mean_squared_error: 2.1228 - val_loss: 0.4165 - val_accuracy: 0.8667 - val_root_mean_squared_error: 2.1652 - 25ms/epoch - 13ms/step\n",
      "Epoch 73/200\n",
      "2/2 - 0s - loss: 0.0937 - accuracy: 0.9655 - root_mean_squared_error: 2.1227 - val_loss: 0.4196 - val_accuracy: 0.8667 - val_root_mean_squared_error: 2.1652 - 25ms/epoch - 13ms/step\n",
      "Epoch 74/200\n",
      "2/2 - 0s - loss: 0.0974 - accuracy: 0.9655 - root_mean_squared_error: 2.1228 - val_loss: 0.4652 - val_accuracy: 0.8667 - val_root_mean_squared_error: 2.1654 - 25ms/epoch - 13ms/step\n",
      "Epoch 75/200\n",
      "2/2 - 0s - loss: 0.1088 - accuracy: 0.9655 - root_mean_squared_error: 2.1228 - val_loss: 0.4947 - val_accuracy: 0.8667 - val_root_mean_squared_error: 2.1654 - 25ms/epoch - 13ms/step\n",
      "Epoch 76/200\n",
      "2/2 - 0s - loss: 0.1075 - accuracy: 0.9655 - root_mean_squared_error: 2.1228 - val_loss: 0.4998 - val_accuracy: 0.8667 - val_root_mean_squared_error: 2.1654 - 26ms/epoch - 13ms/step\n",
      "Epoch 77/200\n",
      "2/2 - 0s - loss: 0.1032 - accuracy: 0.9655 - root_mean_squared_error: 2.1228 - val_loss: 0.4388 - val_accuracy: 0.8667 - val_root_mean_squared_error: 2.1653 - 25ms/epoch - 13ms/step\n",
      "Epoch 78/200\n",
      "2/2 - 0s - loss: 0.1018 - accuracy: 0.9655 - root_mean_squared_error: 2.1228 - val_loss: 0.4009 - val_accuracy: 0.8667 - val_root_mean_squared_error: 2.1652 - 26ms/epoch - 13ms/step\n",
      "Epoch 79/200\n",
      "2/2 - 0s - loss: 0.1017 - accuracy: 0.9655 - root_mean_squared_error: 2.1227 - val_loss: 0.3819 - val_accuracy: 0.8667 - val_root_mean_squared_error: 2.1653 - 25ms/epoch - 13ms/step\n",
      "Epoch 80/200\n",
      "2/2 - 0s - loss: 0.1002 - accuracy: 0.9655 - root_mean_squared_error: 2.1228 - val_loss: 0.4317 - val_accuracy: 0.8667 - val_root_mean_squared_error: 2.1653 - 25ms/epoch - 13ms/step\n",
      "Epoch 81/200\n",
      "2/2 - 0s - loss: 0.0932 - accuracy: 0.9655 - root_mean_squared_error: 2.1228 - val_loss: 0.4610 - val_accuracy: 0.8667 - val_root_mean_squared_error: 2.1653 - 25ms/epoch - 13ms/step\n",
      "Epoch 82/200\n",
      "2/2 - 0s - loss: 0.0895 - accuracy: 0.9655 - root_mean_squared_error: 2.1228 - val_loss: 0.5027 - val_accuracy: 0.8667 - val_root_mean_squared_error: 2.1653 - 26ms/epoch - 13ms/step\n",
      "Epoch 83/200\n",
      "2/2 - 0s - loss: 0.0882 - accuracy: 0.9655 - root_mean_squared_error: 2.1228 - val_loss: 0.5007 - val_accuracy: 0.8667 - val_root_mean_squared_error: 2.1653 - 25ms/epoch - 13ms/step\n",
      "Epoch 84/200\n",
      "2/2 - 0s - loss: 0.0850 - accuracy: 0.9655 - root_mean_squared_error: 2.1228 - val_loss: 0.4890 - val_accuracy: 0.8667 - val_root_mean_squared_error: 2.1653 - 25ms/epoch - 13ms/step\n",
      "Epoch 85/200\n",
      "2/2 - 0s - loss: 0.0839 - accuracy: 0.9655 - root_mean_squared_error: 2.1228 - val_loss: 0.4742 - val_accuracy: 0.8667 - val_root_mean_squared_error: 2.1652 - 25ms/epoch - 13ms/step\n"
     ]
    },
    {
     "name": "stdout",
     "output_type": "stream",
     "text": [
      "Epoch 86/200\n",
      "2/2 - 0s - loss: 0.0858 - accuracy: 0.9655 - root_mean_squared_error: 2.1228 - val_loss: 0.4698 - val_accuracy: 0.8667 - val_root_mean_squared_error: 2.1652 - 26ms/epoch - 13ms/step\n",
      "Epoch 87/200\n",
      "2/2 - 0s - loss: 0.0836 - accuracy: 0.9655 - root_mean_squared_error: 2.1228 - val_loss: 0.4577 - val_accuracy: 0.8667 - val_root_mean_squared_error: 2.1653 - 26ms/epoch - 13ms/step\n",
      "Epoch 88/200\n",
      "2/2 - 0s - loss: 0.0829 - accuracy: 0.9655 - root_mean_squared_error: 2.1228 - val_loss: 0.4565 - val_accuracy: 0.8333 - val_root_mean_squared_error: 2.1653 - 26ms/epoch - 13ms/step\n",
      "Epoch 89/200\n",
      "2/2 - 0s - loss: 0.0815 - accuracy: 0.9655 - root_mean_squared_error: 2.1228 - val_loss: 0.4570 - val_accuracy: 0.8333 - val_root_mean_squared_error: 2.1652 - 26ms/epoch - 13ms/step\n",
      "Epoch 90/200\n",
      "2/2 - 0s - loss: 0.0769 - accuracy: 0.9828 - root_mean_squared_error: 2.1227 - val_loss: 0.4682 - val_accuracy: 0.8333 - val_root_mean_squared_error: 2.1652 - 27ms/epoch - 14ms/step\n",
      "Epoch 91/200\n",
      "2/2 - 0s - loss: 0.0784 - accuracy: 0.9828 - root_mean_squared_error: 2.1228 - val_loss: 0.4712 - val_accuracy: 0.8333 - val_root_mean_squared_error: 2.1653 - 30ms/epoch - 15ms/step\n",
      "Epoch 92/200\n",
      "2/2 - 0s - loss: 0.0750 - accuracy: 0.9828 - root_mean_squared_error: 2.1228 - val_loss: 0.4826 - val_accuracy: 0.8333 - val_root_mean_squared_error: 2.1653 - 30ms/epoch - 15ms/step\n",
      "Epoch 93/200\n",
      "2/2 - 0s - loss: 0.0734 - accuracy: 0.9828 - root_mean_squared_error: 2.1228 - val_loss: 0.4887 - val_accuracy: 0.8333 - val_root_mean_squared_error: 2.1653 - 29ms/epoch - 15ms/step\n",
      "Epoch 94/200\n",
      "2/2 - 0s - loss: 0.0695 - accuracy: 0.9828 - root_mean_squared_error: 2.1228 - val_loss: 0.4939 - val_accuracy: 0.8333 - val_root_mean_squared_error: 2.1653 - 31ms/epoch - 15ms/step\n",
      "Epoch 95/200\n",
      "2/2 - 0s - loss: 0.0682 - accuracy: 0.9828 - root_mean_squared_error: 2.1228 - val_loss: 0.5047 - val_accuracy: 0.8333 - val_root_mean_squared_error: 2.1653 - 31ms/epoch - 15ms/step\n",
      "Epoch 96/200\n",
      "2/2 - 0s - loss: 0.0683 - accuracy: 0.9828 - root_mean_squared_error: 2.1228 - val_loss: 0.5102 - val_accuracy: 0.8333 - val_root_mean_squared_error: 2.1653 - 29ms/epoch - 15ms/step\n",
      "Epoch 97/200\n",
      "2/2 - 0s - loss: 0.0646 - accuracy: 0.9828 - root_mean_squared_error: 2.1229 - val_loss: 0.4983 - val_accuracy: 0.8333 - val_root_mean_squared_error: 2.1653 - 27ms/epoch - 14ms/step\n",
      "Epoch 98/200\n",
      "2/2 - 0s - loss: 0.0663 - accuracy: 0.9828 - root_mean_squared_error: 2.1229 - val_loss: 0.5033 - val_accuracy: 0.8333 - val_root_mean_squared_error: 2.1653 - 26ms/epoch - 13ms/step\n",
      "Epoch 99/200\n",
      "2/2 - 0s - loss: 0.0683 - accuracy: 0.9655 - root_mean_squared_error: 2.1228 - val_loss: 0.5009 - val_accuracy: 0.8333 - val_root_mean_squared_error: 2.1653 - 25ms/epoch - 13ms/step\n",
      "Epoch 100/200\n",
      "2/2 - 0s - loss: 0.0668 - accuracy: 0.9828 - root_mean_squared_error: 2.1229 - val_loss: 0.5019 - val_accuracy: 0.8333 - val_root_mean_squared_error: 2.1653 - 25ms/epoch - 13ms/step\n",
      "Epoch 101/200\n",
      "2/2 - 0s - loss: 0.0636 - accuracy: 0.9828 - root_mean_squared_error: 2.1229 - val_loss: 0.4966 - val_accuracy: 0.8333 - val_root_mean_squared_error: 2.1653 - 26ms/epoch - 13ms/step\n",
      "Epoch 102/200\n",
      "2/2 - 0s - loss: 0.0615 - accuracy: 0.9828 - root_mean_squared_error: 2.1229 - val_loss: 0.4936 - val_accuracy: 0.8333 - val_root_mean_squared_error: 2.1653 - 26ms/epoch - 13ms/step\n",
      "Epoch 103/200\n",
      "2/2 - 0s - loss: 0.0628 - accuracy: 0.9828 - root_mean_squared_error: 2.1228 - val_loss: 0.4917 - val_accuracy: 0.8333 - val_root_mean_squared_error: 2.1653 - 26ms/epoch - 13ms/step\n",
      "Epoch 104/200\n",
      "2/2 - 0s - loss: 0.0614 - accuracy: 0.9828 - root_mean_squared_error: 2.1229 - val_loss: 0.4882 - val_accuracy: 0.8333 - val_root_mean_squared_error: 2.1654 - 23ms/epoch - 12ms/step\n",
      "Epoch 105/200\n",
      "2/2 - 0s - loss: 0.0591 - accuracy: 0.9828 - root_mean_squared_error: 2.1229 - val_loss: 0.4949 - val_accuracy: 0.8333 - val_root_mean_squared_error: 2.1653 - 29ms/epoch - 14ms/step\n",
      "Epoch 106/200\n",
      "2/2 - 0s - loss: 0.0578 - accuracy: 0.9828 - root_mean_squared_error: 2.1229 - val_loss: 0.5115 - val_accuracy: 0.8333 - val_root_mean_squared_error: 2.1653 - 30ms/epoch - 15ms/step\n",
      "Epoch 107/200\n",
      "2/2 - 0s - loss: 0.0542 - accuracy: 0.9828 - root_mean_squared_error: 2.1229 - val_loss: 0.5066 - val_accuracy: 0.8333 - val_root_mean_squared_error: 2.1654 - 31ms/epoch - 15ms/step\n",
      "Epoch 108/200\n",
      "2/2 - 0s - loss: 0.0550 - accuracy: 0.9828 - root_mean_squared_error: 2.1229 - val_loss: 0.5083 - val_accuracy: 0.8333 - val_root_mean_squared_error: 2.1654 - 30ms/epoch - 15ms/step\n",
      "Epoch 109/200\n",
      "2/2 - 0s - loss: 0.0530 - accuracy: 0.9828 - root_mean_squared_error: 2.1229 - val_loss: 0.5085 - val_accuracy: 0.8333 - val_root_mean_squared_error: 2.1653 - 31ms/epoch - 15ms/step\n",
      "Epoch 110/200\n",
      "2/2 - 0s - loss: 0.0496 - accuracy: 0.9828 - root_mean_squared_error: 2.1229 - val_loss: 0.5111 - val_accuracy: 0.8333 - val_root_mean_squared_error: 2.1654 - 31ms/epoch - 15ms/step\n",
      "Epoch 111/200\n",
      "2/2 - 0s - loss: 0.0526 - accuracy: 0.9828 - root_mean_squared_error: 2.1229 - val_loss: 0.5163 - val_accuracy: 0.8333 - val_root_mean_squared_error: 2.1654 - 29ms/epoch - 15ms/step\n",
      "Epoch 112/200\n",
      "2/2 - 0s - loss: 0.0477 - accuracy: 0.9828 - root_mean_squared_error: 2.1229 - val_loss: 0.5207 - val_accuracy: 0.8333 - val_root_mean_squared_error: 2.1653 - 27ms/epoch - 14ms/step\n",
      "Epoch 113/200\n",
      "2/2 - 0s - loss: 0.0484 - accuracy: 0.9828 - root_mean_squared_error: 2.1229 - val_loss: 0.5219 - val_accuracy: 0.8333 - val_root_mean_squared_error: 2.1654 - 26ms/epoch - 13ms/step\n",
      "Epoch 114/200\n",
      "2/2 - 0s - loss: 0.0449 - accuracy: 0.9828 - root_mean_squared_error: 2.1229 - val_loss: 0.5189 - val_accuracy: 0.8333 - val_root_mean_squared_error: 2.1654 - 27ms/epoch - 13ms/step\n",
      "Epoch 115/200\n",
      "2/2 - 0s - loss: 0.0473 - accuracy: 0.9828 - root_mean_squared_error: 2.1229 - val_loss: 0.5162 - val_accuracy: 0.8333 - val_root_mean_squared_error: 2.1654 - 27ms/epoch - 14ms/step\n",
      "Epoch 116/200\n",
      "2/2 - 0s - loss: 0.0439 - accuracy: 0.9828 - root_mean_squared_error: 2.1229 - val_loss: 0.5096 - val_accuracy: 0.8333 - val_root_mean_squared_error: 2.1652 - 25ms/epoch - 13ms/step\n",
      "Epoch 117/200\n",
      "2/2 - 0s - loss: 0.0481 - accuracy: 1.0000 - root_mean_squared_error: 2.1228 - val_loss: 0.5186 - val_accuracy: 0.8333 - val_root_mean_squared_error: 2.1654 - 27ms/epoch - 14ms/step\n",
      "Epoch 118/200\n",
      "2/2 - 0s - loss: 0.0432 - accuracy: 0.9828 - root_mean_squared_error: 2.1229 - val_loss: 0.5164 - val_accuracy: 0.8333 - val_root_mean_squared_error: 2.1654 - 28ms/epoch - 14ms/step\n",
      "Epoch 119/200\n",
      "2/2 - 0s - loss: 0.0416 - accuracy: 0.9828 - root_mean_squared_error: 2.1229 - val_loss: 0.5231 - val_accuracy: 0.8667 - val_root_mean_squared_error: 2.1654 - 30ms/epoch - 15ms/step\n",
      "Epoch 120/200\n",
      "2/2 - 0s - loss: 0.0404 - accuracy: 1.0000 - root_mean_squared_error: 2.1229 - val_loss: 0.5309 - val_accuracy: 0.8333 - val_root_mean_squared_error: 2.1653 - 30ms/epoch - 15ms/step\n",
      "Epoch 121/200\n",
      "2/2 - 0s - loss: 0.0408 - accuracy: 1.0000 - root_mean_squared_error: 2.1229 - val_loss: 0.5385 - val_accuracy: 0.8333 - val_root_mean_squared_error: 2.1654 - 28ms/epoch - 14ms/step\n",
      "Epoch 122/200\n",
      "2/2 - 0s - loss: 0.0343 - accuracy: 1.0000 - root_mean_squared_error: 2.1229 - val_loss: 0.5347 - val_accuracy: 0.9000 - val_root_mean_squared_error: 2.1654 - 30ms/epoch - 15ms/step\n",
      "Epoch 123/200\n",
      "2/2 - 0s - loss: 0.0335 - accuracy: 1.0000 - root_mean_squared_error: 2.1229 - val_loss: 0.5244 - val_accuracy: 0.9000 - val_root_mean_squared_error: 2.1654 - 33ms/epoch - 16ms/step\n",
      "Epoch 124/200\n",
      "2/2 - 0s - loss: 0.0320 - accuracy: 1.0000 - root_mean_squared_error: 2.1229 - val_loss: 0.5289 - val_accuracy: 0.8667 - val_root_mean_squared_error: 2.1654 - 25ms/epoch - 12ms/step\n",
      "Epoch 125/200\n",
      "2/2 - 0s - loss: 0.0316 - accuracy: 1.0000 - root_mean_squared_error: 2.1229 - val_loss: 0.5202 - val_accuracy: 0.8667 - val_root_mean_squared_error: 2.1653 - 26ms/epoch - 13ms/step\n",
      "Epoch 126/200\n",
      "2/2 - 0s - loss: 0.0301 - accuracy: 1.0000 - root_mean_squared_error: 2.1229 - val_loss: 0.5190 - val_accuracy: 0.8667 - val_root_mean_squared_error: 2.1653 - 24ms/epoch - 12ms/step\n",
      "Epoch 127/200\n",
      "2/2 - 0s - loss: 0.0281 - accuracy: 1.0000 - root_mean_squared_error: 2.1229 - val_loss: 0.5294 - val_accuracy: 0.8667 - val_root_mean_squared_error: 2.1654 - 27ms/epoch - 14ms/step\n"
     ]
    },
    {
     "name": "stdout",
     "output_type": "stream",
     "text": [
      "Epoch 128/200\n",
      "2/2 - 0s - loss: 0.0262 - accuracy: 1.0000 - root_mean_squared_error: 2.1229 - val_loss: 0.5197 - val_accuracy: 0.8667 - val_root_mean_squared_error: 2.1654 - 26ms/epoch - 13ms/step\n",
      "Epoch 129/200\n",
      "2/2 - 0s - loss: 0.0241 - accuracy: 1.0000 - root_mean_squared_error: 2.1229 - val_loss: 0.5182 - val_accuracy: 0.8667 - val_root_mean_squared_error: 2.1654 - 27ms/epoch - 14ms/step\n",
      "Epoch 130/200\n",
      "2/2 - 0s - loss: 0.0230 - accuracy: 1.0000 - root_mean_squared_error: 2.1229 - val_loss: 0.5205 - val_accuracy: 0.8667 - val_root_mean_squared_error: 2.1654 - 29ms/epoch - 14ms/step\n",
      "Epoch 131/200\n",
      "2/2 - 0s - loss: 0.0221 - accuracy: 1.0000 - root_mean_squared_error: 2.1229 - val_loss: 0.5263 - val_accuracy: 0.8667 - val_root_mean_squared_error: 2.1654 - 31ms/epoch - 15ms/step\n",
      "Epoch 132/200\n",
      "2/2 - 0s - loss: 0.0210 - accuracy: 1.0000 - root_mean_squared_error: 2.1229 - val_loss: 0.5329 - val_accuracy: 0.8333 - val_root_mean_squared_error: 2.1654 - 29ms/epoch - 14ms/step\n",
      "Epoch 133/200\n",
      "2/2 - 0s - loss: 0.0206 - accuracy: 1.0000 - root_mean_squared_error: 2.1229 - val_loss: 0.5374 - val_accuracy: 0.8333 - val_root_mean_squared_error: 2.1654 - 30ms/epoch - 15ms/step\n",
      "Epoch 134/200\n",
      "2/2 - 0s - loss: 0.0200 - accuracy: 1.0000 - root_mean_squared_error: 2.1230 - val_loss: 0.5432 - val_accuracy: 0.8333 - val_root_mean_squared_error: 2.1654 - 31ms/epoch - 15ms/step\n",
      "Epoch 135/200\n",
      "2/2 - 0s - loss: 0.0194 - accuracy: 1.0000 - root_mean_squared_error: 2.1230 - val_loss: 0.5524 - val_accuracy: 0.8333 - val_root_mean_squared_error: 2.1654 - 30ms/epoch - 15ms/step\n",
      "Epoch 136/200\n",
      "2/2 - 0s - loss: 0.0189 - accuracy: 1.0000 - root_mean_squared_error: 2.1230 - val_loss: 0.5616 - val_accuracy: 0.8333 - val_root_mean_squared_error: 2.1654 - 30ms/epoch - 15ms/step\n",
      "Epoch 137/200\n",
      "2/2 - 0s - loss: 0.0185 - accuracy: 1.0000 - root_mean_squared_error: 2.1230 - val_loss: 0.5693 - val_accuracy: 0.8333 - val_root_mean_squared_error: 2.1654 - 26ms/epoch - 13ms/step\n",
      "Epoch 138/200\n",
      "2/2 - 0s - loss: 0.0181 - accuracy: 1.0000 - root_mean_squared_error: 2.1230 - val_loss: 0.5768 - val_accuracy: 0.8333 - val_root_mean_squared_error: 2.1654 - 26ms/epoch - 13ms/step\n",
      "Epoch 139/200\n",
      "2/2 - 0s - loss: 0.0177 - accuracy: 1.0000 - root_mean_squared_error: 2.1230 - val_loss: 0.5834 - val_accuracy: 0.8333 - val_root_mean_squared_error: 2.1654 - 27ms/epoch - 14ms/step\n",
      "Epoch 140/200\n",
      "2/2 - 0s - loss: 0.0173 - accuracy: 1.0000 - root_mean_squared_error: 2.1230 - val_loss: 0.5911 - val_accuracy: 0.8333 - val_root_mean_squared_error: 2.1655 - 30ms/epoch - 15ms/step\n",
      "Epoch 141/200\n",
      "2/2 - 0s - loss: 0.0170 - accuracy: 1.0000 - root_mean_squared_error: 2.1230 - val_loss: 0.5968 - val_accuracy: 0.8333 - val_root_mean_squared_error: 2.1655 - 30ms/epoch - 15ms/step\n",
      "Epoch 142/200\n",
      "2/2 - 0s - loss: 0.0166 - accuracy: 1.0000 - root_mean_squared_error: 2.1230 - val_loss: 0.6070 - val_accuracy: 0.8333 - val_root_mean_squared_error: 2.1655 - 30ms/epoch - 15ms/step\n",
      "Epoch 143/200\n",
      "2/2 - 0s - loss: 0.0162 - accuracy: 1.0000 - root_mean_squared_error: 2.1230 - val_loss: 0.6090 - val_accuracy: 0.8333 - val_root_mean_squared_error: 2.1655 - 30ms/epoch - 15ms/step\n",
      "Epoch 144/200\n",
      "2/2 - 0s - loss: 0.0159 - accuracy: 1.0000 - root_mean_squared_error: 2.1230 - val_loss: 0.6090 - val_accuracy: 0.8333 - val_root_mean_squared_error: 2.1655 - 34ms/epoch - 17ms/step\n",
      "Epoch 145/200\n",
      "2/2 - 0s - loss: 0.0156 - accuracy: 1.0000 - root_mean_squared_error: 2.1230 - val_loss: 0.6104 - val_accuracy: 0.8333 - val_root_mean_squared_error: 2.1655 - 31ms/epoch - 15ms/step\n",
      "Epoch 146/200\n",
      "2/2 - 0s - loss: 0.0153 - accuracy: 1.0000 - root_mean_squared_error: 2.1230 - val_loss: 0.6137 - val_accuracy: 0.8333 - val_root_mean_squared_error: 2.1655 - 30ms/epoch - 15ms/step\n",
      "Epoch 147/200\n",
      "2/2 - 0s - loss: 0.0150 - accuracy: 1.0000 - root_mean_squared_error: 2.1230 - val_loss: 0.6156 - val_accuracy: 0.8333 - val_root_mean_squared_error: 2.1655 - 28ms/epoch - 14ms/step\n",
      "Epoch 148/200\n",
      "2/2 - 0s - loss: 0.0148 - accuracy: 1.0000 - root_mean_squared_error: 2.1230 - val_loss: 0.6167 - val_accuracy: 0.8333 - val_root_mean_squared_error: 2.1655 - 26ms/epoch - 13ms/step\n",
      "Epoch 149/200\n",
      "2/2 - 0s - loss: 0.0144 - accuracy: 1.0000 - root_mean_squared_error: 2.1230 - val_loss: 0.6186 - val_accuracy: 0.8333 - val_root_mean_squared_error: 2.1655 - 27ms/epoch - 14ms/step\n",
      "Epoch 150/200\n",
      "2/2 - 0s - loss: 0.0141 - accuracy: 1.0000 - root_mean_squared_error: 2.1230 - val_loss: 0.6200 - val_accuracy: 0.8333 - val_root_mean_squared_error: 2.1655 - 32ms/epoch - 16ms/step\n",
      "Epoch 151/200\n",
      "2/2 - 0s - loss: 0.0139 - accuracy: 1.0000 - root_mean_squared_error: 2.1230 - val_loss: 0.6206 - val_accuracy: 0.8333 - val_root_mean_squared_error: 2.1655 - 31ms/epoch - 16ms/step\n",
      "Epoch 152/200\n",
      "2/2 - 0s - loss: 0.0137 - accuracy: 1.0000 - root_mean_squared_error: 2.1230 - val_loss: 0.6214 - val_accuracy: 0.8333 - val_root_mean_squared_error: 2.1655 - 30ms/epoch - 15ms/step\n",
      "Epoch 153/200\n",
      "2/2 - 0s - loss: 0.0134 - accuracy: 1.0000 - root_mean_squared_error: 2.1230 - val_loss: 0.6231 - val_accuracy: 0.8333 - val_root_mean_squared_error: 2.1655 - 31ms/epoch - 16ms/step\n",
      "Epoch 154/200\n",
      "2/2 - 0s - loss: 0.0132 - accuracy: 1.0000 - root_mean_squared_error: 2.1230 - val_loss: 0.6242 - val_accuracy: 0.8333 - val_root_mean_squared_error: 2.1655 - 21ms/epoch - 11ms/step\n",
      "Epoch 155/200\n",
      "2/2 - 0s - loss: 0.0130 - accuracy: 1.0000 - root_mean_squared_error: 2.1230 - val_loss: 0.6257 - val_accuracy: 0.8333 - val_root_mean_squared_error: 2.1655 - 30ms/epoch - 15ms/step\n",
      "Epoch 156/200\n",
      "2/2 - 0s - loss: 0.0128 - accuracy: 1.0000 - root_mean_squared_error: 2.1230 - val_loss: 0.6275 - val_accuracy: 0.8333 - val_root_mean_squared_error: 2.1655 - 29ms/epoch - 14ms/step\n",
      "Epoch 157/200\n",
      "2/2 - 0s - loss: 0.0126 - accuracy: 1.0000 - root_mean_squared_error: 2.1230 - val_loss: 0.6290 - val_accuracy: 0.8333 - val_root_mean_squared_error: 2.1655 - 26ms/epoch - 13ms/step\n",
      "Epoch 158/200\n",
      "2/2 - 0s - loss: 0.0124 - accuracy: 1.0000 - root_mean_squared_error: 2.1230 - val_loss: 0.6290 - val_accuracy: 0.8333 - val_root_mean_squared_error: 2.1655 - 24ms/epoch - 12ms/step\n",
      "Epoch 159/200\n",
      "2/2 - 0s - loss: 0.0122 - accuracy: 1.0000 - root_mean_squared_error: 2.1230 - val_loss: 0.6306 - val_accuracy: 0.8333 - val_root_mean_squared_error: 2.1655 - 26ms/epoch - 13ms/step\n",
      "Epoch 160/200\n",
      "2/2 - 0s - loss: 0.0120 - accuracy: 1.0000 - root_mean_squared_error: 2.1230 - val_loss: 0.6325 - val_accuracy: 0.8333 - val_root_mean_squared_error: 2.1655 - 24ms/epoch - 12ms/step\n",
      "Epoch 161/200\n",
      "2/2 - 0s - loss: 0.0118 - accuracy: 1.0000 - root_mean_squared_error: 2.1230 - val_loss: 0.6347 - val_accuracy: 0.8333 - val_root_mean_squared_error: 2.1655 - 33ms/epoch - 17ms/step\n",
      "Epoch 162/200\n",
      "2/2 - 0s - loss: 0.0116 - accuracy: 1.0000 - root_mean_squared_error: 2.1230 - val_loss: 0.6373 - val_accuracy: 0.8333 - val_root_mean_squared_error: 2.1655 - 29ms/epoch - 15ms/step\n",
      "Epoch 163/200\n",
      "2/2 - 0s - loss: 0.0114 - accuracy: 1.0000 - root_mean_squared_error: 2.1230 - val_loss: 0.6405 - val_accuracy: 0.8333 - val_root_mean_squared_error: 2.1655 - 31ms/epoch - 15ms/step\n",
      "Epoch 164/200\n",
      "2/2 - 0s - loss: 0.0113 - accuracy: 1.0000 - root_mean_squared_error: 2.1230 - val_loss: 0.6431 - val_accuracy: 0.8333 - val_root_mean_squared_error: 2.1655 - 29ms/epoch - 15ms/step\n",
      "Epoch 165/200\n",
      "2/2 - 0s - loss: 0.0111 - accuracy: 1.0000 - root_mean_squared_error: 2.1230 - val_loss: 0.6457 - val_accuracy: 0.8333 - val_root_mean_squared_error: 2.1655 - 32ms/epoch - 16ms/step\n",
      "Epoch 166/200\n",
      "2/2 - 0s - loss: 0.0110 - accuracy: 1.0000 - root_mean_squared_error: 2.1230 - val_loss: 0.6486 - val_accuracy: 0.8333 - val_root_mean_squared_error: 2.1655 - 30ms/epoch - 15ms/step\n",
      "Epoch 167/200\n",
      "2/2 - 0s - loss: 0.0108 - accuracy: 1.0000 - root_mean_squared_error: 2.1230 - val_loss: 0.6506 - val_accuracy: 0.8333 - val_root_mean_squared_error: 2.1655 - 28ms/epoch - 14ms/step\n",
      "Epoch 168/200\n",
      "2/2 - 0s - loss: 0.0107 - accuracy: 1.0000 - root_mean_squared_error: 2.1230 - val_loss: 0.6523 - val_accuracy: 0.8333 - val_root_mean_squared_error: 2.1655 - 25ms/epoch - 12ms/step\n",
      "Epoch 169/200\n",
      "2/2 - 0s - loss: 0.0105 - accuracy: 1.0000 - root_mean_squared_error: 2.1230 - val_loss: 0.6546 - val_accuracy: 0.8333 - val_root_mean_squared_error: 2.1655 - 27ms/epoch - 14ms/step\n"
     ]
    },
    {
     "name": "stdout",
     "output_type": "stream",
     "text": [
      "Epoch 170/200\n",
      "2/2 - 0s - loss: 0.0104 - accuracy: 1.0000 - root_mean_squared_error: 2.1230 - val_loss: 0.6557 - val_accuracy: 0.8333 - val_root_mean_squared_error: 2.1655 - 25ms/epoch - 13ms/step\n",
      "Epoch 171/200\n",
      "2/2 - 0s - loss: 0.0103 - accuracy: 1.0000 - root_mean_squared_error: 2.1230 - val_loss: 0.6558 - val_accuracy: 0.8333 - val_root_mean_squared_error: 2.1655 - 25ms/epoch - 12ms/step\n",
      "Epoch 172/200\n",
      "2/2 - 0s - loss: 0.0101 - accuracy: 1.0000 - root_mean_squared_error: 2.1230 - val_loss: 0.6567 - val_accuracy: 0.8333 - val_root_mean_squared_error: 2.1655 - 27ms/epoch - 13ms/step\n",
      "Epoch 173/200\n",
      "2/2 - 0s - loss: 0.0100 - accuracy: 1.0000 - root_mean_squared_error: 2.1230 - val_loss: 0.6561 - val_accuracy: 0.8333 - val_root_mean_squared_error: 2.1655 - 27ms/epoch - 14ms/step\n",
      "Epoch 174/200\n",
      "2/2 - 0s - loss: 0.0098 - accuracy: 1.0000 - root_mean_squared_error: 2.1230 - val_loss: 0.6567 - val_accuracy: 0.8333 - val_root_mean_squared_error: 2.1655 - 29ms/epoch - 15ms/step\n",
      "Epoch 175/200\n",
      "2/2 - 0s - loss: 0.0097 - accuracy: 1.0000 - root_mean_squared_error: 2.1230 - val_loss: 0.6572 - val_accuracy: 0.8333 - val_root_mean_squared_error: 2.1655 - 31ms/epoch - 15ms/step\n",
      "Epoch 176/200\n",
      "2/2 - 0s - loss: 0.0096 - accuracy: 1.0000 - root_mean_squared_error: 2.1230 - val_loss: 0.6569 - val_accuracy: 0.8333 - val_root_mean_squared_error: 2.1655 - 30ms/epoch - 15ms/step\n",
      "Epoch 177/200\n",
      "2/2 - 0s - loss: 0.0094 - accuracy: 1.0000 - root_mean_squared_error: 2.1230 - val_loss: 0.6568 - val_accuracy: 0.8333 - val_root_mean_squared_error: 2.1655 - 30ms/epoch - 15ms/step\n",
      "Epoch 178/200\n",
      "2/2 - 0s - loss: 0.0094 - accuracy: 1.0000 - root_mean_squared_error: 2.1230 - val_loss: 0.6560 - val_accuracy: 0.8333 - val_root_mean_squared_error: 2.1655 - 30ms/epoch - 15ms/step\n",
      "Epoch 179/200\n",
      "2/2 - 0s - loss: 0.0093 - accuracy: 1.0000 - root_mean_squared_error: 2.1230 - val_loss: 0.6558 - val_accuracy: 0.8333 - val_root_mean_squared_error: 2.1655 - 31ms/epoch - 16ms/step\n",
      "Epoch 180/200\n",
      "2/2 - 0s - loss: 0.0091 - accuracy: 1.0000 - root_mean_squared_error: 2.1230 - val_loss: 0.6573 - val_accuracy: 0.8333 - val_root_mean_squared_error: 2.1655 - 29ms/epoch - 15ms/step\n",
      "Epoch 181/200\n",
      "2/2 - 0s - loss: 0.0090 - accuracy: 1.0000 - root_mean_squared_error: 2.1230 - val_loss: 0.6579 - val_accuracy: 0.8333 - val_root_mean_squared_error: 2.1655 - 26ms/epoch - 13ms/step\n",
      "Epoch 182/200\n",
      "2/2 - 0s - loss: 0.0089 - accuracy: 1.0000 - root_mean_squared_error: 2.1230 - val_loss: 0.6605 - val_accuracy: 0.8333 - val_root_mean_squared_error: 2.1655 - 26ms/epoch - 13ms/step\n",
      "Epoch 183/200\n",
      "2/2 - 0s - loss: 0.0088 - accuracy: 1.0000 - root_mean_squared_error: 2.1230 - val_loss: 0.6627 - val_accuracy: 0.8333 - val_root_mean_squared_error: 2.1655 - 26ms/epoch - 13ms/step\n",
      "Epoch 184/200\n",
      "2/2 - 0s - loss: 0.0087 - accuracy: 1.0000 - root_mean_squared_error: 2.1230 - val_loss: 0.6647 - val_accuracy: 0.8333 - val_root_mean_squared_error: 2.1655 - 26ms/epoch - 13ms/step\n",
      "Epoch 185/200\n",
      "2/2 - 0s - loss: 0.0086 - accuracy: 1.0000 - root_mean_squared_error: 2.1230 - val_loss: 0.6660 - val_accuracy: 0.8333 - val_root_mean_squared_error: 2.1655 - 25ms/epoch - 13ms/step\n",
      "Epoch 186/200\n",
      "2/2 - 0s - loss: 0.0085 - accuracy: 1.0000 - root_mean_squared_error: 2.1230 - val_loss: 0.6669 - val_accuracy: 0.8333 - val_root_mean_squared_error: 2.1655 - 25ms/epoch - 13ms/step\n",
      "Epoch 187/200\n",
      "2/2 - 0s - loss: 0.0084 - accuracy: 1.0000 - root_mean_squared_error: 2.1230 - val_loss: 0.6690 - val_accuracy: 0.8333 - val_root_mean_squared_error: 2.1655 - 25ms/epoch - 13ms/step\n",
      "Epoch 188/200\n",
      "2/2 - 0s - loss: 0.0083 - accuracy: 1.0000 - root_mean_squared_error: 2.1230 - val_loss: 0.6708 - val_accuracy: 0.8333 - val_root_mean_squared_error: 2.1655 - 25ms/epoch - 13ms/step\n",
      "Epoch 189/200\n",
      "2/2 - 0s - loss: 0.0082 - accuracy: 1.0000 - root_mean_squared_error: 2.1230 - val_loss: 0.6713 - val_accuracy: 0.8333 - val_root_mean_squared_error: 2.1655 - 26ms/epoch - 13ms/step\n",
      "Epoch 190/200\n",
      "2/2 - 0s - loss: 0.0081 - accuracy: 1.0000 - root_mean_squared_error: 2.1230 - val_loss: 0.6727 - val_accuracy: 0.8333 - val_root_mean_squared_error: 2.1655 - 25ms/epoch - 13ms/step\n",
      "Epoch 191/200\n",
      "2/2 - 0s - loss: 0.0080 - accuracy: 1.0000 - root_mean_squared_error: 2.1230 - val_loss: 0.6737 - val_accuracy: 0.8333 - val_root_mean_squared_error: 2.1655 - 25ms/epoch - 13ms/step\n",
      "Epoch 192/200\n",
      "2/2 - 0s - loss: 0.0079 - accuracy: 1.0000 - root_mean_squared_error: 2.1230 - val_loss: 0.6741 - val_accuracy: 0.8333 - val_root_mean_squared_error: 2.1655 - 26ms/epoch - 13ms/step\n",
      "Epoch 193/200\n",
      "2/2 - 0s - loss: 0.0078 - accuracy: 1.0000 - root_mean_squared_error: 2.1230 - val_loss: 0.6762 - val_accuracy: 0.8333 - val_root_mean_squared_error: 2.1655 - 26ms/epoch - 13ms/step\n",
      "Epoch 194/200\n",
      "2/2 - 0s - loss: 0.0078 - accuracy: 1.0000 - root_mean_squared_error: 2.1230 - val_loss: 0.6772 - val_accuracy: 0.8333 - val_root_mean_squared_error: 2.1655 - 25ms/epoch - 13ms/step\n",
      "Epoch 195/200\n",
      "2/2 - 0s - loss: 0.0077 - accuracy: 1.0000 - root_mean_squared_error: 2.1230 - val_loss: 0.6785 - val_accuracy: 0.8333 - val_root_mean_squared_error: 2.1655 - 26ms/epoch - 13ms/step\n",
      "Epoch 196/200\n",
      "2/2 - 0s - loss: 0.0076 - accuracy: 1.0000 - root_mean_squared_error: 2.1230 - val_loss: 0.6795 - val_accuracy: 0.8333 - val_root_mean_squared_error: 2.1655 - 26ms/epoch - 13ms/step\n",
      "Epoch 197/200\n",
      "2/2 - 0s - loss: 0.0075 - accuracy: 1.0000 - root_mean_squared_error: 2.1230 - val_loss: 0.6799 - val_accuracy: 0.8333 - val_root_mean_squared_error: 2.1655 - 25ms/epoch - 13ms/step\n",
      "Epoch 198/200\n",
      "2/2 - 0s - loss: 0.0074 - accuracy: 1.0000 - root_mean_squared_error: 2.1230 - val_loss: 0.6814 - val_accuracy: 0.8333 - val_root_mean_squared_error: 2.1655 - 25ms/epoch - 13ms/step\n",
      "Epoch 199/200\n",
      "2/2 - 0s - loss: 0.0073 - accuracy: 1.0000 - root_mean_squared_error: 2.1230 - val_loss: 0.6807 - val_accuracy: 0.8333 - val_root_mean_squared_error: 2.1655 - 25ms/epoch - 13ms/step\n",
      "Epoch 200/200\n",
      "2/2 - 0s - loss: 0.0073 - accuracy: 1.0000 - root_mean_squared_error: 2.1230 - val_loss: 0.6794 - val_accuracy: 0.8333 - val_root_mean_squared_error: 2.1655 - 25ms/epoch - 13ms/step\n",
      "Wall time: 6.65 s\n"
     ]
    }
   ],
   "source": [
    "%%time\n",
    "history = modeltf.fit(X_train, Y_train, verbose=2, epochs=200, batch_size = 32, validation_data = (X_test,Y_test))"
   ]
  },
  {
   "cell_type": "code",
   "execution_count": 67,
   "id": "74aa0739",
   "metadata": {},
   "outputs": [
    {
     "data": {
      "image/png": "[encoded data removed]",
      "text/plain": [
       "<Figure size 640x480 with 1 Axes>"
      ]
     },
     "metadata": {},
     "output_type": "display_data"
    },
    {
     "data": {
      "image/png": "[encoded data removed]",
      "text/plain": [
       "<Figure size 640x480 with 1 Axes>"
      ]
     },
     "metadata": {},
     "output_type": "display_data"
    }
   ],
   "source": [
    "# Plotting Results\n",
    "import matplotlib.pyplot as plt\n",
    "\n",
    "acc = history.history['accuracy']\n",
    "val_acc = history.history['val_accuracy']\n",
    "loss = history.history['loss']\n",
    "val_loss = history.history['val_loss']\n",
    "epochs = range(1, len(acc) + 1)\n",
    "\n",
    "plt.plot(epochs, acc, 'r', label='Training acc')\n",
    "plt.plot(epochs, val_acc, 'g', label='Validation acc')\n",
    "plt.xlabel('Epochs')\n",
    "plt.ylabel('Accuracy')\n",
    "\n",
    "plt.title('Training and validation accuracy')\n",
    "plt.legend()\n",
    "fig = plt.figure()\n",
    "fig.savefig('acc.png')\n",
    "\n",
    "\n",
    "plt.plot(epochs, loss, 'b', label='Training loss')\n",
    "plt.plot(epochs, val_loss, 'g', label='Validation loss')\n",
    "plt.xlabel('Epochs')\n",
    "plt.ylabel('Loss')\n",
    "plt.title('Training and validation loss')\n",
    "\n",
    "plt.legend()\n",
    "plt.show()"
   ]
  },
  {
   "cell_type": "code",
   "execution_count": null,
   "id": "d1286777",
   "metadata": {},
   "outputs": [],
   "source": [
    "\n"
   ]
  },
  {
   "cell_type": "code",
   "execution_count": null,
   "id": "1326a214",
   "metadata": {},
   "outputs": [],
   "source": []
  },
  {
   "cell_type": "markdown",
   "id": "8d8594c9",
   "metadata": {},
   "source": [
    "# Gaussian Naive Bayes"
   ]
  },
  {
   "cell_type": "code",
   "execution_count": 68,
   "id": "b53b27d0",
   "metadata": {},
   "outputs": [],
   "source": [
    "from sklearn.naive_bayes import GaussianNB"
   ]
  },
  {
   "cell_type": "code",
   "execution_count": 69,
   "id": "45830ad8",
   "metadata": {},
   "outputs": [],
   "source": [
    "\n",
    "gnb = GaussianNB()"
   ]
  },
  {
   "cell_type": "code",
   "execution_count": 70,
   "id": "2868885c",
   "metadata": {},
   "outputs": [
    {
     "name": "stdout",
     "output_type": "stream",
     "text": [
      "Wall time: 2.07 ms\n"
     ]
    }
   ],
   "source": [
    "%%time\n",
    "Y_pred = gnb.fit(X_train, Y_train).predict(X_test)"
   ]
  },
  {
   "cell_type": "code",
   "execution_count": 71,
   "id": "a2a8cc7a",
   "metadata": {},
   "outputs": [
    {
     "data": {
      "text/plain": [
       "0.9"
      ]
     },
     "execution_count": 71,
     "metadata": {},
     "output_type": "execute_result"
    }
   ],
   "source": [
    "accuracy_score(Y_test,Y_pred)"
   ]
  },
  {
   "cell_type": "code",
   "execution_count": 72,
   "id": "bdd15572",
   "metadata": {},
   "outputs": [
    {
     "name": "stdout",
     "output_type": "stream",
     "text": [
      "              precision    recall  f1-score   support\n",
      "\n",
      "           0       0.86      0.86      0.86         7\n",
      "           1       0.67      0.40      0.50         5\n",
      "           2       0.71      1.00      0.83         5\n",
      "           3       0.92      0.92      0.92        13\n",
      "\n",
      "    accuracy                           0.83        30\n",
      "   macro avg       0.79      0.80      0.78        30\n",
      "weighted avg       0.83      0.83      0.82        30\n",
      "\n"
     ]
    }
   ],
   "source": [
    "Y_predicted = model.predict(X_test)\n",
    "print(classification_report(Y_test, Y_predicted))"
   ]
  },
  {
   "cell_type": "code",
   "execution_count": 73,
   "id": "fc691516",
   "metadata": {},
   "outputs": [
    {
     "data": {
      "image/png": "[encoded data removed]",
      "text/plain": [
       "<Figure size 640x480 with 1 Axes>"
      ]
     },
     "metadata": {},
     "output_type": "display_data"
    }
   ],
   "source": [
    "from sklearn.metrics import RocCurveDisplay\n",
    "RocCurveDisplay.from_predictions(Y_test, Y_pred, pos_label = 3)\n",
    "plt.show()"
   ]
  },
  {
   "cell_type": "code",
   "execution_count": 74,
   "id": "fc62e123",
   "metadata": {},
   "outputs": [
    {
     "name": "stdout",
     "output_type": "stream",
     "text": [
      "[[ 6  1  0  0]\n",
      " [ 0  4  0  1]\n",
      " [ 0  0  5  0]\n",
      " [ 0  1  0 12]]\n"
     ]
    },
    {
     "data": {
      "image/png": "[encoded data removed]",
      "text/plain": [
       "<Figure size 640x480 with 2 Axes>"
      ]
     },
     "metadata": {},
     "output_type": "display_data"
    }
   ],
   "source": [
    "c = confusion_matrix(Y_test, Y_pred)\n",
    "print(c)\n",
    "sns.heatmap(c, annot=True, fmt=\".1f\")\n",
    "plt.xlabel('Actual');\n",
    "plt.ylabel('Predicted');"
   ]
  },
  {
   "cell_type": "markdown",
   "id": "802b12cf",
   "metadata": {},
   "source": [
    "# PCA"
   ]
  },
  {
   "cell_type": "code",
   "execution_count": 75,
   "id": "41eff27a",
   "metadata": {
    "scrolled": true
   },
   "outputs": [
    {
     "data": {
      "text/html": [
       "<div>\n",
       "<style scoped>\n",
       "    .dataframe tbody tr th:only-of-type {\n",
       "        vertical-align: middle;\n",
       "    }\n",
       "\n",
       "    .dataframe tbody tr th {\n",
       "        vertical-align: top;\n",
       "    }\n",
       "\n",
       "    .dataframe thead th {\n",
       "        text-align: right;\n",
       "    }\n",
       "</style>\n",
       "<table border=\"1\" class=\"dataframe\">\n",
       "  <thead>\n",
       "    <tr style=\"text-align: right;\">\n",
       "      <th></th>\n",
       "      <th>Fx</th>\n",
       "      <th>Fy</th>\n",
       "      <th>Fz</th>\n",
       "      <th>Tx</th>\n",
       "      <th>Ty</th>\n",
       "      <th>Tz</th>\n",
       "    </tr>\n",
       "  </thead>\n",
       "  <tbody>\n",
       "    <tr>\n",
       "      <th>0</th>\n",
       "      <td>-0.933333</td>\n",
       "      <td>-0.866667</td>\n",
       "      <td>62.533333</td>\n",
       "      <td>-2.866667</td>\n",
       "      <td>-0.666667</td>\n",
       "      <td>0.000000</td>\n",
       "    </tr>\n",
       "    <tr>\n",
       "      <th>1</th>\n",
       "      <td>-0.866667</td>\n",
       "      <td>-0.666667</td>\n",
       "      <td>62.133333</td>\n",
       "      <td>-3.533333</td>\n",
       "      <td>-1.333333</td>\n",
       "      <td>-0.266667</td>\n",
       "    </tr>\n",
       "    <tr>\n",
       "      <th>2</th>\n",
       "      <td>-0.666667</td>\n",
       "      <td>-0.533333</td>\n",
       "      <td>61.133333</td>\n",
       "      <td>-4.000000</td>\n",
       "      <td>-1.933333</td>\n",
       "      <td>-0.266667</td>\n",
       "    </tr>\n",
       "    <tr>\n",
       "      <th>3</th>\n",
       "      <td>-0.400000</td>\n",
       "      <td>0.133333</td>\n",
       "      <td>62.200000</td>\n",
       "      <td>-6.200000</td>\n",
       "      <td>-1.066667</td>\n",
       "      <td>-0.333333</td>\n",
       "    </tr>\n",
       "    <tr>\n",
       "      <th>4</th>\n",
       "      <td>-0.600000</td>\n",
       "      <td>-0.266667</td>\n",
       "      <td>60.600000</td>\n",
       "      <td>-7.000000</td>\n",
       "      <td>-2.800000</td>\n",
       "      <td>-0.133333</td>\n",
       "    </tr>\n",
       "    <tr>\n",
       "      <th>...</th>\n",
       "      <td>...</td>\n",
       "      <td>...</td>\n",
       "      <td>...</td>\n",
       "      <td>...</td>\n",
       "      <td>...</td>\n",
       "      <td>...</td>\n",
       "    </tr>\n",
       "    <tr>\n",
       "      <th>83</th>\n",
       "      <td>-71.533333</td>\n",
       "      <td>41.333333</td>\n",
       "      <td>-711.400000</td>\n",
       "      <td>338.866667</td>\n",
       "      <td>99.266667</td>\n",
       "      <td>-15.466667</td>\n",
       "    </tr>\n",
       "    <tr>\n",
       "      <th>84</th>\n",
       "      <td>9.533333</td>\n",
       "      <td>9.666667</td>\n",
       "      <td>28.200000</td>\n",
       "      <td>-34.066667</td>\n",
       "      <td>4.333333</td>\n",
       "      <td>-3.466667</td>\n",
       "    </tr>\n",
       "    <tr>\n",
       "      <th>85</th>\n",
       "      <td>64.066667</td>\n",
       "      <td>33.866667</td>\n",
       "      <td>-147.733333</td>\n",
       "      <td>-65.800000</td>\n",
       "      <td>71.266667</td>\n",
       "      <td>-5.400000</td>\n",
       "    </tr>\n",
       "    <tr>\n",
       "      <th>86</th>\n",
       "      <td>300.600000</td>\n",
       "      <td>141.466667</td>\n",
       "      <td>-942.466667</td>\n",
       "      <td>-128.066667</td>\n",
       "      <td>394.466667</td>\n",
       "      <td>31.666667</td>\n",
       "    </tr>\n",
       "    <tr>\n",
       "      <th>87</th>\n",
       "      <td>-9.533333</td>\n",
       "      <td>2.466667</td>\n",
       "      <td>40.000000</td>\n",
       "      <td>-20.266667</td>\n",
       "      <td>-22.400000</td>\n",
       "      <td>4.866667</td>\n",
       "    </tr>\n",
       "  </tbody>\n",
       "</table>\n",
       "<p>88 rows × 6 columns</p>\n",
       "</div>"
      ],
      "text/plain": [
       "            Fx          Fy          Fz          Tx          Ty         Tz\n",
       "0    -0.933333   -0.866667   62.533333   -2.866667   -0.666667   0.000000\n",
       "1    -0.866667   -0.666667   62.133333   -3.533333   -1.333333  -0.266667\n",
       "2    -0.666667   -0.533333   61.133333   -4.000000   -1.933333  -0.266667\n",
       "3    -0.400000    0.133333   62.200000   -6.200000   -1.066667  -0.333333\n",
       "4    -0.600000   -0.266667   60.600000   -7.000000   -2.800000  -0.133333\n",
       "..         ...         ...         ...         ...         ...        ...\n",
       "83  -71.533333   41.333333 -711.400000  338.866667   99.266667 -15.466667\n",
       "84    9.533333    9.666667   28.200000  -34.066667    4.333333  -3.466667\n",
       "85   64.066667   33.866667 -147.733333  -65.800000   71.266667  -5.400000\n",
       "86  300.600000  141.466667 -942.466667 -128.066667  394.466667  31.666667\n",
       "87   -9.533333    2.466667   40.000000  -20.266667  -22.400000   4.866667\n",
       "\n",
       "[88 rows x 6 columns]"
      ]
     },
     "execution_count": 75,
     "metadata": {},
     "output_type": "execute_result"
    }
   ],
   "source": [
    "lf3.drop(['Failure_type'], axis = 1)"
   ]
  },
  {
   "cell_type": "code",
   "execution_count": 76,
   "id": "633e8968",
   "metadata": {},
   "outputs": [],
   "source": [
    "from sklearn.decomposition import PCA\n"
   ]
  },
  {
   "cell_type": "code",
   "execution_count": 77,
   "id": "c7d61189",
   "metadata": {
    "scrolled": true
   },
   "outputs": [],
   "source": [
    "x = np.array([lf3.drop(['Failure_type'], axis = 1)])"
   ]
  },
  {
   "cell_type": "code",
   "execution_count": 78,
   "id": "1faaedfe",
   "metadata": {},
   "outputs": [],
   "source": [
    "pca = PCA(n_components=3)\n"
   ]
  },
  {
   "cell_type": "code",
   "execution_count": 79,
   "id": "bd426b99",
   "metadata": {},
   "outputs": [],
   "source": [
    "d=pca.fit_transform(X)"
   ]
  },
  {
   "cell_type": "code",
   "execution_count": 80,
   "id": "9f273482",
   "metadata": {},
   "outputs": [
    {
     "name": "stdout",
     "output_type": "stream",
     "text": [
      "[0.74927214 0.1863937  0.05156555]\n"
     ]
    }
   ],
   "source": [
    "print(pca.explained_variance_ratio_)\n",
    "\n",
    "pca_df = pd.DataFrame(data=d,columns = ['PC1', 'PC2', 'PC3'])"
   ]
  },
  {
   "cell_type": "code",
   "execution_count": 81,
   "id": "19fc2618",
   "metadata": {
    "scrolled": false
   },
   "outputs": [
    {
     "data": {
      "image/png": "[encoded data removed]",
      "text/plain": [
       "<Figure size 640x480 with 1 Axes>"
      ]
     },
     "metadata": {},
     "output_type": "display_data"
    }
   ],
   "source": [
    "PCAplot = np.arange(pca.n_components) + 1\n",
    "plt.plot(PCAplot, pca.explained_variance_ratio_, 'ro-', linewidth = 2)\n",
    "plt.title('Scree Plot')\n",
    "plt.xlabel('Principal Component')\n",
    "plt.ylabel('Variance_ratio')\n",
    "plt.show()"
   ]
  },
  {
   "cell_type": "code",
   "execution_count": 82,
   "id": "76e9ecfc",
   "metadata": {},
   "outputs": [
    {
     "data": {
      "text/html": [
       "<div>\n",
       "<style scoped>\n",
       "    .dataframe tbody tr th:only-of-type {\n",
       "        vertical-align: middle;\n",
       "    }\n",
       "\n",
       "    .dataframe tbody tr th {\n",
       "        vertical-align: top;\n",
       "    }\n",
       "\n",
       "    .dataframe thead th {\n",
       "        text-align: right;\n",
       "    }\n",
       "</style>\n",
       "<table border=\"1\" class=\"dataframe\">\n",
       "  <thead>\n",
       "    <tr style=\"text-align: right;\">\n",
       "      <th></th>\n",
       "      <th>PC1</th>\n",
       "      <th>PC2</th>\n",
       "      <th>PC3</th>\n",
       "    </tr>\n",
       "  </thead>\n",
       "  <tbody>\n",
       "    <tr>\n",
       "      <th>0</th>\n",
       "      <td>-194.312994</td>\n",
       "      <td>-4.046562</td>\n",
       "      <td>-5.576928</td>\n",
       "    </tr>\n",
       "    <tr>\n",
       "      <th>1</th>\n",
       "      <td>-193.785428</td>\n",
       "      <td>-3.267271</td>\n",
       "      <td>-5.817540</td>\n",
       "    </tr>\n",
       "    <tr>\n",
       "      <th>2</th>\n",
       "      <td>-192.705116</td>\n",
       "      <td>-2.756318</td>\n",
       "      <td>-6.010389</td>\n",
       "    </tr>\n",
       "    <tr>\n",
       "      <th>3</th>\n",
       "      <td>-193.411967</td>\n",
       "      <td>-1.156237</td>\n",
       "      <td>-4.381502</td>\n",
       "    </tr>\n",
       "    <tr>\n",
       "      <th>4</th>\n",
       "      <td>-191.667577</td>\n",
       "      <td>0.129127</td>\n",
       "      <td>-5.550500</td>\n",
       "    </tr>\n",
       "    <tr>\n",
       "      <th>...</th>\n",
       "      <td>...</td>\n",
       "      <td>...</td>\n",
       "      <td>...</td>\n",
       "    </tr>\n",
       "    <tr>\n",
       "      <th>83</th>\n",
       "      <td>515.135274</td>\n",
       "      <td>-467.630913</td>\n",
       "      <td>-106.915812</td>\n",
       "    </tr>\n",
       "    <tr>\n",
       "      <th>84</th>\n",
       "      <td>-155.473027</td>\n",
       "      <td>14.643284</td>\n",
       "      <td>14.565922</td>\n",
       "    </tr>\n",
       "    <tr>\n",
       "      <th>85</th>\n",
       "      <td>20.656344</td>\n",
       "      <td>-14.440126</td>\n",
       "      <td>103.237676</td>\n",
       "    </tr>\n",
       "    <tr>\n",
       "      <th>86</th>\n",
       "      <td>803.257185</td>\n",
       "      <td>-224.437483</td>\n",
       "      <td>486.941021</td>\n",
       "    </tr>\n",
       "    <tr>\n",
       "      <th>87</th>\n",
       "      <td>-168.274187</td>\n",
       "      <td>16.725034</td>\n",
       "      <td>-20.616141</td>\n",
       "    </tr>\n",
       "  </tbody>\n",
       "</table>\n",
       "<p>88 rows × 3 columns</p>\n",
       "</div>"
      ],
      "text/plain": [
       "           PC1         PC2         PC3\n",
       "0  -194.312994   -4.046562   -5.576928\n",
       "1  -193.785428   -3.267271   -5.817540\n",
       "2  -192.705116   -2.756318   -6.010389\n",
       "3  -193.411967   -1.156237   -4.381502\n",
       "4  -191.667577    0.129127   -5.550500\n",
       "..         ...         ...         ...\n",
       "83  515.135274 -467.630913 -106.915812\n",
       "84 -155.473027   14.643284   14.565922\n",
       "85   20.656344  -14.440126  103.237676\n",
       "86  803.257185 -224.437483  486.941021\n",
       "87 -168.274187   16.725034  -20.616141\n",
       "\n",
       "[88 rows x 3 columns]"
      ]
     },
     "execution_count": 82,
     "metadata": {},
     "output_type": "execute_result"
    }
   ],
   "source": [
    "pca_df"
   ]
  },
  {
   "cell_type": "code",
   "execution_count": 83,
   "id": "35f6b0e1",
   "metadata": {},
   "outputs": [],
   "source": [
    "pca_df[\"Failure_type\"] = lf5"
   ]
  },
  {
   "cell_type": "code",
   "execution_count": 84,
   "id": "fb3fdfc8",
   "metadata": {},
   "outputs": [
    {
     "data": {
      "text/html": [
       "<div>\n",
       "<style scoped>\n",
       "    .dataframe tbody tr th:only-of-type {\n",
       "        vertical-align: middle;\n",
       "    }\n",
       "\n",
       "    .dataframe tbody tr th {\n",
       "        vertical-align: top;\n",
       "    }\n",
       "\n",
       "    .dataframe thead th {\n",
       "        text-align: right;\n",
       "    }\n",
       "</style>\n",
       "<table border=\"1\" class=\"dataframe\">\n",
       "  <thead>\n",
       "    <tr style=\"text-align: right;\">\n",
       "      <th></th>\n",
       "      <th>PC1</th>\n",
       "      <th>PC2</th>\n",
       "      <th>PC3</th>\n",
       "      <th>Failure_type</th>\n",
       "    </tr>\n",
       "  </thead>\n",
       "  <tbody>\n",
       "    <tr>\n",
       "      <th>0</th>\n",
       "      <td>-194.312994</td>\n",
       "      <td>-4.046562</td>\n",
       "      <td>-5.576928</td>\n",
       "      <td>normal</td>\n",
       "    </tr>\n",
       "    <tr>\n",
       "      <th>1</th>\n",
       "      <td>-193.785428</td>\n",
       "      <td>-3.267271</td>\n",
       "      <td>-5.817540</td>\n",
       "      <td>normal</td>\n",
       "    </tr>\n",
       "    <tr>\n",
       "      <th>2</th>\n",
       "      <td>-192.705116</td>\n",
       "      <td>-2.756318</td>\n",
       "      <td>-6.010389</td>\n",
       "      <td>normal</td>\n",
       "    </tr>\n",
       "    <tr>\n",
       "      <th>3</th>\n",
       "      <td>-193.411967</td>\n",
       "      <td>-1.156237</td>\n",
       "      <td>-4.381502</td>\n",
       "      <td>normal</td>\n",
       "    </tr>\n",
       "    <tr>\n",
       "      <th>4</th>\n",
       "      <td>-191.667577</td>\n",
       "      <td>0.129127</td>\n",
       "      <td>-5.550500</td>\n",
       "      <td>normal</td>\n",
       "    </tr>\n",
       "    <tr>\n",
       "      <th>...</th>\n",
       "      <td>...</td>\n",
       "      <td>...</td>\n",
       "      <td>...</td>\n",
       "      <td>...</td>\n",
       "    </tr>\n",
       "    <tr>\n",
       "      <th>83</th>\n",
       "      <td>515.135274</td>\n",
       "      <td>-467.630913</td>\n",
       "      <td>-106.915812</td>\n",
       "      <td>obstruction</td>\n",
       "    </tr>\n",
       "    <tr>\n",
       "      <th>84</th>\n",
       "      <td>-155.473027</td>\n",
       "      <td>14.643284</td>\n",
       "      <td>14.565922</td>\n",
       "      <td>fr_collision</td>\n",
       "    </tr>\n",
       "    <tr>\n",
       "      <th>85</th>\n",
       "      <td>20.656344</td>\n",
       "      <td>-14.440126</td>\n",
       "      <td>103.237676</td>\n",
       "      <td>obstruction</td>\n",
       "    </tr>\n",
       "    <tr>\n",
       "      <th>86</th>\n",
       "      <td>803.257185</td>\n",
       "      <td>-224.437483</td>\n",
       "      <td>486.941021</td>\n",
       "      <td>obstruction</td>\n",
       "    </tr>\n",
       "    <tr>\n",
       "      <th>87</th>\n",
       "      <td>-168.274187</td>\n",
       "      <td>16.725034</td>\n",
       "      <td>-20.616141</td>\n",
       "      <td>fr_collision</td>\n",
       "    </tr>\n",
       "  </tbody>\n",
       "</table>\n",
       "<p>88 rows × 4 columns</p>\n",
       "</div>"
      ],
      "text/plain": [
       "           PC1         PC2         PC3  Failure_type\n",
       "0  -194.312994   -4.046562   -5.576928        normal\n",
       "1  -193.785428   -3.267271   -5.817540        normal\n",
       "2  -192.705116   -2.756318   -6.010389        normal\n",
       "3  -193.411967   -1.156237   -4.381502        normal\n",
       "4  -191.667577    0.129127   -5.550500        normal\n",
       "..         ...         ...         ...           ...\n",
       "83  515.135274 -467.630913 -106.915812   obstruction\n",
       "84 -155.473027   14.643284   14.565922  fr_collision\n",
       "85   20.656344  -14.440126  103.237676   obstruction\n",
       "86  803.257185 -224.437483  486.941021   obstruction\n",
       "87 -168.274187   16.725034  -20.616141  fr_collision\n",
       "\n",
       "[88 rows x 4 columns]"
      ]
     },
     "execution_count": 84,
     "metadata": {},
     "output_type": "execute_result"
    }
   ],
   "source": [
    "pca_df"
   ]
  },
  {
   "cell_type": "code",
   "execution_count": 85,
   "id": "1fd665c4",
   "metadata": {},
   "outputs": [
    {
     "data": {
      "text/html": [
       "<div>\n",
       "<style scoped>\n",
       "    .dataframe tbody tr th:only-of-type {\n",
       "        vertical-align: middle;\n",
       "    }\n",
       "\n",
       "    .dataframe tbody tr th {\n",
       "        vertical-align: top;\n",
       "    }\n",
       "\n",
       "    .dataframe thead th {\n",
       "        text-align: right;\n",
       "    }\n",
       "</style>\n",
       "<table border=\"1\" class=\"dataframe\">\n",
       "  <thead>\n",
       "    <tr style=\"text-align: right;\">\n",
       "      <th></th>\n",
       "      <th>PC1</th>\n",
       "      <th>PC2</th>\n",
       "      <th>PC3</th>\n",
       "      <th>Failure_type</th>\n",
       "    </tr>\n",
       "  </thead>\n",
       "  <tbody>\n",
       "    <tr>\n",
       "      <th>0</th>\n",
       "      <td>-194.312994</td>\n",
       "      <td>-4.046562</td>\n",
       "      <td>-5.576928</td>\n",
       "      <td>2</td>\n",
       "    </tr>\n",
       "    <tr>\n",
       "      <th>1</th>\n",
       "      <td>-193.785428</td>\n",
       "      <td>-3.267271</td>\n",
       "      <td>-5.817540</td>\n",
       "      <td>2</td>\n",
       "    </tr>\n",
       "    <tr>\n",
       "      <th>2</th>\n",
       "      <td>-192.705116</td>\n",
       "      <td>-2.756318</td>\n",
       "      <td>-6.010389</td>\n",
       "      <td>2</td>\n",
       "    </tr>\n",
       "    <tr>\n",
       "      <th>3</th>\n",
       "      <td>-193.411967</td>\n",
       "      <td>-1.156237</td>\n",
       "      <td>-4.381502</td>\n",
       "      <td>2</td>\n",
       "    </tr>\n",
       "    <tr>\n",
       "      <th>4</th>\n",
       "      <td>-191.667577</td>\n",
       "      <td>0.129127</td>\n",
       "      <td>-5.550500</td>\n",
       "      <td>2</td>\n",
       "    </tr>\n",
       "  </tbody>\n",
       "</table>\n",
       "</div>"
      ],
      "text/plain": [
       "          PC1       PC2       PC3  Failure_type\n",
       "0 -194.312994 -4.046562 -5.576928             2\n",
       "1 -193.785428 -3.267271 -5.817540             2\n",
       "2 -192.705116 -2.756318 -6.010389             2\n",
       "3 -193.411967 -1.156237 -4.381502             2\n",
       "4 -191.667577  0.129127 -5.550500             2"
      ]
     },
     "execution_count": 85,
     "metadata": {},
     "output_type": "execute_result"
    }
   ],
   "source": [
    "from sklearn import preprocessing\n",
    "le = preprocessing.LabelEncoder()\n",
    "pca_df.Failure_type = le.fit_transform(pca_df.Failure_type)\n",
    "pca_df.head()"
   ]
  },
  {
   "cell_type": "code",
   "execution_count": 86,
   "id": "6e8b8c9d",
   "metadata": {},
   "outputs": [],
   "source": [
    "X = pca_df.drop(['Failure_type'], axis = 1)\n",
    "Y = pca_df['Failure_type']\n",
    "X_train,X_test,Y_train,Y_test = train_test_split(X,Y, test_size =0.33,  random_state = 2)"
   ]
  },
  {
   "cell_type": "markdown",
   "id": "9717fb4a",
   "metadata": {},
   "source": [
    "# Decision Tree"
   ]
  },
  {
   "cell_type": "code",
   "execution_count": 87,
   "id": "9058b40f",
   "metadata": {},
   "outputs": [
    {
     "name": "stdout",
     "output_type": "stream",
     "text": [
      "Wall time: 3 ms\n"
     ]
    }
   ],
   "source": [
    "%%time\n",
    "dtc = DecisionTreeClassifier(criterion='gini', max_depth = 5, splitter='best')\n",
    "dtc = dtc.fit(X_train, Y_train)"
   ]
  },
  {
   "cell_type": "code",
   "execution_count": 88,
   "id": "fe9eed86",
   "metadata": {},
   "outputs": [],
   "source": [
    "predictions = dtc.predict(X_test)"
   ]
  },
  {
   "cell_type": "code",
   "execution_count": 89,
   "id": "a17953c2",
   "metadata": {},
   "outputs": [
    {
     "data": {
      "text/plain": [
       "0.9666666666666667"
      ]
     },
     "execution_count": 89,
     "metadata": {},
     "output_type": "execute_result"
    }
   ],
   "source": [
    "accuracy_score(Y_test,predictions)"
   ]
  },
  {
   "cell_type": "code",
   "execution_count": 90,
   "id": "21f1cef9",
   "metadata": {},
   "outputs": [],
   "source": [
    "c = confusion_matrix(Y_test, predictions)"
   ]
  },
  {
   "cell_type": "code",
   "execution_count": 91,
   "id": "84967659",
   "metadata": {},
   "outputs": [
    {
     "name": "stdout",
     "output_type": "stream",
     "text": [
      "[[ 7  0  0  0]\n",
      " [ 0  4  0  1]\n",
      " [ 0  0  5  0]\n",
      " [ 0  0  0 13]]\n"
     ]
    },
    {
     "data": {
      "image/png": "[encoded data removed]",
      "text/plain": [
       "<Figure size 640x480 with 2 Axes>"
      ]
     },
     "metadata": {},
     "output_type": "display_data"
    }
   ],
   "source": [
    "c = confusion_matrix(Y_test, predictions)\n",
    "print(c)\n",
    "sns.heatmap(c, annot=True, fmt=\".1f\")\n",
    "plt.xlabel('Actual');\n",
    "plt.ylabel('Predicted');"
   ]
  },
  {
   "cell_type": "code",
   "execution_count": 92,
   "id": "ee7e4bad",
   "metadata": {},
   "outputs": [
    {
     "name": "stdout",
     "output_type": "stream",
     "text": [
      "              precision    recall  f1-score   support\n",
      "\n",
      "           0       1.00      1.00      1.00         7\n",
      "           1       1.00      0.80      0.89         5\n",
      "           2       1.00      1.00      1.00         5\n",
      "           3       0.93      1.00      0.96        13\n",
      "\n",
      "    accuracy                           0.97        30\n",
      "   macro avg       0.98      0.95      0.96        30\n",
      "weighted avg       0.97      0.97      0.97        30\n",
      "\n"
     ]
    }
   ],
   "source": [
    "print(classification_report(Y_test, predictions))"
   ]
  },
  {
   "cell_type": "code",
   "execution_count": 93,
   "id": "860cbd29",
   "metadata": {},
   "outputs": [
    {
     "data": {
      "image/png": "[encoded data removed]",
      "text/plain": [
       "<Figure size 800x600 with 1 Axes>"
      ]
     },
     "metadata": {},
     "output_type": "display_data"
    }
   ],
   "source": [
    "from sklearn import tree\n",
    "plt.figure(figsize = (8,6))\n",
    "tree.plot_tree(dtc,filled = True, class_names = True);"
   ]
  },
  {
   "cell_type": "code",
   "execution_count": null,
   "id": "1760dea1",
   "metadata": {},
   "outputs": [],
   "source": []
  },
  {
   "cell_type": "markdown",
   "id": "535381c8",
   "metadata": {},
   "source": [
    "# SVM"
   ]
  },
  {
   "cell_type": "code",
   "execution_count": 94,
   "id": "7b9e07ea",
   "metadata": {},
   "outputs": [
    {
     "name": "stdout",
     "output_type": "stream",
     "text": [
      "Wall time: 202 ms\n"
     ]
    }
   ],
   "source": [
    "%%time\n",
    "from sklearn.svm import SVC\n",
    "\n",
    "model = SVC(kernel=\"poly\", degree=8, gamma = 'auto')\n",
    "\n",
    "model.fit(X_train,Y_train)\n",
    "Y_predict = model.predict(X_test)\n"
   ]
  },
  {
   "cell_type": "code",
   "execution_count": 95,
   "id": "ae5d3818",
   "metadata": {},
   "outputs": [
    {
     "data": {
      "text/plain": [
       "0.6333333333333333"
      ]
     },
     "execution_count": 95,
     "metadata": {},
     "output_type": "execute_result"
    }
   ],
   "source": [
    "accuracy_score(Y_test,Y_predict)"
   ]
  },
  {
   "cell_type": "code",
   "execution_count": 96,
   "id": "a62b94fe",
   "metadata": {},
   "outputs": [
    {
     "name": "stdout",
     "output_type": "stream",
     "text": [
      "              precision    recall  f1-score   support\n",
      "\n",
      "           0       0.45      0.71      0.56         7\n",
      "           1       0.80      0.80      0.80         5\n",
      "           2       0.83      1.00      0.91         5\n",
      "           3       0.62      0.38      0.48        13\n",
      "\n",
      "    accuracy                           0.63        30\n",
      "   macro avg       0.68      0.72      0.69        30\n",
      "weighted avg       0.65      0.63      0.62        30\n",
      "\n"
     ]
    }
   ],
   "source": [
    "print(classification_report(Y_test, Y_predict))"
   ]
  },
  {
   "cell_type": "code",
   "execution_count": 97,
   "id": "21055c36",
   "metadata": {},
   "outputs": [
    {
     "name": "stdout",
     "output_type": "stream",
     "text": [
      "[[5 0 0 2]\n",
      " [0 4 0 1]\n",
      " [0 0 5 0]\n",
      " [6 1 1 5]]\n"
     ]
    },
    {
     "data": {
      "image/png": "[encoded data removed]",
      "text/plain": [
       "<Figure size 640x480 with 2 Axes>"
      ]
     },
     "metadata": {},
     "output_type": "display_data"
    }
   ],
   "source": [
    "\n",
    "c = confusion_matrix(Y_test, Y_predict)\n",
    "print(c)\n",
    "sns.heatmap(c, annot=True, fmt=\".1f\")\n",
    "plt.xlabel('Actual');\n",
    "plt.ylabel('Predicted');\n"
   ]
  },
  {
   "cell_type": "markdown",
   "id": "1c6c216d",
   "metadata": {},
   "source": [
    "# Random forest"
   ]
  },
  {
   "cell_type": "code",
   "execution_count": 98,
   "id": "15882f39",
   "metadata": {},
   "outputs": [
    {
     "name": "stdout",
     "output_type": "stream",
     "text": [
      "Wall time: 282 ms\n"
     ]
    },
    {
     "data": {
      "text/plain": [
       "RandomForestClassifier(max_depth=4, n_estimators=500, random_state=2)"
      ]
     },
     "execution_count": 98,
     "metadata": {},
     "output_type": "execute_result"
    }
   ],
   "source": [
    "%%time\n",
    "rfc = RandomForestClassifier(n_estimators=500, max_depth=4, random_state = 2)\n",
    "rfc.fit(X_train, Y_train)"
   ]
  },
  {
   "cell_type": "code",
   "execution_count": 99,
   "id": "530572c1",
   "metadata": {},
   "outputs": [],
   "source": [
    "Y_predicts = rfc.predict(X_test)"
   ]
  },
  {
   "cell_type": "code",
   "execution_count": 100,
   "id": "dff3806c",
   "metadata": {},
   "outputs": [
    {
     "data": {
      "text/plain": [
       "0.9"
      ]
     },
     "execution_count": 100,
     "metadata": {},
     "output_type": "execute_result"
    }
   ],
   "source": [
    "accuracy_score(Y_test,Y_predicts)"
   ]
  },
  {
   "cell_type": "code",
   "execution_count": 101,
   "id": "c66f274f",
   "metadata": {},
   "outputs": [
    {
     "name": "stdout",
     "output_type": "stream",
     "text": [
      "              precision    recall  f1-score   support\n",
      "\n",
      "           0       1.00      0.71      0.83         7\n",
      "           1       1.00      0.80      0.89         5\n",
      "           2       0.71      1.00      0.83         5\n",
      "           3       0.93      1.00      0.96        13\n",
      "\n",
      "    accuracy                           0.90        30\n",
      "   macro avg       0.91      0.88      0.88        30\n",
      "weighted avg       0.92      0.90      0.90        30\n",
      "\n"
     ]
    }
   ],
   "source": [
    "print(classification_report(Y_test, Y_predicts))"
   ]
  },
  {
   "cell_type": "markdown",
   "id": "7ae73df6",
   "metadata": {},
   "source": [
    "# Neural network"
   ]
  },
  {
   "cell_type": "code",
   "execution_count": 102,
   "id": "0c112349",
   "metadata": {},
   "outputs": [
    {
     "data": {
      "text/plain": [
       "(58, 3)"
      ]
     },
     "execution_count": 102,
     "metadata": {},
     "output_type": "execute_result"
    }
   ],
   "source": [
    "X_train.shape"
   ]
  },
  {
   "cell_type": "code",
   "execution_count": 103,
   "id": "a01d7aa1",
   "metadata": {},
   "outputs": [
    {
     "data": {
      "text/plain": [
       "(58,)"
      ]
     },
     "execution_count": 103,
     "metadata": {},
     "output_type": "execute_result"
    }
   ],
   "source": [
    "Y_train.shape"
   ]
  },
  {
   "cell_type": "code",
   "execution_count": 104,
   "id": "7bac56f5",
   "metadata": {},
   "outputs": [
    {
     "name": "stdout",
     "output_type": "stream",
     "text": [
      "Wall time: 31.6 ms\n"
     ]
    }
   ],
   "source": [
    "%%time\n",
    "input_shape = (3,)\n",
    "model = keras.Sequential(\n",
    "    [\n",
    "        Dense(60,input_shape = input_shape, activation=\"relu\", name=\"layer1\"),\n",
    "        Dense(30, activation=\"relu\", name=\"layer2\"),\n",
    "        Dense(60, activation=\"sigmoid\", name=\"layer3\"),\n",
    "        Dense(60, activation=\"softmax\", name=\"layer4\")\n",
    "    ])\n",
    "    \n"
   ]
  },
  {
   "cell_type": "code",
   "execution_count": 105,
   "id": "d259728e",
   "metadata": {},
   "outputs": [
    {
     "name": "stdout",
     "output_type": "stream",
     "text": [
      "Model: \"sequential_1\"\n",
      "_________________________________________________________________\n",
      " Layer (type)                Output Shape              Param #   \n",
      "=================================================================\n",
      " layer1 (Dense)              (None, 60)                240       \n",
      "                                                                 \n",
      " layer2 (Dense)              (None, 30)                1830      \n",
      "                                                                 \n",
      " layer3 (Dense)              (None, 60)                1860      \n",
      "                                                                 \n",
      " layer4 (Dense)              (None, 60)                3660      \n",
      "                                                                 \n",
      "=================================================================\n",
      "Total params: 7,590\n",
      "Trainable params: 7,590\n",
      "Non-trainable params: 0\n",
      "_________________________________________________________________\n"
     ]
    }
   ],
   "source": [
    "model.summary()"
   ]
  },
  {
   "cell_type": "code",
   "execution_count": 106,
   "id": "7654a362",
   "metadata": {},
   "outputs": [],
   "source": [
    "model.compile(Adam(learning_rate=0.01), \"sparse_categorical_crossentropy\", metrics = [\"accuracy\"])\n"
   ]
  },
  {
   "cell_type": "code",
   "execution_count": 107,
   "id": "4bf4d97b",
   "metadata": {
    "scrolled": true
   },
   "outputs": [
    {
     "name": "stdout",
     "output_type": "stream",
     "text": [
      "Epoch 1/200\n",
      "2/2 - 1s - loss: 3.9486 - accuracy: 0.1897 - val_loss: 2.6166 - val_accuracy: 0.4333 - 501ms/epoch - 251ms/step\n",
      "Epoch 2/200\n",
      "2/2 - 0s - loss: 2.5344 - accuracy: 0.3621 - val_loss: 1.8343 - val_accuracy: 0.4333 - 28ms/epoch - 14ms/step\n",
      "Epoch 3/200\n",
      "2/2 - 0s - loss: 1.8512 - accuracy: 0.3621 - val_loss: 1.3940 - val_accuracy: 0.4333 - 29ms/epoch - 15ms/step\n",
      "Epoch 4/200\n",
      "2/2 - 0s - loss: 1.4367 - accuracy: 0.3621 - val_loss: 1.1574 - val_accuracy: 0.4333 - 29ms/epoch - 14ms/step\n",
      "Epoch 5/200\n",
      "2/2 - 0s - loss: 1.1659 - accuracy: 0.3793 - val_loss: 1.0071 - val_accuracy: 0.4667 - 24ms/epoch - 12ms/step\n",
      "Epoch 6/200\n",
      "2/2 - 0s - loss: 1.0123 - accuracy: 0.6724 - val_loss: 0.9166 - val_accuracy: 0.6333 - 31ms/epoch - 15ms/step\n",
      "Epoch 7/200\n",
      "2/2 - 0s - loss: 0.9557 - accuracy: 0.6724 - val_loss: 0.8815 - val_accuracy: 0.6000 - 30ms/epoch - 15ms/step\n",
      "Epoch 8/200\n",
      "2/2 - 0s - loss: 0.8989 - accuracy: 0.6207 - val_loss: 0.8989 - val_accuracy: 0.6000 - 33ms/epoch - 16ms/step\n",
      "Epoch 9/200\n",
      "2/2 - 0s - loss: 0.8566 - accuracy: 0.6379 - val_loss: 0.8295 - val_accuracy: 0.6000 - 28ms/epoch - 14ms/step\n",
      "Epoch 10/200\n",
      "2/2 - 0s - loss: 0.8230 - accuracy: 0.6379 - val_loss: 0.8240 - val_accuracy: 0.6000 - 29ms/epoch - 15ms/step\n",
      "Epoch 11/200\n",
      "2/2 - 0s - loss: 0.8021 - accuracy: 0.6034 - val_loss: 0.8207 - val_accuracy: 0.6000 - 23ms/epoch - 12ms/step\n",
      "Epoch 12/200\n",
      "2/2 - 0s - loss: 0.7819 - accuracy: 0.5862 - val_loss: 0.7940 - val_accuracy: 0.6000 - 32ms/epoch - 16ms/step\n",
      "Epoch 13/200\n",
      "2/2 - 0s - loss: 0.7426 - accuracy: 0.6552 - val_loss: 0.7660 - val_accuracy: 0.6333 - 24ms/epoch - 12ms/step\n",
      "Epoch 14/200\n",
      "2/2 - 0s - loss: 0.7377 - accuracy: 0.6897 - val_loss: 0.7525 - val_accuracy: 0.6333 - 35ms/epoch - 18ms/step\n",
      "Epoch 15/200\n",
      "2/2 - 0s - loss: 0.7093 - accuracy: 0.6897 - val_loss: 0.7563 - val_accuracy: 0.6333 - 30ms/epoch - 15ms/step\n",
      "Epoch 16/200\n",
      "2/2 - 0s - loss: 0.7073 - accuracy: 0.6897 - val_loss: 0.7683 - val_accuracy: 0.6333 - 28ms/epoch - 14ms/step\n",
      "Epoch 17/200\n",
      "2/2 - 0s - loss: 0.6955 - accuracy: 0.7414 - val_loss: 0.7349 - val_accuracy: 0.7000 - 27ms/epoch - 13ms/step\n",
      "Epoch 18/200\n",
      "2/2 - 0s - loss: 0.6637 - accuracy: 0.7414 - val_loss: 0.7281 - val_accuracy: 0.6333 - 28ms/epoch - 14ms/step\n",
      "Epoch 19/200\n",
      "2/2 - 0s - loss: 0.6609 - accuracy: 0.7414 - val_loss: 0.7109 - val_accuracy: 0.6667 - 30ms/epoch - 15ms/step\n",
      "Epoch 20/200\n",
      "2/2 - 0s - loss: 0.6514 - accuracy: 0.7586 - val_loss: 0.7316 - val_accuracy: 0.7000 - 30ms/epoch - 15ms/step\n",
      "Epoch 21/200\n",
      "2/2 - 0s - loss: 0.6526 - accuracy: 0.7586 - val_loss: 0.7090 - val_accuracy: 0.6667 - 29ms/epoch - 15ms/step\n",
      "Epoch 22/200\n",
      "2/2 - 0s - loss: 0.6220 - accuracy: 0.7586 - val_loss: 0.7098 - val_accuracy: 0.6667 - 30ms/epoch - 15ms/step\n",
      "Epoch 23/200\n",
      "2/2 - 0s - loss: 0.6053 - accuracy: 0.7759 - val_loss: 0.7196 - val_accuracy: 0.6667 - 30ms/epoch - 15ms/step\n",
      "Epoch 24/200\n",
      "2/2 - 0s - loss: 0.5954 - accuracy: 0.7759 - val_loss: 0.7077 - val_accuracy: 0.6667 - 29ms/epoch - 14ms/step\n",
      "Epoch 25/200\n",
      "2/2 - 0s - loss: 0.5852 - accuracy: 0.7931 - val_loss: 0.6868 - val_accuracy: 0.6667 - 26ms/epoch - 13ms/step\n",
      "Epoch 26/200\n",
      "2/2 - 0s - loss: 0.5781 - accuracy: 0.7586 - val_loss: 0.6682 - val_accuracy: 0.7333 - 25ms/epoch - 12ms/step\n",
      "Epoch 27/200\n",
      "2/2 - 0s - loss: 0.5624 - accuracy: 0.7759 - val_loss: 0.6956 - val_accuracy: 0.7000 - 25ms/epoch - 13ms/step\n",
      "Epoch 28/200\n",
      "2/2 - 0s - loss: 0.5542 - accuracy: 0.7931 - val_loss: 0.7485 - val_accuracy: 0.7000 - 25ms/epoch - 13ms/step\n",
      "Epoch 29/200\n",
      "2/2 - 0s - loss: 0.5903 - accuracy: 0.7931 - val_loss: 0.7265 - val_accuracy: 0.6667 - 24ms/epoch - 12ms/step\n",
      "Epoch 30/200\n",
      "2/2 - 0s - loss: 0.5604 - accuracy: 0.7759 - val_loss: 0.7188 - val_accuracy: 0.7333 - 25ms/epoch - 13ms/step\n",
      "Epoch 31/200\n",
      "2/2 - 0s - loss: 0.6238 - accuracy: 0.7586 - val_loss: 0.7125 - val_accuracy: 0.6667 - 25ms/epoch - 13ms/step\n",
      "Epoch 32/200\n",
      "2/2 - 0s - loss: 0.5974 - accuracy: 0.7586 - val_loss: 0.7948 - val_accuracy: 0.6333 - 24ms/epoch - 12ms/step\n",
      "Epoch 33/200\n",
      "2/2 - 0s - loss: 0.5967 - accuracy: 0.7586 - val_loss: 0.7470 - val_accuracy: 0.6333 - 29ms/epoch - 15ms/step\n",
      "Epoch 34/200\n",
      "2/2 - 0s - loss: 0.5636 - accuracy: 0.7759 - val_loss: 0.6818 - val_accuracy: 0.7333 - 29ms/epoch - 15ms/step\n",
      "Epoch 35/200\n",
      "2/2 - 0s - loss: 0.5352 - accuracy: 0.7759 - val_loss: 0.6970 - val_accuracy: 0.7333 - 29ms/epoch - 15ms/step\n",
      "Epoch 36/200\n",
      "2/2 - 0s - loss: 0.5325 - accuracy: 0.7759 - val_loss: 0.7079 - val_accuracy: 0.7333 - 30ms/epoch - 15ms/step\n",
      "Epoch 37/200\n",
      "2/2 - 0s - loss: 0.5162 - accuracy: 0.7759 - val_loss: 0.7165 - val_accuracy: 0.7333 - 30ms/epoch - 15ms/step\n",
      "Epoch 38/200\n",
      "2/2 - 0s - loss: 0.5297 - accuracy: 0.7759 - val_loss: 0.7260 - val_accuracy: 0.7000 - 30ms/epoch - 15ms/step\n",
      "Epoch 39/200\n",
      "2/2 - 0s - loss: 0.5094 - accuracy: 0.7931 - val_loss: 0.7145 - val_accuracy: 0.7000 - 30ms/epoch - 15ms/step\n",
      "Epoch 40/200\n",
      "2/2 - 0s - loss: 0.5075 - accuracy: 0.7759 - val_loss: 0.6970 - val_accuracy: 0.7000 - 29ms/epoch - 15ms/step\n",
      "Epoch 41/200\n",
      "2/2 - 0s - loss: 0.4983 - accuracy: 0.7931 - val_loss: 0.7173 - val_accuracy: 0.6667 - 27ms/epoch - 14ms/step\n",
      "Epoch 42/200\n",
      "2/2 - 0s - loss: 0.4915 - accuracy: 0.7931 - val_loss: 0.7189 - val_accuracy: 0.7000 - 24ms/epoch - 12ms/step\n",
      "Epoch 43/200\n",
      "2/2 - 0s - loss: 0.4884 - accuracy: 0.8276 - val_loss: 0.7218 - val_accuracy: 0.7000 - 27ms/epoch - 14ms/step\n",
      "Epoch 44/200\n",
      "2/2 - 0s - loss: 0.4874 - accuracy: 0.8103 - val_loss: 0.7242 - val_accuracy: 0.7000 - 30ms/epoch - 15ms/step\n",
      "Epoch 45/200\n",
      "2/2 - 0s - loss: 0.4670 - accuracy: 0.8621 - val_loss: 0.6745 - val_accuracy: 0.7333 - 28ms/epoch - 14ms/step\n",
      "Epoch 46/200\n",
      "2/2 - 0s - loss: 0.4625 - accuracy: 0.8103 - val_loss: 0.6454 - val_accuracy: 0.7667 - 29ms/epoch - 14ms/step\n",
      "Epoch 47/200\n",
      "2/2 - 0s - loss: 0.4543 - accuracy: 0.8103 - val_loss: 0.6613 - val_accuracy: 0.7667 - 29ms/epoch - 14ms/step\n",
      "Epoch 48/200\n",
      "2/2 - 0s - loss: 0.4538 - accuracy: 0.7931 - val_loss: 0.6729 - val_accuracy: 0.7667 - 35ms/epoch - 18ms/step\n",
      "Epoch 49/200\n",
      "2/2 - 0s - loss: 0.4408 - accuracy: 0.8276 - val_loss: 0.6677 - val_accuracy: 0.7667 - 31ms/epoch - 15ms/step\n",
      "Epoch 50/200\n",
      "2/2 - 0s - loss: 0.4308 - accuracy: 0.8448 - val_loss: 0.6549 - val_accuracy: 0.7000 - 27ms/epoch - 14ms/step\n",
      "Epoch 51/200\n",
      "2/2 - 0s - loss: 0.4113 - accuracy: 0.8448 - val_loss: 0.6228 - val_accuracy: 0.7667 - 25ms/epoch - 12ms/step\n",
      "Epoch 52/200\n",
      "2/2 - 0s - loss: 0.3983 - accuracy: 0.8793 - val_loss: 0.6082 - val_accuracy: 0.7333 - 24ms/epoch - 12ms/step\n",
      "Epoch 53/200\n",
      "2/2 - 0s - loss: 0.3991 - accuracy: 0.8793 - val_loss: 0.6047 - val_accuracy: 0.7000 - 25ms/epoch - 13ms/step\n",
      "Epoch 54/200\n",
      "2/2 - 0s - loss: 0.4036 - accuracy: 0.8448 - val_loss: 0.6196 - val_accuracy: 0.7000 - 27ms/epoch - 14ms/step\n",
      "Epoch 55/200\n",
      "2/2 - 0s - loss: 0.3912 - accuracy: 0.8448 - val_loss: 0.6539 - val_accuracy: 0.7333 - 28ms/epoch - 14ms/step\n",
      "Epoch 56/200\n",
      "2/2 - 0s - loss: 0.3908 - accuracy: 0.8621 - val_loss: 0.6107 - val_accuracy: 0.8000 - 29ms/epoch - 15ms/step\n",
      "Epoch 57/200\n",
      "2/2 - 0s - loss: 0.4020 - accuracy: 0.8621 - val_loss: 0.6080 - val_accuracy: 0.7667 - 29ms/epoch - 15ms/step\n",
      "Epoch 58/200\n",
      "2/2 - 0s - loss: 0.3837 - accuracy: 0.8793 - val_loss: 0.6693 - val_accuracy: 0.7000 - 31ms/epoch - 16ms/step\n",
      "Epoch 59/200\n",
      "2/2 - 0s - loss: 0.4127 - accuracy: 0.8276 - val_loss: 0.6133 - val_accuracy: 0.8333 - 31ms/epoch - 16ms/step\n",
      "Epoch 60/200\n",
      "2/2 - 0s - loss: 0.3978 - accuracy: 0.8276 - val_loss: 0.6023 - val_accuracy: 0.8667 - 30ms/epoch - 15ms/step\n",
      "Epoch 61/200\n",
      "2/2 - 0s - loss: 0.4149 - accuracy: 0.8448 - val_loss: 0.6998 - val_accuracy: 0.6667 - 27ms/epoch - 14ms/step\n",
      "Epoch 62/200\n",
      "2/2 - 0s - loss: 0.4122 - accuracy: 0.8103 - val_loss: 0.7226 - val_accuracy: 0.6667 - 24ms/epoch - 12ms/step\n",
      "Epoch 63/200\n",
      "2/2 - 0s - loss: 0.4256 - accuracy: 0.8276 - val_loss: 0.6967 - val_accuracy: 0.7333 - 24ms/epoch - 12ms/step\n",
      "Epoch 64/200\n",
      "2/2 - 0s - loss: 0.4062 - accuracy: 0.8103 - val_loss: 0.6581 - val_accuracy: 0.7333 - 25ms/epoch - 13ms/step\n",
      "Epoch 65/200\n",
      "2/2 - 0s - loss: 0.4051 - accuracy: 0.8276 - val_loss: 0.6201 - val_accuracy: 0.7667 - 25ms/epoch - 13ms/step\n",
      "Epoch 66/200\n",
      "2/2 - 0s - loss: 0.3700 - accuracy: 0.8793 - val_loss: 0.6339 - val_accuracy: 0.8000 - 24ms/epoch - 12ms/step\n",
      "Epoch 67/200\n",
      "2/2 - 0s - loss: 0.4169 - accuracy: 0.8621 - val_loss: 0.6158 - val_accuracy: 0.7667 - 28ms/epoch - 14ms/step\n"
     ]
    },
    {
     "name": "stdout",
     "output_type": "stream",
     "text": [
      "Epoch 68/200\n",
      "2/2 - 0s - loss: 0.3656 - accuracy: 0.8966 - val_loss: 0.5708 - val_accuracy: 0.8667 - 28ms/epoch - 14ms/step\n",
      "Epoch 69/200\n",
      "2/2 - 0s - loss: 0.3519 - accuracy: 0.8621 - val_loss: 0.5958 - val_accuracy: 0.8333 - 29ms/epoch - 14ms/step\n",
      "Epoch 70/200\n",
      "2/2 - 0s - loss: 0.3555 - accuracy: 0.8966 - val_loss: 0.6199 - val_accuracy: 0.8333 - 30ms/epoch - 15ms/step\n",
      "Epoch 71/200\n",
      "2/2 - 0s - loss: 0.3394 - accuracy: 0.8621 - val_loss: 0.6498 - val_accuracy: 0.7667 - 29ms/epoch - 14ms/step\n",
      "Epoch 72/200\n",
      "2/2 - 0s - loss: 0.3378 - accuracy: 0.8793 - val_loss: 0.6536 - val_accuracy: 0.8333 - 27ms/epoch - 14ms/step\n",
      "Epoch 73/200\n",
      "2/2 - 0s - loss: 0.3331 - accuracy: 0.8793 - val_loss: 0.6106 - val_accuracy: 0.8000 - 29ms/epoch - 14ms/step\n",
      "Epoch 74/200\n",
      "2/2 - 0s - loss: 0.3189 - accuracy: 0.8966 - val_loss: 0.5847 - val_accuracy: 0.8667 - 28ms/epoch - 14ms/step\n",
      "Epoch 75/200\n",
      "2/2 - 0s - loss: 0.3165 - accuracy: 0.8793 - val_loss: 0.5883 - val_accuracy: 0.8667 - 25ms/epoch - 13ms/step\n",
      "Epoch 76/200\n",
      "2/2 - 0s - loss: 0.3115 - accuracy: 0.8793 - val_loss: 0.6084 - val_accuracy: 0.8667 - 25ms/epoch - 13ms/step\n",
      "Epoch 77/200\n",
      "2/2 - 0s - loss: 0.3057 - accuracy: 0.8793 - val_loss: 0.6426 - val_accuracy: 0.8667 - 26ms/epoch - 13ms/step\n",
      "Epoch 78/200\n",
      "2/2 - 0s - loss: 0.3024 - accuracy: 0.8793 - val_loss: 0.6278 - val_accuracy: 0.8000 - 27ms/epoch - 14ms/step\n",
      "Epoch 79/200\n",
      "2/2 - 0s - loss: 0.3043 - accuracy: 0.8966 - val_loss: 0.5780 - val_accuracy: 0.8000 - 30ms/epoch - 15ms/step\n",
      "Epoch 80/200\n",
      "2/2 - 0s - loss: 0.2955 - accuracy: 0.8966 - val_loss: 0.5379 - val_accuracy: 0.8333 - 28ms/epoch - 14ms/step\n",
      "Epoch 81/200\n",
      "2/2 - 0s - loss: 0.2957 - accuracy: 0.8793 - val_loss: 0.4935 - val_accuracy: 0.9000 - 29ms/epoch - 14ms/step\n",
      "Epoch 82/200\n",
      "2/2 - 0s - loss: 0.2900 - accuracy: 0.9138 - val_loss: 0.4923 - val_accuracy: 0.8667 - 29ms/epoch - 15ms/step\n",
      "Epoch 83/200\n",
      "2/2 - 0s - loss: 0.2855 - accuracy: 0.8966 - val_loss: 0.5442 - val_accuracy: 0.8000 - 30ms/epoch - 15ms/step\n",
      "Epoch 84/200\n",
      "2/2 - 0s - loss: 0.2862 - accuracy: 0.8966 - val_loss: 0.5228 - val_accuracy: 0.8667 - 29ms/epoch - 15ms/step\n",
      "Epoch 85/200\n",
      "2/2 - 0s - loss: 0.2876 - accuracy: 0.8966 - val_loss: 0.5180 - val_accuracy: 0.8667 - 26ms/epoch - 13ms/step\n",
      "Epoch 86/200\n",
      "2/2 - 0s - loss: 0.2811 - accuracy: 0.8966 - val_loss: 0.5023 - val_accuracy: 0.9000 - 26ms/epoch - 13ms/step\n",
      "Epoch 87/200\n",
      "2/2 - 0s - loss: 0.2823 - accuracy: 0.8793 - val_loss: 0.5003 - val_accuracy: 0.9000 - 26ms/epoch - 13ms/step\n",
      "Epoch 88/200\n",
      "2/2 - 0s - loss: 0.2885 - accuracy: 0.8793 - val_loss: 0.5433 - val_accuracy: 0.8667 - 27ms/epoch - 14ms/step\n",
      "Epoch 89/200\n",
      "2/2 - 0s - loss: 0.2735 - accuracy: 0.8966 - val_loss: 0.6370 - val_accuracy: 0.7667 - 29ms/epoch - 15ms/step\n",
      "Epoch 90/200\n",
      "2/2 - 0s - loss: 0.2773 - accuracy: 0.8793 - val_loss: 0.6268 - val_accuracy: 0.8000 - 30ms/epoch - 15ms/step\n",
      "Epoch 91/200\n",
      "2/2 - 0s - loss: 0.2888 - accuracy: 0.8966 - val_loss: 0.6664 - val_accuracy: 0.8000 - 29ms/epoch - 15ms/step\n",
      "Epoch 92/200\n",
      "2/2 - 0s - loss: 0.2601 - accuracy: 0.9138 - val_loss: 0.6730 - val_accuracy: 0.8000 - 30ms/epoch - 15ms/step\n",
      "Epoch 93/200\n",
      "2/2 - 0s - loss: 0.2817 - accuracy: 0.8966 - val_loss: 0.6100 - val_accuracy: 0.8333 - 28ms/epoch - 14ms/step\n",
      "Epoch 94/200\n",
      "2/2 - 0s - loss: 0.2701 - accuracy: 0.9138 - val_loss: 0.6076 - val_accuracy: 0.8333 - 30ms/epoch - 15ms/step\n",
      "Epoch 95/200\n",
      "2/2 - 0s - loss: 0.2576 - accuracy: 0.9310 - val_loss: 0.6294 - val_accuracy: 0.8000 - 28ms/epoch - 14ms/step\n",
      "Epoch 96/200\n",
      "2/2 - 0s - loss: 0.2744 - accuracy: 0.8793 - val_loss: 0.6154 - val_accuracy: 0.8333 - 26ms/epoch - 13ms/step\n",
      "Epoch 97/200\n",
      "2/2 - 0s - loss: 0.2747 - accuracy: 0.8793 - val_loss: 0.6217 - val_accuracy: 0.7333 - 25ms/epoch - 13ms/step\n",
      "Epoch 98/200\n",
      "2/2 - 0s - loss: 0.2896 - accuracy: 0.8793 - val_loss: 0.5911 - val_accuracy: 0.7333 - 25ms/epoch - 13ms/step\n",
      "Epoch 99/200\n",
      "2/2 - 0s - loss: 0.2726 - accuracy: 0.8793 - val_loss: 0.5488 - val_accuracy: 0.8667 - 25ms/epoch - 13ms/step\n",
      "Epoch 100/200\n",
      "2/2 - 0s - loss: 0.2748 - accuracy: 0.9138 - val_loss: 0.5310 - val_accuracy: 0.8000 - 28ms/epoch - 14ms/step\n",
      "Epoch 101/200\n",
      "2/2 - 0s - loss: 0.2558 - accuracy: 0.8966 - val_loss: 0.5560 - val_accuracy: 0.8000 - 28ms/epoch - 14ms/step\n",
      "Epoch 102/200\n",
      "2/2 - 0s - loss: 0.2803 - accuracy: 0.8621 - val_loss: 0.5636 - val_accuracy: 0.8000 - 30ms/epoch - 15ms/step\n",
      "Epoch 103/200\n",
      "2/2 - 0s - loss: 0.2829 - accuracy: 0.9138 - val_loss: 0.5318 - val_accuracy: 0.8333 - 28ms/epoch - 14ms/step\n",
      "Epoch 104/200\n",
      "2/2 - 0s - loss: 0.2666 - accuracy: 0.9138 - val_loss: 0.4802 - val_accuracy: 0.9000 - 30ms/epoch - 15ms/step\n",
      "Epoch 105/200\n",
      "2/2 - 0s - loss: 0.2564 - accuracy: 0.9138 - val_loss: 0.4814 - val_accuracy: 0.8333 - 28ms/epoch - 14ms/step\n",
      "Epoch 106/200\n",
      "2/2 - 0s - loss: 0.2499 - accuracy: 0.9138 - val_loss: 0.5174 - val_accuracy: 0.8667 - 28ms/epoch - 14ms/step\n",
      "Epoch 107/200\n",
      "2/2 - 0s - loss: 0.2424 - accuracy: 0.9138 - val_loss: 0.5641 - val_accuracy: 0.8333 - 28ms/epoch - 14ms/step\n",
      "Epoch 108/200\n",
      "2/2 - 0s - loss: 0.2396 - accuracy: 0.8966 - val_loss: 0.6192 - val_accuracy: 0.8000 - 25ms/epoch - 13ms/step\n",
      "Epoch 109/200\n",
      "2/2 - 0s - loss: 0.2583 - accuracy: 0.8966 - val_loss: 0.7077 - val_accuracy: 0.8000 - 25ms/epoch - 12ms/step\n",
      "Epoch 110/200\n",
      "2/2 - 0s - loss: 0.2549 - accuracy: 0.9138 - val_loss: 0.7369 - val_accuracy: 0.7667 - 25ms/epoch - 13ms/step\n",
      "Epoch 111/200\n",
      "2/2 - 0s - loss: 0.2493 - accuracy: 0.9310 - val_loss: 0.7665 - val_accuracy: 0.8333 - 31ms/epoch - 15ms/step\n",
      "Epoch 112/200\n",
      "2/2 - 0s - loss: 0.2390 - accuracy: 0.9310 - val_loss: 0.8309 - val_accuracy: 0.8333 - 29ms/epoch - 14ms/step\n",
      "Epoch 113/200\n",
      "2/2 - 0s - loss: 0.2473 - accuracy: 0.9310 - val_loss: 0.8497 - val_accuracy: 0.8000 - 30ms/epoch - 15ms/step\n",
      "Epoch 114/200\n",
      "2/2 - 0s - loss: 0.2624 - accuracy: 0.9310 - val_loss: 0.7028 - val_accuracy: 0.8333 - 29ms/epoch - 15ms/step\n",
      "Epoch 115/200\n",
      "2/2 - 0s - loss: 0.2460 - accuracy: 0.8966 - val_loss: 0.7062 - val_accuracy: 0.8000 - 29ms/epoch - 15ms/step\n",
      "Epoch 116/200\n",
      "2/2 - 0s - loss: 0.2400 - accuracy: 0.9310 - val_loss: 0.7315 - val_accuracy: 0.8000 - 30ms/epoch - 15ms/step\n",
      "Epoch 117/200\n",
      "2/2 - 0s - loss: 0.2623 - accuracy: 0.9310 - val_loss: 0.6865 - val_accuracy: 0.8667 - 34ms/epoch - 17ms/step\n",
      "Epoch 118/200\n",
      "2/2 - 0s - loss: 0.2426 - accuracy: 0.9310 - val_loss: 0.7376 - val_accuracy: 0.7667 - 26ms/epoch - 13ms/step\n",
      "Epoch 119/200\n",
      "2/2 - 0s - loss: 0.2669 - accuracy: 0.8966 - val_loss: 0.7424 - val_accuracy: 0.7667 - 24ms/epoch - 12ms/step\n",
      "Epoch 120/200\n",
      "2/2 - 0s - loss: 0.2426 - accuracy: 0.9138 - val_loss: 0.7159 - val_accuracy: 0.8000 - 24ms/epoch - 12ms/step\n",
      "Epoch 121/200\n",
      "2/2 - 0s - loss: 0.2317 - accuracy: 0.9310 - val_loss: 0.6970 - val_accuracy: 0.8000 - 26ms/epoch - 13ms/step\n",
      "Epoch 122/200\n",
      "2/2 - 0s - loss: 0.2360 - accuracy: 0.9138 - val_loss: 0.7419 - val_accuracy: 0.8000 - 29ms/epoch - 15ms/step\n",
      "Epoch 123/200\n",
      "2/2 - 0s - loss: 0.2412 - accuracy: 0.9138 - val_loss: 0.7789 - val_accuracy: 0.8000 - 29ms/epoch - 14ms/step\n",
      "Epoch 124/200\n",
      "2/2 - 0s - loss: 0.2398 - accuracy: 0.9138 - val_loss: 0.7480 - val_accuracy: 0.8000 - 29ms/epoch - 15ms/step\n",
      "Epoch 125/200\n",
      "2/2 - 0s - loss: 0.2300 - accuracy: 0.9138 - val_loss: 0.7035 - val_accuracy: 0.7667 - 29ms/epoch - 15ms/step\n",
      "Epoch 126/200\n",
      "2/2 - 0s - loss: 0.2287 - accuracy: 0.9138 - val_loss: 0.6762 - val_accuracy: 0.7667 - 29ms/epoch - 14ms/step\n",
      "Epoch 127/200\n",
      "2/2 - 0s - loss: 0.2204 - accuracy: 0.9138 - val_loss: 0.6659 - val_accuracy: 0.8000 - 30ms/epoch - 15ms/step\n",
      "Epoch 128/200\n",
      "2/2 - 0s - loss: 0.2228 - accuracy: 0.9138 - val_loss: 0.6536 - val_accuracy: 0.8000 - 29ms/epoch - 15ms/step\n",
      "Epoch 129/200\n",
      "2/2 - 0s - loss: 0.2204 - accuracy: 0.9138 - val_loss: 0.6367 - val_accuracy: 0.8000 - 28ms/epoch - 14ms/step\n",
      "Epoch 130/200\n",
      "2/2 - 0s - loss: 0.2106 - accuracy: 0.9310 - val_loss: 0.6741 - val_accuracy: 0.8000 - 25ms/epoch - 13ms/step\n",
      "Epoch 131/200\n",
      "2/2 - 0s - loss: 0.2062 - accuracy: 0.9138 - val_loss: 0.7175 - val_accuracy: 0.7667 - 26ms/epoch - 13ms/step\n",
      "Epoch 132/200\n",
      "2/2 - 0s - loss: 0.2114 - accuracy: 0.8966 - val_loss: 0.7230 - val_accuracy: 0.8000 - 24ms/epoch - 12ms/step\n",
      "Epoch 133/200\n",
      "2/2 - 0s - loss: 0.1944 - accuracy: 0.9138 - val_loss: 0.7424 - val_accuracy: 0.8000 - 32ms/epoch - 16ms/step\n",
      "Epoch 134/200\n",
      "2/2 - 0s - loss: 0.1939 - accuracy: 0.9310 - val_loss: 0.7647 - val_accuracy: 0.8000 - 30ms/epoch - 15ms/step\n"
     ]
    },
    {
     "name": "stdout",
     "output_type": "stream",
     "text": [
      "Epoch 135/200\n",
      "2/2 - 0s - loss: 0.1951 - accuracy: 0.9483 - val_loss: 0.8078 - val_accuracy: 0.8333 - 28ms/epoch - 14ms/step\n",
      "Epoch 136/200\n",
      "2/2 - 0s - loss: 0.1993 - accuracy: 0.9310 - val_loss: 0.8680 - val_accuracy: 0.8333 - 30ms/epoch - 15ms/step\n",
      "Epoch 137/200\n",
      "2/2 - 0s - loss: 0.1893 - accuracy: 0.9310 - val_loss: 0.8687 - val_accuracy: 0.7667 - 30ms/epoch - 15ms/step\n",
      "Epoch 138/200\n",
      "2/2 - 0s - loss: 0.1924 - accuracy: 0.9310 - val_loss: 0.8033 - val_accuracy: 0.7667 - 29ms/epoch - 14ms/step\n",
      "Epoch 139/200\n",
      "2/2 - 0s - loss: 0.1841 - accuracy: 0.9138 - val_loss: 0.7260 - val_accuracy: 0.8000 - 29ms/epoch - 15ms/step\n",
      "Epoch 140/200\n",
      "2/2 - 0s - loss: 0.1771 - accuracy: 0.9483 - val_loss: 0.6751 - val_accuracy: 0.8333 - 30ms/epoch - 15ms/step\n",
      "Epoch 141/200\n",
      "2/2 - 0s - loss: 0.1761 - accuracy: 0.9483 - val_loss: 0.6506 - val_accuracy: 0.8333 - 25ms/epoch - 12ms/step\n",
      "Epoch 142/200\n",
      "2/2 - 0s - loss: 0.1686 - accuracy: 0.9655 - val_loss: 0.6596 - val_accuracy: 0.8333 - 25ms/epoch - 12ms/step\n",
      "Epoch 143/200\n",
      "2/2 - 0s - loss: 0.1735 - accuracy: 0.9483 - val_loss: 0.6786 - val_accuracy: 0.8333 - 24ms/epoch - 12ms/step\n",
      "Epoch 144/200\n",
      "2/2 - 0s - loss: 0.1705 - accuracy: 0.9655 - val_loss: 0.6709 - val_accuracy: 0.8333 - 25ms/epoch - 13ms/step\n",
      "Epoch 145/200\n",
      "2/2 - 0s - loss: 0.1787 - accuracy: 0.9483 - val_loss: 0.6884 - val_accuracy: 0.8333 - 25ms/epoch - 13ms/step\n",
      "Epoch 146/200\n",
      "2/2 - 0s - loss: 0.1613 - accuracy: 0.9655 - val_loss: 0.7044 - val_accuracy: 0.8333 - 25ms/epoch - 13ms/step\n",
      "Epoch 147/200\n",
      "2/2 - 0s - loss: 0.1677 - accuracy: 0.9483 - val_loss: 0.7052 - val_accuracy: 0.8333 - 24ms/epoch - 12ms/step\n",
      "Epoch 148/200\n",
      "2/2 - 0s - loss: 0.1613 - accuracy: 0.9655 - val_loss: 0.6248 - val_accuracy: 0.8333 - 27ms/epoch - 14ms/step\n",
      "Epoch 149/200\n",
      "2/2 - 0s - loss: 0.1819 - accuracy: 0.9483 - val_loss: 0.6034 - val_accuracy: 0.8333 - 30ms/epoch - 15ms/step\n",
      "Epoch 150/200\n",
      "2/2 - 0s - loss: 0.1676 - accuracy: 0.9483 - val_loss: 0.6193 - val_accuracy: 0.8333 - 30ms/epoch - 15ms/step\n",
      "Epoch 151/200\n",
      "2/2 - 0s - loss: 0.1688 - accuracy: 0.9483 - val_loss: 0.6035 - val_accuracy: 0.8333 - 29ms/epoch - 15ms/step\n",
      "Epoch 152/200\n",
      "2/2 - 0s - loss: 0.1662 - accuracy: 0.9483 - val_loss: 0.5779 - val_accuracy: 0.8333 - 29ms/epoch - 15ms/step\n",
      "Epoch 153/200\n",
      "2/2 - 0s - loss: 0.1697 - accuracy: 0.9483 - val_loss: 0.5842 - val_accuracy: 0.8333 - 29ms/epoch - 15ms/step\n",
      "Epoch 154/200\n",
      "2/2 - 0s - loss: 0.1610 - accuracy: 0.9483 - val_loss: 0.6000 - val_accuracy: 0.8333 - 30ms/epoch - 15ms/step\n",
      "Epoch 155/200\n",
      "2/2 - 0s - loss: 0.1637 - accuracy: 0.9483 - val_loss: 0.5831 - val_accuracy: 0.8333 - 25ms/epoch - 12ms/step\n",
      "Epoch 156/200\n",
      "2/2 - 0s - loss: 0.1615 - accuracy: 0.9483 - val_loss: 0.5785 - val_accuracy: 0.8333 - 24ms/epoch - 12ms/step\n",
      "Epoch 157/200\n",
      "2/2 - 0s - loss: 0.1656 - accuracy: 0.9483 - val_loss: 0.6030 - val_accuracy: 0.8333 - 24ms/epoch - 12ms/step\n",
      "Epoch 158/200\n",
      "2/2 - 0s - loss: 0.1601 - accuracy: 0.9483 - val_loss: 0.6171 - val_accuracy: 0.8333 - 25ms/epoch - 13ms/step\n",
      "Epoch 159/200\n",
      "2/2 - 0s - loss: 0.1695 - accuracy: 0.9310 - val_loss: 0.5997 - val_accuracy: 0.8333 - 25ms/epoch - 13ms/step\n",
      "Epoch 160/200\n",
      "2/2 - 0s - loss: 0.1587 - accuracy: 0.9655 - val_loss: 0.6231 - val_accuracy: 0.8333 - 25ms/epoch - 13ms/step\n",
      "Epoch 161/200\n",
      "2/2 - 0s - loss: 0.1773 - accuracy: 0.9310 - val_loss: 0.6895 - val_accuracy: 0.8000 - 25ms/epoch - 12ms/step\n",
      "Epoch 162/200\n",
      "2/2 - 0s - loss: 0.1644 - accuracy: 0.9310 - val_loss: 0.7116 - val_accuracy: 0.8000 - 32ms/epoch - 16ms/step\n",
      "Epoch 163/200\n",
      "2/2 - 0s - loss: 0.1676 - accuracy: 0.9310 - val_loss: 0.7496 - val_accuracy: 0.8333 - 29ms/epoch - 14ms/step\n",
      "Epoch 164/200\n",
      "2/2 - 0s - loss: 0.1590 - accuracy: 0.9310 - val_loss: 0.7778 - val_accuracy: 0.8333 - 29ms/epoch - 15ms/step\n",
      "Epoch 165/200\n",
      "2/2 - 0s - loss: 0.1591 - accuracy: 0.9483 - val_loss: 0.7654 - val_accuracy: 0.8333 - 29ms/epoch - 15ms/step\n",
      "Epoch 166/200\n",
      "2/2 - 0s - loss: 0.1537 - accuracy: 0.9483 - val_loss: 0.7414 - val_accuracy: 0.8333 - 29ms/epoch - 14ms/step\n",
      "Epoch 167/200\n",
      "2/2 - 0s - loss: 0.1605 - accuracy: 0.9310 - val_loss: 0.7596 - val_accuracy: 0.8333 - 28ms/epoch - 14ms/step\n",
      "Epoch 168/200\n",
      "2/2 - 0s - loss: 0.1450 - accuracy: 0.9483 - val_loss: 0.7864 - val_accuracy: 0.8333 - 28ms/epoch - 14ms/step\n",
      "Epoch 169/200\n",
      "2/2 - 0s - loss: 0.1496 - accuracy: 0.9483 - val_loss: 0.7899 - val_accuracy: 0.8333 - 25ms/epoch - 13ms/step\n",
      "Epoch 170/200\n",
      "2/2 - 0s - loss: 0.1529 - accuracy: 0.9483 - val_loss: 0.7794 - val_accuracy: 0.8333 - 25ms/epoch - 13ms/step\n",
      "Epoch 171/200\n",
      "2/2 - 0s - loss: 0.1436 - accuracy: 0.9483 - val_loss: 0.7573 - val_accuracy: 0.8333 - 24ms/epoch - 12ms/step\n",
      "Epoch 172/200\n",
      "2/2 - 0s - loss: 0.1404 - accuracy: 0.9483 - val_loss: 0.7329 - val_accuracy: 0.8333 - 24ms/epoch - 12ms/step\n",
      "Epoch 173/200\n",
      "2/2 - 0s - loss: 0.1313 - accuracy: 0.9483 - val_loss: 0.7394 - val_accuracy: 0.8333 - 24ms/epoch - 12ms/step\n",
      "Epoch 174/200\n",
      "2/2 - 0s - loss: 0.1475 - accuracy: 0.9483 - val_loss: 0.7336 - val_accuracy: 0.8333 - 24ms/epoch - 12ms/step\n",
      "Epoch 175/200\n",
      "2/2 - 0s - loss: 0.1404 - accuracy: 0.9655 - val_loss: 0.7332 - val_accuracy: 0.8333 - 24ms/epoch - 12ms/step\n",
      "Epoch 176/200\n",
      "2/2 - 0s - loss: 0.1331 - accuracy: 0.9655 - val_loss: 0.7505 - val_accuracy: 0.8333 - 24ms/epoch - 12ms/step\n",
      "Epoch 177/200\n",
      "2/2 - 0s - loss: 0.1273 - accuracy: 0.9655 - val_loss: 0.7600 - val_accuracy: 0.8333 - 23ms/epoch - 12ms/step\n",
      "Epoch 178/200\n",
      "2/2 - 0s - loss: 0.1294 - accuracy: 0.9655 - val_loss: 0.7719 - val_accuracy: 0.8333 - 30ms/epoch - 15ms/step\n",
      "Epoch 179/200\n",
      "2/2 - 0s - loss: 0.1199 - accuracy: 0.9655 - val_loss: 0.7872 - val_accuracy: 0.8333 - 29ms/epoch - 14ms/step\n",
      "Epoch 180/200\n",
      "2/2 - 0s - loss: 0.1333 - accuracy: 0.9655 - val_loss: 0.7773 - val_accuracy: 0.8333 - 31ms/epoch - 16ms/step\n",
      "Epoch 181/200\n",
      "2/2 - 0s - loss: 0.1210 - accuracy: 0.9655 - val_loss: 0.7770 - val_accuracy: 0.8333 - 28ms/epoch - 14ms/step\n",
      "Epoch 182/200\n",
      "2/2 - 0s - loss: 0.1358 - accuracy: 0.9655 - val_loss: 0.8114 - val_accuracy: 0.8333 - 29ms/epoch - 15ms/step\n",
      "Epoch 183/200\n",
      "2/2 - 0s - loss: 0.1388 - accuracy: 0.9655 - val_loss: 0.7987 - val_accuracy: 0.8333 - 29ms/epoch - 15ms/step\n",
      "Epoch 184/200\n",
      "2/2 - 0s - loss: 0.1338 - accuracy: 0.9655 - val_loss: 0.8292 - val_accuracy: 0.8333 - 29ms/epoch - 14ms/step\n",
      "Epoch 185/200\n",
      "2/2 - 0s - loss: 0.1320 - accuracy: 0.9483 - val_loss: 0.8255 - val_accuracy: 0.8333 - 27ms/epoch - 13ms/step\n",
      "Epoch 186/200\n",
      "2/2 - 0s - loss: 0.1166 - accuracy: 0.9655 - val_loss: 0.8201 - val_accuracy: 0.8333 - 25ms/epoch - 13ms/step\n",
      "Epoch 187/200\n",
      "2/2 - 0s - loss: 0.1185 - accuracy: 0.9655 - val_loss: 0.8337 - val_accuracy: 0.8333 - 24ms/epoch - 12ms/step\n",
      "Epoch 188/200\n",
      "2/2 - 0s - loss: 0.1177 - accuracy: 0.9655 - val_loss: 0.8382 - val_accuracy: 0.8333 - 24ms/epoch - 12ms/step\n",
      "Epoch 189/200\n",
      "2/2 - 0s - loss: 0.1210 - accuracy: 0.9655 - val_loss: 0.8193 - val_accuracy: 0.8333 - 23ms/epoch - 11ms/step\n",
      "Epoch 190/200\n",
      "2/2 - 0s - loss: 0.1229 - accuracy: 0.9655 - val_loss: 0.7974 - val_accuracy: 0.8333 - 40ms/epoch - 20ms/step\n",
      "Epoch 191/200\n",
      "2/2 - 0s - loss: 0.1259 - accuracy: 0.9655 - val_loss: 0.8096 - val_accuracy: 0.8333 - 32ms/epoch - 16ms/step\n",
      "Epoch 192/200\n",
      "2/2 - 0s - loss: 0.1080 - accuracy: 0.9655 - val_loss: 0.8406 - val_accuracy: 0.8333 - 30ms/epoch - 15ms/step\n",
      "Epoch 193/200\n",
      "2/2 - 0s - loss: 0.1375 - accuracy: 0.9655 - val_loss: 0.7768 - val_accuracy: 0.8333 - 30ms/epoch - 15ms/step\n",
      "Epoch 194/200\n",
      "2/2 - 0s - loss: 0.1197 - accuracy: 0.9655 - val_loss: 0.7494 - val_accuracy: 0.8333 - 30ms/epoch - 15ms/step\n",
      "Epoch 195/200\n",
      "2/2 - 0s - loss: 0.1216 - accuracy: 0.9655 - val_loss: 0.7698 - val_accuracy: 0.8333 - 29ms/epoch - 15ms/step\n",
      "Epoch 196/200\n",
      "2/2 - 0s - loss: 0.1183 - accuracy: 0.9655 - val_loss: 0.7719 - val_accuracy: 0.8333 - 27ms/epoch - 13ms/step\n",
      "Epoch 197/200\n",
      "2/2 - 0s - loss: 0.1176 - accuracy: 0.9655 - val_loss: 0.8011 - val_accuracy: 0.8333 - 24ms/epoch - 12ms/step\n",
      "Epoch 198/200\n",
      "2/2 - 0s - loss: 0.1080 - accuracy: 0.9655 - val_loss: 0.8383 - val_accuracy: 0.8000 - 25ms/epoch - 13ms/step\n",
      "Epoch 199/200\n",
      "2/2 - 0s - loss: 0.1173 - accuracy: 0.9655 - val_loss: 0.7972 - val_accuracy: 0.8333 - 24ms/epoch - 12ms/step\n",
      "Epoch 200/200\n",
      "2/2 - 0s - loss: 0.1097 - accuracy: 0.9655 - val_loss: 0.8011 - val_accuracy: 0.8333 - 24ms/epoch - 12ms/step\n"
     ]
    }
   ],
   "source": [
    "history = model.fit(X_train, Y_train, verbose=2, epochs=200, batch_size = 32, validation_data = (X_test,Y_test))\n",
    "\n"
   ]
  },
  {
   "cell_type": "code",
   "execution_count": 108,
   "id": "c2cf695e",
   "metadata": {},
   "outputs": [
    {
     "data": {
      "image/png": "[encoded data removed]",
      "text/plain": [
       "<Figure size 640x480 with 1 Axes>"
      ]
     },
     "metadata": {},
     "output_type": "display_data"
    },
    {
     "data": {
      "image/png": "[encoded data removed]",
      "text/plain": [
       "<Figure size 640x480 with 1 Axes>"
      ]
     },
     "metadata": {},
     "output_type": "display_data"
    }
   ],
   "source": [
    "# Plotting Results\n",
    "import matplotlib.pyplot as plt\n",
    "\n",
    "acc = history.history['accuracy']\n",
    "val_acc = history.history['val_accuracy']\n",
    "loss = history.history['loss']\n",
    "val_loss = history.history['val_loss']\n",
    "epochs = range(1, len(acc) + 1)\n",
    "\n",
    "plt.plot(epochs, acc, 'r', label='Training acc')\n",
    "plt.plot(epochs, val_acc, 'g', label='Validation acc')\n",
    "plt.xlabel('Epochs')\n",
    "plt.ylabel('Accuracy')\n",
    "\n",
    "plt.title('Training and validation accuracy')\n",
    "plt.legend()\n",
    "fig = plt.figure()\n",
    "fig.savefig('accPCA.png')\n",
    "\n",
    "\n",
    "plt.plot(epochs, loss, 'b', label='Training loss')\n",
    "plt.plot(epochs, val_loss, 'g', label='Validation loss')\n",
    "plt.xlabel('Epochs')\n",
    "plt.ylabel('Loss')\n",
    "plt.title('Training and validation loss')\n",
    "\n",
    "plt.legend()\n",
    "plt.show()"
   ]
  },
  {
   "cell_type": "markdown",
   "id": "463be16f",
   "metadata": {},
   "source": [
    "# Gausian Bayes"
   ]
  },
  {
   "cell_type": "code",
   "execution_count": 109,
   "id": "01bb8ccb",
   "metadata": {},
   "outputs": [],
   "source": [
    "gnb = GaussianNB()"
   ]
  },
  {
   "cell_type": "code",
   "execution_count": 110,
   "id": "5e375bfb",
   "metadata": {},
   "outputs": [
    {
     "name": "stdout",
     "output_type": "stream",
     "text": [
      "Wall time: 0 ns\n"
     ]
    }
   ],
   "source": [
    "%%time\n",
    "Y_pred = gnb.fit(X_train, Y_train).predict(X_test)"
   ]
  },
  {
   "cell_type": "code",
   "execution_count": 111,
   "id": "5796d3c0",
   "metadata": {},
   "outputs": [
    {
     "data": {
      "text/plain": [
       "0.9"
      ]
     },
     "execution_count": 111,
     "metadata": {},
     "output_type": "execute_result"
    }
   ],
   "source": [
    "accuracy_score(Y_test,Y_pred)"
   ]
  },
  {
   "cell_type": "markdown",
   "id": "079ddf5c",
   "metadata": {},
   "source": [
    "# KNN"
   ]
  },
  {
   "cell_type": "code",
   "execution_count": 112,
   "id": "1dea3c8e",
   "metadata": {},
   "outputs": [
    {
     "data": {
      "text/plain": [
       "KNeighborsClassifier(n_neighbors=3, weights='distance')"
      ]
     },
     "execution_count": 112,
     "metadata": {},
     "output_type": "execute_result"
    }
   ],
   "source": [
    "neigh = KNeighborsClassifier(n_neighbors=3,weights='distance',leaf_size=30)\n",
    "neigh.fit(X_train, Y_train)"
   ]
  },
  {
   "cell_type": "code",
   "execution_count": 113,
   "id": "2c18ee8b",
   "metadata": {},
   "outputs": [
    {
     "name": "stdout",
     "output_type": "stream",
     "text": [
      "              precision    recall  f1-score   support\n",
      "\n",
      "           0       1.00      0.86      0.92         7\n",
      "           1       0.80      0.80      0.80         5\n",
      "           2       0.83      1.00      0.91         5\n",
      "           3       0.92      0.92      0.92        13\n",
      "\n",
      "    accuracy                           0.90        30\n",
      "   macro avg       0.89      0.90      0.89        30\n",
      "weighted avg       0.91      0.90      0.90        30\n",
      "\n"
     ]
    }
   ],
   "source": [
    "print(classification_report(Y_test, Y_pred))"
   ]
  },
  {
   "cell_type": "code",
   "execution_count": 114,
   "id": "61519b45",
   "metadata": {},
   "outputs": [
    {
     "data": {
      "text/plain": [
       "0.9"
      ]
     },
     "execution_count": 114,
     "metadata": {},
     "output_type": "execute_result"
    }
   ],
   "source": [
    "accuracy_score(Y_test,Y_pred)"
   ]
  },
  {
   "cell_type": "code",
   "execution_count": null,
   "id": "70856048",
   "metadata": {},
   "outputs": [],
   "source": []
  }
 ],
 "metadata": {
  "kernelspec": {
   "display_name": "Python 3 (ipykernel)",
   "language": "python",
   "name": "python3"
  },
  "language_info": {
   "codemirror_mode": {
    "name": "ipython",
    "version": 3
   },
   "file_extension": ".py",
   "mimetype": "text/x-python",
   "name": "python",
   "nbconvert_exporter": "python",
   "pygments_lexer": "ipython3",
   "version": "3.9.13"
  }
 },
 "nbformat": 4,
 "nbformat_minor": 5
}
