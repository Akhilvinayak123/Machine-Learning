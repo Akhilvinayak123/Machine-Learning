{
 "cells": [
  {
   "cell_type": "code",
   "execution_count": 1,
   "id": "eefc9588",
   "metadata": {},
   "outputs": [],
   "source": [
    "import pandas as pd\n",
    "import numpy as np\n",
    "import seaborn as sns\n",
    "import matplotlib.pyplot as plt\n"
   ]
  },
  {
   "cell_type": "code",
   "execution_count": 2,
   "id": "18264b16",
   "metadata": {},
   "outputs": [],
   "source": [
    "pd.options.mode.chained_assignment = None"
   ]
  },
  {
   "cell_type": "code",
   "execution_count": 3,
   "id": "a6bb23f4",
   "metadata": {},
   "outputs": [],
   "source": [
    "lf = pd.read_excel(\"LP5.xlsx\")"
   ]
  },
  {
   "cell_type": "code",
   "execution_count": 4,
   "id": "b7083eb5",
   "metadata": {},
   "outputs": [
    {
     "data": {
      "text/html": [
       "<div>\n",
       "<style scoped>\n",
       "    .dataframe tbody tr th:only-of-type {\n",
       "        vertical-align: middle;\n",
       "    }\n",
       "\n",
       "    .dataframe tbody tr th {\n",
       "        vertical-align: top;\n",
       "    }\n",
       "\n",
       "    .dataframe thead th {\n",
       "        text-align: right;\n",
       "    }\n",
       "</style>\n",
       "<table border=\"1\" class=\"dataframe\">\n",
       "  <thead>\n",
       "    <tr style=\"text-align: right;\">\n",
       "      <th></th>\n",
       "      <th>normal</th>\n",
       "      <th>Fx</th>\n",
       "      <th>Fy</th>\n",
       "      <th>Fz</th>\n",
       "      <th>Tx</th>\n",
       "      <th>Ty</th>\n",
       "      <th>Tz</th>\n",
       "    </tr>\n",
       "  </thead>\n",
       "  <tbody>\n",
       "    <tr>\n",
       "      <th>0</th>\n",
       "      <td>NaN</td>\n",
       "      <td>-2.0</td>\n",
       "      <td>-1.0</td>\n",
       "      <td>81.0</td>\n",
       "      <td>0.0</td>\n",
       "      <td>-5.0</td>\n",
       "      <td>0.0</td>\n",
       "    </tr>\n",
       "    <tr>\n",
       "      <th>1</th>\n",
       "      <td>NaN</td>\n",
       "      <td>-2.0</td>\n",
       "      <td>-1.0</td>\n",
       "      <td>79.0</td>\n",
       "      <td>0.0</td>\n",
       "      <td>-4.0</td>\n",
       "      <td>0.0</td>\n",
       "    </tr>\n",
       "    <tr>\n",
       "      <th>2</th>\n",
       "      <td>NaN</td>\n",
       "      <td>-2.0</td>\n",
       "      <td>-1.0</td>\n",
       "      <td>79.0</td>\n",
       "      <td>0.0</td>\n",
       "      <td>-4.0</td>\n",
       "      <td>0.0</td>\n",
       "    </tr>\n",
       "    <tr>\n",
       "      <th>3</th>\n",
       "      <td>NaN</td>\n",
       "      <td>-2.0</td>\n",
       "      <td>-1.0</td>\n",
       "      <td>80.0</td>\n",
       "      <td>0.0</td>\n",
       "      <td>-4.0</td>\n",
       "      <td>0.0</td>\n",
       "    </tr>\n",
       "    <tr>\n",
       "      <th>4</th>\n",
       "      <td>NaN</td>\n",
       "      <td>-3.0</td>\n",
       "      <td>-1.0</td>\n",
       "      <td>79.0</td>\n",
       "      <td>1.0</td>\n",
       "      <td>-5.0</td>\n",
       "      <td>1.0</td>\n",
       "    </tr>\n",
       "    <tr>\n",
       "      <th>...</th>\n",
       "      <td>...</td>\n",
       "      <td>...</td>\n",
       "      <td>...</td>\n",
       "      <td>...</td>\n",
       "      <td>...</td>\n",
       "      <td>...</td>\n",
       "      <td>...</td>\n",
       "    </tr>\n",
       "    <tr>\n",
       "      <th>2944</th>\n",
       "      <td>collision_in_tool</td>\n",
       "      <td>1.0</td>\n",
       "      <td>1.0</td>\n",
       "      <td>8.0</td>\n",
       "      <td>0.0</td>\n",
       "      <td>3.0</td>\n",
       "      <td>-4.0</td>\n",
       "    </tr>\n",
       "    <tr>\n",
       "      <th>2945</th>\n",
       "      <td>collision_in_tool</td>\n",
       "      <td>0.0</td>\n",
       "      <td>0.0</td>\n",
       "      <td>5.0</td>\n",
       "      <td>0.0</td>\n",
       "      <td>3.0</td>\n",
       "      <td>-4.0</td>\n",
       "    </tr>\n",
       "    <tr>\n",
       "      <th>2946</th>\n",
       "      <td>collision_in_tool</td>\n",
       "      <td>-1.0</td>\n",
       "      <td>1.0</td>\n",
       "      <td>-3.0</td>\n",
       "      <td>-3.0</td>\n",
       "      <td>-2.0</td>\n",
       "      <td>-3.0</td>\n",
       "    </tr>\n",
       "    <tr>\n",
       "      <th>2947</th>\n",
       "      <td>collision_in_tool</td>\n",
       "      <td>0.0</td>\n",
       "      <td>-1.0</td>\n",
       "      <td>-5.0</td>\n",
       "      <td>-1.0</td>\n",
       "      <td>1.0</td>\n",
       "      <td>-3.0</td>\n",
       "    </tr>\n",
       "    <tr>\n",
       "      <th>2948</th>\n",
       "      <td>collision_in_tool</td>\n",
       "      <td>-1.0</td>\n",
       "      <td>1.0</td>\n",
       "      <td>4.0</td>\n",
       "      <td>0.0</td>\n",
       "      <td>-1.0</td>\n",
       "      <td>-3.0</td>\n",
       "    </tr>\n",
       "  </tbody>\n",
       "</table>\n",
       "<p>2949 rows × 7 columns</p>\n",
       "</div>"
      ],
      "text/plain": [
       "                 normal   Fx   Fy    Fz   Tx   Ty   Tz\n",
       "0                   NaN -2.0 -1.0  81.0  0.0 -5.0  0.0\n",
       "1                   NaN -2.0 -1.0  79.0  0.0 -4.0  0.0\n",
       "2                   NaN -2.0 -1.0  79.0  0.0 -4.0  0.0\n",
       "3                   NaN -2.0 -1.0  80.0  0.0 -4.0  0.0\n",
       "4                   NaN -3.0 -1.0  79.0  1.0 -5.0  1.0\n",
       "...                 ...  ...  ...   ...  ...  ...  ...\n",
       "2944  collision_in_tool  1.0  1.0   8.0  0.0  3.0 -4.0\n",
       "2945  collision_in_tool  0.0  0.0   5.0  0.0  3.0 -4.0\n",
       "2946  collision_in_tool -1.0  1.0  -3.0 -3.0 -2.0 -3.0\n",
       "2947  collision_in_tool  0.0 -1.0  -5.0 -1.0  1.0 -3.0\n",
       "2948  collision_in_tool -1.0  1.0   4.0  0.0 -1.0 -3.0\n",
       "\n",
       "[2949 rows x 7 columns]"
      ]
     },
     "execution_count": 4,
     "metadata": {},
     "output_type": "execute_result"
    }
   ],
   "source": [
    "lf"
   ]
  },
  {
   "cell_type": "code",
   "execution_count": 5,
   "id": "e58f8669",
   "metadata": {},
   "outputs": [],
   "source": [
    "lfnew = lf[[\"Fx\", \"Fy\", \"Fz\", \"Tx\", \"Ty\", \"Tz\"]].copy()\n"
   ]
  },
  {
   "cell_type": "code",
   "execution_count": 6,
   "id": "84f7b004",
   "metadata": {},
   "outputs": [],
   "source": [
    "lf2=lfnew.dropna()\n"
   ]
  },
  {
   "cell_type": "code",
   "execution_count": 7,
   "id": "0c8f3df2",
   "metadata": {
    "scrolled": true
   },
   "outputs": [
    {
     "data": {
      "text/html": [
       "<div>\n",
       "<style scoped>\n",
       "    .dataframe tbody tr th:only-of-type {\n",
       "        vertical-align: middle;\n",
       "    }\n",
       "\n",
       "    .dataframe tbody tr th {\n",
       "        vertical-align: top;\n",
       "    }\n",
       "\n",
       "    .dataframe thead th {\n",
       "        text-align: right;\n",
       "    }\n",
       "</style>\n",
       "<table border=\"1\" class=\"dataframe\">\n",
       "  <thead>\n",
       "    <tr style=\"text-align: right;\">\n",
       "      <th></th>\n",
       "      <th>Fx</th>\n",
       "      <th>Fy</th>\n",
       "      <th>Fz</th>\n",
       "      <th>Tx</th>\n",
       "      <th>Ty</th>\n",
       "      <th>Tz</th>\n",
       "    </tr>\n",
       "  </thead>\n",
       "  <tbody>\n",
       "    <tr>\n",
       "      <th>0</th>\n",
       "      <td>-2.0</td>\n",
       "      <td>-1.0</td>\n",
       "      <td>81.0</td>\n",
       "      <td>0.0</td>\n",
       "      <td>-5.0</td>\n",
       "      <td>0.0</td>\n",
       "    </tr>\n",
       "    <tr>\n",
       "      <th>1</th>\n",
       "      <td>-2.0</td>\n",
       "      <td>-1.0</td>\n",
       "      <td>79.0</td>\n",
       "      <td>0.0</td>\n",
       "      <td>-4.0</td>\n",
       "      <td>0.0</td>\n",
       "    </tr>\n",
       "    <tr>\n",
       "      <th>2</th>\n",
       "      <td>-2.0</td>\n",
       "      <td>-1.0</td>\n",
       "      <td>79.0</td>\n",
       "      <td>0.0</td>\n",
       "      <td>-4.0</td>\n",
       "      <td>0.0</td>\n",
       "    </tr>\n",
       "    <tr>\n",
       "      <th>3</th>\n",
       "      <td>-2.0</td>\n",
       "      <td>-1.0</td>\n",
       "      <td>80.0</td>\n",
       "      <td>0.0</td>\n",
       "      <td>-4.0</td>\n",
       "      <td>0.0</td>\n",
       "    </tr>\n",
       "    <tr>\n",
       "      <th>4</th>\n",
       "      <td>-3.0</td>\n",
       "      <td>-1.0</td>\n",
       "      <td>79.0</td>\n",
       "      <td>1.0</td>\n",
       "      <td>-5.0</td>\n",
       "      <td>1.0</td>\n",
       "    </tr>\n",
       "    <tr>\n",
       "      <th>...</th>\n",
       "      <td>...</td>\n",
       "      <td>...</td>\n",
       "      <td>...</td>\n",
       "      <td>...</td>\n",
       "      <td>...</td>\n",
       "      <td>...</td>\n",
       "    </tr>\n",
       "    <tr>\n",
       "      <th>2944</th>\n",
       "      <td>1.0</td>\n",
       "      <td>1.0</td>\n",
       "      <td>8.0</td>\n",
       "      <td>0.0</td>\n",
       "      <td>3.0</td>\n",
       "      <td>-4.0</td>\n",
       "    </tr>\n",
       "    <tr>\n",
       "      <th>2945</th>\n",
       "      <td>0.0</td>\n",
       "      <td>0.0</td>\n",
       "      <td>5.0</td>\n",
       "      <td>0.0</td>\n",
       "      <td>3.0</td>\n",
       "      <td>-4.0</td>\n",
       "    </tr>\n",
       "    <tr>\n",
       "      <th>2946</th>\n",
       "      <td>-1.0</td>\n",
       "      <td>1.0</td>\n",
       "      <td>-3.0</td>\n",
       "      <td>-3.0</td>\n",
       "      <td>-2.0</td>\n",
       "      <td>-3.0</td>\n",
       "    </tr>\n",
       "    <tr>\n",
       "      <th>2947</th>\n",
       "      <td>0.0</td>\n",
       "      <td>-1.0</td>\n",
       "      <td>-5.0</td>\n",
       "      <td>-1.0</td>\n",
       "      <td>1.0</td>\n",
       "      <td>-3.0</td>\n",
       "    </tr>\n",
       "    <tr>\n",
       "      <th>2948</th>\n",
       "      <td>-1.0</td>\n",
       "      <td>1.0</td>\n",
       "      <td>4.0</td>\n",
       "      <td>0.0</td>\n",
       "      <td>-1.0</td>\n",
       "      <td>-3.0</td>\n",
       "    </tr>\n",
       "  </tbody>\n",
       "</table>\n",
       "<p>2460 rows × 6 columns</p>\n",
       "</div>"
      ],
      "text/plain": [
       "       Fx   Fy    Fz   Tx   Ty   Tz\n",
       "0    -2.0 -1.0  81.0  0.0 -5.0  0.0\n",
       "1    -2.0 -1.0  79.0  0.0 -4.0  0.0\n",
       "2    -2.0 -1.0  79.0  0.0 -4.0  0.0\n",
       "3    -2.0 -1.0  80.0  0.0 -4.0  0.0\n",
       "4    -3.0 -1.0  79.0  1.0 -5.0  1.0\n",
       "...   ...  ...   ...  ...  ...  ...\n",
       "2944  1.0  1.0   8.0  0.0  3.0 -4.0\n",
       "2945  0.0  0.0   5.0  0.0  3.0 -4.0\n",
       "2946 -1.0  1.0  -3.0 -3.0 -2.0 -3.0\n",
       "2947  0.0 -1.0  -5.0 -1.0  1.0 -3.0\n",
       "2948 -1.0  1.0   4.0  0.0 -1.0 -3.0\n",
       "\n",
       "[2460 rows x 6 columns]"
      ]
     },
     "execution_count": 7,
     "metadata": {},
     "output_type": "execute_result"
    }
   ],
   "source": [
    "lf2\n"
   ]
  },
  {
   "cell_type": "code",
   "execution_count": 8,
   "id": "90e715e6",
   "metadata": {},
   "outputs": [],
   "source": [
    "lf2 = lf2.reset_index(drop = True)\n"
   ]
  },
  {
   "cell_type": "code",
   "execution_count": 9,
   "id": "457de267",
   "metadata": {},
   "outputs": [],
   "source": [
    "lf3 = lf2.groupby(np.arange(len(lf2))//15).mean()\n"
   ]
  },
  {
   "cell_type": "code",
   "execution_count": 10,
   "id": "2612c363",
   "metadata": {},
   "outputs": [
    {
     "data": {
      "text/html": [
       "<div>\n",
       "<style scoped>\n",
       "    .dataframe tbody tr th:only-of-type {\n",
       "        vertical-align: middle;\n",
       "    }\n",
       "\n",
       "    .dataframe tbody tr th {\n",
       "        vertical-align: top;\n",
       "    }\n",
       "\n",
       "    .dataframe thead th {\n",
       "        text-align: right;\n",
       "    }\n",
       "</style>\n",
       "<table border=\"1\" class=\"dataframe\">\n",
       "  <thead>\n",
       "    <tr style=\"text-align: right;\">\n",
       "      <th></th>\n",
       "      <th>Fx</th>\n",
       "      <th>Fy</th>\n",
       "      <th>Fz</th>\n",
       "      <th>Tx</th>\n",
       "      <th>Ty</th>\n",
       "      <th>Tz</th>\n",
       "    </tr>\n",
       "  </thead>\n",
       "  <tbody>\n",
       "    <tr>\n",
       "      <th>0</th>\n",
       "      <td>-2.066667</td>\n",
       "      <td>-1.000000</td>\n",
       "      <td>79.533333</td>\n",
       "      <td>0.200000</td>\n",
       "      <td>-4.266667</td>\n",
       "      <td>0.200000</td>\n",
       "    </tr>\n",
       "    <tr>\n",
       "      <th>1</th>\n",
       "      <td>1.066667</td>\n",
       "      <td>-2.133333</td>\n",
       "      <td>79.333333</td>\n",
       "      <td>0.533333</td>\n",
       "      <td>-2.266667</td>\n",
       "      <td>-0.266667</td>\n",
       "    </tr>\n",
       "    <tr>\n",
       "      <th>2</th>\n",
       "      <td>-3.000000</td>\n",
       "      <td>-1.466667</td>\n",
       "      <td>78.533333</td>\n",
       "      <td>-1.133333</td>\n",
       "      <td>-10.066667</td>\n",
       "      <td>-1.600000</td>\n",
       "    </tr>\n",
       "    <tr>\n",
       "      <th>3</th>\n",
       "      <td>-2.333333</td>\n",
       "      <td>-3.400000</td>\n",
       "      <td>80.933333</td>\n",
       "      <td>-1.333333</td>\n",
       "      <td>-13.000000</td>\n",
       "      <td>-5.866667</td>\n",
       "    </tr>\n",
       "    <tr>\n",
       "      <th>4</th>\n",
       "      <td>-1.933333</td>\n",
       "      <td>-2.866667</td>\n",
       "      <td>78.600000</td>\n",
       "      <td>-4.666667</td>\n",
       "      <td>-14.800000</td>\n",
       "      <td>-6.066667</td>\n",
       "    </tr>\n",
       "    <tr>\n",
       "      <th>...</th>\n",
       "      <td>...</td>\n",
       "      <td>...</td>\n",
       "      <td>...</td>\n",
       "      <td>...</td>\n",
       "      <td>...</td>\n",
       "      <td>...</td>\n",
       "    </tr>\n",
       "    <tr>\n",
       "      <th>159</th>\n",
       "      <td>-2.666667</td>\n",
       "      <td>1.000000</td>\n",
       "      <td>2.800000</td>\n",
       "      <td>-8.466667</td>\n",
       "      <td>-3.266667</td>\n",
       "      <td>-2.000000</td>\n",
       "    </tr>\n",
       "    <tr>\n",
       "      <th>160</th>\n",
       "      <td>7.866667</td>\n",
       "      <td>-2.200000</td>\n",
       "      <td>8.466667</td>\n",
       "      <td>4.333333</td>\n",
       "      <td>14.066667</td>\n",
       "      <td>-3.000000</td>\n",
       "    </tr>\n",
       "    <tr>\n",
       "      <th>161</th>\n",
       "      <td>-3.266667</td>\n",
       "      <td>3.333333</td>\n",
       "      <td>6.266667</td>\n",
       "      <td>-0.666667</td>\n",
       "      <td>-3.133333</td>\n",
       "      <td>-3.666667</td>\n",
       "    </tr>\n",
       "    <tr>\n",
       "      <th>162</th>\n",
       "      <td>-6.266667</td>\n",
       "      <td>4.266667</td>\n",
       "      <td>3.733333</td>\n",
       "      <td>-1.066667</td>\n",
       "      <td>-7.600000</td>\n",
       "      <td>-3.400000</td>\n",
       "    </tr>\n",
       "    <tr>\n",
       "      <th>163</th>\n",
       "      <td>1.066667</td>\n",
       "      <td>-1.600000</td>\n",
       "      <td>2.466667</td>\n",
       "      <td>3.266667</td>\n",
       "      <td>1.333333</td>\n",
       "      <td>-3.533333</td>\n",
       "    </tr>\n",
       "  </tbody>\n",
       "</table>\n",
       "<p>164 rows × 6 columns</p>\n",
       "</div>"
      ],
      "text/plain": [
       "           Fx        Fy         Fz        Tx         Ty        Tz\n",
       "0   -2.066667 -1.000000  79.533333  0.200000  -4.266667  0.200000\n",
       "1    1.066667 -2.133333  79.333333  0.533333  -2.266667 -0.266667\n",
       "2   -3.000000 -1.466667  78.533333 -1.133333 -10.066667 -1.600000\n",
       "3   -2.333333 -3.400000  80.933333 -1.333333 -13.000000 -5.866667\n",
       "4   -1.933333 -2.866667  78.600000 -4.666667 -14.800000 -6.066667\n",
       "..        ...       ...        ...       ...        ...       ...\n",
       "159 -2.666667  1.000000   2.800000 -8.466667  -3.266667 -2.000000\n",
       "160  7.866667 -2.200000   8.466667  4.333333  14.066667 -3.000000\n",
       "161 -3.266667  3.333333   6.266667 -0.666667  -3.133333 -3.666667\n",
       "162 -6.266667  4.266667   3.733333 -1.066667  -7.600000 -3.400000\n",
       "163  1.066667 -1.600000   2.466667  3.266667   1.333333 -3.533333\n",
       "\n",
       "[164 rows x 6 columns]"
      ]
     },
     "execution_count": 10,
     "metadata": {},
     "output_type": "execute_result"
    }
   ],
   "source": [
    "lf3\n"
   ]
  },
  {
   "cell_type": "code",
   "execution_count": 11,
   "id": "9949328a",
   "metadata": {},
   "outputs": [],
   "source": [
    "lf5 = pd.read_excel(\"LP5types.xlsx\")\n"
   ]
  },
  {
   "cell_type": "code",
   "execution_count": 12,
   "id": "46fd2fe1",
   "metadata": {},
   "outputs": [
    {
     "data": {
      "text/html": [
       "<div>\n",
       "<style scoped>\n",
       "    .dataframe tbody tr th:only-of-type {\n",
       "        vertical-align: middle;\n",
       "    }\n",
       "\n",
       "    .dataframe tbody tr th {\n",
       "        vertical-align: top;\n",
       "    }\n",
       "\n",
       "    .dataframe thead th {\n",
       "        text-align: right;\n",
       "    }\n",
       "</style>\n",
       "<table border=\"1\" class=\"dataframe\">\n",
       "  <thead>\n",
       "    <tr style=\"text-align: right;\">\n",
       "      <th></th>\n",
       "      <th>Failure_type</th>\n",
       "    </tr>\n",
       "  </thead>\n",
       "  <tbody>\n",
       "    <tr>\n",
       "      <th>0</th>\n",
       "      <td>normal</td>\n",
       "    </tr>\n",
       "    <tr>\n",
       "      <th>1</th>\n",
       "      <td>NaN</td>\n",
       "    </tr>\n",
       "    <tr>\n",
       "      <th>2</th>\n",
       "      <td>NaN</td>\n",
       "    </tr>\n",
       "    <tr>\n",
       "      <th>3</th>\n",
       "      <td>NaN</td>\n",
       "    </tr>\n",
       "    <tr>\n",
       "      <th>4</th>\n",
       "      <td>NaN</td>\n",
       "    </tr>\n",
       "    <tr>\n",
       "      <th>...</th>\n",
       "      <td>...</td>\n",
       "    </tr>\n",
       "    <tr>\n",
       "      <th>2929</th>\n",
       "      <td>NaN</td>\n",
       "    </tr>\n",
       "    <tr>\n",
       "      <th>2930</th>\n",
       "      <td>NaN</td>\n",
       "    </tr>\n",
       "    <tr>\n",
       "      <th>2931</th>\n",
       "      <td>NaN</td>\n",
       "    </tr>\n",
       "    <tr>\n",
       "      <th>2932</th>\n",
       "      <td>NaN</td>\n",
       "    </tr>\n",
       "    <tr>\n",
       "      <th>2933</th>\n",
       "      <td>collision_in_tool</td>\n",
       "    </tr>\n",
       "  </tbody>\n",
       "</table>\n",
       "<p>2934 rows × 1 columns</p>\n",
       "</div>"
      ],
      "text/plain": [
       "           Failure_type\n",
       "0                normal\n",
       "1                   NaN\n",
       "2                   NaN\n",
       "3                   NaN\n",
       "4                   NaN\n",
       "...                 ...\n",
       "2929                NaN\n",
       "2930                NaN\n",
       "2931                NaN\n",
       "2932                NaN\n",
       "2933  collision_in_tool\n",
       "\n",
       "[2934 rows x 1 columns]"
      ]
     },
     "execution_count": 12,
     "metadata": {},
     "output_type": "execute_result"
    }
   ],
   "source": [
    "lf5\n"
   ]
  },
  {
   "cell_type": "code",
   "execution_count": 13,
   "id": "e40a48a9",
   "metadata": {},
   "outputs": [],
   "source": [
    "lf5 = lf5.dropna(axis = 0)\n"
   ]
  },
  {
   "cell_type": "code",
   "execution_count": 14,
   "id": "a8020809",
   "metadata": {},
   "outputs": [],
   "source": [
    "lf5 = lf5.reset_index(drop = True)\n"
   ]
  },
  {
   "cell_type": "code",
   "execution_count": 15,
   "id": "37fb6578",
   "metadata": {
    "scrolled": true
   },
   "outputs": [
    {
     "data": {
      "text/html": [
       "<div>\n",
       "<style scoped>\n",
       "    .dataframe tbody tr th:only-of-type {\n",
       "        vertical-align: middle;\n",
       "    }\n",
       "\n",
       "    .dataframe tbody tr th {\n",
       "        vertical-align: top;\n",
       "    }\n",
       "\n",
       "    .dataframe thead th {\n",
       "        text-align: right;\n",
       "    }\n",
       "</style>\n",
       "<table border=\"1\" class=\"dataframe\">\n",
       "  <thead>\n",
       "    <tr style=\"text-align: right;\">\n",
       "      <th></th>\n",
       "      <th>Failure_type</th>\n",
       "    </tr>\n",
       "  </thead>\n",
       "  <tbody>\n",
       "    <tr>\n",
       "      <th>0</th>\n",
       "      <td>normal</td>\n",
       "    </tr>\n",
       "    <tr>\n",
       "      <th>1</th>\n",
       "      <td>normal</td>\n",
       "    </tr>\n",
       "    <tr>\n",
       "      <th>2</th>\n",
       "      <td>normal</td>\n",
       "    </tr>\n",
       "    <tr>\n",
       "      <th>3</th>\n",
       "      <td>normal</td>\n",
       "    </tr>\n",
       "    <tr>\n",
       "      <th>4</th>\n",
       "      <td>normal</td>\n",
       "    </tr>\n",
       "    <tr>\n",
       "      <th>5</th>\n",
       "      <td>normal</td>\n",
       "    </tr>\n",
       "    <tr>\n",
       "      <th>6</th>\n",
       "      <td>normal</td>\n",
       "    </tr>\n",
       "    <tr>\n",
       "      <th>7</th>\n",
       "      <td>normal</td>\n",
       "    </tr>\n",
       "    <tr>\n",
       "      <th>8</th>\n",
       "      <td>normal</td>\n",
       "    </tr>\n",
       "    <tr>\n",
       "      <th>9</th>\n",
       "      <td>normal</td>\n",
       "    </tr>\n",
       "  </tbody>\n",
       "</table>\n",
       "</div>"
      ],
      "text/plain": [
       "  Failure_type\n",
       "0       normal\n",
       "1       normal\n",
       "2       normal\n",
       "3       normal\n",
       "4       normal\n",
       "5       normal\n",
       "6       normal\n",
       "7       normal\n",
       "8       normal\n",
       "9       normal"
      ]
     },
     "execution_count": 15,
     "metadata": {},
     "output_type": "execute_result"
    }
   ],
   "source": [
    "lf5.head(10)\n"
   ]
  },
  {
   "cell_type": "code",
   "execution_count": 16,
   "id": "6f287f47",
   "metadata": {},
   "outputs": [],
   "source": [
    "lf3[\"Failure_type\"] = lf5\n"
   ]
  },
  {
   "cell_type": "code",
   "execution_count": 17,
   "id": "53c09254",
   "metadata": {
    "scrolled": false
   },
   "outputs": [
    {
     "data": {
      "text/html": [
       "<div>\n",
       "<style scoped>\n",
       "    .dataframe tbody tr th:only-of-type {\n",
       "        vertical-align: middle;\n",
       "    }\n",
       "\n",
       "    .dataframe tbody tr th {\n",
       "        vertical-align: top;\n",
       "    }\n",
       "\n",
       "    .dataframe thead th {\n",
       "        text-align: right;\n",
       "    }\n",
       "</style>\n",
       "<table border=\"1\" class=\"dataframe\">\n",
       "  <thead>\n",
       "    <tr style=\"text-align: right;\">\n",
       "      <th></th>\n",
       "      <th>Fx</th>\n",
       "      <th>Fy</th>\n",
       "      <th>Fz</th>\n",
       "      <th>Tx</th>\n",
       "      <th>Ty</th>\n",
       "      <th>Tz</th>\n",
       "      <th>Failure_type</th>\n",
       "    </tr>\n",
       "  </thead>\n",
       "  <tbody>\n",
       "    <tr>\n",
       "      <th>0</th>\n",
       "      <td>-2.066667</td>\n",
       "      <td>-1.000000</td>\n",
       "      <td>79.533333</td>\n",
       "      <td>0.200000</td>\n",
       "      <td>-4.266667</td>\n",
       "      <td>0.200000</td>\n",
       "      <td>normal</td>\n",
       "    </tr>\n",
       "    <tr>\n",
       "      <th>1</th>\n",
       "      <td>1.066667</td>\n",
       "      <td>-2.133333</td>\n",
       "      <td>79.333333</td>\n",
       "      <td>0.533333</td>\n",
       "      <td>-2.266667</td>\n",
       "      <td>-0.266667</td>\n",
       "      <td>normal</td>\n",
       "    </tr>\n",
       "    <tr>\n",
       "      <th>2</th>\n",
       "      <td>-3.000000</td>\n",
       "      <td>-1.466667</td>\n",
       "      <td>78.533333</td>\n",
       "      <td>-1.133333</td>\n",
       "      <td>-10.066667</td>\n",
       "      <td>-1.600000</td>\n",
       "      <td>normal</td>\n",
       "    </tr>\n",
       "    <tr>\n",
       "      <th>3</th>\n",
       "      <td>-2.333333</td>\n",
       "      <td>-3.400000</td>\n",
       "      <td>80.933333</td>\n",
       "      <td>-1.333333</td>\n",
       "      <td>-13.000000</td>\n",
       "      <td>-5.866667</td>\n",
       "      <td>normal</td>\n",
       "    </tr>\n",
       "    <tr>\n",
       "      <th>4</th>\n",
       "      <td>-1.933333</td>\n",
       "      <td>-2.866667</td>\n",
       "      <td>78.600000</td>\n",
       "      <td>-4.666667</td>\n",
       "      <td>-14.800000</td>\n",
       "      <td>-6.066667</td>\n",
       "      <td>normal</td>\n",
       "    </tr>\n",
       "    <tr>\n",
       "      <th>...</th>\n",
       "      <td>...</td>\n",
       "      <td>...</td>\n",
       "      <td>...</td>\n",
       "      <td>...</td>\n",
       "      <td>...</td>\n",
       "      <td>...</td>\n",
       "      <td>...</td>\n",
       "    </tr>\n",
       "    <tr>\n",
       "      <th>159</th>\n",
       "      <td>-2.666667</td>\n",
       "      <td>1.000000</td>\n",
       "      <td>2.800000</td>\n",
       "      <td>-8.466667</td>\n",
       "      <td>-3.266667</td>\n",
       "      <td>-2.000000</td>\n",
       "      <td>collision_in_tool</td>\n",
       "    </tr>\n",
       "    <tr>\n",
       "      <th>160</th>\n",
       "      <td>7.866667</td>\n",
       "      <td>-2.200000</td>\n",
       "      <td>8.466667</td>\n",
       "      <td>4.333333</td>\n",
       "      <td>14.066667</td>\n",
       "      <td>-3.000000</td>\n",
       "      <td>collision_in_tool</td>\n",
       "    </tr>\n",
       "    <tr>\n",
       "      <th>161</th>\n",
       "      <td>-3.266667</td>\n",
       "      <td>3.333333</td>\n",
       "      <td>6.266667</td>\n",
       "      <td>-0.666667</td>\n",
       "      <td>-3.133333</td>\n",
       "      <td>-3.666667</td>\n",
       "      <td>collision_in_tool</td>\n",
       "    </tr>\n",
       "    <tr>\n",
       "      <th>162</th>\n",
       "      <td>-6.266667</td>\n",
       "      <td>4.266667</td>\n",
       "      <td>3.733333</td>\n",
       "      <td>-1.066667</td>\n",
       "      <td>-7.600000</td>\n",
       "      <td>-3.400000</td>\n",
       "      <td>collision_in_tool</td>\n",
       "    </tr>\n",
       "    <tr>\n",
       "      <th>163</th>\n",
       "      <td>1.066667</td>\n",
       "      <td>-1.600000</td>\n",
       "      <td>2.466667</td>\n",
       "      <td>3.266667</td>\n",
       "      <td>1.333333</td>\n",
       "      <td>-3.533333</td>\n",
       "      <td>collision_in_tool</td>\n",
       "    </tr>\n",
       "  </tbody>\n",
       "</table>\n",
       "<p>164 rows × 7 columns</p>\n",
       "</div>"
      ],
      "text/plain": [
       "           Fx        Fy         Fz        Tx         Ty        Tz  \\\n",
       "0   -2.066667 -1.000000  79.533333  0.200000  -4.266667  0.200000   \n",
       "1    1.066667 -2.133333  79.333333  0.533333  -2.266667 -0.266667   \n",
       "2   -3.000000 -1.466667  78.533333 -1.133333 -10.066667 -1.600000   \n",
       "3   -2.333333 -3.400000  80.933333 -1.333333 -13.000000 -5.866667   \n",
       "4   -1.933333 -2.866667  78.600000 -4.666667 -14.800000 -6.066667   \n",
       "..        ...       ...        ...       ...        ...       ...   \n",
       "159 -2.666667  1.000000   2.800000 -8.466667  -3.266667 -2.000000   \n",
       "160  7.866667 -2.200000   8.466667  4.333333  14.066667 -3.000000   \n",
       "161 -3.266667  3.333333   6.266667 -0.666667  -3.133333 -3.666667   \n",
       "162 -6.266667  4.266667   3.733333 -1.066667  -7.600000 -3.400000   \n",
       "163  1.066667 -1.600000   2.466667  3.266667   1.333333 -3.533333   \n",
       "\n",
       "          Failure_type  \n",
       "0               normal  \n",
       "1               normal  \n",
       "2               normal  \n",
       "3               normal  \n",
       "4               normal  \n",
       "..                 ...  \n",
       "159  collision_in_tool  \n",
       "160  collision_in_tool  \n",
       "161  collision_in_tool  \n",
       "162  collision_in_tool  \n",
       "163  collision_in_tool  \n",
       "\n",
       "[164 rows x 7 columns]"
      ]
     },
     "execution_count": 17,
     "metadata": {},
     "output_type": "execute_result"
    }
   ],
   "source": [
    "lf3\n"
   ]
  },
  {
   "cell_type": "code",
   "execution_count": 18,
   "id": "70b5bc3e",
   "metadata": {},
   "outputs": [],
   "source": [
    "lf3.to_csv('LP5S.csv')\n"
   ]
  },
  {
   "cell_type": "code",
   "execution_count": 19,
   "id": "793c6569",
   "metadata": {
    "scrolled": true
   },
   "outputs": [
    {
     "data": {
      "image/png": "[encoded data removed]",
      "text/plain": [
       "<Figure size 640x480 with 1 Axes>"
      ]
     },
     "metadata": {},
     "output_type": "display_data"
    }
   ],
   "source": [
    "\n",
    "sns.countplot(x = \"Failure_type\", data = lf3);\n"
   ]
  },
  {
   "cell_type": "code",
   "execution_count": 20,
   "id": "4e413806",
   "metadata": {},
   "outputs": [
    {
     "data": {
      "image/png": "[encoded data removed]",
      "text/plain": [
       "<Figure size 640x480 with 6 Axes>"
      ]
     },
     "metadata": {},
     "output_type": "display_data"
    }
   ],
   "source": [
    "fig, axes = plt.subplots(6)\n",
    "sns.boxplot(x = \"Fx\", data = lf3, ax =axes[0]);\n",
    "sns.boxplot(x = \"Fy\", data = lf3, ax =axes[1]);\n",
    "sns.boxplot(x = \"Fz\", data = lf3, ax =axes[2]);\n",
    "sns.boxplot(x = \"Tx\", data = lf3, ax =axes[3]);\n",
    "sns.boxplot(x = \"Ty\", data = lf3, ax =axes[4]);\n",
    "sns.boxplot(x = \"Tz\", data = lf3, ax =axes[5]);\n",
    "\n",
    "\n"
   ]
  },
  {
   "cell_type": "markdown",
   "id": "62a751e8",
   "metadata": {},
   "source": [
    "# Dataset"
   ]
  },
  {
   "cell_type": "code",
   "execution_count": 21,
   "id": "5316899c",
   "metadata": {},
   "outputs": [
    {
     "data": {
      "text/html": [
       "<div>\n",
       "<style scoped>\n",
       "    .dataframe tbody tr th:only-of-type {\n",
       "        vertical-align: middle;\n",
       "    }\n",
       "\n",
       "    .dataframe tbody tr th {\n",
       "        vertical-align: top;\n",
       "    }\n",
       "\n",
       "    .dataframe thead th {\n",
       "        text-align: right;\n",
       "    }\n",
       "</style>\n",
       "<table border=\"1\" class=\"dataframe\">\n",
       "  <thead>\n",
       "    <tr style=\"text-align: right;\">\n",
       "      <th></th>\n",
       "      <th>Fx</th>\n",
       "      <th>Fy</th>\n",
       "      <th>Fz</th>\n",
       "      <th>Tx</th>\n",
       "      <th>Ty</th>\n",
       "      <th>Tz</th>\n",
       "      <th>Failure_type</th>\n",
       "    </tr>\n",
       "  </thead>\n",
       "  <tbody>\n",
       "    <tr>\n",
       "      <th>0</th>\n",
       "      <td>-2.066667</td>\n",
       "      <td>-1.000000</td>\n",
       "      <td>79.533333</td>\n",
       "      <td>0.200000</td>\n",
       "      <td>-4.266667</td>\n",
       "      <td>0.200000</td>\n",
       "      <td>normal</td>\n",
       "    </tr>\n",
       "    <tr>\n",
       "      <th>1</th>\n",
       "      <td>1.066667</td>\n",
       "      <td>-2.133333</td>\n",
       "      <td>79.333333</td>\n",
       "      <td>0.533333</td>\n",
       "      <td>-2.266667</td>\n",
       "      <td>-0.266667</td>\n",
       "      <td>normal</td>\n",
       "    </tr>\n",
       "    <tr>\n",
       "      <th>2</th>\n",
       "      <td>-3.000000</td>\n",
       "      <td>-1.466667</td>\n",
       "      <td>78.533333</td>\n",
       "      <td>-1.133333</td>\n",
       "      <td>-10.066667</td>\n",
       "      <td>-1.600000</td>\n",
       "      <td>normal</td>\n",
       "    </tr>\n",
       "    <tr>\n",
       "      <th>3</th>\n",
       "      <td>-2.333333</td>\n",
       "      <td>-3.400000</td>\n",
       "      <td>80.933333</td>\n",
       "      <td>-1.333333</td>\n",
       "      <td>-13.000000</td>\n",
       "      <td>-5.866667</td>\n",
       "      <td>normal</td>\n",
       "    </tr>\n",
       "    <tr>\n",
       "      <th>4</th>\n",
       "      <td>-1.933333</td>\n",
       "      <td>-2.866667</td>\n",
       "      <td>78.600000</td>\n",
       "      <td>-4.666667</td>\n",
       "      <td>-14.800000</td>\n",
       "      <td>-6.066667</td>\n",
       "      <td>normal</td>\n",
       "    </tr>\n",
       "    <tr>\n",
       "      <th>...</th>\n",
       "      <td>...</td>\n",
       "      <td>...</td>\n",
       "      <td>...</td>\n",
       "      <td>...</td>\n",
       "      <td>...</td>\n",
       "      <td>...</td>\n",
       "      <td>...</td>\n",
       "    </tr>\n",
       "    <tr>\n",
       "      <th>159</th>\n",
       "      <td>-2.666667</td>\n",
       "      <td>1.000000</td>\n",
       "      <td>2.800000</td>\n",
       "      <td>-8.466667</td>\n",
       "      <td>-3.266667</td>\n",
       "      <td>-2.000000</td>\n",
       "      <td>collision_in_tool</td>\n",
       "    </tr>\n",
       "    <tr>\n",
       "      <th>160</th>\n",
       "      <td>7.866667</td>\n",
       "      <td>-2.200000</td>\n",
       "      <td>8.466667</td>\n",
       "      <td>4.333333</td>\n",
       "      <td>14.066667</td>\n",
       "      <td>-3.000000</td>\n",
       "      <td>collision_in_tool</td>\n",
       "    </tr>\n",
       "    <tr>\n",
       "      <th>161</th>\n",
       "      <td>-3.266667</td>\n",
       "      <td>3.333333</td>\n",
       "      <td>6.266667</td>\n",
       "      <td>-0.666667</td>\n",
       "      <td>-3.133333</td>\n",
       "      <td>-3.666667</td>\n",
       "      <td>collision_in_tool</td>\n",
       "    </tr>\n",
       "    <tr>\n",
       "      <th>162</th>\n",
       "      <td>-6.266667</td>\n",
       "      <td>4.266667</td>\n",
       "      <td>3.733333</td>\n",
       "      <td>-1.066667</td>\n",
       "      <td>-7.600000</td>\n",
       "      <td>-3.400000</td>\n",
       "      <td>collision_in_tool</td>\n",
       "    </tr>\n",
       "    <tr>\n",
       "      <th>163</th>\n",
       "      <td>1.066667</td>\n",
       "      <td>-1.600000</td>\n",
       "      <td>2.466667</td>\n",
       "      <td>3.266667</td>\n",
       "      <td>1.333333</td>\n",
       "      <td>-3.533333</td>\n",
       "      <td>collision_in_tool</td>\n",
       "    </tr>\n",
       "  </tbody>\n",
       "</table>\n",
       "<p>164 rows × 7 columns</p>\n",
       "</div>"
      ],
      "text/plain": [
       "           Fx        Fy         Fz        Tx         Ty        Tz  \\\n",
       "0   -2.066667 -1.000000  79.533333  0.200000  -4.266667  0.200000   \n",
       "1    1.066667 -2.133333  79.333333  0.533333  -2.266667 -0.266667   \n",
       "2   -3.000000 -1.466667  78.533333 -1.133333 -10.066667 -1.600000   \n",
       "3   -2.333333 -3.400000  80.933333 -1.333333 -13.000000 -5.866667   \n",
       "4   -1.933333 -2.866667  78.600000 -4.666667 -14.800000 -6.066667   \n",
       "..        ...       ...        ...       ...        ...       ...   \n",
       "159 -2.666667  1.000000   2.800000 -8.466667  -3.266667 -2.000000   \n",
       "160  7.866667 -2.200000   8.466667  4.333333  14.066667 -3.000000   \n",
       "161 -3.266667  3.333333   6.266667 -0.666667  -3.133333 -3.666667   \n",
       "162 -6.266667  4.266667   3.733333 -1.066667  -7.600000 -3.400000   \n",
       "163  1.066667 -1.600000   2.466667  3.266667   1.333333 -3.533333   \n",
       "\n",
       "          Failure_type  \n",
       "0               normal  \n",
       "1               normal  \n",
       "2               normal  \n",
       "3               normal  \n",
       "4               normal  \n",
       "..                 ...  \n",
       "159  collision_in_tool  \n",
       "160  collision_in_tool  \n",
       "161  collision_in_tool  \n",
       "162  collision_in_tool  \n",
       "163  collision_in_tool  \n",
       "\n",
       "[164 rows x 7 columns]"
      ]
     },
     "execution_count": 21,
     "metadata": {},
     "output_type": "execute_result"
    }
   ],
   "source": [
    "lf3"
   ]
  },
  {
   "cell_type": "markdown",
   "id": "8d596576",
   "metadata": {},
   "source": [
    "# Label encoder"
   ]
  },
  {
   "cell_type": "code",
   "execution_count": 22,
   "id": "a047fd75",
   "metadata": {},
   "outputs": [
    {
     "data": {
      "text/html": [
       "<div>\n",
       "<style scoped>\n",
       "    .dataframe tbody tr th:only-of-type {\n",
       "        vertical-align: middle;\n",
       "    }\n",
       "\n",
       "    .dataframe tbody tr th {\n",
       "        vertical-align: top;\n",
       "    }\n",
       "\n",
       "    .dataframe thead th {\n",
       "        text-align: right;\n",
       "    }\n",
       "</style>\n",
       "<table border=\"1\" class=\"dataframe\">\n",
       "  <thead>\n",
       "    <tr style=\"text-align: right;\">\n",
       "      <th></th>\n",
       "      <th>Fx</th>\n",
       "      <th>Fy</th>\n",
       "      <th>Fz</th>\n",
       "      <th>Tx</th>\n",
       "      <th>Ty</th>\n",
       "      <th>Tz</th>\n",
       "      <th>Failure_type</th>\n",
       "    </tr>\n",
       "  </thead>\n",
       "  <tbody>\n",
       "    <tr>\n",
       "      <th>0</th>\n",
       "      <td>-2.066667</td>\n",
       "      <td>-1.000000</td>\n",
       "      <td>79.533333</td>\n",
       "      <td>0.200000</td>\n",
       "      <td>-4.266667</td>\n",
       "      <td>0.200000</td>\n",
       "      <td>4</td>\n",
       "    </tr>\n",
       "    <tr>\n",
       "      <th>1</th>\n",
       "      <td>1.066667</td>\n",
       "      <td>-2.133333</td>\n",
       "      <td>79.333333</td>\n",
       "      <td>0.533333</td>\n",
       "      <td>-2.266667</td>\n",
       "      <td>-0.266667</td>\n",
       "      <td>4</td>\n",
       "    </tr>\n",
       "    <tr>\n",
       "      <th>2</th>\n",
       "      <td>-3.000000</td>\n",
       "      <td>-1.466667</td>\n",
       "      <td>78.533333</td>\n",
       "      <td>-1.133333</td>\n",
       "      <td>-10.066667</td>\n",
       "      <td>-1.600000</td>\n",
       "      <td>4</td>\n",
       "    </tr>\n",
       "    <tr>\n",
       "      <th>3</th>\n",
       "      <td>-2.333333</td>\n",
       "      <td>-3.400000</td>\n",
       "      <td>80.933333</td>\n",
       "      <td>-1.333333</td>\n",
       "      <td>-13.000000</td>\n",
       "      <td>-5.866667</td>\n",
       "      <td>4</td>\n",
       "    </tr>\n",
       "    <tr>\n",
       "      <th>4</th>\n",
       "      <td>-1.933333</td>\n",
       "      <td>-2.866667</td>\n",
       "      <td>78.600000</td>\n",
       "      <td>-4.666667</td>\n",
       "      <td>-14.800000</td>\n",
       "      <td>-6.066667</td>\n",
       "      <td>4</td>\n",
       "    </tr>\n",
       "  </tbody>\n",
       "</table>\n",
       "</div>"
      ],
      "text/plain": [
       "         Fx        Fy         Fz        Tx         Ty        Tz  Failure_type\n",
       "0 -2.066667 -1.000000  79.533333  0.200000  -4.266667  0.200000             4\n",
       "1  1.066667 -2.133333  79.333333  0.533333  -2.266667 -0.266667             4\n",
       "2 -3.000000 -1.466667  78.533333 -1.133333 -10.066667 -1.600000             4\n",
       "3 -2.333333 -3.400000  80.933333 -1.333333 -13.000000 -5.866667             4\n",
       "4 -1.933333 -2.866667  78.600000 -4.666667 -14.800000 -6.066667             4"
      ]
     },
     "execution_count": 22,
     "metadata": {},
     "output_type": "execute_result"
    }
   ],
   "source": [
    "from sklearn import preprocessing\n",
    "le = preprocessing.LabelEncoder()\n",
    "lf3.Failure_type = le.fit_transform(lf3.Failure_type)\n",
    "lf3.head()"
   ]
  },
  {
   "cell_type": "markdown",
   "id": "07a6279f",
   "metadata": {},
   "source": [
    "# Data split"
   ]
  },
  {
   "cell_type": "code",
   "execution_count": 23,
   "id": "dc85d26f",
   "metadata": {},
   "outputs": [],
   "source": [
    "from sklearn.model_selection import train_test_split\n",
    "X = lf3.drop(['Failure_type'], axis = 1)\n",
    "Y = lf3['Failure_type']\n",
    "X_train,X_test,Y_train,Y_test = train_test_split(X,Y, test_size =0.33,  random_state = 2)"
   ]
  },
  {
   "cell_type": "code",
   "execution_count": 24,
   "id": "e312af94",
   "metadata": {},
   "outputs": [
    {
     "data": {
      "text/html": [
       "<div>\n",
       "<style scoped>\n",
       "    .dataframe tbody tr th:only-of-type {\n",
       "        vertical-align: middle;\n",
       "    }\n",
       "\n",
       "    .dataframe tbody tr th {\n",
       "        vertical-align: top;\n",
       "    }\n",
       "\n",
       "    .dataframe thead th {\n",
       "        text-align: right;\n",
       "    }\n",
       "</style>\n",
       "<table border=\"1\" class=\"dataframe\">\n",
       "  <thead>\n",
       "    <tr style=\"text-align: right;\">\n",
       "      <th></th>\n",
       "      <th>Fx</th>\n",
       "      <th>Fy</th>\n",
       "      <th>Fz</th>\n",
       "      <th>Tx</th>\n",
       "      <th>Ty</th>\n",
       "      <th>Tz</th>\n",
       "    </tr>\n",
       "  </thead>\n",
       "  <tbody>\n",
       "    <tr>\n",
       "      <th>131</th>\n",
       "      <td>53.400000</td>\n",
       "      <td>-4.666667</td>\n",
       "      <td>-168.866667</td>\n",
       "      <td>19.133333</td>\n",
       "      <td>28.266667</td>\n",
       "      <td>7.533333</td>\n",
       "    </tr>\n",
       "    <tr>\n",
       "      <th>0</th>\n",
       "      <td>-2.066667</td>\n",
       "      <td>-1.000000</td>\n",
       "      <td>79.533333</td>\n",
       "      <td>0.200000</td>\n",
       "      <td>-4.266667</td>\n",
       "      <td>0.200000</td>\n",
       "    </tr>\n",
       "    <tr>\n",
       "      <th>27</th>\n",
       "      <td>-4.066667</td>\n",
       "      <td>-2.266667</td>\n",
       "      <td>81.400000</td>\n",
       "      <td>-15.666667</td>\n",
       "      <td>-20.800000</td>\n",
       "      <td>-8.600000</td>\n",
       "    </tr>\n",
       "    <tr>\n",
       "      <th>140</th>\n",
       "      <td>4.666667</td>\n",
       "      <td>-5.800000</td>\n",
       "      <td>-51.600000</td>\n",
       "      <td>8.400000</td>\n",
       "      <td>12.866667</td>\n",
       "      <td>0.266667</td>\n",
       "    </tr>\n",
       "    <tr>\n",
       "      <th>36</th>\n",
       "      <td>-3.533333</td>\n",
       "      <td>-2.000000</td>\n",
       "      <td>84.733333</td>\n",
       "      <td>-17.133333</td>\n",
       "      <td>-20.333333</td>\n",
       "      <td>-8.066667</td>\n",
       "    </tr>\n",
       "  </tbody>\n",
       "</table>\n",
       "</div>"
      ],
      "text/plain": [
       "            Fx        Fy          Fz         Tx         Ty        Tz\n",
       "131  53.400000 -4.666667 -168.866667  19.133333  28.266667  7.533333\n",
       "0    -2.066667 -1.000000   79.533333   0.200000  -4.266667  0.200000\n",
       "27   -4.066667 -2.266667   81.400000 -15.666667 -20.800000 -8.600000\n",
       "140   4.666667 -5.800000  -51.600000   8.400000  12.866667  0.266667\n",
       "36   -3.533333 -2.000000   84.733333 -17.133333 -20.333333 -8.066667"
      ]
     },
     "execution_count": 24,
     "metadata": {},
     "output_type": "execute_result"
    }
   ],
   "source": [
    "X_train.head()"
   ]
  },
  {
   "cell_type": "code",
   "execution_count": 25,
   "id": "bdf744b8",
   "metadata": {},
   "outputs": [
    {
     "data": {
      "text/html": [
       "<div>\n",
       "<style scoped>\n",
       "    .dataframe tbody tr th:only-of-type {\n",
       "        vertical-align: middle;\n",
       "    }\n",
       "\n",
       "    .dataframe tbody tr th {\n",
       "        vertical-align: top;\n",
       "    }\n",
       "\n",
       "    .dataframe thead th {\n",
       "        text-align: right;\n",
       "    }\n",
       "</style>\n",
       "<table border=\"1\" class=\"dataframe\">\n",
       "  <thead>\n",
       "    <tr style=\"text-align: right;\">\n",
       "      <th></th>\n",
       "      <th>Fx</th>\n",
       "      <th>Fy</th>\n",
       "      <th>Fz</th>\n",
       "      <th>Tx</th>\n",
       "      <th>Ty</th>\n",
       "      <th>Tz</th>\n",
       "    </tr>\n",
       "  </thead>\n",
       "  <tbody>\n",
       "    <tr>\n",
       "      <th>42</th>\n",
       "      <td>-2.933333</td>\n",
       "      <td>-2.600000</td>\n",
       "      <td>82.000000</td>\n",
       "      <td>-0.666667</td>\n",
       "      <td>-0.933333</td>\n",
       "      <td>-5.400000</td>\n",
       "    </tr>\n",
       "    <tr>\n",
       "      <th>23</th>\n",
       "      <td>-8.533333</td>\n",
       "      <td>12.400000</td>\n",
       "      <td>86.066667</td>\n",
       "      <td>-44.333333</td>\n",
       "      <td>-29.466667</td>\n",
       "      <td>-6.133333</td>\n",
       "    </tr>\n",
       "    <tr>\n",
       "      <th>44</th>\n",
       "      <td>-4.466667</td>\n",
       "      <td>-5.133333</td>\n",
       "      <td>81.733333</td>\n",
       "      <td>7.666667</td>\n",
       "      <td>-8.866667</td>\n",
       "      <td>-1.866667</td>\n",
       "    </tr>\n",
       "    <tr>\n",
       "      <th>154</th>\n",
       "      <td>11.666667</td>\n",
       "      <td>-3.400000</td>\n",
       "      <td>14.266667</td>\n",
       "      <td>-0.533333</td>\n",
       "      <td>22.466667</td>\n",
       "      <td>-1.600000</td>\n",
       "    </tr>\n",
       "    <tr>\n",
       "      <th>13</th>\n",
       "      <td>-1.933333</td>\n",
       "      <td>-2.666667</td>\n",
       "      <td>79.800000</td>\n",
       "      <td>-2.200000</td>\n",
       "      <td>-13.733333</td>\n",
       "      <td>-5.400000</td>\n",
       "    </tr>\n",
       "  </tbody>\n",
       "</table>\n",
       "</div>"
      ],
      "text/plain": [
       "            Fx         Fy         Fz         Tx         Ty        Tz\n",
       "42   -2.933333  -2.600000  82.000000  -0.666667  -0.933333 -5.400000\n",
       "23   -8.533333  12.400000  86.066667 -44.333333 -29.466667 -6.133333\n",
       "44   -4.466667  -5.133333  81.733333   7.666667  -8.866667 -1.866667\n",
       "154  11.666667  -3.400000  14.266667  -0.533333  22.466667 -1.600000\n",
       "13   -1.933333  -2.666667  79.800000  -2.200000 -13.733333 -5.400000"
      ]
     },
     "execution_count": 25,
     "metadata": {},
     "output_type": "execute_result"
    }
   ],
   "source": [
    "X_test.head()"
   ]
  },
  {
   "cell_type": "code",
   "execution_count": 26,
   "id": "359fae0d",
   "metadata": {},
   "outputs": [
    {
     "data": {
      "text/plain": [
       "131    1\n",
       "0      4\n",
       "27     3\n",
       "140    0\n",
       "36     2\n",
       "Name: Failure_type, dtype: int32"
      ]
     },
     "execution_count": 26,
     "metadata": {},
     "output_type": "execute_result"
    }
   ],
   "source": [
    "Y_train.head()"
   ]
  },
  {
   "cell_type": "code",
   "execution_count": 27,
   "id": "b9ff7e06",
   "metadata": {},
   "outputs": [
    {
     "data": {
      "text/plain": [
       "42     2\n",
       "23     3\n",
       "44     3\n",
       "154    2\n",
       "13     4\n",
       "Name: Failure_type, dtype: int32"
      ]
     },
     "execution_count": 27,
     "metadata": {},
     "output_type": "execute_result"
    }
   ],
   "source": [
    "Y_test.head()"
   ]
  },
  {
   "cell_type": "markdown",
   "id": "8ae448df",
   "metadata": {},
   "source": [
    "# Decision Tree"
   ]
  },
  {
   "cell_type": "code",
   "execution_count": 28,
   "id": "fa1d8d3f",
   "metadata": {},
   "outputs": [
    {
     "name": "stdout",
     "output_type": "stream",
     "text": [
      "Wall time: 69 ms\n"
     ]
    }
   ],
   "source": [
    "%%time\n",
    "#Decision Tree\n",
    "\n",
    "from sklearn.tree import DecisionTreeClassifier\n",
    "from sklearn.metrics import confusion_matrix\n",
    "clf = DecisionTreeClassifier(criterion='gini', max_depth = 5, splitter='best')\n",
    "clf = clf.fit(X_train, Y_train)\n"
   ]
  },
  {
   "cell_type": "code",
   "execution_count": 29,
   "id": "1d160740",
   "metadata": {},
   "outputs": [
    {
     "data": {
      "text/plain": [
       "{'ccp_alpha': 0.0,\n",
       " 'class_weight': None,\n",
       " 'criterion': 'gini',\n",
       " 'max_depth': 5,\n",
       " 'max_features': None,\n",
       " 'max_leaf_nodes': None,\n",
       " 'min_impurity_decrease': 0.0,\n",
       " 'min_samples_leaf': 1,\n",
       " 'min_samples_split': 2,\n",
       " 'min_weight_fraction_leaf': 0.0,\n",
       " 'random_state': None,\n",
       " 'splitter': 'best'}"
      ]
     },
     "execution_count": 29,
     "metadata": {},
     "output_type": "execute_result"
    }
   ],
   "source": [
    "clf.get_params()"
   ]
  },
  {
   "cell_type": "code",
   "execution_count": 30,
   "id": "595d485c",
   "metadata": {
    "scrolled": true
   },
   "outputs": [],
   "source": [
    "X_test;"
   ]
  },
  {
   "cell_type": "code",
   "execution_count": 31,
   "id": "71b44c2d",
   "metadata": {},
   "outputs": [
    {
     "data": {
      "text/plain": [
       "array([2, 3, 2, 3, 4, 2, 4, 1, 4, 2, 4, 0, 0, 0, 0, 4, 3, 4, 4, 4, 3, 0,\n",
       "       0, 2, 3, 0, 4, 1, 1, 2, 4, 2, 4, 2, 4, 2, 2, 1, 0, 4, 2, 4, 4, 1,\n",
       "       0, 0, 1, 3, 4, 2, 0, 4, 0, 2, 4])"
      ]
     },
     "execution_count": 31,
     "metadata": {},
     "output_type": "execute_result"
    }
   ],
   "source": [
    "predictions = clf.predict(X_test)\n",
    "predictions"
   ]
  },
  {
   "cell_type": "code",
   "execution_count": 32,
   "id": "262ff3fc",
   "metadata": {
    "scrolled": true
   },
   "outputs": [],
   "source": [
    "clf.predict_proba(X_test);"
   ]
  },
  {
   "cell_type": "code",
   "execution_count": 33,
   "id": "aa5dd9ad",
   "metadata": {},
   "outputs": [
    {
     "data": {
      "text/plain": [
       "0.6727272727272727"
      ]
     },
     "execution_count": 33,
     "metadata": {},
     "output_type": "execute_result"
    }
   ],
   "source": [
    "from sklearn.metrics import accuracy_score\n",
    "accuracy_score(Y_test,predictions)"
   ]
  },
  {
   "cell_type": "code",
   "execution_count": 34,
   "id": "f22cfab6",
   "metadata": {},
   "outputs": [
    {
     "name": "stdout",
     "output_type": "stream",
     "text": [
      "[[10  1  0  0  0]\n",
      " [ 1  5  0  0  0]\n",
      " [ 1  0  6  3  4]\n",
      " [ 0  0  6  3  1]\n",
      " [ 0  0  1  0 13]]\n"
     ]
    },
    {
     "data": {
      "image/png": "[encoded data removed]",
      "text/plain": [
       "<Figure size 640x480 with 2 Axes>"
      ]
     },
     "metadata": {},
     "output_type": "display_data"
    }
   ],
   "source": [
    "c = confusion_matrix(Y_test, predictions)\n",
    "print(c)\n",
    "sns.heatmap(c, annot=True, fmt=\".1f\")\n",
    "plt.xlabel('Actual');\n",
    "plt.ylabel('Predicted');"
   ]
  },
  {
   "cell_type": "code",
   "execution_count": 35,
   "id": "d4fa468b",
   "metadata": {
    "scrolled": true
   },
   "outputs": [
    {
     "name": "stdout",
     "output_type": "stream",
     "text": [
      "              precision    recall  f1-score   support\n",
      "\n",
      "           0       0.83      0.91      0.87        11\n",
      "           1       0.83      0.83      0.83         6\n",
      "           2       0.46      0.43      0.44        14\n",
      "           3       0.50      0.30      0.37        10\n",
      "           4       0.72      0.93      0.81        14\n",
      "\n",
      "    accuracy                           0.67        55\n",
      "   macro avg       0.67      0.68      0.67        55\n",
      "weighted avg       0.65      0.67      0.65        55\n",
      "\n"
     ]
    }
   ],
   "source": [
    "from sklearn.metrics import classification_report\n",
    "print(classification_report(Y_test, predictions))\n"
   ]
  },
  {
   "cell_type": "code",
   "execution_count": 36,
   "id": "2ade3a6f",
   "metadata": {
    "scrolled": true
   },
   "outputs": [
    {
     "data": {
      "image/png": "[encoded data removed]",
      "text/plain": [
       "<Figure size 800x600 with 1 Axes>"
      ]
     },
     "metadata": {},
     "output_type": "display_data"
    }
   ],
   "source": [
    "from sklearn import tree\n",
    "plt.figure(figsize = (8,6))\n",
    "tree.plot_tree(clf,filled = True, class_names = True);"
   ]
  },
  {
   "cell_type": "markdown",
   "id": "c3ccab8f",
   "metadata": {},
   "source": [
    "# KNN\n"
   ]
  },
  {
   "cell_type": "code",
   "execution_count": 37,
   "id": "02ef37da",
   "metadata": {},
   "outputs": [
    {
     "name": "stdout",
     "output_type": "stream",
     "text": [
      "Wall time: 1.67 ms\n"
     ]
    },
    {
     "data": {
      "text/plain": [
       "KNeighborsClassifier(n_neighbors=3, weights='distance')"
      ]
     },
     "execution_count": 37,
     "metadata": {},
     "output_type": "execute_result"
    }
   ],
   "source": [
    "%%time\n",
    "from sklearn.neighbors import KNeighborsClassifier\n",
    "\n",
    "neigh = KNeighborsClassifier(n_neighbors=3,weights='distance',leaf_size=30)\n",
    "neigh.fit(X_train, Y_train)"
   ]
  },
  {
   "cell_type": "code",
   "execution_count": 38,
   "id": "edd70067",
   "metadata": {},
   "outputs": [
    {
     "name": "stdout",
     "output_type": "stream",
     "text": [
      "[4 4 4 3 4 4 4 2 4 2 4 1 0 0 0 4 4 2 4 4 4 0 0 4 4 1 4 1 1 4 4 4 2 2 4 2 2\n",
      " 0 0 4 2 2 4 0 0 0 1 2 2 2 0 4 0 4 4]\n"
     ]
    }
   ],
   "source": [
    "Y_pred = neigh.predict(X_test)\n",
    "print(Y_pred)"
   ]
  },
  {
   "cell_type": "code",
   "execution_count": 39,
   "id": "daa3c78a",
   "metadata": {
    "scrolled": true
   },
   "outputs": [
    {
     "data": {
      "text/plain": [
       "array([[0.        , 0.        , 0.        , 0.        , 1.        ],\n",
       "       [0.        , 0.        , 0.36791915, 0.        , 0.63208085],\n",
       "       [0.        , 0.        , 0.        , 0.        , 1.        ],\n",
       "       [0.        , 0.        , 0.3087301 , 0.6912699 , 0.        ],\n",
       "       [0.        , 0.        , 0.        , 0.2026043 , 0.7973957 ],\n",
       "       [0.        , 0.        , 0.        , 0.26794132, 0.73205868],\n",
       "       [0.        , 0.        , 0.        , 0.        , 1.        ],\n",
       "       [0.35473499, 0.        , 0.64526501, 0.        , 0.        ],\n",
       "       [0.        , 0.        , 0.        , 0.        , 1.        ],\n",
       "       [0.        , 0.        , 0.64807723, 0.35192277, 0.        ],\n",
       "       [0.        , 0.        , 0.        , 0.        , 1.        ],\n",
       "       [0.32518331, 0.67481669, 0.        , 0.        , 0.        ],\n",
       "       [0.66234368, 0.33765632, 0.        , 0.        , 0.        ],\n",
       "       [1.        , 0.        , 0.        , 0.        , 0.        ],\n",
       "       [0.65747347, 0.34252653, 0.        , 0.        , 0.        ],\n",
       "       [0.        , 0.        , 0.        , 0.        , 1.        ],\n",
       "       [0.        , 0.        , 0.        , 0.        , 1.        ],\n",
       "       [0.        , 0.        , 1.        , 0.        , 0.        ],\n",
       "       [0.        , 0.        , 0.        , 0.        , 1.        ],\n",
       "       [0.        , 0.        , 0.        , 0.        , 1.        ],\n",
       "       [0.        , 0.        , 0.        , 0.        , 1.        ],\n",
       "       [0.8200532 , 0.        , 0.1799468 , 0.        , 0.        ],\n",
       "       [1.        , 0.        , 0.        , 0.        , 0.        ],\n",
       "       [0.        , 0.        , 0.        , 0.        , 1.        ],\n",
       "       [0.        , 0.        , 0.34468709, 0.        , 0.65531291],\n",
       "       [0.31031826, 0.68968174, 0.        , 0.        , 0.        ],\n",
       "       [0.        , 0.        , 0.        , 0.        , 1.        ],\n",
       "       [0.30190396, 0.69809604, 0.        , 0.        , 0.        ],\n",
       "       [0.        , 1.        , 0.        , 0.        , 0.        ],\n",
       "       [0.        , 0.        , 0.        , 0.        , 1.        ],\n",
       "       [0.        , 0.        , 0.        , 0.        , 1.        ],\n",
       "       [0.        , 0.        , 0.        , 0.        , 1.        ],\n",
       "       [0.        , 0.        , 0.70914747, 0.29085253, 0.        ],\n",
       "       [0.        , 0.        , 0.75860094, 0.24139906, 0.        ],\n",
       "       [0.        , 0.        , 0.3346761 , 0.        , 0.6653239 ],\n",
       "       [0.        , 0.        , 1.        , 0.        , 0.        ],\n",
       "       [0.        , 0.        , 0.76662084, 0.23337916, 0.        ],\n",
       "       [0.69247239, 0.30752761, 0.        , 0.        , 0.        ],\n",
       "       [1.        , 0.        , 0.        , 0.        , 0.        ],\n",
       "       [0.        , 0.        , 0.        , 0.        , 1.        ],\n",
       "       [0.        , 0.        , 0.64224428, 0.35775572, 0.        ],\n",
       "       [0.        , 0.        , 0.37535764, 0.31925835, 0.30538402],\n",
       "       [0.        , 0.        , 0.        , 0.        , 1.        ],\n",
       "       [0.68838583, 0.31161417, 0.        , 0.        , 0.        ],\n",
       "       [1.        , 0.        , 0.        , 0.        , 0.        ],\n",
       "       [1.        , 0.        , 0.        , 0.        , 0.        ],\n",
       "       [0.        , 1.        , 0.        , 0.        , 0.        ],\n",
       "       [0.        , 0.        , 0.63599093, 0.36400907, 0.        ],\n",
       "       [0.        , 0.        , 0.63510013, 0.36489987, 0.        ],\n",
       "       [0.        , 0.        , 0.66806184, 0.33193816, 0.        ],\n",
       "       [1.        , 0.        , 0.        , 0.        , 0.        ],\n",
       "       [0.        , 0.        , 0.        , 0.        , 1.        ],\n",
       "       [1.        , 0.        , 0.        , 0.        , 0.        ],\n",
       "       [0.        , 0.        , 0.31063027, 0.        , 0.68936973],\n",
       "       [0.        , 0.        , 0.        , 0.        , 1.        ]])"
      ]
     },
     "execution_count": 39,
     "metadata": {},
     "output_type": "execute_result"
    }
   ],
   "source": [
    "neigh.predict_proba(X_test)"
   ]
  },
  {
   "cell_type": "code",
   "execution_count": 40,
   "id": "902f18af",
   "metadata": {},
   "outputs": [
    {
     "name": "stdout",
     "output_type": "stream",
     "text": [
      "[[ 8  2  1  0  0]\n",
      " [ 3  3  0  0  0]\n",
      " [ 1  0  6  1  6]\n",
      " [ 0  0  5  0  5]\n",
      " [ 0  0  0  0 14]]\n"
     ]
    },
    {
     "data": {
      "image/png": "[encoded data removed]",
      "text/plain": [
       "<Figure size 640x480 with 2 Axes>"
      ]
     },
     "metadata": {},
     "output_type": "display_data"
    }
   ],
   "source": [
    "c = confusion_matrix(Y_test, Y_pred)\n",
    "print(c)\n",
    "sns.heatmap(c, annot=True, fmt=\".1f\")\n",
    "plt.xlabel('Actual');\n",
    "plt.ylabel('Predicted');"
   ]
  },
  {
   "cell_type": "code",
   "execution_count": 41,
   "id": "6db5adff",
   "metadata": {},
   "outputs": [
    {
     "name": "stdout",
     "output_type": "stream",
     "text": [
      "              precision    recall  f1-score   support\n",
      "\n",
      "           0       0.67      0.73      0.70        11\n",
      "           1       0.60      0.50      0.55         6\n",
      "           2       0.50      0.43      0.46        14\n",
      "           3       0.00      0.00      0.00        10\n",
      "           4       0.56      1.00      0.72        14\n",
      "\n",
      "    accuracy                           0.56        55\n",
      "   macro avg       0.47      0.53      0.48        55\n",
      "weighted avg       0.47      0.56      0.50        55\n",
      "\n"
     ]
    }
   ],
   "source": [
    "from sklearn.metrics import classification_report\n",
    "print(classification_report(Y_test, Y_pred))"
   ]
  },
  {
   "cell_type": "code",
   "execution_count": 42,
   "id": "ba35455c",
   "metadata": {},
   "outputs": [
    {
     "data": {
      "text/plain": [
       "0.5636363636363636"
      ]
     },
     "execution_count": 42,
     "metadata": {},
     "output_type": "execute_result"
    }
   ],
   "source": [
    "from sklearn.metrics import accuracy_score\n",
    "accuracy_score(Y_test,Y_pred)"
   ]
  },
  {
   "cell_type": "markdown",
   "id": "dfaa42ca",
   "metadata": {},
   "source": [
    "# Randomforest\n"
   ]
  },
  {
   "cell_type": "code",
   "execution_count": 43,
   "id": "728bd71e",
   "metadata": {},
   "outputs": [],
   "source": [
    " from sklearn.ensemble import RandomForestClassifier\n",
    "   "
   ]
  },
  {
   "cell_type": "code",
   "execution_count": 44,
   "id": "47f7070d",
   "metadata": {},
   "outputs": [
    {
     "name": "stdout",
     "output_type": "stream",
     "text": [
      "Wall time: 312 ms\n"
     ]
    },
    {
     "data": {
      "text/plain": [
       "RandomForestClassifier(max_depth=4, n_estimators=500, random_state=2)"
      ]
     },
     "execution_count": 44,
     "metadata": {},
     "output_type": "execute_result"
    }
   ],
   "source": [
    "%%time\n",
    "rfc = RandomForestClassifier(n_estimators=500, max_depth=4, random_state = 2)\n",
    "rfc.fit(X_train, Y_train)"
   ]
  },
  {
   "cell_type": "code",
   "execution_count": 45,
   "id": "ee23165e",
   "metadata": {},
   "outputs": [
    {
     "name": "stdout",
     "output_type": "stream",
     "text": [
      "[2 2 2 2 4 4 4 0 4 2 4 0 0 0 0 4 2 2 4 4 4 0 0 2 2 0 4 1 1 2 4 2 2 2 2 2 2\n",
      " 1 2 4 2 4 4 1 0 0 1 2 2 2 0 4 0 4 4]\n"
     ]
    }
   ],
   "source": [
    "Y_predicts = rfc.predict(X_test)\n",
    "print(Y_predicts)"
   ]
  },
  {
   "cell_type": "code",
   "execution_count": 46,
   "id": "62848f1f",
   "metadata": {
    "scrolled": true
   },
   "outputs": [],
   "source": [
    "rfc.predict_proba(X_test);"
   ]
  },
  {
   "cell_type": "code",
   "execution_count": 47,
   "id": "6d41cd28",
   "metadata": {},
   "outputs": [
    {
     "name": "stdout",
     "output_type": "stream",
     "text": [
      "              precision    recall  f1-score   support\n",
      "\n",
      "           0       0.92      1.00      0.96        11\n",
      "           1       1.00      0.83      0.91         6\n",
      "           2       0.62      0.93      0.74        14\n",
      "           3       0.00      0.00      0.00        10\n",
      "           4       0.82      1.00      0.90        14\n",
      "\n",
      "    accuracy                           0.78        55\n",
      "   macro avg       0.67      0.75      0.70        55\n",
      "weighted avg       0.66      0.78      0.71        55\n",
      "\n"
     ]
    },
    {
     "name": "stderr",
     "output_type": "stream",
     "text": [
      "C:\\Users\\Akhil\\anaconda3\\lib\\site-packages\\sklearn\\metrics\\_classification.py:1318: UndefinedMetricWarning: Precision and F-score are ill-defined and being set to 0.0 in labels with no predicted samples. Use `zero_division` parameter to control this behavior.\n",
      "  _warn_prf(average, modifier, msg_start, len(result))\n",
      "C:\\Users\\Akhil\\anaconda3\\lib\\site-packages\\sklearn\\metrics\\_classification.py:1318: UndefinedMetricWarning: Precision and F-score are ill-defined and being set to 0.0 in labels with no predicted samples. Use `zero_division` parameter to control this behavior.\n",
      "  _warn_prf(average, modifier, msg_start, len(result))\n",
      "C:\\Users\\Akhil\\anaconda3\\lib\\site-packages\\sklearn\\metrics\\_classification.py:1318: UndefinedMetricWarning: Precision and F-score are ill-defined and being set to 0.0 in labels with no predicted samples. Use `zero_division` parameter to control this behavior.\n",
      "  _warn_prf(average, modifier, msg_start, len(result))\n"
     ]
    }
   ],
   "source": [
    "from sklearn.metrics import classification_report\n",
    "print(classification_report(Y_test, Y_predicts))"
   ]
  },
  {
   "cell_type": "code",
   "execution_count": 48,
   "id": "e1d78c1e",
   "metadata": {},
   "outputs": [
    {
     "data": {
      "text/plain": [
       "0.7818181818181819"
      ]
     },
     "execution_count": 48,
     "metadata": {},
     "output_type": "execute_result"
    }
   ],
   "source": [
    "from sklearn.metrics import accuracy_score\n",
    "accuracy_score(Y_test,Y_predicts)"
   ]
  },
  {
   "cell_type": "code",
   "execution_count": 49,
   "id": "b2ce6362",
   "metadata": {
    "scrolled": true
   },
   "outputs": [
    {
     "name": "stdout",
     "output_type": "stream",
     "text": [
      "[[11  0  0  0  0]\n",
      " [ 1  5  0  0  0]\n",
      " [ 0  0 13  0  1]\n",
      " [ 0  0  8  0  2]\n",
      " [ 0  0  0  0 14]]\n"
     ]
    },
    {
     "data": {
      "image/png": "[encoded data removed]",
      "text/plain": [
       "<Figure size 640x480 with 2 Axes>"
      ]
     },
     "metadata": {},
     "output_type": "display_data"
    }
   ],
   "source": [
    "c = confusion_matrix(Y_test, Y_predicts)\n",
    "print(c)\n",
    "sns.heatmap(c, annot=True, fmt=\".1f\")\n",
    "plt.xlabel('Actual');\n",
    "plt.ylabel('Predicted');"
   ]
  },
  {
   "cell_type": "code",
   "execution_count": null,
   "id": "05f0d2eb",
   "metadata": {},
   "outputs": [],
   "source": []
  },
  {
   "cell_type": "markdown",
   "id": "236638a1",
   "metadata": {},
   "source": [
    "# SVM"
   ]
  },
  {
   "cell_type": "code",
   "execution_count": 50,
   "id": "ca8ff420",
   "metadata": {},
   "outputs": [],
   "source": [
    "#%%time\n",
    "#from sklearn.svm import SVC\n",
    "\n",
    "#model = SVC(kernel=\"poly\", degree=8, gamma = 'auto')\n",
    "\n",
    "#model.fit(X_train,Y_train)\n",
    "#Y_predict = model.predict(X_test)\n"
   ]
  },
  {
   "cell_type": "code",
   "execution_count": 51,
   "id": "a60179fc",
   "metadata": {},
   "outputs": [],
   "source": [
    "#print(classification_report(Y_test, Y_predict))"
   ]
  },
  {
   "cell_type": "code",
   "execution_count": 52,
   "id": "1d6cc398",
   "metadata": {},
   "outputs": [],
   "source": [
    "#accuracy_score(Y_test,Y_predict)"
   ]
  },
  {
   "cell_type": "code",
   "execution_count": 53,
   "id": "96ecc0a0",
   "metadata": {},
   "outputs": [],
   "source": [
    "#c = confusion_matrix(Y_test, Y_predict)\n",
    "#print(c)\n",
    "#sns.heatmap(c, annot=True, fmt=\".1f\")\n",
    "#plt.xlabel('Actual');\n",
    "#plt.ylabel('Predicted');"
   ]
  },
  {
   "cell_type": "code",
   "execution_count": 54,
   "id": "6c745f92",
   "metadata": {},
   "outputs": [],
   "source": [
    "#from sklearn.metrics import RocCurveDisplay\n",
    "#RocCurveDisplay.from_predictions(Y_test, Y_predict, pos_label = 3)\n",
    "#plt.show()"
   ]
  },
  {
   "cell_type": "markdown",
   "id": "62f9c1e8",
   "metadata": {},
   "source": [
    "# SKlearn NN"
   ]
  },
  {
   "cell_type": "code",
   "execution_count": 55,
   "id": "7f176d66",
   "metadata": {},
   "outputs": [
    {
     "name": "stdout",
     "output_type": "stream",
     "text": [
      "Wall time: 198 ms\n"
     ]
    },
    {
     "name": "stderr",
     "output_type": "stream",
     "text": [
      "C:\\Users\\Akhil\\anaconda3\\lib\\site-packages\\sklearn\\neural_network\\_multilayer_perceptron.py:692: ConvergenceWarning: Stochastic Optimizer: Maximum iterations (200) reached and the optimization hasn't converged yet.\n",
      "  warnings.warn(\n"
     ]
    },
    {
     "data": {
      "text/plain": [
       "MLPClassifier(hidden_layer_sizes=(30, 60), random_state=1)"
      ]
     },
     "execution_count": 55,
     "metadata": {},
     "output_type": "execute_result"
    }
   ],
   "source": [
    "%%time\n",
    "from sklearn.neural_network import MLPClassifier\n",
    "\n",
    "model = MLPClassifier(solver='adam',random_state=1, hidden_layer_sizes=(30,60), activation='relu')\n",
    "model.fit(X_train,Y_train)"
   ]
  },
  {
   "cell_type": "code",
   "execution_count": 56,
   "id": "8b3d67d3",
   "metadata": {},
   "outputs": [],
   "source": [
    "Y_predicted = model.predict(X_test)"
   ]
  },
  {
   "cell_type": "code",
   "execution_count": 57,
   "id": "9073d3a0",
   "metadata": {},
   "outputs": [
    {
     "name": "stdout",
     "output_type": "stream",
     "text": [
      "              precision    recall  f1-score   support\n",
      "\n",
      "           0       0.70      0.64      0.67        11\n",
      "           1       0.50      0.67      0.57         6\n",
      "           2       0.54      0.50      0.52        14\n",
      "           3       0.67      0.20      0.31        10\n",
      "           4       0.67      1.00      0.80        14\n",
      "\n",
      "    accuracy                           0.62        55\n",
      "   macro avg       0.61      0.60      0.57        55\n",
      "weighted avg       0.62      0.62      0.59        55\n",
      "\n"
     ]
    }
   ],
   "source": [
    "print(classification_report(Y_test, Y_predicted))"
   ]
  },
  {
   "cell_type": "code",
   "execution_count": 58,
   "id": "3117d1d4",
   "metadata": {},
   "outputs": [
    {
     "data": {
      "text/plain": [
       "0.6181818181818182"
      ]
     },
     "execution_count": 58,
     "metadata": {},
     "output_type": "execute_result"
    }
   ],
   "source": [
    "accuracy_score(Y_test,Y_predicted)"
   ]
  },
  {
   "cell_type": "code",
   "execution_count": 59,
   "id": "bc8197e5",
   "metadata": {},
   "outputs": [
    {
     "data": {
      "image/png": "[encoded data removed]",
      "text/plain": [
       "<Figure size 640x480 with 1 Axes>"
      ]
     },
     "metadata": {},
     "output_type": "display_data"
    }
   ],
   "source": [
    "from sklearn.metrics import RocCurveDisplay\n",
    "RocCurveDisplay.from_predictions(Y_test, Y_predicted, pos_label = 3)\n",
    "plt.show()"
   ]
  },
  {
   "cell_type": "markdown",
   "id": "1c4514d3",
   "metadata": {},
   "source": [
    "# Neural network"
   ]
  },
  {
   "cell_type": "code",
   "execution_count": 60,
   "id": "cd4070ca",
   "metadata": {},
   "outputs": [],
   "source": [
    "# Data visualization\n",
    "import matplotlib.pyplot as plt\n",
    "import seaborn as sns\n",
    "import numpy as np\n",
    "import pandas as pd \n",
    "import seaborn as sns\n",
    "# Keras\n",
    "import tensorflow as tf\n",
    "from keras.models import Sequential\n",
    "from keras.layers import Dense\n",
    "from keras.optimizers import SGD, Adam, Adadelta, RMSprop\n",
    "import keras.backend as K\n",
    "from keras.metrics import RootMeanSquaredError \n",
    "# Train-Test\n",
    "from sklearn.model_selection import train_test_split\n",
    "# Scaling data\n",
    "from sklearn.preprocessing import StandardScaler\n",
    "# Classification Report\n",
    "from sklearn.metrics import classification_report\n",
    "from keras.utils.np_utils import to_categorical\n",
    "from tensorflow import keras\n",
    "from tensorflow.keras import layers\n"
   ]
  },
  {
   "cell_type": "code",
   "execution_count": 61,
   "id": "a669c9fe",
   "metadata": {},
   "outputs": [
    {
     "data": {
      "text/plain": [
       "(109, 6)"
      ]
     },
     "execution_count": 61,
     "metadata": {},
     "output_type": "execute_result"
    }
   ],
   "source": [
    "X_train.shape"
   ]
  },
  {
   "cell_type": "code",
   "execution_count": 62,
   "id": "679bfe03",
   "metadata": {},
   "outputs": [
    {
     "data": {
      "text/plain": [
       "(109,)"
      ]
     },
     "execution_count": 62,
     "metadata": {},
     "output_type": "execute_result"
    }
   ],
   "source": [
    "Y_train.shape"
   ]
  },
  {
   "cell_type": "code",
   "execution_count": 63,
   "id": "a7692e1b",
   "metadata": {},
   "outputs": [
    {
     "name": "stdout",
     "output_type": "stream",
     "text": [
      "Wall time: 76.6 ms\n"
     ]
    }
   ],
   "source": [
    "%%time\n",
    "input_shape = (6,)\n",
    "modeltf = keras.Sequential(\n",
    "    [\n",
    "        Dense(60,input_shape = input_shape, activation=\"relu\", name=\"layer1\"),\n",
    "        Dense(30, activation=\"relu\", name=\"layer2\"),\n",
    "        Dense(60, activation=\"sigmoid\", name=\"layer3\"),\n",
    "        Dense(60, activation=\"softmax\", name=\"layer4\")\n",
    "    ])\n",
    "    \n"
   ]
  },
  {
   "cell_type": "code",
   "execution_count": 64,
   "id": "23b91d95",
   "metadata": {},
   "outputs": [
    {
     "name": "stdout",
     "output_type": "stream",
     "text": [
      "Model: \"sequential\"\n",
      "_________________________________________________________________\n",
      " Layer (type)                Output Shape              Param #   \n",
      "=================================================================\n",
      " layer1 (Dense)              (None, 60)                420       \n",
      "                                                                 \n",
      " layer2 (Dense)              (None, 30)                1830      \n",
      "                                                                 \n",
      " layer3 (Dense)              (None, 60)                1860      \n",
      "                                                                 \n",
      " layer4 (Dense)              (None, 60)                3660      \n",
      "                                                                 \n",
      "=================================================================\n",
      "Total params: 7,770\n",
      "Trainable params: 7,770\n",
      "Non-trainable params: 0\n",
      "_________________________________________________________________\n"
     ]
    }
   ],
   "source": [
    "modeltf.summary()"
   ]
  },
  {
   "cell_type": "code",
   "execution_count": 65,
   "id": "583d62d4",
   "metadata": {},
   "outputs": [
    {
     "name": "stdout",
     "output_type": "stream",
     "text": [
      "Wall time: 9 ms\n"
     ]
    }
   ],
   "source": [
    "%%time\n",
    "modeltf.compile(Adam(learning_rate=0.01), \"sparse_categorical_crossentropy\", metrics = [\"accuracy\", \"RootMeanSquaredError\"])\n"
   ]
  },
  {
   "cell_type": "code",
   "execution_count": 66,
   "id": "d79b8da7",
   "metadata": {
    "scrolled": true
   },
   "outputs": [
    {
     "name": "stdout",
     "output_type": "stream",
     "text": [
      "Epoch 1/200\n",
      "4/4 - 1s - loss: 3.1239 - accuracy: 0.1468 - root_mean_squared_error: 2.6454 - val_loss: 1.7444 - val_accuracy: 0.4182 - val_root_mean_squared_error: 2.6011 - 767ms/epoch - 192ms/step\n",
      "Epoch 2/200\n",
      "4/4 - 0s - loss: 1.5046 - accuracy: 0.4128 - root_mean_squared_error: 2.6459 - val_loss: 1.2926 - val_accuracy: 0.4909 - val_root_mean_squared_error: 2.6017 - 35ms/epoch - 9ms/step\n",
      "Epoch 3/200\n",
      "4/4 - 0s - loss: 1.1458 - accuracy: 0.5321 - root_mean_squared_error: 2.6464 - val_loss: 1.1819 - val_accuracy: 0.4727 - val_root_mean_squared_error: 2.6020 - 33ms/epoch - 8ms/step\n",
      "Epoch 4/200\n",
      "4/4 - 0s - loss: 0.9846 - accuracy: 0.6330 - root_mean_squared_error: 2.6465 - val_loss: 1.0064 - val_accuracy: 0.5455 - val_root_mean_squared_error: 2.6019 - 32ms/epoch - 8ms/step\n",
      "Epoch 5/200\n",
      "4/4 - 0s - loss: 0.8540 - accuracy: 0.7064 - root_mean_squared_error: 2.6465 - val_loss: 0.9416 - val_accuracy: 0.5636 - val_root_mean_squared_error: 2.6021 - 31ms/epoch - 8ms/step\n",
      "Epoch 6/200\n",
      "4/4 - 0s - loss: 0.7824 - accuracy: 0.6239 - root_mean_squared_error: 2.6467 - val_loss: 0.9385 - val_accuracy: 0.5636 - val_root_mean_squared_error: 2.6023 - 31ms/epoch - 8ms/step\n",
      "Epoch 7/200\n",
      "4/4 - 0s - loss: 0.7346 - accuracy: 0.6789 - root_mean_squared_error: 2.6468 - val_loss: 0.9526 - val_accuracy: 0.4909 - val_root_mean_squared_error: 2.6023 - 31ms/epoch - 8ms/step\n",
      "Epoch 8/200\n",
      "4/4 - 0s - loss: 0.6993 - accuracy: 0.6881 - root_mean_squared_error: 2.6468 - val_loss: 0.9436 - val_accuracy: 0.5273 - val_root_mean_squared_error: 2.6024 - 31ms/epoch - 8ms/step\n",
      "Epoch 9/200\n",
      "4/4 - 0s - loss: 0.6921 - accuracy: 0.6972 - root_mean_squared_error: 2.6469 - val_loss: 0.9515 - val_accuracy: 0.6000 - val_root_mean_squared_error: 2.6024 - 31ms/epoch - 8ms/step\n",
      "Epoch 10/200\n",
      "4/4 - 0s - loss: 0.6575 - accuracy: 0.6881 - root_mean_squared_error: 2.6469 - val_loss: 0.9011 - val_accuracy: 0.6364 - val_root_mean_squared_error: 2.6025 - 27ms/epoch - 7ms/step\n",
      "Epoch 11/200\n",
      "4/4 - 0s - loss: 0.6574 - accuracy: 0.6881 - root_mean_squared_error: 2.6470 - val_loss: 0.9223 - val_accuracy: 0.6000 - val_root_mean_squared_error: 2.6025 - 28ms/epoch - 7ms/step\n",
      "Epoch 12/200\n",
      "4/4 - 0s - loss: 0.6340 - accuracy: 0.6789 - root_mean_squared_error: 2.6470 - val_loss: 0.9179 - val_accuracy: 0.6000 - val_root_mean_squared_error: 2.6025 - 27ms/epoch - 7ms/step\n",
      "Epoch 13/200\n",
      "4/4 - 0s - loss: 0.6221 - accuracy: 0.6972 - root_mean_squared_error: 2.6469 - val_loss: 0.9240 - val_accuracy: 0.5455 - val_root_mean_squared_error: 2.6025 - 27ms/epoch - 7ms/step\n",
      "Epoch 14/200\n",
      "4/4 - 0s - loss: 0.6156 - accuracy: 0.7064 - root_mean_squared_error: 2.6470 - val_loss: 0.9717 - val_accuracy: 0.5455 - val_root_mean_squared_error: 2.6027 - 27ms/epoch - 7ms/step\n",
      "Epoch 15/200\n",
      "4/4 - 0s - loss: 0.5904 - accuracy: 0.7156 - root_mean_squared_error: 2.6471 - val_loss: 0.9128 - val_accuracy: 0.5818 - val_root_mean_squared_error: 2.6027 - 28ms/epoch - 7ms/step\n",
      "Epoch 16/200\n",
      "4/4 - 0s - loss: 0.5771 - accuracy: 0.7339 - root_mean_squared_error: 2.6471 - val_loss: 0.8667 - val_accuracy: 0.5636 - val_root_mean_squared_error: 2.6026 - 29ms/epoch - 7ms/step\n",
      "Epoch 17/200\n",
      "4/4 - 0s - loss: 0.6008 - accuracy: 0.7156 - root_mean_squared_error: 2.6470 - val_loss: 1.0216 - val_accuracy: 0.5455 - val_root_mean_squared_error: 2.6028 - 28ms/epoch - 7ms/step\n",
      "Epoch 18/200\n",
      "4/4 - 0s - loss: 0.6997 - accuracy: 0.7431 - root_mean_squared_error: 2.6472 - val_loss: 1.1029 - val_accuracy: 0.5091 - val_root_mean_squared_error: 2.6028 - 32ms/epoch - 8ms/step\n",
      "Epoch 19/200\n",
      "4/4 - 0s - loss: 0.5837 - accuracy: 0.7431 - root_mean_squared_error: 2.6471 - val_loss: 0.9244 - val_accuracy: 0.5636 - val_root_mean_squared_error: 2.6025 - 33ms/epoch - 8ms/step\n",
      "Epoch 20/200\n",
      "4/4 - 0s - loss: 0.5923 - accuracy: 0.7431 - root_mean_squared_error: 2.6469 - val_loss: 0.8962 - val_accuracy: 0.6364 - val_root_mean_squared_error: 2.6025 - 32ms/epoch - 8ms/step\n",
      "Epoch 21/200\n",
      "4/4 - 0s - loss: 0.5739 - accuracy: 0.7339 - root_mean_squared_error: 2.6470 - val_loss: 0.9591 - val_accuracy: 0.5455 - val_root_mean_squared_error: 2.6026 - 32ms/epoch - 8ms/step\n",
      "Epoch 22/200\n",
      "4/4 - 0s - loss: 0.5744 - accuracy: 0.7431 - root_mean_squared_error: 2.6471 - val_loss: 0.9561 - val_accuracy: 0.5636 - val_root_mean_squared_error: 2.6026 - 34ms/epoch - 8ms/step\n",
      "Epoch 23/200\n",
      "4/4 - 0s - loss: 0.5429 - accuracy: 0.7339 - root_mean_squared_error: 2.6472 - val_loss: 0.9073 - val_accuracy: 0.5818 - val_root_mean_squared_error: 2.6026 - 32ms/epoch - 8ms/step\n",
      "Epoch 24/200\n",
      "4/4 - 0s - loss: 0.5426 - accuracy: 0.7431 - root_mean_squared_error: 2.6471 - val_loss: 0.9459 - val_accuracy: 0.5636 - val_root_mean_squared_error: 2.6027 - 31ms/epoch - 8ms/step\n",
      "Epoch 25/200\n",
      "4/4 - 0s - loss: 0.5324 - accuracy: 0.6789 - root_mean_squared_error: 2.6471 - val_loss: 0.9561 - val_accuracy: 0.6000 - val_root_mean_squared_error: 2.6028 - 29ms/epoch - 7ms/step\n",
      "Epoch 26/200\n",
      "4/4 - 0s - loss: 0.5437 - accuracy: 0.7431 - root_mean_squared_error: 2.6472 - val_loss: 1.0201 - val_accuracy: 0.5455 - val_root_mean_squared_error: 2.6028 - 29ms/epoch - 7ms/step\n",
      "Epoch 27/200\n",
      "4/4 - 0s - loss: 0.5099 - accuracy: 0.7431 - root_mean_squared_error: 2.6472 - val_loss: 0.9775 - val_accuracy: 0.5273 - val_root_mean_squared_error: 2.6028 - 28ms/epoch - 7ms/step\n",
      "Epoch 28/200\n",
      "4/4 - 0s - loss: 0.4835 - accuracy: 0.7706 - root_mean_squared_error: 2.6472 - val_loss: 0.9685 - val_accuracy: 0.5455 - val_root_mean_squared_error: 2.6028 - 29ms/epoch - 7ms/step\n",
      "Epoch 29/200\n",
      "4/4 - 0s - loss: 0.5045 - accuracy: 0.7615 - root_mean_squared_error: 2.6472 - val_loss: 0.9704 - val_accuracy: 0.5636 - val_root_mean_squared_error: 2.6028 - 28ms/epoch - 7ms/step\n",
      "Epoch 30/200\n",
      "4/4 - 0s - loss: 0.4722 - accuracy: 0.7890 - root_mean_squared_error: 2.6472 - val_loss: 0.9438 - val_accuracy: 0.5455 - val_root_mean_squared_error: 2.6028 - 28ms/epoch - 7ms/step\n",
      "Epoch 31/200\n",
      "4/4 - 0s - loss: 0.4660 - accuracy: 0.8073 - root_mean_squared_error: 2.6472 - val_loss: 1.0445 - val_accuracy: 0.5455 - val_root_mean_squared_error: 2.6029 - 28ms/epoch - 7ms/step\n",
      "Epoch 32/200\n",
      "4/4 - 0s - loss: 0.4710 - accuracy: 0.7706 - root_mean_squared_error: 2.6473 - val_loss: 1.0815 - val_accuracy: 0.5091 - val_root_mean_squared_error: 2.6029 - 28ms/epoch - 7ms/step\n",
      "Epoch 33/200\n",
      "4/4 - 0s - loss: 0.4602 - accuracy: 0.7523 - root_mean_squared_error: 2.6473 - val_loss: 1.0095 - val_accuracy: 0.5818 - val_root_mean_squared_error: 2.6028 - 29ms/epoch - 7ms/step\n",
      "Epoch 34/200\n",
      "4/4 - 0s - loss: 0.4506 - accuracy: 0.7982 - root_mean_squared_error: 2.6473 - val_loss: 1.0472 - val_accuracy: 0.6182 - val_root_mean_squared_error: 2.6029 - 29ms/epoch - 7ms/step\n",
      "Epoch 35/200\n",
      "4/4 - 0s - loss: 0.4428 - accuracy: 0.7798 - root_mean_squared_error: 2.6474 - val_loss: 1.0627 - val_accuracy: 0.5818 - val_root_mean_squared_error: 2.6029 - 28ms/epoch - 7ms/step\n",
      "Epoch 36/200\n",
      "4/4 - 0s - loss: 0.4750 - accuracy: 0.7706 - root_mean_squared_error: 2.6473 - val_loss: 1.0082 - val_accuracy: 0.5818 - val_root_mean_squared_error: 2.6028 - 29ms/epoch - 7ms/step\n",
      "Epoch 37/200\n",
      "4/4 - 0s - loss: 0.4615 - accuracy: 0.7706 - root_mean_squared_error: 2.6472 - val_loss: 1.0397 - val_accuracy: 0.6182 - val_root_mean_squared_error: 2.6028 - 28ms/epoch - 7ms/step\n",
      "Epoch 38/200\n",
      "4/4 - 0s - loss: 0.5085 - accuracy: 0.7615 - root_mean_squared_error: 2.6473 - val_loss: 1.1100 - val_accuracy: 0.5273 - val_root_mean_squared_error: 2.6029 - 28ms/epoch - 7ms/step\n",
      "Epoch 39/200\n",
      "4/4 - 0s - loss: 0.4837 - accuracy: 0.7431 - root_mean_squared_error: 2.6473 - val_loss: 1.1793 - val_accuracy: 0.5636 - val_root_mean_squared_error: 2.6029 - 32ms/epoch - 8ms/step\n",
      "Epoch 40/200\n",
      "4/4 - 0s - loss: 0.5016 - accuracy: 0.6972 - root_mean_squared_error: 2.6473 - val_loss: 1.0903 - val_accuracy: 0.5818 - val_root_mean_squared_error: 2.6029 - 32ms/epoch - 8ms/step\n",
      "Epoch 41/200\n",
      "4/4 - 0s - loss: 0.4744 - accuracy: 0.7615 - root_mean_squared_error: 2.6473 - val_loss: 1.0762 - val_accuracy: 0.6182 - val_root_mean_squared_error: 2.6029 - 32ms/epoch - 8ms/step\n",
      "Epoch 42/200\n",
      "4/4 - 0s - loss: 0.4634 - accuracy: 0.7982 - root_mean_squared_error: 2.6474 - val_loss: 1.0463 - val_accuracy: 0.5818 - val_root_mean_squared_error: 2.6029 - 33ms/epoch - 8ms/step\n",
      "Epoch 43/200\n",
      "4/4 - 0s - loss: 0.4354 - accuracy: 0.7982 - root_mean_squared_error: 2.6474 - val_loss: 1.1031 - val_accuracy: 0.5273 - val_root_mean_squared_error: 2.6029 - 35ms/epoch - 9ms/step\n"
     ]
    },
    {
     "name": "stdout",
     "output_type": "stream",
     "text": [
      "Epoch 44/200\n",
      "4/4 - 0s - loss: 0.4516 - accuracy: 0.7890 - root_mean_squared_error: 2.6473 - val_loss: 1.1101 - val_accuracy: 0.5273 - val_root_mean_squared_error: 2.6028 - 34ms/epoch - 8ms/step\n",
      "Epoch 45/200\n",
      "4/4 - 0s - loss: 0.4346 - accuracy: 0.8165 - root_mean_squared_error: 2.6473 - val_loss: 1.0700 - val_accuracy: 0.6000 - val_root_mean_squared_error: 2.6029 - 33ms/epoch - 8ms/step\n",
      "Epoch 46/200\n",
      "4/4 - 0s - loss: 0.4320 - accuracy: 0.8165 - root_mean_squared_error: 2.6473 - val_loss: 1.0849 - val_accuracy: 0.6000 - val_root_mean_squared_error: 2.6029 - 33ms/epoch - 8ms/step\n",
      "Epoch 47/200\n",
      "4/4 - 0s - loss: 0.4405 - accuracy: 0.7706 - root_mean_squared_error: 2.6473 - val_loss: 1.1553 - val_accuracy: 0.5273 - val_root_mean_squared_error: 2.6030 - 32ms/epoch - 8ms/step\n",
      "Epoch 48/200\n",
      "4/4 - 0s - loss: 0.4218 - accuracy: 0.7890 - root_mean_squared_error: 2.6474 - val_loss: 1.1359 - val_accuracy: 0.5818 - val_root_mean_squared_error: 2.6030 - 34ms/epoch - 8ms/step\n",
      "Epoch 49/200\n",
      "4/4 - 0s - loss: 0.4228 - accuracy: 0.7982 - root_mean_squared_error: 2.6474 - val_loss: 1.1131 - val_accuracy: 0.6000 - val_root_mean_squared_error: 2.6030 - 29ms/epoch - 7ms/step\n",
      "Epoch 50/200\n",
      "4/4 - 0s - loss: 0.4160 - accuracy: 0.7615 - root_mean_squared_error: 2.6474 - val_loss: 1.1731 - val_accuracy: 0.5636 - val_root_mean_squared_error: 2.6030 - 29ms/epoch - 7ms/step\n",
      "Epoch 51/200\n",
      "4/4 - 0s - loss: 0.4173 - accuracy: 0.7615 - root_mean_squared_error: 2.6474 - val_loss: 1.1398 - val_accuracy: 0.5818 - val_root_mean_squared_error: 2.6029 - 29ms/epoch - 7ms/step\n",
      "Epoch 52/200\n",
      "4/4 - 0s - loss: 0.4289 - accuracy: 0.7890 - root_mean_squared_error: 2.6474 - val_loss: 1.2358 - val_accuracy: 0.5636 - val_root_mean_squared_error: 2.6030 - 29ms/epoch - 7ms/step\n",
      "Epoch 53/200\n",
      "4/4 - 0s - loss: 0.4107 - accuracy: 0.7982 - root_mean_squared_error: 2.6474 - val_loss: 1.1425 - val_accuracy: 0.5636 - val_root_mean_squared_error: 2.6030 - 28ms/epoch - 7ms/step\n",
      "Epoch 54/200\n",
      "4/4 - 0s - loss: 0.4246 - accuracy: 0.7523 - root_mean_squared_error: 2.6474 - val_loss: 1.1508 - val_accuracy: 0.6182 - val_root_mean_squared_error: 2.6030 - 28ms/epoch - 7ms/step\n",
      "Epoch 55/200\n",
      "4/4 - 0s - loss: 0.4119 - accuracy: 0.7706 - root_mean_squared_error: 2.6475 - val_loss: 1.1630 - val_accuracy: 0.5273 - val_root_mean_squared_error: 2.6030 - 28ms/epoch - 7ms/step\n",
      "Epoch 56/200\n",
      "4/4 - 0s - loss: 0.4076 - accuracy: 0.8073 - root_mean_squared_error: 2.6474 - val_loss: 1.2579 - val_accuracy: 0.5273 - val_root_mean_squared_error: 2.6031 - 28ms/epoch - 7ms/step\n",
      "Epoch 57/200\n",
      "4/4 - 0s - loss: 0.4125 - accuracy: 0.8257 - root_mean_squared_error: 2.6474 - val_loss: 1.3192 - val_accuracy: 0.5091 - val_root_mean_squared_error: 2.6030 - 28ms/epoch - 7ms/step\n",
      "Epoch 58/200\n",
      "4/4 - 0s - loss: 0.4273 - accuracy: 0.8257 - root_mean_squared_error: 2.6475 - val_loss: 1.2809 - val_accuracy: 0.5636 - val_root_mean_squared_error: 2.6031 - 28ms/epoch - 7ms/step\n",
      "Epoch 59/200\n",
      "4/4 - 0s - loss: 0.4223 - accuracy: 0.7615 - root_mean_squared_error: 2.6475 - val_loss: 1.1374 - val_accuracy: 0.6182 - val_root_mean_squared_error: 2.6030 - 28ms/epoch - 7ms/step\n",
      "Epoch 60/200\n",
      "4/4 - 0s - loss: 0.3961 - accuracy: 0.7706 - root_mean_squared_error: 2.6475 - val_loss: 1.2172 - val_accuracy: 0.6000 - val_root_mean_squared_error: 2.6030 - 27ms/epoch - 7ms/step\n",
      "Epoch 61/200\n",
      "4/4 - 0s - loss: 0.3958 - accuracy: 0.7890 - root_mean_squared_error: 2.6475 - val_loss: 1.2468 - val_accuracy: 0.6000 - val_root_mean_squared_error: 2.6031 - 29ms/epoch - 7ms/step\n",
      "Epoch 62/200\n",
      "4/4 - 0s - loss: 0.4184 - accuracy: 0.8073 - root_mean_squared_error: 2.6476 - val_loss: 1.1794 - val_accuracy: 0.6182 - val_root_mean_squared_error: 2.6031 - 28ms/epoch - 7ms/step\n",
      "Epoch 63/200\n",
      "4/4 - 0s - loss: 0.3895 - accuracy: 0.7523 - root_mean_squared_error: 2.6476 - val_loss: 1.1361 - val_accuracy: 0.6545 - val_root_mean_squared_error: 2.6031 - 27ms/epoch - 7ms/step\n",
      "Epoch 64/200\n",
      "4/4 - 0s - loss: 0.3591 - accuracy: 0.8532 - root_mean_squared_error: 2.6475 - val_loss: 1.2190 - val_accuracy: 0.6000 - val_root_mean_squared_error: 2.6031 - 28ms/epoch - 7ms/step\n",
      "Epoch 65/200\n",
      "4/4 - 0s - loss: 0.3719 - accuracy: 0.8257 - root_mean_squared_error: 2.6475 - val_loss: 1.1828 - val_accuracy: 0.6182 - val_root_mean_squared_error: 2.6031 - 29ms/epoch - 7ms/step\n",
      "Epoch 66/200\n",
      "4/4 - 0s - loss: 0.3774 - accuracy: 0.8165 - root_mean_squared_error: 2.6476 - val_loss: 1.2232 - val_accuracy: 0.5455 - val_root_mean_squared_error: 2.6031 - 28ms/epoch - 7ms/step\n",
      "Epoch 67/200\n",
      "4/4 - 0s - loss: 0.3927 - accuracy: 0.8349 - root_mean_squared_error: 2.6476 - val_loss: 1.2433 - val_accuracy: 0.5818 - val_root_mean_squared_error: 2.6031 - 28ms/epoch - 7ms/step\n",
      "Epoch 68/200\n",
      "4/4 - 0s - loss: 0.3813 - accuracy: 0.8165 - root_mean_squared_error: 2.6475 - val_loss: 1.2786 - val_accuracy: 0.5818 - val_root_mean_squared_error: 2.6031 - 29ms/epoch - 7ms/step\n",
      "Epoch 69/200\n",
      "4/4 - 0s - loss: 0.3854 - accuracy: 0.8073 - root_mean_squared_error: 2.6475 - val_loss: 1.2023 - val_accuracy: 0.5818 - val_root_mean_squared_error: 2.6030 - 30ms/epoch - 8ms/step\n",
      "Epoch 70/200\n",
      "4/4 - 0s - loss: 0.3641 - accuracy: 0.8165 - root_mean_squared_error: 2.6475 - val_loss: 1.1912 - val_accuracy: 0.5818 - val_root_mean_squared_error: 2.6030 - 33ms/epoch - 8ms/step\n",
      "Epoch 71/200\n",
      "4/4 - 0s - loss: 0.3437 - accuracy: 0.8440 - root_mean_squared_error: 2.6475 - val_loss: 1.2591 - val_accuracy: 0.5636 - val_root_mean_squared_error: 2.6031 - 33ms/epoch - 8ms/step\n",
      "Epoch 72/200\n",
      "4/4 - 0s - loss: 0.3456 - accuracy: 0.8073 - root_mean_squared_error: 2.6476 - val_loss: 1.3561 - val_accuracy: 0.5818 - val_root_mean_squared_error: 2.6031 - 34ms/epoch - 8ms/step\n",
      "Epoch 73/200\n",
      "4/4 - 0s - loss: 0.3679 - accuracy: 0.8165 - root_mean_squared_error: 2.6475 - val_loss: 1.3073 - val_accuracy: 0.5818 - val_root_mean_squared_error: 2.6031 - 33ms/epoch - 8ms/step\n",
      "Epoch 74/200\n",
      "4/4 - 0s - loss: 0.3456 - accuracy: 0.8165 - root_mean_squared_error: 2.6475 - val_loss: 1.2632 - val_accuracy: 0.6000 - val_root_mean_squared_error: 2.6031 - 32ms/epoch - 8ms/step\n",
      "Epoch 75/200\n",
      "4/4 - 0s - loss: 0.3756 - accuracy: 0.7890 - root_mean_squared_error: 2.6476 - val_loss: 1.2532 - val_accuracy: 0.6000 - val_root_mean_squared_error: 2.6031 - 33ms/epoch - 8ms/step\n",
      "Epoch 76/200\n",
      "4/4 - 0s - loss: 0.3765 - accuracy: 0.7706 - root_mean_squared_error: 2.6476 - val_loss: 1.2431 - val_accuracy: 0.6000 - val_root_mean_squared_error: 2.6031 - 31ms/epoch - 8ms/step\n",
      "Epoch 77/200\n",
      "4/4 - 0s - loss: 0.3561 - accuracy: 0.8165 - root_mean_squared_error: 2.6475 - val_loss: 1.1896 - val_accuracy: 0.6000 - val_root_mean_squared_error: 2.6030 - 29ms/epoch - 7ms/step\n",
      "Epoch 78/200\n",
      "4/4 - 0s - loss: 0.3520 - accuracy: 0.8440 - root_mean_squared_error: 2.6475 - val_loss: 1.1847 - val_accuracy: 0.6000 - val_root_mean_squared_error: 2.6031 - 28ms/epoch - 7ms/step\n",
      "Epoch 79/200\n",
      "4/4 - 0s - loss: 0.3587 - accuracy: 0.7890 - root_mean_squared_error: 2.6476 - val_loss: 1.1895 - val_accuracy: 0.6364 - val_root_mean_squared_error: 2.6031 - 29ms/epoch - 7ms/step\n",
      "Epoch 80/200\n",
      "4/4 - 0s - loss: 0.3332 - accuracy: 0.8073 - root_mean_squared_error: 2.6476 - val_loss: 1.2716 - val_accuracy: 0.6182 - val_root_mean_squared_error: 2.6031 - 30ms/epoch - 7ms/step\n",
      "Epoch 81/200\n",
      "4/4 - 0s - loss: 0.3888 - accuracy: 0.7982 - root_mean_squared_error: 2.6475 - val_loss: 1.2728 - val_accuracy: 0.5636 - val_root_mean_squared_error: 2.6031 - 29ms/epoch - 7ms/step\n",
      "Epoch 82/200\n",
      "4/4 - 0s - loss: 0.3477 - accuracy: 0.8165 - root_mean_squared_error: 2.6476 - val_loss: 1.2695 - val_accuracy: 0.6364 - val_root_mean_squared_error: 2.6032 - 31ms/epoch - 8ms/step\n",
      "Epoch 83/200\n",
      "4/4 - 0s - loss: 0.3665 - accuracy: 0.8349 - root_mean_squared_error: 2.6476 - val_loss: 1.2441 - val_accuracy: 0.6000 - val_root_mean_squared_error: 2.6031 - 33ms/epoch - 8ms/step\n",
      "Epoch 84/200\n",
      "4/4 - 0s - loss: 0.3627 - accuracy: 0.8349 - root_mean_squared_error: 2.6476 - val_loss: 1.2990 - val_accuracy: 0.5818 - val_root_mean_squared_error: 2.6032 - 32ms/epoch - 8ms/step\n",
      "Epoch 85/200\n",
      "4/4 - 0s - loss: 0.3520 - accuracy: 0.8349 - root_mean_squared_error: 2.6477 - val_loss: 1.1892 - val_accuracy: 0.6364 - val_root_mean_squared_error: 2.6031 - 34ms/epoch - 8ms/step\n",
      "Epoch 86/200\n",
      "4/4 - 0s - loss: 0.3281 - accuracy: 0.8440 - root_mean_squared_error: 2.6476 - val_loss: 1.2333 - val_accuracy: 0.6000 - val_root_mean_squared_error: 2.6032 - 32ms/epoch - 8ms/step\n"
     ]
    },
    {
     "name": "stdout",
     "output_type": "stream",
     "text": [
      "Epoch 87/200\n",
      "4/4 - 0s - loss: 0.3412 - accuracy: 0.8165 - root_mean_squared_error: 2.6477 - val_loss: 1.2884 - val_accuracy: 0.5818 - val_root_mean_squared_error: 2.6032 - 33ms/epoch - 8ms/step\n",
      "Epoch 88/200\n",
      "4/4 - 0s - loss: 0.3321 - accuracy: 0.8257 - root_mean_squared_error: 2.6477 - val_loss: 1.1834 - val_accuracy: 0.6000 - val_root_mean_squared_error: 2.6031 - 33ms/epoch - 8ms/step\n",
      "Epoch 89/200\n",
      "4/4 - 0s - loss: 0.3422 - accuracy: 0.8349 - root_mean_squared_error: 2.6476 - val_loss: 1.2716 - val_accuracy: 0.6182 - val_root_mean_squared_error: 2.6032 - 32ms/epoch - 8ms/step\n",
      "Epoch 90/200\n",
      "4/4 - 0s - loss: 0.3063 - accuracy: 0.8899 - root_mean_squared_error: 2.6477 - val_loss: 1.2811 - val_accuracy: 0.6364 - val_root_mean_squared_error: 2.6032 - 29ms/epoch - 7ms/step\n",
      "Epoch 91/200\n",
      "4/4 - 0s - loss: 0.3323 - accuracy: 0.8349 - root_mean_squared_error: 2.6477 - val_loss: 1.3335 - val_accuracy: 0.6000 - val_root_mean_squared_error: 2.6032 - 28ms/epoch - 7ms/step\n",
      "Epoch 92/200\n",
      "4/4 - 0s - loss: 0.3393 - accuracy: 0.8257 - root_mean_squared_error: 2.6477 - val_loss: 1.3812 - val_accuracy: 0.5818 - val_root_mean_squared_error: 2.6031 - 29ms/epoch - 7ms/step\n",
      "Epoch 93/200\n",
      "4/4 - 0s - loss: 0.3448 - accuracy: 0.8073 - root_mean_squared_error: 2.6476 - val_loss: 1.2559 - val_accuracy: 0.5636 - val_root_mean_squared_error: 2.6031 - 28ms/epoch - 7ms/step\n",
      "Epoch 94/200\n",
      "4/4 - 0s - loss: 0.3430 - accuracy: 0.7982 - root_mean_squared_error: 2.6476 - val_loss: 1.2947 - val_accuracy: 0.6364 - val_root_mean_squared_error: 2.6032 - 29ms/epoch - 7ms/step\n",
      "Epoch 95/200\n",
      "4/4 - 0s - loss: 0.3270 - accuracy: 0.8073 - root_mean_squared_error: 2.6477 - val_loss: 1.3099 - val_accuracy: 0.6364 - val_root_mean_squared_error: 2.6032 - 27ms/epoch - 7ms/step\n",
      "Epoch 96/200\n",
      "4/4 - 0s - loss: 0.3095 - accuracy: 0.7982 - root_mean_squared_error: 2.6477 - val_loss: 1.3790 - val_accuracy: 0.6364 - val_root_mean_squared_error: 2.6033 - 28ms/epoch - 7ms/step\n",
      "Epoch 97/200\n",
      "4/4 - 0s - loss: 0.3081 - accuracy: 0.8440 - root_mean_squared_error: 2.6478 - val_loss: 1.3225 - val_accuracy: 0.6545 - val_root_mean_squared_error: 2.6032 - 28ms/epoch - 7ms/step\n",
      "Epoch 98/200\n",
      "4/4 - 0s - loss: 0.2709 - accuracy: 0.8624 - root_mean_squared_error: 2.6478 - val_loss: 1.3573 - val_accuracy: 0.6182 - val_root_mean_squared_error: 2.6032 - 28ms/epoch - 7ms/step\n",
      "Epoch 99/200\n",
      "4/4 - 0s - loss: 0.2784 - accuracy: 0.8716 - root_mean_squared_error: 2.6477 - val_loss: 1.3619 - val_accuracy: 0.6182 - val_root_mean_squared_error: 2.6032 - 31ms/epoch - 8ms/step\n",
      "Epoch 100/200\n",
      "4/4 - 0s - loss: 0.2950 - accuracy: 0.8624 - root_mean_squared_error: 2.6478 - val_loss: 1.3774 - val_accuracy: 0.6182 - val_root_mean_squared_error: 2.6033 - 33ms/epoch - 8ms/step\n",
      "Epoch 101/200\n",
      "4/4 - 0s - loss: 0.3463 - accuracy: 0.8716 - root_mean_squared_error: 2.6478 - val_loss: 1.3659 - val_accuracy: 0.6000 - val_root_mean_squared_error: 2.6031 - 33ms/epoch - 8ms/step\n",
      "Epoch 102/200\n",
      "4/4 - 0s - loss: 0.4314 - accuracy: 0.8257 - root_mean_squared_error: 2.6477 - val_loss: 1.2105 - val_accuracy: 0.6364 - val_root_mean_squared_error: 2.6031 - 33ms/epoch - 8ms/step\n",
      "Epoch 103/200\n",
      "4/4 - 0s - loss: 0.3781 - accuracy: 0.8165 - root_mean_squared_error: 2.6475 - val_loss: 1.2213 - val_accuracy: 0.6364 - val_root_mean_squared_error: 2.6030 - 33ms/epoch - 8ms/step\n",
      "Epoch 104/200\n",
      "4/4 - 0s - loss: 0.3777 - accuracy: 0.7982 - root_mean_squared_error: 2.6475 - val_loss: 1.1352 - val_accuracy: 0.6182 - val_root_mean_squared_error: 2.6031 - 32ms/epoch - 8ms/step\n",
      "Epoch 105/200\n",
      "4/4 - 0s - loss: 0.4053 - accuracy: 0.7890 - root_mean_squared_error: 2.6476 - val_loss: 1.2373 - val_accuracy: 0.6000 - val_root_mean_squared_error: 2.6031 - 33ms/epoch - 8ms/step\n",
      "Epoch 106/200\n",
      "4/4 - 0s - loss: 0.4238 - accuracy: 0.7982 - root_mean_squared_error: 2.6476 - val_loss: 1.3531 - val_accuracy: 0.5818 - val_root_mean_squared_error: 2.6032 - 33ms/epoch - 8ms/step\n",
      "Epoch 107/200\n",
      "4/4 - 0s - loss: 0.4794 - accuracy: 0.7890 - root_mean_squared_error: 2.6476 - val_loss: 1.4434 - val_accuracy: 0.5636 - val_root_mean_squared_error: 2.6031 - 32ms/epoch - 8ms/step\n",
      "Epoch 108/200\n",
      "4/4 - 0s - loss: 0.4719 - accuracy: 0.7615 - root_mean_squared_error: 2.6476 - val_loss: 1.3832 - val_accuracy: 0.6000 - val_root_mean_squared_error: 2.6031 - 33ms/epoch - 8ms/step\n",
      "Epoch 109/200\n",
      "4/4 - 0s - loss: 0.5863 - accuracy: 0.6972 - root_mean_squared_error: 2.6475 - val_loss: 1.3380 - val_accuracy: 0.6182 - val_root_mean_squared_error: 2.6031 - 33ms/epoch - 8ms/step\n",
      "Epoch 110/200\n",
      "4/4 - 0s - loss: 0.4209 - accuracy: 0.7982 - root_mean_squared_error: 2.6475 - val_loss: 1.3005 - val_accuracy: 0.6182 - val_root_mean_squared_error: 2.6031 - 33ms/epoch - 8ms/step\n",
      "Epoch 111/200\n",
      "4/4 - 0s - loss: 0.4151 - accuracy: 0.7890 - root_mean_squared_error: 2.6476 - val_loss: 1.2658 - val_accuracy: 0.6000 - val_root_mean_squared_error: 2.6032 - 34ms/epoch - 8ms/step\n",
      "Epoch 112/200\n",
      "4/4 - 0s - loss: 0.4261 - accuracy: 0.7982 - root_mean_squared_error: 2.6476 - val_loss: 1.2672 - val_accuracy: 0.6182 - val_root_mean_squared_error: 2.6032 - 30ms/epoch - 8ms/step\n",
      "Epoch 113/200\n",
      "4/4 - 0s - loss: 0.3746 - accuracy: 0.8349 - root_mean_squared_error: 2.6475 - val_loss: 1.1880 - val_accuracy: 0.6545 - val_root_mean_squared_error: 2.6031 - 29ms/epoch - 7ms/step\n",
      "Epoch 114/200\n",
      "4/4 - 0s - loss: 0.3854 - accuracy: 0.7706 - root_mean_squared_error: 2.6475 - val_loss: 1.1854 - val_accuracy: 0.6182 - val_root_mean_squared_error: 2.6032 - 28ms/epoch - 7ms/step\n",
      "Epoch 115/200\n",
      "4/4 - 0s - loss: 0.3570 - accuracy: 0.8073 - root_mean_squared_error: 2.6476 - val_loss: 1.1948 - val_accuracy: 0.6364 - val_root_mean_squared_error: 2.6032 - 28ms/epoch - 7ms/step\n",
      "Epoch 116/200\n",
      "4/4 - 0s - loss: 0.3548 - accuracy: 0.7890 - root_mean_squared_error: 2.6476 - val_loss: 1.1851 - val_accuracy: 0.6182 - val_root_mean_squared_error: 2.6031 - 28ms/epoch - 7ms/step\n",
      "Epoch 117/200\n",
      "4/4 - 0s - loss: 0.3311 - accuracy: 0.8440 - root_mean_squared_error: 2.6476 - val_loss: 1.3253 - val_accuracy: 0.6000 - val_root_mean_squared_error: 2.6032 - 29ms/epoch - 7ms/step\n",
      "Epoch 118/200\n",
      "4/4 - 0s - loss: 0.3421 - accuracy: 0.8532 - root_mean_squared_error: 2.6477 - val_loss: 1.2398 - val_accuracy: 0.6182 - val_root_mean_squared_error: 2.6032 - 28ms/epoch - 7ms/step\n",
      "Epoch 119/200\n",
      "4/4 - 0s - loss: 0.3578 - accuracy: 0.8440 - root_mean_squared_error: 2.6477 - val_loss: 1.1638 - val_accuracy: 0.6545 - val_root_mean_squared_error: 2.6031 - 28ms/epoch - 7ms/step\n",
      "Epoch 120/200\n",
      "4/4 - 0s - loss: 0.3382 - accuracy: 0.8257 - root_mean_squared_error: 2.6476 - val_loss: 1.2255 - val_accuracy: 0.6000 - val_root_mean_squared_error: 2.6031 - 27ms/epoch - 7ms/step\n",
      "Epoch 121/200\n",
      "4/4 - 0s - loss: 0.3197 - accuracy: 0.8073 - root_mean_squared_error: 2.6476 - val_loss: 1.2640 - val_accuracy: 0.6000 - val_root_mean_squared_error: 2.6031 - 30ms/epoch - 7ms/step\n",
      "Epoch 122/200\n",
      "4/4 - 0s - loss: 0.3281 - accuracy: 0.8257 - root_mean_squared_error: 2.6476 - val_loss: 1.2724 - val_accuracy: 0.6545 - val_root_mean_squared_error: 2.6031 - 30ms/epoch - 7ms/step\n",
      "Epoch 123/200\n",
      "4/4 - 0s - loss: 0.3097 - accuracy: 0.7982 - root_mean_squared_error: 2.6476 - val_loss: 1.2950 - val_accuracy: 0.6909 - val_root_mean_squared_error: 2.6031 - 27ms/epoch - 7ms/step\n",
      "Epoch 124/200\n",
      "4/4 - 0s - loss: 0.3275 - accuracy: 0.8257 - root_mean_squared_error: 2.6476 - val_loss: 1.4687 - val_accuracy: 0.5818 - val_root_mean_squared_error: 2.6032 - 27ms/epoch - 7ms/step\n",
      "Epoch 125/200\n",
      "4/4 - 0s - loss: 0.3593 - accuracy: 0.8165 - root_mean_squared_error: 2.6477 - val_loss: 1.3281 - val_accuracy: 0.5818 - val_root_mean_squared_error: 2.6031 - 29ms/epoch - 7ms/step\n",
      "Epoch 126/200\n",
      "4/4 - 0s - loss: 0.3003 - accuracy: 0.8349 - root_mean_squared_error: 2.6476 - val_loss: 1.2954 - val_accuracy: 0.6182 - val_root_mean_squared_error: 2.6031 - 32ms/epoch - 8ms/step\n",
      "Epoch 127/200\n",
      "4/4 - 0s - loss: 0.3086 - accuracy: 0.8257 - root_mean_squared_error: 2.6476 - val_loss: 1.2927 - val_accuracy: 0.6545 - val_root_mean_squared_error: 2.6031 - 31ms/epoch - 8ms/step\n",
      "Epoch 128/200\n",
      "4/4 - 0s - loss: 0.3057 - accuracy: 0.8349 - root_mean_squared_error: 2.6476 - val_loss: 1.3189 - val_accuracy: 0.6182 - val_root_mean_squared_error: 2.6031 - 33ms/epoch - 8ms/step\n",
      "Epoch 129/200\n",
      "4/4 - 0s - loss: 0.2924 - accuracy: 0.8349 - root_mean_squared_error: 2.6476 - val_loss: 1.3510 - val_accuracy: 0.6182 - val_root_mean_squared_error: 2.6032 - 33ms/epoch - 8ms/step\n"
     ]
    },
    {
     "name": "stdout",
     "output_type": "stream",
     "text": [
      "Epoch 130/200\n",
      "4/4 - 0s - loss: 0.3085 - accuracy: 0.8349 - root_mean_squared_error: 2.6477 - val_loss: 1.3926 - val_accuracy: 0.6000 - val_root_mean_squared_error: 2.6032 - 33ms/epoch - 8ms/step\n",
      "Epoch 131/200\n",
      "4/4 - 0s - loss: 0.3044 - accuracy: 0.8440 - root_mean_squared_error: 2.6477 - val_loss: 1.3599 - val_accuracy: 0.6000 - val_root_mean_squared_error: 2.6032 - 34ms/epoch - 9ms/step\n",
      "Epoch 132/200\n",
      "4/4 - 0s - loss: 0.3007 - accuracy: 0.8440 - root_mean_squared_error: 2.6477 - val_loss: 1.3566 - val_accuracy: 0.6000 - val_root_mean_squared_error: 2.6031 - 35ms/epoch - 9ms/step\n",
      "Epoch 133/200\n",
      "4/4 - 0s - loss: 0.3034 - accuracy: 0.8440 - root_mean_squared_error: 2.6477 - val_loss: 1.3734 - val_accuracy: 0.6364 - val_root_mean_squared_error: 2.6031 - 31ms/epoch - 8ms/step\n",
      "Epoch 134/200\n",
      "4/4 - 0s - loss: 0.3340 - accuracy: 0.8440 - root_mean_squared_error: 2.6476 - val_loss: 1.3614 - val_accuracy: 0.6182 - val_root_mean_squared_error: 2.6031 - 28ms/epoch - 7ms/step\n",
      "Epoch 135/200\n",
      "4/4 - 0s - loss: 0.3200 - accuracy: 0.8440 - root_mean_squared_error: 2.6476 - val_loss: 1.3392 - val_accuracy: 0.6182 - val_root_mean_squared_error: 2.6031 - 27ms/epoch - 7ms/step\n",
      "Epoch 136/200\n",
      "4/4 - 0s - loss: 0.2983 - accuracy: 0.8624 - root_mean_squared_error: 2.6476 - val_loss: 1.3354 - val_accuracy: 0.6364 - val_root_mean_squared_error: 2.6031 - 28ms/epoch - 7ms/step\n",
      "Epoch 137/200\n",
      "4/4 - 0s - loss: 0.3015 - accuracy: 0.8257 - root_mean_squared_error: 2.6477 - val_loss: 1.3886 - val_accuracy: 0.6182 - val_root_mean_squared_error: 2.6032 - 28ms/epoch - 7ms/step\n",
      "Epoch 138/200\n",
      "4/4 - 0s - loss: 0.2998 - accuracy: 0.8349 - root_mean_squared_error: 2.6477 - val_loss: 1.2507 - val_accuracy: 0.6182 - val_root_mean_squared_error: 2.6031 - 28ms/epoch - 7ms/step\n",
      "Epoch 139/200\n",
      "4/4 - 0s - loss: 0.3042 - accuracy: 0.8440 - root_mean_squared_error: 2.6476 - val_loss: 1.2956 - val_accuracy: 0.6182 - val_root_mean_squared_error: 2.6031 - 28ms/epoch - 7ms/step\n",
      "Epoch 140/200\n",
      "4/4 - 0s - loss: 0.3117 - accuracy: 0.8257 - root_mean_squared_error: 2.6476 - val_loss: 1.3690 - val_accuracy: 0.6000 - val_root_mean_squared_error: 2.6032 - 29ms/epoch - 7ms/step\n",
      "Epoch 141/200\n",
      "4/4 - 0s - loss: 0.2985 - accuracy: 0.7982 - root_mean_squared_error: 2.6476 - val_loss: 1.3332 - val_accuracy: 0.6182 - val_root_mean_squared_error: 2.6032 - 27ms/epoch - 7ms/step\n",
      "Epoch 142/200\n",
      "4/4 - 0s - loss: 0.2951 - accuracy: 0.8440 - root_mean_squared_error: 2.6476 - val_loss: 1.3430 - val_accuracy: 0.6182 - val_root_mean_squared_error: 2.6032 - 28ms/epoch - 7ms/step\n",
      "Epoch 143/200\n",
      "4/4 - 0s - loss: 0.2884 - accuracy: 0.8349 - root_mean_squared_error: 2.6477 - val_loss: 1.3908 - val_accuracy: 0.6182 - val_root_mean_squared_error: 2.6032 - 28ms/epoch - 7ms/step\n",
      "Epoch 144/200\n",
      "4/4 - 0s - loss: 0.3023 - accuracy: 0.8257 - root_mean_squared_error: 2.6477 - val_loss: 1.3218 - val_accuracy: 0.6000 - val_root_mean_squared_error: 2.6032 - 28ms/epoch - 7ms/step\n",
      "Epoch 145/200\n",
      "4/4 - 0s - loss: 0.3031 - accuracy: 0.7615 - root_mean_squared_error: 2.6476 - val_loss: 1.2851 - val_accuracy: 0.6000 - val_root_mean_squared_error: 2.6031 - 28ms/epoch - 7ms/step\n",
      "Epoch 146/200\n",
      "4/4 - 0s - loss: 0.3104 - accuracy: 0.7706 - root_mean_squared_error: 2.6476 - val_loss: 1.3074 - val_accuracy: 0.6000 - val_root_mean_squared_error: 2.6032 - 32ms/epoch - 8ms/step\n",
      "Epoch 147/200\n",
      "4/4 - 0s - loss: 0.2826 - accuracy: 0.8532 - root_mean_squared_error: 2.6477 - val_loss: 1.4198 - val_accuracy: 0.6000 - val_root_mean_squared_error: 2.6032 - 33ms/epoch - 8ms/step\n",
      "Epoch 148/200\n",
      "4/4 - 0s - loss: 0.2864 - accuracy: 0.8349 - root_mean_squared_error: 2.6477 - val_loss: 1.3593 - val_accuracy: 0.6000 - val_root_mean_squared_error: 2.6032 - 33ms/epoch - 8ms/step\n",
      "Epoch 149/200\n",
      "4/4 - 0s - loss: 0.2863 - accuracy: 0.8624 - root_mean_squared_error: 2.6477 - val_loss: 1.3916 - val_accuracy: 0.6364 - val_root_mean_squared_error: 2.6032 - 33ms/epoch - 8ms/step\n",
      "Epoch 150/200\n",
      "4/4 - 0s - loss: 0.2739 - accuracy: 0.8532 - root_mean_squared_error: 2.6477 - val_loss: 1.4080 - val_accuracy: 0.6727 - val_root_mean_squared_error: 2.6032 - 33ms/epoch - 8ms/step\n",
      "Epoch 151/200\n",
      "4/4 - 0s - loss: 0.3152 - accuracy: 0.8349 - root_mean_squared_error: 2.6477 - val_loss: 1.3939 - val_accuracy: 0.6182 - val_root_mean_squared_error: 2.6032 - 33ms/epoch - 8ms/step\n",
      "Epoch 152/200\n",
      "4/4 - 0s - loss: 0.3509 - accuracy: 0.8257 - root_mean_squared_error: 2.6477 - val_loss: 1.3783 - val_accuracy: 0.6000 - val_root_mean_squared_error: 2.6032 - 33ms/epoch - 8ms/step\n",
      "Epoch 153/200\n",
      "4/4 - 0s - loss: 0.3467 - accuracy: 0.8165 - root_mean_squared_error: 2.6476 - val_loss: 1.3690 - val_accuracy: 0.6000 - val_root_mean_squared_error: 2.6032 - 28ms/epoch - 7ms/step\n",
      "Epoch 154/200\n",
      "4/4 - 0s - loss: 0.3435 - accuracy: 0.8073 - root_mean_squared_error: 2.6477 - val_loss: 1.2328 - val_accuracy: 0.6545 - val_root_mean_squared_error: 2.6032 - 29ms/epoch - 7ms/step\n",
      "Epoch 155/200\n",
      "4/4 - 0s - loss: 0.2971 - accuracy: 0.8624 - root_mean_squared_error: 2.6476 - val_loss: 1.3008 - val_accuracy: 0.6182 - val_root_mean_squared_error: 2.6030 - 29ms/epoch - 7ms/step\n",
      "Epoch 156/200\n",
      "4/4 - 0s - loss: 0.3291 - accuracy: 0.8257 - root_mean_squared_error: 2.6476 - val_loss: 1.3016 - val_accuracy: 0.6364 - val_root_mean_squared_error: 2.6031 - 29ms/epoch - 7ms/step\n",
      "Epoch 157/200\n",
      "4/4 - 0s - loss: 0.3102 - accuracy: 0.8624 - root_mean_squared_error: 2.6478 - val_loss: 1.3800 - val_accuracy: 0.6182 - val_root_mean_squared_error: 2.6032 - 28ms/epoch - 7ms/step\n",
      "Epoch 158/200\n",
      "4/4 - 0s - loss: 0.3032 - accuracy: 0.8440 - root_mean_squared_error: 2.6478 - val_loss: 1.3586 - val_accuracy: 0.5818 - val_root_mean_squared_error: 2.6032 - 28ms/epoch - 7ms/step\n",
      "Epoch 159/200\n",
      "4/4 - 0s - loss: 0.2809 - accuracy: 0.8624 - root_mean_squared_error: 2.6477 - val_loss: 1.3623 - val_accuracy: 0.6182 - val_root_mean_squared_error: 2.6032 - 28ms/epoch - 7ms/step\n",
      "Epoch 160/200\n",
      "4/4 - 0s - loss: 0.3089 - accuracy: 0.8349 - root_mean_squared_error: 2.6477 - val_loss: 1.4649 - val_accuracy: 0.5636 - val_root_mean_squared_error: 2.6032 - 30ms/epoch - 7ms/step\n",
      "Epoch 161/200\n",
      "4/4 - 0s - loss: 0.3198 - accuracy: 0.8257 - root_mean_squared_error: 2.6477 - val_loss: 1.3542 - val_accuracy: 0.6000 - val_root_mean_squared_error: 2.6032 - 32ms/epoch - 8ms/step\n",
      "Epoch 162/200\n",
      "4/4 - 0s - loss: 0.2870 - accuracy: 0.8165 - root_mean_squared_error: 2.6477 - val_loss: 1.3102 - val_accuracy: 0.6182 - val_root_mean_squared_error: 2.6032 - 32ms/epoch - 8ms/step\n",
      "Epoch 163/200\n",
      "4/4 - 0s - loss: 0.2903 - accuracy: 0.8257 - root_mean_squared_error: 2.6477 - val_loss: 1.3373 - val_accuracy: 0.6182 - val_root_mean_squared_error: 2.6032 - 33ms/epoch - 8ms/step\n",
      "Epoch 164/200\n",
      "4/4 - 0s - loss: 0.2858 - accuracy: 0.8257 - root_mean_squared_error: 2.6477 - val_loss: 1.4171 - val_accuracy: 0.5455 - val_root_mean_squared_error: 2.6031 - 33ms/epoch - 8ms/step\n",
      "Epoch 165/200\n",
      "4/4 - 0s - loss: 0.2997 - accuracy: 0.7798 - root_mean_squared_error: 2.6477 - val_loss: 1.4686 - val_accuracy: 0.5818 - val_root_mean_squared_error: 2.6032 - 34ms/epoch - 8ms/step\n",
      "Epoch 166/200\n",
      "4/4 - 0s - loss: 0.3082 - accuracy: 0.7982 - root_mean_squared_error: 2.6477 - val_loss: 1.5700 - val_accuracy: 0.5818 - val_root_mean_squared_error: 2.6032 - 32ms/epoch - 8ms/step\n",
      "Epoch 167/200\n",
      "4/4 - 0s - loss: 0.3047 - accuracy: 0.8165 - root_mean_squared_error: 2.6476 - val_loss: 1.6129 - val_accuracy: 0.5091 - val_root_mean_squared_error: 2.6032 - 31ms/epoch - 8ms/step\n",
      "Epoch 168/200\n",
      "4/4 - 0s - loss: 0.2907 - accuracy: 0.8440 - root_mean_squared_error: 2.6477 - val_loss: 1.6987 - val_accuracy: 0.5091 - val_root_mean_squared_error: 2.6033 - 29ms/epoch - 7ms/step\n",
      "Epoch 169/200\n",
      "4/4 - 0s - loss: 0.2767 - accuracy: 0.8532 - root_mean_squared_error: 2.6478 - val_loss: 1.5937 - val_accuracy: 0.5455 - val_root_mean_squared_error: 2.6032 - 29ms/epoch - 7ms/step\n",
      "Epoch 170/200\n",
      "4/4 - 0s - loss: 0.3044 - accuracy: 0.8165 - root_mean_squared_error: 2.6478 - val_loss: 1.5810 - val_accuracy: 0.5455 - val_root_mean_squared_error: 2.6032 - 28ms/epoch - 7ms/step\n",
      "Epoch 171/200\n",
      "4/4 - 0s - loss: 0.3013 - accuracy: 0.8440 - root_mean_squared_error: 2.6477 - val_loss: 1.5453 - val_accuracy: 0.5091 - val_root_mean_squared_error: 2.6031 - 28ms/epoch - 7ms/step\n",
      "Epoch 172/200\n"
     ]
    },
    {
     "name": "stdout",
     "output_type": "stream",
     "text": [
      "4/4 - 0s - loss: 0.2892 - accuracy: 0.8349 - root_mean_squared_error: 2.6477 - val_loss: 1.4983 - val_accuracy: 0.5455 - val_root_mean_squared_error: 2.6032 - 30ms/epoch - 8ms/step\n",
      "Epoch 173/200\n",
      "4/4 - 0s - loss: 0.2869 - accuracy: 0.8349 - root_mean_squared_error: 2.6477 - val_loss: 1.5954 - val_accuracy: 0.5273 - val_root_mean_squared_error: 2.6032 - 31ms/epoch - 8ms/step\n",
      "Epoch 174/200\n",
      "4/4 - 0s - loss: 0.2805 - accuracy: 0.8257 - root_mean_squared_error: 2.6477 - val_loss: 1.6635 - val_accuracy: 0.5273 - val_root_mean_squared_error: 2.6032 - 30ms/epoch - 7ms/step\n",
      "Epoch 175/200\n",
      "4/4 - 0s - loss: 0.2707 - accuracy: 0.8440 - root_mean_squared_error: 2.6477 - val_loss: 1.6562 - val_accuracy: 0.5273 - val_root_mean_squared_error: 2.6032 - 31ms/epoch - 8ms/step\n",
      "Epoch 176/200\n",
      "4/4 - 0s - loss: 0.2686 - accuracy: 0.8532 - root_mean_squared_error: 2.6477 - val_loss: 1.6267 - val_accuracy: 0.5273 - val_root_mean_squared_error: 2.6032 - 33ms/epoch - 8ms/step\n",
      "Epoch 177/200\n",
      "4/4 - 0s - loss: 0.2824 - accuracy: 0.8349 - root_mean_squared_error: 2.6478 - val_loss: 1.5851 - val_accuracy: 0.5273 - val_root_mean_squared_error: 2.6032 - 32ms/epoch - 8ms/step\n",
      "Epoch 178/200\n",
      "4/4 - 0s - loss: 0.5105 - accuracy: 0.7706 - root_mean_squared_error: 2.6476 - val_loss: 1.4924 - val_accuracy: 0.5636 - val_root_mean_squared_error: 2.6031 - 33ms/epoch - 8ms/step\n",
      "Epoch 179/200\n",
      "4/4 - 0s - loss: 0.5352 - accuracy: 0.7523 - root_mean_squared_error: 2.6476 - val_loss: 1.4971 - val_accuracy: 0.5636 - val_root_mean_squared_error: 2.6032 - 31ms/epoch - 8ms/step\n",
      "Epoch 180/200\n",
      "4/4 - 0s - loss: 0.3835 - accuracy: 0.7798 - root_mean_squared_error: 2.6476 - val_loss: 1.7885 - val_accuracy: 0.5091 - val_root_mean_squared_error: 2.6032 - 33ms/epoch - 8ms/step\n",
      "Epoch 181/200\n",
      "4/4 - 0s - loss: 0.4003 - accuracy: 0.8073 - root_mean_squared_error: 2.6477 - val_loss: 1.5267 - val_accuracy: 0.5273 - val_root_mean_squared_error: 2.6032 - 32ms/epoch - 8ms/step\n",
      "Epoch 182/200\n",
      "4/4 - 0s - loss: 0.4052 - accuracy: 0.7798 - root_mean_squared_error: 2.6476 - val_loss: 1.3553 - val_accuracy: 0.5636 - val_root_mean_squared_error: 2.6032 - 28ms/epoch - 7ms/step\n",
      "Epoch 183/200\n",
      "4/4 - 0s - loss: 0.3959 - accuracy: 0.7982 - root_mean_squared_error: 2.6476 - val_loss: 1.2462 - val_accuracy: 0.5455 - val_root_mean_squared_error: 2.6030 - 29ms/epoch - 7ms/step\n",
      "Epoch 184/200\n",
      "4/4 - 0s - loss: 0.3812 - accuracy: 0.8257 - root_mean_squared_error: 2.6475 - val_loss: 1.3030 - val_accuracy: 0.5091 - val_root_mean_squared_error: 2.6030 - 28ms/epoch - 7ms/step\n",
      "Epoch 185/200\n",
      "4/4 - 0s - loss: 0.3733 - accuracy: 0.8165 - root_mean_squared_error: 2.6475 - val_loss: 1.3164 - val_accuracy: 0.5455 - val_root_mean_squared_error: 2.6030 - 28ms/epoch - 7ms/step\n",
      "Epoch 186/200\n",
      "4/4 - 0s - loss: 0.3517 - accuracy: 0.8073 - root_mean_squared_error: 2.6476 - val_loss: 1.3467 - val_accuracy: 0.5636 - val_root_mean_squared_error: 2.6031 - 28ms/epoch - 7ms/step\n",
      "Epoch 187/200\n",
      "4/4 - 0s - loss: 0.3378 - accuracy: 0.7615 - root_mean_squared_error: 2.6476 - val_loss: 1.3526 - val_accuracy: 0.5455 - val_root_mean_squared_error: 2.6031 - 28ms/epoch - 7ms/step\n",
      "Epoch 188/200\n",
      "4/4 - 0s - loss: 0.3341 - accuracy: 0.8073 - root_mean_squared_error: 2.6476 - val_loss: 1.3297 - val_accuracy: 0.5455 - val_root_mean_squared_error: 2.6030 - 28ms/epoch - 7ms/step\n",
      "Epoch 189/200\n",
      "4/4 - 0s - loss: 0.3221 - accuracy: 0.8440 - root_mean_squared_error: 2.6476 - val_loss: 1.3547 - val_accuracy: 0.5273 - val_root_mean_squared_error: 2.6031 - 29ms/epoch - 7ms/step\n",
      "Epoch 190/200\n",
      "4/4 - 0s - loss: 0.3275 - accuracy: 0.8257 - root_mean_squared_error: 2.6477 - val_loss: 1.3860 - val_accuracy: 0.5273 - val_root_mean_squared_error: 2.6031 - 27ms/epoch - 7ms/step\n",
      "Epoch 191/200\n",
      "4/4 - 0s - loss: 0.3308 - accuracy: 0.8349 - root_mean_squared_error: 2.6476 - val_loss: 1.3455 - val_accuracy: 0.5636 - val_root_mean_squared_error: 2.6031 - 30ms/epoch - 7ms/step\n",
      "Epoch 192/200\n",
      "4/4 - 0s - loss: 0.3044 - accuracy: 0.8532 - root_mean_squared_error: 2.6476 - val_loss: 1.2943 - val_accuracy: 0.6545 - val_root_mean_squared_error: 2.6030 - 33ms/epoch - 8ms/step\n",
      "Epoch 193/200\n",
      "4/4 - 0s - loss: 0.3105 - accuracy: 0.8165 - root_mean_squared_error: 2.6476 - val_loss: 1.3379 - val_accuracy: 0.6182 - val_root_mean_squared_error: 2.6031 - 32ms/epoch - 8ms/step\n",
      "Epoch 194/200\n",
      "4/4 - 0s - loss: 0.3221 - accuracy: 0.7890 - root_mean_squared_error: 2.6476 - val_loss: 1.3936 - val_accuracy: 0.5636 - val_root_mean_squared_error: 2.6031 - 32ms/epoch - 8ms/step\n",
      "Epoch 195/200\n",
      "4/4 - 0s - loss: 0.3341 - accuracy: 0.7982 - root_mean_squared_error: 2.6476 - val_loss: 1.4332 - val_accuracy: 0.5455 - val_root_mean_squared_error: 2.6031 - 33ms/epoch - 8ms/step\n",
      "Epoch 196/200\n",
      "4/4 - 0s - loss: 0.2994 - accuracy: 0.8257 - root_mean_squared_error: 2.6477 - val_loss: 1.5085 - val_accuracy: 0.5273 - val_root_mean_squared_error: 2.6032 - 32ms/epoch - 8ms/step\n",
      "Epoch 197/200\n",
      "4/4 - 0s - loss: 0.4312 - accuracy: 0.8165 - root_mean_squared_error: 2.6477 - val_loss: 1.4789 - val_accuracy: 0.5455 - val_root_mean_squared_error: 2.6031 - 33ms/epoch - 8ms/step\n",
      "Epoch 198/200\n",
      "4/4 - 0s - loss: 0.3936 - accuracy: 0.8257 - root_mean_squared_error: 2.6477 - val_loss: 1.4018 - val_accuracy: 0.5455 - val_root_mean_squared_error: 2.6030 - 31ms/epoch - 8ms/step\n",
      "Epoch 199/200\n",
      "4/4 - 0s - loss: 0.3444 - accuracy: 0.7890 - root_mean_squared_error: 2.6477 - val_loss: 1.3530 - val_accuracy: 0.5455 - val_root_mean_squared_error: 2.6030 - 28ms/epoch - 7ms/step\n",
      "Epoch 200/200\n",
      "4/4 - 0s - loss: 0.3159 - accuracy: 0.8532 - root_mean_squared_error: 2.6476 - val_loss: 1.5286 - val_accuracy: 0.5636 - val_root_mean_squared_error: 2.6030 - 28ms/epoch - 7ms/step\n",
      "Wall time: 7.23 s\n"
     ]
    }
   ],
   "source": [
    "%%time\n",
    "history = modeltf.fit(X_train, Y_train, verbose=2, epochs=200, batch_size = 32, validation_data = (X_test,Y_test))"
   ]
  },
  {
   "cell_type": "code",
   "execution_count": 67,
   "id": "74aa0739",
   "metadata": {},
   "outputs": [
    {
     "data": {
      "image/png": "[encoded data removed]",
      "text/plain": [
       "<Figure size 640x480 with 1 Axes>"
      ]
     },
     "metadata": {},
     "output_type": "display_data"
    },
    {
     "data": {
      "image/png": "[encoded data removed]",
      "text/plain": [
       "<Figure size 640x480 with 1 Axes>"
      ]
     },
     "metadata": {},
     "output_type": "display_data"
    }
   ],
   "source": [
    "# Plotting Results\n",
    "import matplotlib.pyplot as plt\n",
    "\n",
    "acc = history.history['accuracy']\n",
    "val_acc = history.history['val_accuracy']\n",
    "loss = history.history['loss']\n",
    "val_loss = history.history['val_loss']\n",
    "epochs = range(1, len(acc) + 1)\n",
    "\n",
    "plt.plot(epochs, acc, 'r', label='Training acc')\n",
    "plt.plot(epochs, val_acc, 'g', label='Validation acc')\n",
    "plt.xlabel('Epochs')\n",
    "plt.ylabel('Accuracy')\n",
    "\n",
    "plt.title('Training and validation accuracy')\n",
    "plt.legend()\n",
    "fig = plt.figure()\n",
    "fig.savefig('acc.png')\n",
    "\n",
    "\n",
    "plt.plot(epochs, loss, 'b', label='Training loss')\n",
    "plt.plot(epochs, val_loss, 'g', label='Validation loss')\n",
    "plt.xlabel('Epochs')\n",
    "plt.ylabel('Loss')\n",
    "plt.title('Training and validation loss')\n",
    "\n",
    "plt.legend()\n",
    "plt.show()"
   ]
  },
  {
   "cell_type": "code",
   "execution_count": null,
   "id": "d1286777",
   "metadata": {},
   "outputs": [],
   "source": [
    "\n"
   ]
  },
  {
   "cell_type": "code",
   "execution_count": null,
   "id": "1326a214",
   "metadata": {},
   "outputs": [],
   "source": []
  },
  {
   "cell_type": "markdown",
   "id": "8d8594c9",
   "metadata": {},
   "source": [
    "# Gaussian Naive Bayes"
   ]
  },
  {
   "cell_type": "code",
   "execution_count": 68,
   "id": "b53b27d0",
   "metadata": {},
   "outputs": [],
   "source": [
    "from sklearn.naive_bayes import GaussianNB"
   ]
  },
  {
   "cell_type": "code",
   "execution_count": 69,
   "id": "45830ad8",
   "metadata": {},
   "outputs": [],
   "source": [
    "\n",
    "gnb = GaussianNB()"
   ]
  },
  {
   "cell_type": "code",
   "execution_count": 70,
   "id": "2868885c",
   "metadata": {},
   "outputs": [
    {
     "name": "stdout",
     "output_type": "stream",
     "text": [
      "Wall time: 3 ms\n"
     ]
    }
   ],
   "source": [
    "%%time\n",
    "Y_pred = gnb.fit(X_train, Y_train).predict(X_test)"
   ]
  },
  {
   "cell_type": "code",
   "execution_count": 71,
   "id": "a2a8cc7a",
   "metadata": {},
   "outputs": [
    {
     "data": {
      "text/plain": [
       "0.6181818181818182"
      ]
     },
     "execution_count": 71,
     "metadata": {},
     "output_type": "execute_result"
    }
   ],
   "source": [
    "accuracy_score(Y_test,Y_pred)"
   ]
  },
  {
   "cell_type": "code",
   "execution_count": 72,
   "id": "bdd15572",
   "metadata": {},
   "outputs": [
    {
     "name": "stdout",
     "output_type": "stream",
     "text": [
      "              precision    recall  f1-score   support\n",
      "\n",
      "           0       0.89      0.73      0.80        11\n",
      "           1       1.00      0.83      0.91         6\n",
      "           2       0.50      0.50      0.50        14\n",
      "           3       0.00      0.00      0.00        10\n",
      "           4       0.52      1.00      0.68        14\n",
      "\n",
      "    accuracy                           0.62        55\n",
      "   macro avg       0.58      0.61      0.58        55\n",
      "weighted avg       0.55      0.62      0.56        55\n",
      "\n"
     ]
    },
    {
     "name": "stderr",
     "output_type": "stream",
     "text": [
      "C:\\Users\\Akhil\\anaconda3\\lib\\site-packages\\sklearn\\metrics\\_classification.py:1318: UndefinedMetricWarning: Precision and F-score are ill-defined and being set to 0.0 in labels with no predicted samples. Use `zero_division` parameter to control this behavior.\n",
      "  _warn_prf(average, modifier, msg_start, len(result))\n",
      "C:\\Users\\Akhil\\anaconda3\\lib\\site-packages\\sklearn\\metrics\\_classification.py:1318: UndefinedMetricWarning: Precision and F-score are ill-defined and being set to 0.0 in labels with no predicted samples. Use `zero_division` parameter to control this behavior.\n",
      "  _warn_prf(average, modifier, msg_start, len(result))\n",
      "C:\\Users\\Akhil\\anaconda3\\lib\\site-packages\\sklearn\\metrics\\_classification.py:1318: UndefinedMetricWarning: Precision and F-score are ill-defined and being set to 0.0 in labels with no predicted samples. Use `zero_division` parameter to control this behavior.\n",
      "  _warn_prf(average, modifier, msg_start, len(result))\n"
     ]
    }
   ],
   "source": [
    "print(classification_report(Y_test, Y_pred))"
   ]
  },
  {
   "cell_type": "code",
   "execution_count": 73,
   "id": "fc691516",
   "metadata": {},
   "outputs": [
    {
     "data": {
      "image/png": "[encoded data removed]",
      "text/plain": [
       "<Figure size 640x480 with 1 Axes>"
      ]
     },
     "metadata": {},
     "output_type": "display_data"
    }
   ],
   "source": [
    "from sklearn.metrics import RocCurveDisplay\n",
    "RocCurveDisplay.from_predictions(Y_test, Y_pred, pos_label = 3)\n",
    "plt.show()"
   ]
  },
  {
   "cell_type": "code",
   "execution_count": 74,
   "id": "fc62e123",
   "metadata": {},
   "outputs": [
    {
     "name": "stdout",
     "output_type": "stream",
     "text": [
      "[[ 8  0  2  0  1]\n",
      " [ 0  5  0  0  1]\n",
      " [ 0  0  7  0  7]\n",
      " [ 1  0  5  0  4]\n",
      " [ 0  0  0  0 14]]\n"
     ]
    },
    {
     "data": {
      "image/png": "[encoded data removed]",
      "text/plain": [
       "<Figure size 640x480 with 2 Axes>"
      ]
     },
     "metadata": {},
     "output_type": "display_data"
    }
   ],
   "source": [
    "c = confusion_matrix(Y_test, Y_pred)\n",
    "print(c)\n",
    "sns.heatmap(c, annot=True, fmt=\".1f\")\n",
    "plt.xlabel('Actual');\n",
    "plt.ylabel('Predicted');"
   ]
  },
  {
   "cell_type": "markdown",
   "id": "802b12cf",
   "metadata": {},
   "source": [
    "# PCA"
   ]
  },
  {
   "cell_type": "code",
   "execution_count": 75,
   "id": "41eff27a",
   "metadata": {
    "scrolled": true
   },
   "outputs": [
    {
     "data": {
      "text/html": [
       "<div>\n",
       "<style scoped>\n",
       "    .dataframe tbody tr th:only-of-type {\n",
       "        vertical-align: middle;\n",
       "    }\n",
       "\n",
       "    .dataframe tbody tr th {\n",
       "        vertical-align: top;\n",
       "    }\n",
       "\n",
       "    .dataframe thead th {\n",
       "        text-align: right;\n",
       "    }\n",
       "</style>\n",
       "<table border=\"1\" class=\"dataframe\">\n",
       "  <thead>\n",
       "    <tr style=\"text-align: right;\">\n",
       "      <th></th>\n",
       "      <th>Fx</th>\n",
       "      <th>Fy</th>\n",
       "      <th>Fz</th>\n",
       "      <th>Tx</th>\n",
       "      <th>Ty</th>\n",
       "      <th>Tz</th>\n",
       "    </tr>\n",
       "  </thead>\n",
       "  <tbody>\n",
       "    <tr>\n",
       "      <th>0</th>\n",
       "      <td>-2.066667</td>\n",
       "      <td>-1.000000</td>\n",
       "      <td>79.533333</td>\n",
       "      <td>0.200000</td>\n",
       "      <td>-4.266667</td>\n",
       "      <td>0.200000</td>\n",
       "    </tr>\n",
       "    <tr>\n",
       "      <th>1</th>\n",
       "      <td>1.066667</td>\n",
       "      <td>-2.133333</td>\n",
       "      <td>79.333333</td>\n",
       "      <td>0.533333</td>\n",
       "      <td>-2.266667</td>\n",
       "      <td>-0.266667</td>\n",
       "    </tr>\n",
       "    <tr>\n",
       "      <th>2</th>\n",
       "      <td>-3.000000</td>\n",
       "      <td>-1.466667</td>\n",
       "      <td>78.533333</td>\n",
       "      <td>-1.133333</td>\n",
       "      <td>-10.066667</td>\n",
       "      <td>-1.600000</td>\n",
       "    </tr>\n",
       "    <tr>\n",
       "      <th>3</th>\n",
       "      <td>-2.333333</td>\n",
       "      <td>-3.400000</td>\n",
       "      <td>80.933333</td>\n",
       "      <td>-1.333333</td>\n",
       "      <td>-13.000000</td>\n",
       "      <td>-5.866667</td>\n",
       "    </tr>\n",
       "    <tr>\n",
       "      <th>4</th>\n",
       "      <td>-1.933333</td>\n",
       "      <td>-2.866667</td>\n",
       "      <td>78.600000</td>\n",
       "      <td>-4.666667</td>\n",
       "      <td>-14.800000</td>\n",
       "      <td>-6.066667</td>\n",
       "    </tr>\n",
       "    <tr>\n",
       "      <th>...</th>\n",
       "      <td>...</td>\n",
       "      <td>...</td>\n",
       "      <td>...</td>\n",
       "      <td>...</td>\n",
       "      <td>...</td>\n",
       "      <td>...</td>\n",
       "    </tr>\n",
       "    <tr>\n",
       "      <th>159</th>\n",
       "      <td>-2.666667</td>\n",
       "      <td>1.000000</td>\n",
       "      <td>2.800000</td>\n",
       "      <td>-8.466667</td>\n",
       "      <td>-3.266667</td>\n",
       "      <td>-2.000000</td>\n",
       "    </tr>\n",
       "    <tr>\n",
       "      <th>160</th>\n",
       "      <td>7.866667</td>\n",
       "      <td>-2.200000</td>\n",
       "      <td>8.466667</td>\n",
       "      <td>4.333333</td>\n",
       "      <td>14.066667</td>\n",
       "      <td>-3.000000</td>\n",
       "    </tr>\n",
       "    <tr>\n",
       "      <th>161</th>\n",
       "      <td>-3.266667</td>\n",
       "      <td>3.333333</td>\n",
       "      <td>6.266667</td>\n",
       "      <td>-0.666667</td>\n",
       "      <td>-3.133333</td>\n",
       "      <td>-3.666667</td>\n",
       "    </tr>\n",
       "    <tr>\n",
       "      <th>162</th>\n",
       "      <td>-6.266667</td>\n",
       "      <td>4.266667</td>\n",
       "      <td>3.733333</td>\n",
       "      <td>-1.066667</td>\n",
       "      <td>-7.600000</td>\n",
       "      <td>-3.400000</td>\n",
       "    </tr>\n",
       "    <tr>\n",
       "      <th>163</th>\n",
       "      <td>1.066667</td>\n",
       "      <td>-1.600000</td>\n",
       "      <td>2.466667</td>\n",
       "      <td>3.266667</td>\n",
       "      <td>1.333333</td>\n",
       "      <td>-3.533333</td>\n",
       "    </tr>\n",
       "  </tbody>\n",
       "</table>\n",
       "<p>164 rows × 6 columns</p>\n",
       "</div>"
      ],
      "text/plain": [
       "           Fx        Fy         Fz        Tx         Ty        Tz\n",
       "0   -2.066667 -1.000000  79.533333  0.200000  -4.266667  0.200000\n",
       "1    1.066667 -2.133333  79.333333  0.533333  -2.266667 -0.266667\n",
       "2   -3.000000 -1.466667  78.533333 -1.133333 -10.066667 -1.600000\n",
       "3   -2.333333 -3.400000  80.933333 -1.333333 -13.000000 -5.866667\n",
       "4   -1.933333 -2.866667  78.600000 -4.666667 -14.800000 -6.066667\n",
       "..        ...       ...        ...       ...        ...       ...\n",
       "159 -2.666667  1.000000   2.800000 -8.466667  -3.266667 -2.000000\n",
       "160  7.866667 -2.200000   8.466667  4.333333  14.066667 -3.000000\n",
       "161 -3.266667  3.333333   6.266667 -0.666667  -3.133333 -3.666667\n",
       "162 -6.266667  4.266667   3.733333 -1.066667  -7.600000 -3.400000\n",
       "163  1.066667 -1.600000   2.466667  3.266667   1.333333 -3.533333\n",
       "\n",
       "[164 rows x 6 columns]"
      ]
     },
     "execution_count": 75,
     "metadata": {},
     "output_type": "execute_result"
    }
   ],
   "source": [
    "lf3.drop(['Failure_type'], axis = 1)"
   ]
  },
  {
   "cell_type": "code",
   "execution_count": 76,
   "id": "633e8968",
   "metadata": {},
   "outputs": [],
   "source": [
    "from sklearn.decomposition import PCA\n"
   ]
  },
  {
   "cell_type": "code",
   "execution_count": 77,
   "id": "c7d61189",
   "metadata": {
    "scrolled": true
   },
   "outputs": [],
   "source": [
    "x = np.array([lf3.drop(['Failure_type'], axis = 1)])"
   ]
  },
  {
   "cell_type": "code",
   "execution_count": 78,
   "id": "1faaedfe",
   "metadata": {},
   "outputs": [],
   "source": [
    "pca = PCA(n_components=3)\n"
   ]
  },
  {
   "cell_type": "code",
   "execution_count": 79,
   "id": "bd426b99",
   "metadata": {},
   "outputs": [],
   "source": [
    "d=pca.fit_transform(X)"
   ]
  },
  {
   "cell_type": "code",
   "execution_count": 80,
   "id": "9f273482",
   "metadata": {},
   "outputs": [
    {
     "name": "stdout",
     "output_type": "stream",
     "text": [
      "[0.96448389 0.01563797 0.01077109]\n"
     ]
    }
   ],
   "source": [
    "print(pca.explained_variance_ratio_)\n",
    "\n",
    "pca_df = pd.DataFrame(data=d,columns = ['PC1', 'PC2', 'PC3'])"
   ]
  },
  {
   "cell_type": "code",
   "execution_count": 81,
   "id": "19fc2618",
   "metadata": {
    "scrolled": false
   },
   "outputs": [
    {
     "data": {
      "image/png": "[encoded data removed]",
      "text/plain": [
       "<Figure size 640x480 with 1 Axes>"
      ]
     },
     "metadata": {},
     "output_type": "display_data"
    }
   ],
   "source": [
    "PCAplot = np.arange(pca.n_components) + 1\n",
    "plt.plot(PCAplot, pca.explained_variance_ratio_, 'ro-', linewidth = 2)\n",
    "plt.title('Scree Plot')\n",
    "plt.xlabel('Principal Component')\n",
    "plt.ylabel('Variance_ratio')\n",
    "plt.show()"
   ]
  },
  {
   "cell_type": "code",
   "execution_count": 82,
   "id": "76e9ecfc",
   "metadata": {},
   "outputs": [
    {
     "data": {
      "text/html": [
       "<div>\n",
       "<style scoped>\n",
       "    .dataframe tbody tr th:only-of-type {\n",
       "        vertical-align: middle;\n",
       "    }\n",
       "\n",
       "    .dataframe tbody tr th {\n",
       "        vertical-align: top;\n",
       "    }\n",
       "\n",
       "    .dataframe thead th {\n",
       "        text-align: right;\n",
       "    }\n",
       "</style>\n",
       "<table border=\"1\" class=\"dataframe\">\n",
       "  <thead>\n",
       "    <tr style=\"text-align: right;\">\n",
       "      <th></th>\n",
       "      <th>PC1</th>\n",
       "      <th>PC2</th>\n",
       "      <th>PC3</th>\n",
       "    </tr>\n",
       "  </thead>\n",
       "  <tbody>\n",
       "    <tr>\n",
       "      <th>0</th>\n",
       "      <td>-171.720546</td>\n",
       "      <td>0.973806</td>\n",
       "      <td>-2.551674</td>\n",
       "    </tr>\n",
       "    <tr>\n",
       "      <th>1</th>\n",
       "      <td>-171.398915</td>\n",
       "      <td>0.789473</td>\n",
       "      <td>-4.586529</td>\n",
       "    </tr>\n",
       "    <tr>\n",
       "      <th>2</th>\n",
       "      <td>-170.754888</td>\n",
       "      <td>-2.212580</td>\n",
       "      <td>2.078618</td>\n",
       "    </tr>\n",
       "    <tr>\n",
       "      <th>3</th>\n",
       "      <td>-173.035312</td>\n",
       "      <td>-4.021316</td>\n",
       "      <td>4.165103</td>\n",
       "    </tr>\n",
       "    <tr>\n",
       "      <th>4</th>\n",
       "      <td>-170.812668</td>\n",
       "      <td>-4.769835</td>\n",
       "      <td>7.622334</td>\n",
       "    </tr>\n",
       "    <tr>\n",
       "      <th>...</th>\n",
       "      <td>...</td>\n",
       "      <td>...</td>\n",
       "      <td>...</td>\n",
       "    </tr>\n",
       "    <tr>\n",
       "      <th>159</th>\n",
       "      <td>-95.463386</td>\n",
       "      <td>4.231759</td>\n",
       "      <td>4.986664</td>\n",
       "    </tr>\n",
       "    <tr>\n",
       "      <th>160</th>\n",
       "      <td>-100.456124</td>\n",
       "      <td>8.240776</td>\n",
       "      <td>-16.904467</td>\n",
       "    </tr>\n",
       "    <tr>\n",
       "      <th>161</th>\n",
       "      <td>-98.906407</td>\n",
       "      <td>2.357759</td>\n",
       "      <td>-1.212136</td>\n",
       "    </tr>\n",
       "    <tr>\n",
       "      <th>162</th>\n",
       "      <td>-96.497908</td>\n",
       "      <td>0.691677</td>\n",
       "      <td>2.237946</td>\n",
       "    </tr>\n",
       "    <tr>\n",
       "      <th>163</th>\n",
       "      <td>-94.659254</td>\n",
       "      <td>2.913146</td>\n",
       "      <td>-7.290053</td>\n",
       "    </tr>\n",
       "  </tbody>\n",
       "</table>\n",
       "<p>164 rows × 3 columns</p>\n",
       "</div>"
      ],
      "text/plain": [
       "            PC1       PC2        PC3\n",
       "0   -171.720546  0.973806  -2.551674\n",
       "1   -171.398915  0.789473  -4.586529\n",
       "2   -170.754888 -2.212580   2.078618\n",
       "3   -173.035312 -4.021316   4.165103\n",
       "4   -170.812668 -4.769835   7.622334\n",
       "..          ...       ...        ...\n",
       "159  -95.463386  4.231759   4.986664\n",
       "160 -100.456124  8.240776 -16.904467\n",
       "161  -98.906407  2.357759  -1.212136\n",
       "162  -96.497908  0.691677   2.237946\n",
       "163  -94.659254  2.913146  -7.290053\n",
       "\n",
       "[164 rows x 3 columns]"
      ]
     },
     "execution_count": 82,
     "metadata": {},
     "output_type": "execute_result"
    }
   ],
   "source": [
    "pca_df"
   ]
  },
  {
   "cell_type": "code",
   "execution_count": 83,
   "id": "35f6b0e1",
   "metadata": {},
   "outputs": [],
   "source": [
    "pca_df[\"Failure_type\"] = lf5"
   ]
  },
  {
   "cell_type": "code",
   "execution_count": 84,
   "id": "fb3fdfc8",
   "metadata": {},
   "outputs": [
    {
     "data": {
      "text/html": [
       "<div>\n",
       "<style scoped>\n",
       "    .dataframe tbody tr th:only-of-type {\n",
       "        vertical-align: middle;\n",
       "    }\n",
       "\n",
       "    .dataframe tbody tr th {\n",
       "        vertical-align: top;\n",
       "    }\n",
       "\n",
       "    .dataframe thead th {\n",
       "        text-align: right;\n",
       "    }\n",
       "</style>\n",
       "<table border=\"1\" class=\"dataframe\">\n",
       "  <thead>\n",
       "    <tr style=\"text-align: right;\">\n",
       "      <th></th>\n",
       "      <th>PC1</th>\n",
       "      <th>PC2</th>\n",
       "      <th>PC3</th>\n",
       "      <th>Failure_type</th>\n",
       "    </tr>\n",
       "  </thead>\n",
       "  <tbody>\n",
       "    <tr>\n",
       "      <th>0</th>\n",
       "      <td>-171.720546</td>\n",
       "      <td>0.973806</td>\n",
       "      <td>-2.551674</td>\n",
       "      <td>normal</td>\n",
       "    </tr>\n",
       "    <tr>\n",
       "      <th>1</th>\n",
       "      <td>-171.398915</td>\n",
       "      <td>0.789473</td>\n",
       "      <td>-4.586529</td>\n",
       "      <td>normal</td>\n",
       "    </tr>\n",
       "    <tr>\n",
       "      <th>2</th>\n",
       "      <td>-170.754888</td>\n",
       "      <td>-2.212580</td>\n",
       "      <td>2.078618</td>\n",
       "      <td>normal</td>\n",
       "    </tr>\n",
       "    <tr>\n",
       "      <th>3</th>\n",
       "      <td>-173.035312</td>\n",
       "      <td>-4.021316</td>\n",
       "      <td>4.165103</td>\n",
       "      <td>normal</td>\n",
       "    </tr>\n",
       "    <tr>\n",
       "      <th>4</th>\n",
       "      <td>-170.812668</td>\n",
       "      <td>-4.769835</td>\n",
       "      <td>7.622334</td>\n",
       "      <td>normal</td>\n",
       "    </tr>\n",
       "    <tr>\n",
       "      <th>...</th>\n",
       "      <td>...</td>\n",
       "      <td>...</td>\n",
       "      <td>...</td>\n",
       "      <td>...</td>\n",
       "    </tr>\n",
       "    <tr>\n",
       "      <th>159</th>\n",
       "      <td>-95.463386</td>\n",
       "      <td>4.231759</td>\n",
       "      <td>4.986664</td>\n",
       "      <td>collision_in_tool</td>\n",
       "    </tr>\n",
       "    <tr>\n",
       "      <th>160</th>\n",
       "      <td>-100.456124</td>\n",
       "      <td>8.240776</td>\n",
       "      <td>-16.904467</td>\n",
       "      <td>collision_in_tool</td>\n",
       "    </tr>\n",
       "    <tr>\n",
       "      <th>161</th>\n",
       "      <td>-98.906407</td>\n",
       "      <td>2.357759</td>\n",
       "      <td>-1.212136</td>\n",
       "      <td>collision_in_tool</td>\n",
       "    </tr>\n",
       "    <tr>\n",
       "      <th>162</th>\n",
       "      <td>-96.497908</td>\n",
       "      <td>0.691677</td>\n",
       "      <td>2.237946</td>\n",
       "      <td>collision_in_tool</td>\n",
       "    </tr>\n",
       "    <tr>\n",
       "      <th>163</th>\n",
       "      <td>-94.659254</td>\n",
       "      <td>2.913146</td>\n",
       "      <td>-7.290053</td>\n",
       "      <td>collision_in_tool</td>\n",
       "    </tr>\n",
       "  </tbody>\n",
       "</table>\n",
       "<p>164 rows × 4 columns</p>\n",
       "</div>"
      ],
      "text/plain": [
       "            PC1       PC2        PC3       Failure_type\n",
       "0   -171.720546  0.973806  -2.551674             normal\n",
       "1   -171.398915  0.789473  -4.586529             normal\n",
       "2   -170.754888 -2.212580   2.078618             normal\n",
       "3   -173.035312 -4.021316   4.165103             normal\n",
       "4   -170.812668 -4.769835   7.622334             normal\n",
       "..          ...       ...        ...                ...\n",
       "159  -95.463386  4.231759   4.986664  collision_in_tool\n",
       "160 -100.456124  8.240776 -16.904467  collision_in_tool\n",
       "161  -98.906407  2.357759  -1.212136  collision_in_tool\n",
       "162  -96.497908  0.691677   2.237946  collision_in_tool\n",
       "163  -94.659254  2.913146  -7.290053  collision_in_tool\n",
       "\n",
       "[164 rows x 4 columns]"
      ]
     },
     "execution_count": 84,
     "metadata": {},
     "output_type": "execute_result"
    }
   ],
   "source": [
    "pca_df"
   ]
  },
  {
   "cell_type": "code",
   "execution_count": 85,
   "id": "1fd665c4",
   "metadata": {},
   "outputs": [
    {
     "data": {
      "text/html": [
       "<div>\n",
       "<style scoped>\n",
       "    .dataframe tbody tr th:only-of-type {\n",
       "        vertical-align: middle;\n",
       "    }\n",
       "\n",
       "    .dataframe tbody tr th {\n",
       "        vertical-align: top;\n",
       "    }\n",
       "\n",
       "    .dataframe thead th {\n",
       "        text-align: right;\n",
       "    }\n",
       "</style>\n",
       "<table border=\"1\" class=\"dataframe\">\n",
       "  <thead>\n",
       "    <tr style=\"text-align: right;\">\n",
       "      <th></th>\n",
       "      <th>PC1</th>\n",
       "      <th>PC2</th>\n",
       "      <th>PC3</th>\n",
       "      <th>Failure_type</th>\n",
       "    </tr>\n",
       "  </thead>\n",
       "  <tbody>\n",
       "    <tr>\n",
       "      <th>0</th>\n",
       "      <td>-171.720546</td>\n",
       "      <td>0.973806</td>\n",
       "      <td>-2.551674</td>\n",
       "      <td>4</td>\n",
       "    </tr>\n",
       "    <tr>\n",
       "      <th>1</th>\n",
       "      <td>-171.398915</td>\n",
       "      <td>0.789473</td>\n",
       "      <td>-4.586529</td>\n",
       "      <td>4</td>\n",
       "    </tr>\n",
       "    <tr>\n",
       "      <th>2</th>\n",
       "      <td>-170.754888</td>\n",
       "      <td>-2.212580</td>\n",
       "      <td>2.078618</td>\n",
       "      <td>4</td>\n",
       "    </tr>\n",
       "    <tr>\n",
       "      <th>3</th>\n",
       "      <td>-173.035312</td>\n",
       "      <td>-4.021316</td>\n",
       "      <td>4.165103</td>\n",
       "      <td>4</td>\n",
       "    </tr>\n",
       "    <tr>\n",
       "      <th>4</th>\n",
       "      <td>-170.812668</td>\n",
       "      <td>-4.769835</td>\n",
       "      <td>7.622334</td>\n",
       "      <td>4</td>\n",
       "    </tr>\n",
       "  </tbody>\n",
       "</table>\n",
       "</div>"
      ],
      "text/plain": [
       "          PC1       PC2       PC3  Failure_type\n",
       "0 -171.720546  0.973806 -2.551674             4\n",
       "1 -171.398915  0.789473 -4.586529             4\n",
       "2 -170.754888 -2.212580  2.078618             4\n",
       "3 -173.035312 -4.021316  4.165103             4\n",
       "4 -170.812668 -4.769835  7.622334             4"
      ]
     },
     "execution_count": 85,
     "metadata": {},
     "output_type": "execute_result"
    }
   ],
   "source": [
    "from sklearn import preprocessing\n",
    "le = preprocessing.LabelEncoder()\n",
    "pca_df.Failure_type = le.fit_transform(pca_df.Failure_type)\n",
    "pca_df.head()"
   ]
  },
  {
   "cell_type": "code",
   "execution_count": 86,
   "id": "6e8b8c9d",
   "metadata": {},
   "outputs": [],
   "source": [
    "X = pca_df.drop(['Failure_type'], axis = 1)\n",
    "Y = pca_df['Failure_type']\n",
    "X_train,X_test,Y_train,Y_test = train_test_split(X,Y, test_size =0.33,  random_state = 2)"
   ]
  },
  {
   "cell_type": "markdown",
   "id": "9717fb4a",
   "metadata": {},
   "source": [
    "# Decision Tree"
   ]
  },
  {
   "cell_type": "code",
   "execution_count": 87,
   "id": "9058b40f",
   "metadata": {},
   "outputs": [
    {
     "name": "stdout",
     "output_type": "stream",
     "text": [
      "Wall time: 1 ms\n"
     ]
    }
   ],
   "source": [
    "%%time\n",
    "dtc = DecisionTreeClassifier(criterion='gini', max_depth = 5, splitter='best')\n",
    "dtc = dtc.fit(X_train, Y_train)"
   ]
  },
  {
   "cell_type": "code",
   "execution_count": 88,
   "id": "fe9eed86",
   "metadata": {},
   "outputs": [],
   "source": [
    "predictions = dtc.predict(X_test)"
   ]
  },
  {
   "cell_type": "code",
   "execution_count": 89,
   "id": "a17953c2",
   "metadata": {},
   "outputs": [
    {
     "data": {
      "text/plain": [
       "0.6727272727272727"
      ]
     },
     "execution_count": 89,
     "metadata": {},
     "output_type": "execute_result"
    }
   ],
   "source": [
    "accuracy_score(Y_test,predictions)"
   ]
  },
  {
   "cell_type": "code",
   "execution_count": 90,
   "id": "21f1cef9",
   "metadata": {},
   "outputs": [],
   "source": [
    "c = confusion_matrix(Y_test, predictions)"
   ]
  },
  {
   "cell_type": "code",
   "execution_count": 91,
   "id": "84967659",
   "metadata": {},
   "outputs": [
    {
     "name": "stdout",
     "output_type": "stream",
     "text": [
      "[[10  1  0  0  0]\n",
      " [ 1  5  0  0  0]\n",
      " [ 2  0  5  2  5]\n",
      " [ 0  0  3  5  2]\n",
      " [ 0  0  2  0 12]]\n"
     ]
    },
    {
     "data": {
      "image/png": "[encoded data removed]",
      "text/plain": [
       "<Figure size 640x480 with 2 Axes>"
      ]
     },
     "metadata": {},
     "output_type": "display_data"
    }
   ],
   "source": [
    "c = confusion_matrix(Y_test, predictions)\n",
    "print(c)\n",
    "sns.heatmap(c, annot=True, fmt=\".1f\")\n",
    "plt.xlabel('Actual');\n",
    "plt.ylabel('Predicted');"
   ]
  },
  {
   "cell_type": "code",
   "execution_count": 92,
   "id": "ee7e4bad",
   "metadata": {},
   "outputs": [
    {
     "name": "stdout",
     "output_type": "stream",
     "text": [
      "              precision    recall  f1-score   support\n",
      "\n",
      "           0       0.77      0.91      0.83        11\n",
      "           1       0.83      0.83      0.83         6\n",
      "           2       0.50      0.36      0.42        14\n",
      "           3       0.71      0.50      0.59        10\n",
      "           4       0.63      0.86      0.73        14\n",
      "\n",
      "    accuracy                           0.67        55\n",
      "   macro avg       0.69      0.69      0.68        55\n",
      "weighted avg       0.66      0.67      0.66        55\n",
      "\n"
     ]
    }
   ],
   "source": [
    "print(classification_report(Y_test, predictions))"
   ]
  },
  {
   "cell_type": "code",
   "execution_count": 93,
   "id": "860cbd29",
   "metadata": {},
   "outputs": [
    {
     "data": {
      "image/png": "[encoded data removed]",
      "text/plain": [
       "<Figure size 1200x1200 with 1 Axes>"
      ]
     },
     "metadata": {},
     "output_type": "display_data"
    }
   ],
   "source": [
    "from sklearn import tree\n",
    "plt.figure(figsize = (12,12))\n",
    "tree.plot_tree(dtc,filled = True, class_names = True);"
   ]
  },
  {
   "cell_type": "code",
   "execution_count": null,
   "id": "1760dea1",
   "metadata": {},
   "outputs": [],
   "source": []
  },
  {
   "cell_type": "markdown",
   "id": "535381c8",
   "metadata": {},
   "source": [
    "# SVM"
   ]
  },
  {
   "cell_type": "code",
   "execution_count": 94,
   "id": "7b9e07ea",
   "metadata": {},
   "outputs": [],
   "source": [
    "#%%time\n",
    "#from sklearn.svm import SVC\n",
    "\n",
    "#model = SVC(kernel=\"poly\", degree=8, gamma = 'auto')\n",
    "\n",
    "#model.fit(X_train,Y_train)\n",
    "#Y_predict = model.predict(X_test)\n"
   ]
  },
  {
   "cell_type": "code",
   "execution_count": 95,
   "id": "ae5d3818",
   "metadata": {},
   "outputs": [],
   "source": [
    "#accuracy_score(Y_test,Y_predict)"
   ]
  },
  {
   "cell_type": "code",
   "execution_count": 96,
   "id": "a62b94fe",
   "metadata": {},
   "outputs": [],
   "source": [
    "#print(classification_report(Y_test, Y_predict))"
   ]
  },
  {
   "cell_type": "code",
   "execution_count": 97,
   "id": "21055c36",
   "metadata": {},
   "outputs": [],
   "source": [
    "\n",
    "#c = confusion_matrix(Y_test, Y_predict)\n",
    "#print(c)\n",
    "#sns.heatmap(c, annot=True, fmt=\".1f\")\n",
    "#plt.xlabel('Actual');\n",
    "#plt.ylabel('Predicted');\n"
   ]
  },
  {
   "cell_type": "markdown",
   "id": "1c6c216d",
   "metadata": {},
   "source": [
    "# Random forest"
   ]
  },
  {
   "cell_type": "code",
   "execution_count": 98,
   "id": "15882f39",
   "metadata": {},
   "outputs": [
    {
     "name": "stdout",
     "output_type": "stream",
     "text": [
      "Wall time: 288 ms\n"
     ]
    },
    {
     "data": {
      "text/plain": [
       "RandomForestClassifier(max_depth=4, n_estimators=500, random_state=2)"
      ]
     },
     "execution_count": 98,
     "metadata": {},
     "output_type": "execute_result"
    }
   ],
   "source": [
    "%%time\n",
    "rfc = RandomForestClassifier(n_estimators=500, max_depth=4, random_state = 2)\n",
    "rfc.fit(X_train, Y_train)"
   ]
  },
  {
   "cell_type": "code",
   "execution_count": 99,
   "id": "530572c1",
   "metadata": {},
   "outputs": [],
   "source": [
    "Y_predicts = rfc.predict(X_test)"
   ]
  },
  {
   "cell_type": "code",
   "execution_count": 100,
   "id": "dff3806c",
   "metadata": {},
   "outputs": [
    {
     "data": {
      "text/plain": [
       "0.6"
      ]
     },
     "execution_count": 100,
     "metadata": {},
     "output_type": "execute_result"
    }
   ],
   "source": [
    "accuracy_score(Y_test,Y_predicts)"
   ]
  },
  {
   "cell_type": "code",
   "execution_count": 101,
   "id": "c66f274f",
   "metadata": {},
   "outputs": [
    {
     "name": "stdout",
     "output_type": "stream",
     "text": [
      "              precision    recall  f1-score   support\n",
      "\n",
      "           0       0.79      1.00      0.88        11\n",
      "           1       1.00      0.67      0.80         6\n",
      "           2       0.43      0.43      0.43        14\n",
      "           3       0.00      0.00      0.00        10\n",
      "           4       0.52      0.86      0.65        14\n",
      "\n",
      "    accuracy                           0.60        55\n",
      "   macro avg       0.55      0.59      0.55        55\n",
      "weighted avg       0.51      0.60      0.54        55\n",
      "\n"
     ]
    },
    {
     "name": "stderr",
     "output_type": "stream",
     "text": [
      "C:\\Users\\Akhil\\anaconda3\\lib\\site-packages\\sklearn\\metrics\\_classification.py:1318: UndefinedMetricWarning: Precision and F-score are ill-defined and being set to 0.0 in labels with no predicted samples. Use `zero_division` parameter to control this behavior.\n",
      "  _warn_prf(average, modifier, msg_start, len(result))\n",
      "C:\\Users\\Akhil\\anaconda3\\lib\\site-packages\\sklearn\\metrics\\_classification.py:1318: UndefinedMetricWarning: Precision and F-score are ill-defined and being set to 0.0 in labels with no predicted samples. Use `zero_division` parameter to control this behavior.\n",
      "  _warn_prf(average, modifier, msg_start, len(result))\n",
      "C:\\Users\\Akhil\\anaconda3\\lib\\site-packages\\sklearn\\metrics\\_classification.py:1318: UndefinedMetricWarning: Precision and F-score are ill-defined and being set to 0.0 in labels with no predicted samples. Use `zero_division` parameter to control this behavior.\n",
      "  _warn_prf(average, modifier, msg_start, len(result))\n"
     ]
    }
   ],
   "source": [
    "print(classification_report(Y_test, Y_predicts))"
   ]
  },
  {
   "cell_type": "markdown",
   "id": "7ae73df6",
   "metadata": {},
   "source": [
    "# Neural network"
   ]
  },
  {
   "cell_type": "code",
   "execution_count": 102,
   "id": "0c112349",
   "metadata": {},
   "outputs": [
    {
     "data": {
      "text/plain": [
       "(109, 3)"
      ]
     },
     "execution_count": 102,
     "metadata": {},
     "output_type": "execute_result"
    }
   ],
   "source": [
    "X_train.shape"
   ]
  },
  {
   "cell_type": "code",
   "execution_count": 103,
   "id": "a01d7aa1",
   "metadata": {},
   "outputs": [
    {
     "data": {
      "text/plain": [
       "(109,)"
      ]
     },
     "execution_count": 103,
     "metadata": {},
     "output_type": "execute_result"
    }
   ],
   "source": [
    "Y_train.shape"
   ]
  },
  {
   "cell_type": "code",
   "execution_count": 104,
   "id": "7bac56f5",
   "metadata": {},
   "outputs": [
    {
     "name": "stdout",
     "output_type": "stream",
     "text": [
      "Wall time: 30 ms\n"
     ]
    }
   ],
   "source": [
    "%%time\n",
    "input_shape = (3,)\n",
    "model = keras.Sequential(\n",
    "    [\n",
    "        Dense(60,input_shape = input_shape, activation=\"relu\", name=\"layer1\"),\n",
    "        Dense(30, activation=\"relu\", name=\"layer2\"),\n",
    "        Dense(60, activation=\"sigmoid\", name=\"layer3\"),\n",
    "        Dense(60, activation=\"softmax\", name=\"layer4\")\n",
    "    ])\n",
    "    \n"
   ]
  },
  {
   "cell_type": "code",
   "execution_count": 105,
   "id": "d259728e",
   "metadata": {},
   "outputs": [
    {
     "name": "stdout",
     "output_type": "stream",
     "text": [
      "Model: \"sequential_1\"\n",
      "_________________________________________________________________\n",
      " Layer (type)                Output Shape              Param #   \n",
      "=================================================================\n",
      " layer1 (Dense)              (None, 60)                240       \n",
      "                                                                 \n",
      " layer2 (Dense)              (None, 30)                1830      \n",
      "                                                                 \n",
      " layer3 (Dense)              (None, 60)                1860      \n",
      "                                                                 \n",
      " layer4 (Dense)              (None, 60)                3660      \n",
      "                                                                 \n",
      "=================================================================\n",
      "Total params: 7,590\n",
      "Trainable params: 7,590\n",
      "Non-trainable params: 0\n",
      "_________________________________________________________________\n"
     ]
    }
   ],
   "source": [
    "model.summary()"
   ]
  },
  {
   "cell_type": "code",
   "execution_count": 106,
   "id": "7654a362",
   "metadata": {},
   "outputs": [],
   "source": [
    "model.compile(Adam(learning_rate=0.01), \"sparse_categorical_crossentropy\", metrics = [\"accuracy\"])\n"
   ]
  },
  {
   "cell_type": "code",
   "execution_count": 107,
   "id": "4bf4d97b",
   "metadata": {
    "scrolled": true
   },
   "outputs": [
    {
     "name": "stdout",
     "output_type": "stream",
     "text": [
      "Epoch 1/200\n",
      "4/4 - 0s - loss: 3.4357 - accuracy: 0.2018 - val_loss: 2.0530 - val_accuracy: 0.3455 - 455ms/epoch - 114ms/step\n",
      "Epoch 2/200\n",
      "4/4 - 0s - loss: 1.8279 - accuracy: 0.3211 - val_loss: 1.5690 - val_accuracy: 0.3273 - 30ms/epoch - 8ms/step\n",
      "Epoch 3/200\n",
      "4/4 - 0s - loss: 1.4306 - accuracy: 0.3670 - val_loss: 1.4694 - val_accuracy: 0.3455 - 30ms/epoch - 8ms/step\n",
      "Epoch 4/200\n",
      "4/4 - 0s - loss: 1.2944 - accuracy: 0.4404 - val_loss: 1.4224 - val_accuracy: 0.3455 - 30ms/epoch - 8ms/step\n",
      "Epoch 5/200\n",
      "4/4 - 0s - loss: 1.2847 - accuracy: 0.4495 - val_loss: 1.3721 - val_accuracy: 0.3455 - 30ms/epoch - 8ms/step\n",
      "Epoch 6/200\n",
      "4/4 - 0s - loss: 1.1915 - accuracy: 0.4495 - val_loss: 1.3481 - val_accuracy: 0.3818 - 32ms/epoch - 8ms/step\n",
      "Epoch 7/200\n",
      "4/4 - 0s - loss: 1.1754 - accuracy: 0.4312 - val_loss: 1.3838 - val_accuracy: 0.3636 - 30ms/epoch - 8ms/step\n",
      "Epoch 8/200\n",
      "4/4 - 0s - loss: 1.1423 - accuracy: 0.4587 - val_loss: 1.4271 - val_accuracy: 0.3273 - 30ms/epoch - 8ms/step\n",
      "Epoch 9/200\n",
      "4/4 - 0s - loss: 1.1638 - accuracy: 0.4495 - val_loss: 1.3935 - val_accuracy: 0.3636 - 30ms/epoch - 8ms/step\n",
      "Epoch 10/200\n",
      "4/4 - 0s - loss: 1.1400 - accuracy: 0.4587 - val_loss: 1.3915 - val_accuracy: 0.3636 - 29ms/epoch - 7ms/step\n",
      "Epoch 11/200\n",
      "4/4 - 0s - loss: 1.1239 - accuracy: 0.4312 - val_loss: 1.3744 - val_accuracy: 0.3636 - 31ms/epoch - 8ms/step\n",
      "Epoch 12/200\n",
      "4/4 - 0s - loss: 1.1086 - accuracy: 0.3578 - val_loss: 1.3837 - val_accuracy: 0.3636 - 30ms/epoch - 8ms/step\n",
      "Epoch 13/200\n",
      "4/4 - 0s - loss: 1.0961 - accuracy: 0.4495 - val_loss: 1.3678 - val_accuracy: 0.4545 - 27ms/epoch - 7ms/step\n",
      "Epoch 14/200\n",
      "4/4 - 0s - loss: 1.0662 - accuracy: 0.4862 - val_loss: 1.3823 - val_accuracy: 0.3636 - 27ms/epoch - 7ms/step\n",
      "Epoch 15/200\n",
      "4/4 - 0s - loss: 1.0617 - accuracy: 0.4862 - val_loss: 1.3655 - val_accuracy: 0.4545 - 27ms/epoch - 7ms/step\n",
      "Epoch 16/200\n",
      "4/4 - 0s - loss: 1.0450 - accuracy: 0.5505 - val_loss: 1.3525 - val_accuracy: 0.4545 - 26ms/epoch - 7ms/step\n",
      "Epoch 17/200\n",
      "4/4 - 0s - loss: 1.0417 - accuracy: 0.4954 - val_loss: 1.3384 - val_accuracy: 0.3818 - 27ms/epoch - 7ms/step\n",
      "Epoch 18/200\n",
      "4/4 - 0s - loss: 1.0315 - accuracy: 0.4404 - val_loss: 1.3332 - val_accuracy: 0.4545 - 27ms/epoch - 7ms/step\n",
      "Epoch 19/200\n",
      "4/4 - 0s - loss: 1.0384 - accuracy: 0.5505 - val_loss: 1.3451 - val_accuracy: 0.4182 - 27ms/epoch - 7ms/step\n",
      "Epoch 20/200\n",
      "4/4 - 0s - loss: 1.0360 - accuracy: 0.5138 - val_loss: 1.3426 - val_accuracy: 0.4182 - 27ms/epoch - 7ms/step\n",
      "Epoch 21/200\n",
      "4/4 - 0s - loss: 1.0400 - accuracy: 0.5413 - val_loss: 1.3914 - val_accuracy: 0.4000 - 27ms/epoch - 7ms/step\n",
      "Epoch 22/200\n",
      "4/4 - 0s - loss: 1.0449 - accuracy: 0.5413 - val_loss: 1.3724 - val_accuracy: 0.4727 - 26ms/epoch - 7ms/step\n",
      "Epoch 23/200\n",
      "4/4 - 0s - loss: 1.0545 - accuracy: 0.4495 - val_loss: 1.3576 - val_accuracy: 0.3818 - 27ms/epoch - 7ms/step\n",
      "Epoch 24/200\n",
      "4/4 - 0s - loss: 1.0241 - accuracy: 0.4404 - val_loss: 1.3311 - val_accuracy: 0.4000 - 27ms/epoch - 7ms/step\n",
      "Epoch 25/200\n",
      "4/4 - 0s - loss: 1.0509 - accuracy: 0.5229 - val_loss: 1.3118 - val_accuracy: 0.4545 - 27ms/epoch - 7ms/step\n",
      "Epoch 26/200\n",
      "4/4 - 0s - loss: 1.0733 - accuracy: 0.5596 - val_loss: 1.3264 - val_accuracy: 0.4000 - 27ms/epoch - 7ms/step\n",
      "Epoch 27/200\n",
      "4/4 - 0s - loss: 1.0441 - accuracy: 0.5138 - val_loss: 1.3449 - val_accuracy: 0.3818 - 27ms/epoch - 7ms/step\n",
      "Epoch 28/200\n",
      "4/4 - 0s - loss: 1.0271 - accuracy: 0.4587 - val_loss: 1.3849 - val_accuracy: 0.3818 - 27ms/epoch - 7ms/step\n",
      "Epoch 29/200\n",
      "4/4 - 0s - loss: 1.0380 - accuracy: 0.4679 - val_loss: 1.3743 - val_accuracy: 0.4727 - 27ms/epoch - 7ms/step\n",
      "Epoch 30/200\n",
      "4/4 - 0s - loss: 1.0160 - accuracy: 0.5505 - val_loss: 1.3841 - val_accuracy: 0.4000 - 28ms/epoch - 7ms/step\n",
      "Epoch 31/200\n",
      "4/4 - 0s - loss: 1.0445 - accuracy: 0.5138 - val_loss: 1.3813 - val_accuracy: 0.4000 - 28ms/epoch - 7ms/step\n",
      "Epoch 32/200\n",
      "4/4 - 0s - loss: 1.0051 - accuracy: 0.5321 - val_loss: 1.3515 - val_accuracy: 0.4364 - 27ms/epoch - 7ms/step\n",
      "Epoch 33/200\n",
      "4/4 - 0s - loss: 0.9871 - accuracy: 0.5505 - val_loss: 1.3496 - val_accuracy: 0.4182 - 27ms/epoch - 7ms/step\n",
      "Epoch 34/200\n",
      "4/4 - 0s - loss: 0.9944 - accuracy: 0.5780 - val_loss: 1.3485 - val_accuracy: 0.4545 - 27ms/epoch - 7ms/step\n",
      "Epoch 35/200\n",
      "4/4 - 0s - loss: 0.9948 - accuracy: 0.5413 - val_loss: 1.3590 - val_accuracy: 0.4545 - 27ms/epoch - 7ms/step\n",
      "Epoch 36/200\n",
      "4/4 - 0s - loss: 0.9902 - accuracy: 0.5505 - val_loss: 1.3706 - val_accuracy: 0.4545 - 27ms/epoch - 7ms/step\n",
      "Epoch 37/200\n",
      "4/4 - 0s - loss: 0.9791 - accuracy: 0.5505 - val_loss: 1.3803 - val_accuracy: 0.4909 - 26ms/epoch - 7ms/step\n",
      "Epoch 38/200\n",
      "4/4 - 0s - loss: 0.9795 - accuracy: 0.5596 - val_loss: 1.3556 - val_accuracy: 0.4545 - 26ms/epoch - 7ms/step\n",
      "Epoch 39/200\n",
      "4/4 - 0s - loss: 0.9965 - accuracy: 0.5505 - val_loss: 1.3563 - val_accuracy: 0.4182 - 27ms/epoch - 7ms/step\n",
      "Epoch 40/200\n",
      "4/4 - 0s - loss: 0.9924 - accuracy: 0.5596 - val_loss: 1.3263 - val_accuracy: 0.4182 - 31ms/epoch - 8ms/step\n",
      "Epoch 41/200\n",
      "4/4 - 0s - loss: 1.0035 - accuracy: 0.5505 - val_loss: 1.3552 - val_accuracy: 0.4364 - 31ms/epoch - 8ms/step\n",
      "Epoch 42/200\n",
      "4/4 - 0s - loss: 0.9937 - accuracy: 0.5688 - val_loss: 1.3417 - val_accuracy: 0.4182 - 31ms/epoch - 8ms/step\n",
      "Epoch 43/200\n",
      "4/4 - 0s - loss: 0.9927 - accuracy: 0.5688 - val_loss: 1.3719 - val_accuracy: 0.4909 - 32ms/epoch - 8ms/step\n",
      "Epoch 44/200\n",
      "4/4 - 0s - loss: 0.9737 - accuracy: 0.5872 - val_loss: 1.4004 - val_accuracy: 0.4727 - 33ms/epoch - 8ms/step\n",
      "Epoch 45/200\n",
      "4/4 - 0s - loss: 0.9883 - accuracy: 0.5688 - val_loss: 1.3851 - val_accuracy: 0.4909 - 32ms/epoch - 8ms/step\n",
      "Epoch 46/200\n",
      "4/4 - 0s - loss: 0.9608 - accuracy: 0.5872 - val_loss: 1.3636 - val_accuracy: 0.4909 - 32ms/epoch - 8ms/step\n",
      "Epoch 47/200\n",
      "4/4 - 0s - loss: 0.9780 - accuracy: 0.5872 - val_loss: 1.3771 - val_accuracy: 0.4000 - 33ms/epoch - 8ms/step\n",
      "Epoch 48/200\n",
      "4/4 - 0s - loss: 1.0053 - accuracy: 0.5505 - val_loss: 1.3601 - val_accuracy: 0.4182 - 31ms/epoch - 8ms/step\n",
      "Epoch 49/200\n",
      "4/4 - 0s - loss: 1.0047 - accuracy: 0.5413 - val_loss: 1.3301 - val_accuracy: 0.4000 - 33ms/epoch - 8ms/step\n",
      "Epoch 50/200\n",
      "4/4 - 0s - loss: 1.0032 - accuracy: 0.4862 - val_loss: 1.3197 - val_accuracy: 0.3636 - 32ms/epoch - 8ms/step\n",
      "Epoch 51/200\n",
      "4/4 - 0s - loss: 1.0437 - accuracy: 0.4495 - val_loss: 1.3305 - val_accuracy: 0.4727 - 29ms/epoch - 7ms/step\n",
      "Epoch 52/200\n",
      "4/4 - 0s - loss: 1.0478 - accuracy: 0.5505 - val_loss: 1.3472 - val_accuracy: 0.4909 - 31ms/epoch - 8ms/step\n",
      "Epoch 53/200\n",
      "4/4 - 0s - loss: 1.0107 - accuracy: 0.5505 - val_loss: 1.3940 - val_accuracy: 0.4182 - 32ms/epoch - 8ms/step\n",
      "Epoch 54/200\n",
      "4/4 - 0s - loss: 0.9918 - accuracy: 0.5688 - val_loss: 1.4013 - val_accuracy: 0.4727 - 32ms/epoch - 8ms/step\n",
      "Epoch 55/200\n",
      "4/4 - 0s - loss: 0.9810 - accuracy: 0.5688 - val_loss: 1.3928 - val_accuracy: 0.4545 - 32ms/epoch - 8ms/step\n",
      "Epoch 56/200\n",
      "4/4 - 0s - loss: 1.0605 - accuracy: 0.5046 - val_loss: 1.3689 - val_accuracy: 0.4545 - 31ms/epoch - 8ms/step\n",
      "Epoch 57/200\n",
      "4/4 - 0s - loss: 1.0048 - accuracy: 0.5505 - val_loss: 1.3116 - val_accuracy: 0.4182 - 32ms/epoch - 8ms/step\n",
      "Epoch 58/200\n",
      "4/4 - 0s - loss: 1.0125 - accuracy: 0.5413 - val_loss: 1.3040 - val_accuracy: 0.4182 - 32ms/epoch - 8ms/step\n",
      "Epoch 59/200\n",
      "4/4 - 0s - loss: 1.0096 - accuracy: 0.5505 - val_loss: 1.2930 - val_accuracy: 0.4364 - 31ms/epoch - 8ms/step\n",
      "Epoch 60/200\n",
      "4/4 - 0s - loss: 1.0066 - accuracy: 0.5780 - val_loss: 1.3439 - val_accuracy: 0.4727 - 27ms/epoch - 7ms/step\n",
      "Epoch 61/200\n",
      "4/4 - 0s - loss: 1.0154 - accuracy: 0.5688 - val_loss: 1.3244 - val_accuracy: 0.4909 - 26ms/epoch - 7ms/step\n",
      "Epoch 62/200\n",
      "4/4 - 0s - loss: 0.9810 - accuracy: 0.5780 - val_loss: 1.3776 - val_accuracy: 0.4727 - 28ms/epoch - 7ms/step\n",
      "Epoch 63/200\n",
      "4/4 - 0s - loss: 0.9944 - accuracy: 0.5872 - val_loss: 1.4222 - val_accuracy: 0.4727 - 27ms/epoch - 7ms/step\n",
      "Epoch 64/200\n",
      "4/4 - 0s - loss: 0.9997 - accuracy: 0.5505 - val_loss: 1.4285 - val_accuracy: 0.4364 - 27ms/epoch - 7ms/step\n",
      "Epoch 65/200\n",
      "4/4 - 0s - loss: 0.9860 - accuracy: 0.5596 - val_loss: 1.3206 - val_accuracy: 0.4182 - 27ms/epoch - 7ms/step\n",
      "Epoch 66/200\n",
      "4/4 - 0s - loss: 1.0146 - accuracy: 0.5321 - val_loss: 1.3363 - val_accuracy: 0.3818 - 27ms/epoch - 7ms/step\n",
      "Epoch 67/200\n",
      "4/4 - 0s - loss: 1.0258 - accuracy: 0.4679 - val_loss: 1.3949 - val_accuracy: 0.3455 - 26ms/epoch - 7ms/step\n",
      "Epoch 68/200\n",
      "4/4 - 0s - loss: 0.9809 - accuracy: 0.5780 - val_loss: 1.3994 - val_accuracy: 0.4364 - 27ms/epoch - 7ms/step\n"
     ]
    },
    {
     "name": "stdout",
     "output_type": "stream",
     "text": [
      "Epoch 69/200\n",
      "4/4 - 0s - loss: 1.0228 - accuracy: 0.5321 - val_loss: 1.4445 - val_accuracy: 0.3818 - 31ms/epoch - 8ms/step\n",
      "Epoch 70/200\n",
      "4/4 - 0s - loss: 1.0415 - accuracy: 0.5229 - val_loss: 1.4231 - val_accuracy: 0.4000 - 31ms/epoch - 8ms/step\n",
      "Epoch 71/200\n",
      "4/4 - 0s - loss: 1.0675 - accuracy: 0.5046 - val_loss: 1.3687 - val_accuracy: 0.4182 - 31ms/epoch - 8ms/step\n",
      "Epoch 72/200\n",
      "4/4 - 0s - loss: 1.0393 - accuracy: 0.4495 - val_loss: 1.4005 - val_accuracy: 0.3818 - 32ms/epoch - 8ms/step\n",
      "Epoch 73/200\n",
      "4/4 - 0s - loss: 1.0422 - accuracy: 0.4679 - val_loss: 1.3769 - val_accuracy: 0.3636 - 32ms/epoch - 8ms/step\n",
      "Epoch 74/200\n",
      "4/4 - 0s - loss: 0.9985 - accuracy: 0.5229 - val_loss: 1.3851 - val_accuracy: 0.3818 - 32ms/epoch - 8ms/step\n",
      "Epoch 75/200\n",
      "4/4 - 0s - loss: 1.0054 - accuracy: 0.5413 - val_loss: 1.3872 - val_accuracy: 0.4364 - 28ms/epoch - 7ms/step\n",
      "Epoch 76/200\n",
      "4/4 - 0s - loss: 0.9784 - accuracy: 0.5596 - val_loss: 1.3932 - val_accuracy: 0.3818 - 27ms/epoch - 7ms/step\n",
      "Epoch 77/200\n",
      "4/4 - 0s - loss: 1.0018 - accuracy: 0.5780 - val_loss: 1.3898 - val_accuracy: 0.4909 - 27ms/epoch - 7ms/step\n",
      "Epoch 78/200\n",
      "4/4 - 0s - loss: 0.9579 - accuracy: 0.5963 - val_loss: 1.5014 - val_accuracy: 0.3818 - 26ms/epoch - 7ms/step\n",
      "Epoch 79/200\n",
      "4/4 - 0s - loss: 1.0018 - accuracy: 0.5780 - val_loss: 1.4582 - val_accuracy: 0.4000 - 26ms/epoch - 7ms/step\n",
      "Epoch 80/200\n",
      "4/4 - 0s - loss: 0.9761 - accuracy: 0.5780 - val_loss: 1.4060 - val_accuracy: 0.4000 - 26ms/epoch - 7ms/step\n",
      "Epoch 81/200\n",
      "4/4 - 0s - loss: 0.9955 - accuracy: 0.4587 - val_loss: 1.3262 - val_accuracy: 0.4364 - 27ms/epoch - 7ms/step\n",
      "Epoch 82/200\n",
      "4/4 - 0s - loss: 1.0144 - accuracy: 0.5413 - val_loss: 1.3432 - val_accuracy: 0.4182 - 27ms/epoch - 7ms/step\n",
      "Epoch 83/200\n",
      "4/4 - 0s - loss: 0.9878 - accuracy: 0.5596 - val_loss: 1.3618 - val_accuracy: 0.4364 - 26ms/epoch - 7ms/step\n",
      "Epoch 84/200\n",
      "4/4 - 0s - loss: 0.9641 - accuracy: 0.5780 - val_loss: 1.3863 - val_accuracy: 0.4182 - 27ms/epoch - 7ms/step\n",
      "Epoch 85/200\n",
      "4/4 - 0s - loss: 0.9826 - accuracy: 0.6055 - val_loss: 1.4448 - val_accuracy: 0.4364 - 27ms/epoch - 7ms/step\n",
      "Epoch 86/200\n",
      "4/4 - 0s - loss: 0.9646 - accuracy: 0.5872 - val_loss: 1.3655 - val_accuracy: 0.4545 - 27ms/epoch - 7ms/step\n",
      "Epoch 87/200\n",
      "4/4 - 0s - loss: 0.9373 - accuracy: 0.6055 - val_loss: 1.3255 - val_accuracy: 0.4909 - 26ms/epoch - 7ms/step\n",
      "Epoch 88/200\n",
      "4/4 - 0s - loss: 1.0708 - accuracy: 0.5872 - val_loss: 1.3622 - val_accuracy: 0.4364 - 26ms/epoch - 7ms/step\n",
      "Epoch 89/200\n",
      "4/4 - 0s - loss: 0.9427 - accuracy: 0.6514 - val_loss: 1.5225 - val_accuracy: 0.4182 - 27ms/epoch - 7ms/step\n",
      "Epoch 90/200\n",
      "4/4 - 0s - loss: 1.0231 - accuracy: 0.5872 - val_loss: 1.5465 - val_accuracy: 0.4182 - 28ms/epoch - 7ms/step\n",
      "Epoch 91/200\n",
      "4/4 - 0s - loss: 1.0119 - accuracy: 0.5963 - val_loss: 1.5213 - val_accuracy: 0.3636 - 27ms/epoch - 7ms/step\n",
      "Epoch 92/200\n",
      "4/4 - 0s - loss: 0.9895 - accuracy: 0.4771 - val_loss: 1.4310 - val_accuracy: 0.4545 - 27ms/epoch - 7ms/step\n",
      "Epoch 93/200\n",
      "4/4 - 0s - loss: 1.0513 - accuracy: 0.5780 - val_loss: 1.3764 - val_accuracy: 0.4545 - 28ms/epoch - 7ms/step\n",
      "Epoch 94/200\n",
      "4/4 - 0s - loss: 0.9995 - accuracy: 0.6055 - val_loss: 1.5949 - val_accuracy: 0.4182 - 30ms/epoch - 7ms/step\n",
      "Epoch 95/200\n",
      "4/4 - 0s - loss: 1.1427 - accuracy: 0.5413 - val_loss: 1.6065 - val_accuracy: 0.4182 - 32ms/epoch - 8ms/step\n",
      "Epoch 96/200\n",
      "4/4 - 0s - loss: 1.1354 - accuracy: 0.4954 - val_loss: 1.4762 - val_accuracy: 0.3636 - 31ms/epoch - 8ms/step\n",
      "Epoch 97/200\n",
      "4/4 - 0s - loss: 1.0597 - accuracy: 0.4679 - val_loss: 1.4053 - val_accuracy: 0.3636 - 32ms/epoch - 8ms/step\n",
      "Epoch 98/200\n",
      "4/4 - 0s - loss: 1.0406 - accuracy: 0.4771 - val_loss: 1.3652 - val_accuracy: 0.3636 - 32ms/epoch - 8ms/step\n",
      "Epoch 99/200\n",
      "4/4 - 0s - loss: 1.0461 - accuracy: 0.4954 - val_loss: 1.3511 - val_accuracy: 0.4000 - 31ms/epoch - 8ms/step\n",
      "Epoch 100/200\n",
      "4/4 - 0s - loss: 0.9938 - accuracy: 0.5413 - val_loss: 1.4166 - val_accuracy: 0.4182 - 32ms/epoch - 8ms/step\n",
      "Epoch 101/200\n",
      "4/4 - 0s - loss: 1.0049 - accuracy: 0.5413 - val_loss: 1.4672 - val_accuracy: 0.4182 - 35ms/epoch - 9ms/step\n",
      "Epoch 102/200\n",
      "4/4 - 0s - loss: 1.0018 - accuracy: 0.5505 - val_loss: 1.4377 - val_accuracy: 0.4364 - 31ms/epoch - 8ms/step\n",
      "Epoch 103/200\n",
      "4/4 - 0s - loss: 0.9754 - accuracy: 0.5872 - val_loss: 1.4388 - val_accuracy: 0.4364 - 32ms/epoch - 8ms/step\n",
      "Epoch 104/200\n",
      "4/4 - 0s - loss: 1.0467 - accuracy: 0.5138 - val_loss: 1.3722 - val_accuracy: 0.4909 - 32ms/epoch - 8ms/step\n",
      "Epoch 105/200\n",
      "4/4 - 0s - loss: 1.0032 - accuracy: 0.5413 - val_loss: 1.4424 - val_accuracy: 0.3818 - 31ms/epoch - 8ms/step\n",
      "Epoch 106/200\n",
      "4/4 - 0s - loss: 0.9740 - accuracy: 0.5963 - val_loss: 1.4065 - val_accuracy: 0.4909 - 30ms/epoch - 8ms/step\n",
      "Epoch 107/200\n",
      "4/4 - 0s - loss: 0.9797 - accuracy: 0.6147 - val_loss: 1.5017 - val_accuracy: 0.4909 - 27ms/epoch - 7ms/step\n",
      "Epoch 108/200\n",
      "4/4 - 0s - loss: 0.9679 - accuracy: 0.6055 - val_loss: 1.4420 - val_accuracy: 0.4182 - 27ms/epoch - 7ms/step\n",
      "Epoch 109/200\n",
      "4/4 - 0s - loss: 0.9978 - accuracy: 0.5780 - val_loss: 1.4734 - val_accuracy: 0.4545 - 28ms/epoch - 7ms/step\n",
      "Epoch 110/200\n",
      "4/4 - 0s - loss: 1.0239 - accuracy: 0.5963 - val_loss: 1.3988 - val_accuracy: 0.4000 - 28ms/epoch - 7ms/step\n",
      "Epoch 111/200\n",
      "4/4 - 0s - loss: 0.9929 - accuracy: 0.5780 - val_loss: 1.3059 - val_accuracy: 0.3818 - 28ms/epoch - 7ms/step\n",
      "Epoch 112/200\n",
      "4/4 - 0s - loss: 0.9918 - accuracy: 0.4679 - val_loss: 1.2951 - val_accuracy: 0.3636 - 27ms/epoch - 7ms/step\n",
      "Epoch 113/200\n",
      "4/4 - 0s - loss: 0.9436 - accuracy: 0.5688 - val_loss: 1.2902 - val_accuracy: 0.4545 - 32ms/epoch - 8ms/step\n",
      "Epoch 114/200\n",
      "4/4 - 0s - loss: 0.9156 - accuracy: 0.6330 - val_loss: 1.3765 - val_accuracy: 0.4364 - 32ms/epoch - 8ms/step\n",
      "Epoch 115/200\n",
      "4/4 - 0s - loss: 0.9794 - accuracy: 0.5413 - val_loss: 1.3886 - val_accuracy: 0.4727 - 31ms/epoch - 8ms/step\n",
      "Epoch 116/200\n",
      "4/4 - 0s - loss: 0.9459 - accuracy: 0.6422 - val_loss: 1.5432 - val_accuracy: 0.4364 - 32ms/epoch - 8ms/step\n",
      "Epoch 117/200\n",
      "4/4 - 0s - loss: 1.0077 - accuracy: 0.5963 - val_loss: 1.5199 - val_accuracy: 0.4364 - 32ms/epoch - 8ms/step\n",
      "Epoch 118/200\n",
      "4/4 - 0s - loss: 0.9483 - accuracy: 0.6147 - val_loss: 1.3509 - val_accuracy: 0.5091 - 32ms/epoch - 8ms/step\n",
      "Epoch 119/200\n",
      "4/4 - 0s - loss: 0.9415 - accuracy: 0.6422 - val_loss: 1.3263 - val_accuracy: 0.4909 - 32ms/epoch - 8ms/step\n",
      "Epoch 120/200\n",
      "4/4 - 0s - loss: 0.9325 - accuracy: 0.6422 - val_loss: 1.3630 - val_accuracy: 0.4545 - 31ms/epoch - 8ms/step\n",
      "Epoch 121/200\n",
      "4/4 - 0s - loss: 0.9439 - accuracy: 0.6147 - val_loss: 1.4532 - val_accuracy: 0.4364 - 28ms/epoch - 7ms/step\n",
      "Epoch 122/200\n",
      "4/4 - 0s - loss: 0.9170 - accuracy: 0.6330 - val_loss: 1.4449 - val_accuracy: 0.4727 - 28ms/epoch - 7ms/step\n",
      "Epoch 123/200\n",
      "4/4 - 0s - loss: 0.8682 - accuracy: 0.6239 - val_loss: 1.4760 - val_accuracy: 0.4909 - 28ms/epoch - 7ms/step\n",
      "Epoch 124/200\n",
      "4/4 - 0s - loss: 0.9079 - accuracy: 0.6330 - val_loss: 1.6107 - val_accuracy: 0.4364 - 27ms/epoch - 7ms/step\n",
      "Epoch 125/200\n",
      "4/4 - 0s - loss: 0.9297 - accuracy: 0.6147 - val_loss: 1.4771 - val_accuracy: 0.4545 - 27ms/epoch - 7ms/step\n",
      "Epoch 126/200\n",
      "4/4 - 0s - loss: 0.9166 - accuracy: 0.6147 - val_loss: 1.3672 - val_accuracy: 0.4545 - 27ms/epoch - 7ms/step\n",
      "Epoch 127/200\n",
      "4/4 - 0s - loss: 0.8947 - accuracy: 0.6422 - val_loss: 1.3373 - val_accuracy: 0.4182 - 27ms/epoch - 7ms/step\n",
      "Epoch 128/200\n",
      "4/4 - 0s - loss: 0.8805 - accuracy: 0.6422 - val_loss: 1.3709 - val_accuracy: 0.4545 - 32ms/epoch - 8ms/step\n",
      "Epoch 129/200\n",
      "4/4 - 0s - loss: 0.9074 - accuracy: 0.6147 - val_loss: 1.3795 - val_accuracy: 0.4182 - 32ms/epoch - 8ms/step\n",
      "Epoch 130/200\n",
      "4/4 - 0s - loss: 0.9066 - accuracy: 0.6147 - val_loss: 1.3513 - val_accuracy: 0.4727 - 32ms/epoch - 8ms/step\n",
      "Epoch 131/200\n",
      "4/4 - 0s - loss: 0.8779 - accuracy: 0.6514 - val_loss: 1.3769 - val_accuracy: 0.4364 - 31ms/epoch - 8ms/step\n",
      "Epoch 132/200\n",
      "4/4 - 0s - loss: 0.8980 - accuracy: 0.6239 - val_loss: 1.3837 - val_accuracy: 0.4182 - 32ms/epoch - 8ms/step\n",
      "Epoch 133/200\n",
      "4/4 - 0s - loss: 0.9277 - accuracy: 0.6055 - val_loss: 1.3572 - val_accuracy: 0.4364 - 30ms/epoch - 8ms/step\n",
      "Epoch 134/200\n",
      "4/4 - 0s - loss: 0.9478 - accuracy: 0.5963 - val_loss: 1.3452 - val_accuracy: 0.4727 - 31ms/epoch - 8ms/step\n",
      "Epoch 135/200\n",
      "4/4 - 0s - loss: 0.9402 - accuracy: 0.5872 - val_loss: 1.3683 - val_accuracy: 0.4727 - 27ms/epoch - 7ms/step\n"
     ]
    },
    {
     "name": "stdout",
     "output_type": "stream",
     "text": [
      "Epoch 136/200\n",
      "4/4 - 0s - loss: 0.9326 - accuracy: 0.6147 - val_loss: 1.3321 - val_accuracy: 0.4545 - 27ms/epoch - 7ms/step\n",
      "Epoch 137/200\n",
      "4/4 - 0s - loss: 0.9357 - accuracy: 0.6147 - val_loss: 1.3496 - val_accuracy: 0.4545 - 27ms/epoch - 7ms/step\n",
      "Epoch 138/200\n",
      "4/4 - 0s - loss: 0.9134 - accuracy: 0.5872 - val_loss: 1.3248 - val_accuracy: 0.4364 - 27ms/epoch - 7ms/step\n",
      "Epoch 139/200\n",
      "4/4 - 0s - loss: 0.9287 - accuracy: 0.5963 - val_loss: 1.5300 - val_accuracy: 0.4182 - 27ms/epoch - 7ms/step\n",
      "Epoch 140/200\n",
      "4/4 - 0s - loss: 0.9597 - accuracy: 0.6055 - val_loss: 1.4971 - val_accuracy: 0.4182 - 27ms/epoch - 7ms/step\n",
      "Epoch 141/200\n",
      "4/4 - 0s - loss: 0.9636 - accuracy: 0.6239 - val_loss: 1.4098 - val_accuracy: 0.4182 - 26ms/epoch - 7ms/step\n",
      "Epoch 142/200\n",
      "4/4 - 0s - loss: 0.9278 - accuracy: 0.6239 - val_loss: 1.4128 - val_accuracy: 0.4182 - 27ms/epoch - 7ms/step\n",
      "Epoch 143/200\n",
      "4/4 - 0s - loss: 0.9306 - accuracy: 0.6147 - val_loss: 1.3855 - val_accuracy: 0.4182 - 27ms/epoch - 7ms/step\n",
      "Epoch 144/200\n",
      "4/4 - 0s - loss: 0.9155 - accuracy: 0.6330 - val_loss: 1.3226 - val_accuracy: 0.4364 - 27ms/epoch - 7ms/step\n",
      "Epoch 145/200\n",
      "4/4 - 0s - loss: 0.8763 - accuracy: 0.6606 - val_loss: 1.3663 - val_accuracy: 0.4000 - 27ms/epoch - 7ms/step\n",
      "Epoch 146/200\n",
      "4/4 - 0s - loss: 0.8578 - accuracy: 0.6697 - val_loss: 1.3941 - val_accuracy: 0.4364 - 27ms/epoch - 7ms/step\n",
      "Epoch 147/200\n",
      "4/4 - 0s - loss: 0.9168 - accuracy: 0.6055 - val_loss: 1.4092 - val_accuracy: 0.4545 - 28ms/epoch - 7ms/step\n",
      "Epoch 148/200\n",
      "4/4 - 0s - loss: 0.9240 - accuracy: 0.6147 - val_loss: 1.3463 - val_accuracy: 0.4727 - 27ms/epoch - 7ms/step\n",
      "Epoch 149/200\n",
      "4/4 - 0s - loss: 0.9041 - accuracy: 0.6330 - val_loss: 1.3205 - val_accuracy: 0.4909 - 27ms/epoch - 7ms/step\n",
      "Epoch 150/200\n",
      "4/4 - 0s - loss: 0.8635 - accuracy: 0.6606 - val_loss: 1.2840 - val_accuracy: 0.5091 - 27ms/epoch - 7ms/step\n",
      "Epoch 151/200\n",
      "4/4 - 0s - loss: 0.9057 - accuracy: 0.6239 - val_loss: 1.3241 - val_accuracy: 0.5091 - 27ms/epoch - 7ms/step\n",
      "Epoch 152/200\n",
      "4/4 - 0s - loss: 0.8891 - accuracy: 0.6514 - val_loss: 1.4254 - val_accuracy: 0.4727 - 27ms/epoch - 7ms/step\n",
      "Epoch 153/200\n",
      "4/4 - 0s - loss: 0.9284 - accuracy: 0.6055 - val_loss: 1.4361 - val_accuracy: 0.4364 - 28ms/epoch - 7ms/step\n",
      "Epoch 154/200\n",
      "4/4 - 0s - loss: 0.9113 - accuracy: 0.5963 - val_loss: 1.4006 - val_accuracy: 0.3818 - 26ms/epoch - 6ms/step\n",
      "Epoch 155/200\n",
      "4/4 - 0s - loss: 0.9480 - accuracy: 0.5872 - val_loss: 1.3637 - val_accuracy: 0.4545 - 27ms/epoch - 7ms/step\n",
      "Epoch 156/200\n",
      "4/4 - 0s - loss: 0.9348 - accuracy: 0.5872 - val_loss: 1.3535 - val_accuracy: 0.4364 - 29ms/epoch - 7ms/step\n",
      "Epoch 157/200\n",
      "4/4 - 0s - loss: 0.9457 - accuracy: 0.5780 - val_loss: 1.3701 - val_accuracy: 0.4182 - 31ms/epoch - 8ms/step\n",
      "Epoch 158/200\n",
      "4/4 - 0s - loss: 0.9527 - accuracy: 0.5688 - val_loss: 1.3839 - val_accuracy: 0.4182 - 32ms/epoch - 8ms/step\n",
      "Epoch 159/200\n",
      "4/4 - 0s - loss: 0.9368 - accuracy: 0.5780 - val_loss: 1.3733 - val_accuracy: 0.4182 - 32ms/epoch - 8ms/step\n",
      "Epoch 160/200\n",
      "4/4 - 0s - loss: 0.9215 - accuracy: 0.5963 - val_loss: 1.3818 - val_accuracy: 0.4182 - 31ms/epoch - 8ms/step\n",
      "Epoch 161/200\n",
      "4/4 - 0s - loss: 0.9229 - accuracy: 0.5963 - val_loss: 1.4062 - val_accuracy: 0.4182 - 31ms/epoch - 8ms/step\n",
      "Epoch 162/200\n",
      "4/4 - 0s - loss: 0.9228 - accuracy: 0.6055 - val_loss: 1.3831 - val_accuracy: 0.4182 - 31ms/epoch - 8ms/step\n",
      "Epoch 163/200\n",
      "4/4 - 0s - loss: 0.9126 - accuracy: 0.6055 - val_loss: 1.3230 - val_accuracy: 0.4364 - 31ms/epoch - 8ms/step\n",
      "Epoch 164/200\n",
      "4/4 - 0s - loss: 0.9219 - accuracy: 0.6055 - val_loss: 1.3085 - val_accuracy: 0.4545 - 29ms/epoch - 7ms/step\n",
      "Epoch 165/200\n",
      "4/4 - 0s - loss: 0.8963 - accuracy: 0.6330 - val_loss: 1.3795 - val_accuracy: 0.4182 - 28ms/epoch - 7ms/step\n",
      "Epoch 166/200\n",
      "4/4 - 0s - loss: 0.8880 - accuracy: 0.6422 - val_loss: 1.3423 - val_accuracy: 0.4909 - 27ms/epoch - 7ms/step\n",
      "Epoch 167/200\n",
      "4/4 - 0s - loss: 0.8814 - accuracy: 0.6422 - val_loss: 1.3214 - val_accuracy: 0.4727 - 27ms/epoch - 7ms/step\n",
      "Epoch 168/200\n",
      "4/4 - 0s - loss: 0.8561 - accuracy: 0.6789 - val_loss: 1.3528 - val_accuracy: 0.4909 - 27ms/epoch - 7ms/step\n",
      "Epoch 169/200\n",
      "4/4 - 0s - loss: 0.8578 - accuracy: 0.6422 - val_loss: 1.3898 - val_accuracy: 0.4909 - 26ms/epoch - 6ms/step\n",
      "Epoch 170/200\n",
      "4/4 - 0s - loss: 0.8415 - accuracy: 0.6697 - val_loss: 1.3847 - val_accuracy: 0.4909 - 29ms/epoch - 7ms/step\n",
      "Epoch 171/200\n",
      "4/4 - 0s - loss: 0.8601 - accuracy: 0.6422 - val_loss: 1.3881 - val_accuracy: 0.4909 - 31ms/epoch - 8ms/step\n",
      "Epoch 172/200\n",
      "4/4 - 0s - loss: 0.8556 - accuracy: 0.6789 - val_loss: 1.3374 - val_accuracy: 0.5091 - 31ms/epoch - 8ms/step\n",
      "Epoch 173/200\n",
      "4/4 - 0s - loss: 0.8701 - accuracy: 0.6697 - val_loss: 1.3251 - val_accuracy: 0.5091 - 31ms/epoch - 8ms/step\n",
      "Epoch 174/200\n",
      "4/4 - 0s - loss: 0.8855 - accuracy: 0.6330 - val_loss: 1.3295 - val_accuracy: 0.4727 - 32ms/epoch - 8ms/step\n",
      "Epoch 175/200\n",
      "4/4 - 0s - loss: 0.8465 - accuracy: 0.6697 - val_loss: 1.3298 - val_accuracy: 0.4909 - 31ms/epoch - 8ms/step\n",
      "Epoch 176/200\n",
      "4/4 - 0s - loss: 0.8415 - accuracy: 0.6422 - val_loss: 1.4375 - val_accuracy: 0.4182 - 32ms/epoch - 8ms/step\n",
      "Epoch 177/200\n",
      "4/4 - 0s - loss: 1.0295 - accuracy: 0.5229 - val_loss: 1.4472 - val_accuracy: 0.3818 - 29ms/epoch - 7ms/step\n",
      "Epoch 178/200\n",
      "4/4 - 0s - loss: 0.9513 - accuracy: 0.6147 - val_loss: 1.5092 - val_accuracy: 0.4000 - 26ms/epoch - 6ms/step\n",
      "Epoch 179/200\n",
      "4/4 - 0s - loss: 0.9461 - accuracy: 0.6055 - val_loss: 1.5411 - val_accuracy: 0.4364 - 27ms/epoch - 7ms/step\n",
      "Epoch 180/200\n",
      "4/4 - 0s - loss: 0.9156 - accuracy: 0.6330 - val_loss: 1.4487 - val_accuracy: 0.4545 - 28ms/epoch - 7ms/step\n",
      "Epoch 181/200\n",
      "4/4 - 0s - loss: 0.8761 - accuracy: 0.6422 - val_loss: 1.4156 - val_accuracy: 0.4909 - 27ms/epoch - 7ms/step\n",
      "Epoch 182/200\n",
      "4/4 - 0s - loss: 0.8717 - accuracy: 0.6422 - val_loss: 1.3990 - val_accuracy: 0.5091 - 27ms/epoch - 7ms/step\n",
      "Epoch 183/200\n",
      "4/4 - 0s - loss: 0.8980 - accuracy: 0.6147 - val_loss: 1.4995 - val_accuracy: 0.4727 - 26ms/epoch - 7ms/step\n",
      "Epoch 184/200\n",
      "4/4 - 0s - loss: 0.9182 - accuracy: 0.6422 - val_loss: 1.6438 - val_accuracy: 0.4182 - 26ms/epoch - 7ms/step\n",
      "Epoch 185/200\n",
      "4/4 - 0s - loss: 0.9844 - accuracy: 0.5963 - val_loss: 1.4950 - val_accuracy: 0.4000 - 27ms/epoch - 7ms/step\n",
      "Epoch 186/200\n",
      "4/4 - 0s - loss: 0.9405 - accuracy: 0.5688 - val_loss: 1.4108 - val_accuracy: 0.3455 - 28ms/epoch - 7ms/step\n",
      "Epoch 187/200\n",
      "4/4 - 0s - loss: 0.9793 - accuracy: 0.4862 - val_loss: 1.4209 - val_accuracy: 0.3455 - 27ms/epoch - 7ms/step\n",
      "Epoch 188/200\n",
      "4/4 - 0s - loss: 0.9664 - accuracy: 0.5321 - val_loss: 1.4169 - val_accuracy: 0.4000 - 27ms/epoch - 7ms/step\n",
      "Epoch 189/200\n",
      "4/4 - 0s - loss: 0.9270 - accuracy: 0.6147 - val_loss: 1.4735 - val_accuracy: 0.4182 - 27ms/epoch - 7ms/step\n",
      "Epoch 190/200\n",
      "4/4 - 0s - loss: 0.9129 - accuracy: 0.5963 - val_loss: 1.5161 - val_accuracy: 0.4000 - 28ms/epoch - 7ms/step\n",
      "Epoch 191/200\n",
      "4/4 - 0s - loss: 0.9238 - accuracy: 0.5872 - val_loss: 1.5390 - val_accuracy: 0.4000 - 28ms/epoch - 7ms/step\n",
      "Epoch 192/200\n",
      "4/4 - 0s - loss: 0.9202 - accuracy: 0.5872 - val_loss: 1.4717 - val_accuracy: 0.4000 - 27ms/epoch - 7ms/step\n",
      "Epoch 193/200\n",
      "4/4 - 0s - loss: 0.9227 - accuracy: 0.5872 - val_loss: 1.4340 - val_accuracy: 0.4182 - 27ms/epoch - 7ms/step\n",
      "Epoch 194/200\n",
      "4/4 - 0s - loss: 0.9305 - accuracy: 0.5780 - val_loss: 1.4279 - val_accuracy: 0.4182 - 26ms/epoch - 7ms/step\n",
      "Epoch 195/200\n",
      "4/4 - 0s - loss: 0.9154 - accuracy: 0.5963 - val_loss: 1.4307 - val_accuracy: 0.4182 - 27ms/epoch - 7ms/step\n",
      "Epoch 196/200\n",
      "4/4 - 0s - loss: 0.9175 - accuracy: 0.5872 - val_loss: 1.4480 - val_accuracy: 0.4182 - 27ms/epoch - 7ms/step\n",
      "Epoch 197/200\n",
      "4/4 - 0s - loss: 0.9067 - accuracy: 0.6055 - val_loss: 1.4788 - val_accuracy: 0.4182 - 30ms/epoch - 7ms/step\n",
      "Epoch 198/200\n",
      "4/4 - 0s - loss: 0.8962 - accuracy: 0.6055 - val_loss: 1.4859 - val_accuracy: 0.4182 - 34ms/epoch - 8ms/step\n",
      "Epoch 199/200\n",
      "4/4 - 0s - loss: 0.8913 - accuracy: 0.6147 - val_loss: 1.4587 - val_accuracy: 0.4364 - 31ms/epoch - 8ms/step\n",
      "Epoch 200/200\n",
      "4/4 - 0s - loss: 0.9124 - accuracy: 0.6239 - val_loss: 1.4488 - val_accuracy: 0.4364 - 31ms/epoch - 8ms/step\n"
     ]
    }
   ],
   "source": [
    "history = model.fit(X_train, Y_train, verbose=2, epochs=200, batch_size = 32, validation_data = (X_test,Y_test))"
   ]
  },
  {
   "cell_type": "code",
   "execution_count": 108,
   "id": "c2cf695e",
   "metadata": {},
   "outputs": [
    {
     "data": {
      "image/png": "[encoded data removed]",
      "text/plain": [
       "<Figure size 640x480 with 1 Axes>"
      ]
     },
     "metadata": {},
     "output_type": "display_data"
    },
    {
     "data": {
      "image/png": "[encoded data removed]",
      "text/plain": [
       "<Figure size 640x480 with 1 Axes>"
      ]
     },
     "metadata": {},
     "output_type": "display_data"
    }
   ],
   "source": [
    "# Plotting Results\n",
    "import matplotlib.pyplot as plt\n",
    "\n",
    "acc = history.history['accuracy']\n",
    "val_acc = history.history['val_accuracy']\n",
    "loss = history.history['loss']\n",
    "val_loss = history.history['val_loss']\n",
    "epochs = range(1, len(acc) + 1)\n",
    "\n",
    "plt.plot(epochs, acc, 'r', label='Training acc')\n",
    "plt.plot(epochs, val_acc, 'g', label='Validation acc')\n",
    "plt.xlabel('Epochs')\n",
    "plt.ylabel('Accuracy')\n",
    "\n",
    "plt.title('Training and validation accuracy')\n",
    "plt.legend()\n",
    "fig = plt.figure()\n",
    "fig.savefig('accPCA.png')\n",
    "\n",
    "\n",
    "plt.plot(epochs, loss, 'b', label='Training loss')\n",
    "plt.plot(epochs, val_loss, 'g', label='Validation loss')\n",
    "plt.xlabel('Epochs')\n",
    "plt.ylabel('Loss')\n",
    "plt.title('Training and validation loss')\n",
    "\n",
    "plt.legend()\n",
    "plt.show()"
   ]
  },
  {
   "cell_type": "markdown",
   "id": "463be16f",
   "metadata": {},
   "source": [
    "# Gausian Bayes"
   ]
  },
  {
   "cell_type": "code",
   "execution_count": 109,
   "id": "01bb8ccb",
   "metadata": {},
   "outputs": [],
   "source": [
    "gnb = GaussianNB()"
   ]
  },
  {
   "cell_type": "code",
   "execution_count": 110,
   "id": "5e375bfb",
   "metadata": {},
   "outputs": [
    {
     "name": "stdout",
     "output_type": "stream",
     "text": [
      "Wall time: 3 ms\n"
     ]
    }
   ],
   "source": [
    "%%time\n",
    "Y_pred = gnb.fit(X_train, Y_train).predict(X_test)"
   ]
  },
  {
   "cell_type": "code",
   "execution_count": 111,
   "id": "5796d3c0",
   "metadata": {},
   "outputs": [
    {
     "data": {
      "text/plain": [
       "0.509090909090909"
      ]
     },
     "execution_count": 111,
     "metadata": {},
     "output_type": "execute_result"
    }
   ],
   "source": [
    "accuracy_score(Y_test,Y_pred)"
   ]
  },
  {
   "cell_type": "markdown",
   "id": "079ddf5c",
   "metadata": {},
   "source": [
    "# KNN"
   ]
  },
  {
   "cell_type": "code",
   "execution_count": 112,
   "id": "1dea3c8e",
   "metadata": {},
   "outputs": [
    {
     "data": {
      "text/plain": [
       "KNeighborsClassifier(n_neighbors=3, weights='distance')"
      ]
     },
     "execution_count": 112,
     "metadata": {},
     "output_type": "execute_result"
    }
   ],
   "source": [
    "neigh = KNeighborsClassifier(n_neighbors=3,weights='distance',leaf_size=30)\n",
    "neigh.fit(X_train, Y_train)"
   ]
  },
  {
   "cell_type": "code",
   "execution_count": 113,
   "id": "2c18ee8b",
   "metadata": {},
   "outputs": [
    {
     "name": "stdout",
     "output_type": "stream",
     "text": [
      "              precision    recall  f1-score   support\n",
      "\n",
      "           0       1.00      0.45      0.62        11\n",
      "           1       1.00      0.83      0.91         6\n",
      "           2       0.38      0.43      0.40        14\n",
      "           3       0.00      0.00      0.00        10\n",
      "           4       0.43      0.86      0.57        14\n",
      "\n",
      "    accuracy                           0.51        55\n",
      "   macro avg       0.56      0.51      0.50        55\n",
      "weighted avg       0.51      0.51      0.47        55\n",
      "\n"
     ]
    }
   ],
   "source": [
    "print(classification_report(Y_test, Y_pred))"
   ]
  },
  {
   "cell_type": "code",
   "execution_count": 114,
   "id": "61519b45",
   "metadata": {},
   "outputs": [
    {
     "data": {
      "text/plain": [
       "0.509090909090909"
      ]
     },
     "execution_count": 114,
     "metadata": {},
     "output_type": "execute_result"
    }
   ],
   "source": [
    "accuracy_score(Y_test,Y_pred)"
   ]
  },
  {
   "cell_type": "code",
   "execution_count": null,
   "id": "70856048",
   "metadata": {},
   "outputs": [],
   "source": []
  }
 ],
 "metadata": {
  "kernelspec": {
   "display_name": "Python 3 (ipykernel)",
   "language": "python",
   "name": "python3"
  },
  "language_info": {
   "codemirror_mode": {
    "name": "ipython",
    "version": 3
   },
   "file_extension": ".py",
   "mimetype": "text/x-python",
   "name": "python",
   "nbconvert_exporter": "python",
   "pygments_lexer": "ipython3",
   "version": "3.9.13"
  }
 },
 "nbformat": 4,
 "nbformat_minor": 5
}
